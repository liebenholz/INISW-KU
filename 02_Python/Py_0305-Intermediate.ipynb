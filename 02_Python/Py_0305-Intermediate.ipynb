{
  "cells": [
    {
      "cell_type": "markdown",
      "metadata": {
        "id": "r5XssjEzvtvG"
      },
      "source": [
        "# 2. Statements\n",
        "[파이썬 공식 문서](https://docs.python.org/ko/3.9/)를 기반으로 함."
      ]
    },
    {
      "cell_type": "code",
      "execution_count": null,
      "metadata": {
        "id": "SRMNSSCVRGJJ"
      },
      "outputs": [],
      "source": [
        "# Simple Statement\n",
        "a = 1\n",
        "\n",
        "# Compound Statement\n",
        "if a:\n",
        "  print('a')"
      ]
    },
    {
      "cell_type": "code",
      "execution_count": null,
      "metadata": {
        "id": "a2H_o2Ziukjh"
      },
      "outputs": [],
      "source": [
        "a = 1\n",
        "a = b = 1\n",
        "a, b = 1, 2\n",
        "a, *b = 1, 2, 3 # a = 1, b = [2, 3]\n",
        "a += 1 # a++ <- 파이썬에서는 문법 오류"
      ]
    },
    {
      "cell_type": "markdown",
      "metadata": {
        "id": "zLN4kg-ivJLk"
      },
      "source": [
        "연산자가 두 개 있는 것은 파이썬에서는 **기본적으로는** 존재하지 않는다.\n",
        "\n",
        "Operator overloading: 연산자의 기능을 바꿀 수 있다. + 연산자가 다른 기능을 할 수 있다.\n",
        "\n",
        "식은 결과값이며, 값은 객체다."
      ]
    },
    {
      "cell_type": "code",
      "execution_count": null,
      "metadata": {
        "colab": {
          "base_uri": "https://localhost:8080/"
        },
        "id": "R2uaxOq5u9xV",
        "outputId": "f4a818d9-7e24-4500-843b-5202f7f0017d"
      },
      "outputs": [
        {
          "data": {
            "text/plain": [
              "2"
            ]
          },
          "execution_count": 3,
          "metadata": {},
          "output_type": "execute_result"
        }
      ],
      "source": [
        "++a"
      ]
    },
    {
      "cell_type": "code",
      "execution_count": null,
      "metadata": {
        "colab": {
          "base_uri": "https://localhost:8080/"
        },
        "id": "LsQaHkvpu_a0",
        "outputId": "17bf9fe9-3922-4819-aabf-58b43cc1811e"
      },
      "outputs": [
        {
          "data": {
            "text/plain": [
              "-2"
            ]
          },
          "execution_count": 4,
          "metadata": {},
          "output_type": "execute_result"
        }
      ],
      "source": [
        "-+a"
      ]
    },
    {
      "cell_type": "code",
      "execution_count": null,
      "metadata": {
        "colab": {
          "base_uri": "https://localhost:8080/"
        },
        "id": "XfXOrmefvHLk",
        "outputId": "5699604a-5324-40cd-9b17-9381f6d32a03"
      },
      "outputs": [
        {
          "data": {
            "text/plain": [
              "2"
            ]
          },
          "execution_count": 5,
          "metadata": {},
          "output_type": "execute_result"
        }
      ],
      "source": [
        "--a"
      ]
    },
    {
      "cell_type": "markdown",
      "metadata": {
        "id": "Xn0nd-4swddK"
      },
      "source": [
        "그 예로, 시퀀스에서 '+'는 **이어붙이는 용도**이지만, tf에서 시퀀스 '+'는 **값을 더하는 것**이다.\n",
        "\n",
        "프로그램이 복잡해지면 이 부분을 파악하기 어려워진다. 이로 인해 실제로는 연산자를 거의 사용하지 않는다."
      ]
    },
    {
      "cell_type": "code",
      "execution_count": null,
      "metadata": {
        "colab": {
          "base_uri": "https://localhost:8080/"
        },
        "id": "-A78x8-kwYBg",
        "outputId": "cc7cca49-d002-4d81-bc6d-899ef9ecf613"
      },
      "outputs": [
        {
          "data": {
            "text/plain": [
              "[1, 2, 3, 1, 2, 3]"
            ]
          },
          "execution_count": 10,
          "metadata": {},
          "output_type": "execute_result"
        }
      ],
      "source": [
        "[1,2,3] + [1,2,3]"
      ]
    },
    {
      "cell_type": "code",
      "execution_count": null,
      "metadata": {
        "id": "ikKpxVrCvH91"
      },
      "outputs": [],
      "source": [
        "import tensorflow as tf\n",
        "\n",
        "a = tf.constant([1,2,3])\n",
        "b = tf.constant([1,2,3])"
      ]
    },
    {
      "cell_type": "code",
      "execution_count": null,
      "metadata": {
        "colab": {
          "base_uri": "https://localhost:8080/"
        },
        "id": "zO-6ArS2wSbJ",
        "outputId": "d0d47d98-6760-4253-ff9e-af71209ca2a4"
      },
      "outputs": [
        {
          "data": {
            "text/plain": [
              "<tf.Tensor: shape=(), dtype=int32, numpy=1>"
            ]
          },
          "execution_count": 8,
          "metadata": {},
          "output_type": "execute_result"
        }
      ],
      "source": [
        "a[0]"
      ]
    },
    {
      "cell_type": "code",
      "execution_count": null,
      "metadata": {
        "colab": {
          "base_uri": "https://localhost:8080/"
        },
        "id": "8gZkuAPFwU7s",
        "outputId": "588fb080-0f8d-45b9-e18a-5c32115c7ce9"
      },
      "outputs": [
        {
          "data": {
            "text/plain": [
              "<tf.Tensor: shape=(3,), dtype=int32, numpy=array([2, 4, 6], dtype=int32)>"
            ]
          },
          "execution_count": 9,
          "metadata": {},
          "output_type": "execute_result"
        }
      ],
      "source": [
        "a + b"
      ]
    },
    {
      "cell_type": "markdown",
      "metadata": {
        "id": "Tbm8JhNExO_h"
      },
      "source": [
        "아래와 같은 표현은 명확하지만, 코드가 길어지는 단점이 있다."
      ]
    },
    {
      "cell_type": "code",
      "execution_count": null,
      "metadata": {
        "id": "yxr8u6bGwaWu"
      },
      "outputs": [],
      "source": [
        "a = int(1)"
      ]
    },
    {
      "cell_type": "markdown",
      "metadata": {
        "id": "X1-N4arhxdWE"
      },
      "source": [
        "Compound statement는 아래와 같이 있다.\n",
        "- if, while, for, try, with, 함수 정의, 클래스 정의, 코루틴"
      ]
    },
    {
      "cell_type": "code",
      "execution_count": null,
      "metadata": {
        "id": "gheFVyyVxcH3"
      },
      "outputs": [],
      "source": [
        "None # Null, 무엇이 없는 것을 표현하는 값."
      ]
    },
    {
      "cell_type": "code",
      "execution_count": null,
      "metadata": {
        "colab": {
          "base_uri": "https://localhost:8080/"
        },
        "id": "rPj6Eb3KysrI",
        "outputId": "04857613-ba1e-4cf9-fbf6-0d6fae224fdc"
      },
      "outputs": [
        {
          "data": {
            "text/plain": [
              "False"
            ]
          },
          "execution_count": 12,
          "metadata": {},
          "output_type": "execute_result"
        }
      ],
      "source": [
        "None == False"
      ]
    },
    {
      "cell_type": "code",
      "execution_count": null,
      "metadata": {
        "colab": {
          "base_uri": "https://localhost:8080/"
        },
        "id": "QkTcVAoOyukx",
        "outputId": "27d369ea-48ec-4b09-d1aa-d2b0833aeb36"
      },
      "outputs": [
        {
          "name": "stdout",
          "output_type": "stream",
          "text": [
            "b\n"
          ]
        }
      ],
      "source": [
        "a = None\n",
        "if a: # False는 존재론적인 관점에서 판단한다.\n",
        "  print('a')\n",
        "else:\n",
        "  print('b')"
      ]
    },
    {
      "cell_type": "code",
      "execution_count": null,
      "metadata": {
        "colab": {
          "base_uri": "https://localhost:8080/",
          "height": 36
        },
        "id": "4WWDK2ZGy054",
        "outputId": "331dc46e-5623-4e9b-f279-a9cf8bc1b808"
      },
      "outputs": [
        {
          "data": {
            "application/vnd.google.colaboratory.intrinsic+json": {
              "type": "string"
            },
            "text/plain": [
              "'b'"
            ]
          },
          "execution_count": 16,
          "metadata": {},
          "output_type": "execute_result"
        }
      ],
      "source": [
        "'a' if a else 'b'"
      ]
    },
    {
      "cell_type": "code",
      "execution_count": null,
      "metadata": {
        "colab": {
          "base_uri": "https://localhost:8080/"
        },
        "id": "0j4yWS-yzEkr",
        "outputId": "dd9f5f50-453a-4c45-8804-42dcf0437fd7"
      },
      "outputs": [
        {
          "name": "stdout",
          "output_type": "stream",
          "text": [
            "b\n"
          ]
        }
      ],
      "source": [
        "x = print('a') if a else print('b')\n",
        "# ??? 왜 이러는지는 함수를 알아보자."
      ]
    },
    {
      "cell_type": "markdown",
      "metadata": {
        "id": "3Fu23QIbzfMa"
      },
      "source": [
        "## Function(함수)\n",
        "\n",
        "같은 것을 반복할 때 유용한 묶음체이다. 여러 개의 코드를 묶어서 실행하는 것을 '함수 정의'라고 한다."
      ]
    },
    {
      "cell_type": "code",
      "execution_count": null,
      "metadata": {
        "id": "ovfQ1INhzSsM"
      },
      "outputs": [],
      "source": [
        "def x():\n",
        "  print('a')\n",
        "\n",
        "# x = 3 # 똑같은 이름으로 재정의하면 값이 된다.\n",
        "# x"
      ]
    },
    {
      "cell_type": "code",
      "execution_count": null,
      "metadata": {
        "id": "fFHl-GGm026z"
      },
      "outputs": [],
      "source": [
        "def x(a):\n",
        "  print(a)"
      ]
    },
    {
      "cell_type": "code",
      "execution_count": null,
      "metadata": {
        "id": "jTBwdr7H1D58"
      },
      "outputs": [],
      "source": [
        "def sun(x): # x: parameter\n",
        "  print(x)"
      ]
    },
    {
      "cell_type": "code",
      "execution_count": null,
      "metadata": {
        "colab": {
          "base_uri": "https://localhost:8080/"
        },
        "id": "oMcDOORo1LA3",
        "outputId": "10a26e00-b793-40a4-db5a-f0504954c2bc"
      },
      "outputs": [
        {
          "name": "stdout",
          "output_type": "stream",
          "text": [
            "3\n"
          ]
        }
      ],
      "source": [
        "sun(3) # call # argument"
      ]
    },
    {
      "cell_type": "code",
      "execution_count": null,
      "metadata": {
        "colab": {
          "base_uri": "https://localhost:8080/",
          "height": 216
        },
        "id": "rgkae2AW0Ofr",
        "outputId": "0c140664-5d7b-49d3-e9cf-126198f6ee39"
      },
      "outputs": [
        {
          "name": "stderr",
          "output_type": "stream",
          "text": [
            "<>:1: SyntaxWarning: 'int' object is not callable; perhaps you missed a comma?\n",
            "<>:1: SyntaxWarning: 'int' object is not callable; perhaps you missed a comma?\n",
            "<ipython-input-39-c69d3a57c0fc>:1: SyntaxWarning: 'int' object is not callable; perhaps you missed a comma?\n",
            "  2()\n"
          ]
        },
        {
          "ename": "TypeError",
          "evalue": "'int' object is not callable",
          "output_type": "error",
          "traceback": [
            "\u001b[0;31m---------------------------------------------------------------------------\u001b[0m",
            "\u001b[0;31mTypeError\u001b[0m                                 Traceback (most recent call last)",
            "\u001b[0;32m<ipython-input-39-c69d3a57c0fc>\u001b[0m in \u001b[0;36m<cell line: 0>\u001b[0;34m()\u001b[0m\n\u001b[0;32m----> 1\u001b[0;31m \u001b[0;36m2\u001b[0m\u001b[0;34m(\u001b[0m\u001b[0;34m)\u001b[0m\u001b[0;34m\u001b[0m\u001b[0;34m\u001b[0m\u001b[0m\n\u001b[0m",
            "\u001b[0;31mTypeError\u001b[0m: 'int' object is not callable"
          ]
        }
      ],
      "source": [
        "2() # not callable"
      ]
    },
    {
      "cell_type": "code",
      "execution_count": null,
      "metadata": {
        "colab": {
          "base_uri": "https://localhost:8080/",
          "height": 36
        },
        "id": "HkXJBeJL1vea",
        "outputId": "a226031a-c4f5-41fd-876c-c910978a1f42"
      },
      "outputs": [
        {
          "data": {
            "application/vnd.google.colaboratory.intrinsic+json": {
              "type": "string"
            },
            "text/plain": [
              "'홍길동'"
            ]
          },
          "execution_count": 41,
          "metadata": {},
          "output_type": "execute_result"
        }
      ],
      "source": [
        "moon = '홍길동'\n",
        "moon"
      ]
    },
    {
      "cell_type": "code",
      "execution_count": null,
      "metadata": {
        "colab": {
          "base_uri": "https://localhost:8080/",
          "height": 104
        },
        "id": "7YpLKLz01e95",
        "outputId": "6551ccf5-7fdc-454f-9123-d9b5ed872e07"
      },
      "outputs": [
        {
          "data": {
            "text/html": [
              "<div style=\"max-width:800px; border: 1px solid var(--colab-border-color);\"><style>\n",
              "      pre.function-repr-contents {\n",
              "        overflow-x: auto;\n",
              "        padding: 8px 12px;\n",
              "        max-height: 500px;\n",
              "      }\n",
              "\n",
              "      pre.function-repr-contents.function-repr-contents-collapsed {\n",
              "        cursor: pointer;\n",
              "        max-height: 100px;\n",
              "      }\n",
              "    </style>\n",
              "    <pre style=\"white-space: initial; background:\n",
              "         var(--colab-secondary-surface-color); padding: 8px 12px;\n",
              "         border-bottom: 1px solid var(--colab-border-color);\"><b>sun</b><br/>def sun(x)</pre><pre class=\"function-repr-contents function-repr-contents-collapsed\" style=\"\"><a class=\"filepath\" style=\"display:none\" href=\"#\">/content/&lt;ipython-input-36-885006d0142a&gt;</a>&lt;no docstring&gt;</pre></div>"
            ],
            "text/plain": [
              "<function __main__.sun(x)>"
            ]
          },
          "execution_count": 40,
          "metadata": {},
          "output_type": "execute_result"
        }
      ],
      "source": [
        "sun"
      ]
    },
    {
      "cell_type": "code",
      "execution_count": null,
      "metadata": {
        "colab": {
          "base_uri": "https://localhost:8080/",
          "height": 144
        },
        "id": "2OZnzGPL11Vd",
        "outputId": "8027621a-7566-497b-852e-caa68953c05f"
      },
      "outputs": [
        {
          "ename": "TypeError",
          "evalue": "sun() takes 1 positional argument but 2 were given",
          "output_type": "error",
          "traceback": [
            "\u001b[0;31m---------------------------------------------------------------------------\u001b[0m",
            "\u001b[0;31mTypeError\u001b[0m                                 Traceback (most recent call last)",
            "\u001b[0;32m<ipython-input-42-a002d7e04671>\u001b[0m in \u001b[0;36m<cell line: 0>\u001b[0;34m()\u001b[0m\n\u001b[0;32m----> 1\u001b[0;31m \u001b[0msun\u001b[0m\u001b[0;34m(\u001b[0m\u001b[0;36m1\u001b[0m\u001b[0;34m,\u001b[0m\u001b[0;36m2\u001b[0m\u001b[0;34m)\u001b[0m\u001b[0;34m\u001b[0m\u001b[0;34m\u001b[0m\u001b[0m\n\u001b[0m",
            "\u001b[0;31mTypeError\u001b[0m: sun() takes 1 positional argument but 2 were given"
          ]
        }
      ],
      "source": [
        "sun(1,2) # argument"
      ]
    },
    {
      "cell_type": "code",
      "execution_count": null,
      "metadata": {
        "id": "2XvlznTT44_4"
      },
      "outputs": [],
      "source": [
        "# '/' 앞에는 무조건 Positional 방식만 사용한다.\n",
        "def moon1(a, /, b):\n",
        "  print(a+b)"
      ]
    },
    {
      "cell_type": "code",
      "execution_count": null,
      "metadata": {
        "colab": {
          "base_uri": "https://localhost:8080/"
        },
        "id": "s6nS4zgs5LVO",
        "outputId": "e892020c-2cbc-4d0c-b4db-982688187a34"
      },
      "outputs": [
        {
          "name": "stdout",
          "output_type": "stream",
          "text": [
            "7\n"
          ]
        }
      ],
      "source": [
        "moon1(3,4)"
      ]
    },
    {
      "cell_type": "code",
      "execution_count": null,
      "metadata": {
        "colab": {
          "base_uri": "https://localhost:8080/"
        },
        "id": "xwSS_H7Y5QI4",
        "outputId": "3c104b52-efcc-4c1c-f043-acc08b06823b"
      },
      "outputs": [
        {
          "name": "stdout",
          "output_type": "stream",
          "text": [
            "7\n"
          ]
        }
      ],
      "source": [
        "moon1(3,b=4)"
      ]
    },
    {
      "cell_type": "code",
      "execution_count": null,
      "metadata": {
        "colab": {
          "base_uri": "https://localhost:8080/",
          "height": 108
        },
        "id": "vUZ11DHe5WFh",
        "outputId": "c8b06d32-c0c5-4164-b62a-188612dd4a0f"
      },
      "outputs": [
        {
          "ename": "SyntaxError",
          "evalue": "positional argument follows keyword argument (<ipython-input-64-aa00a7120ddd>, line 1)",
          "output_type": "error",
          "traceback": [
            "\u001b[0;36m  File \u001b[0;32m\"<ipython-input-64-aa00a7120ddd>\"\u001b[0;36m, line \u001b[0;32m1\u001b[0m\n\u001b[0;31m    moon1(a=3,4)\u001b[0m\n\u001b[0m               ^\u001b[0m\n\u001b[0;31mSyntaxError\u001b[0m\u001b[0;31m:\u001b[0m positional argument follows keyword argument\n"
          ]
        }
      ],
      "source": [
        "moon1(a=3,4)"
      ]
    },
    {
      "cell_type": "code",
      "execution_count": null,
      "metadata": {
        "colab": {
          "base_uri": "https://localhost:8080/"
        },
        "id": "4SowB2--5gFd",
        "outputId": "cf95d820-3065-40bb-c364-975c317e8ca6"
      },
      "outputs": [
        {
          "data": {
            "text/plain": [
              "<function len(obj, /)>"
            ]
          },
          "execution_count": 65,
          "metadata": {},
          "output_type": "execute_result"
        }
      ],
      "source": [
        "len"
      ]
    },
    {
      "cell_type": "code",
      "execution_count": null,
      "metadata": {
        "colab": {
          "base_uri": "https://localhost:8080/"
        },
        "id": "OSCsCDM05i4L",
        "outputId": "acf09425-ebff-4766-bda7-ecdf223ee6cf"
      },
      "outputs": [
        {
          "data": {
            "text/plain": [
              "3"
            ]
          },
          "execution_count": 66,
          "metadata": {},
          "output_type": "execute_result"
        }
      ],
      "source": [
        "len([1,2,3])"
      ]
    },
    {
      "cell_type": "code",
      "execution_count": null,
      "metadata": {
        "id": "VW1iLqkC5yob"
      },
      "outputs": [],
      "source": [
        "# '*' 뒤에는 무조건 Keyword 방식만 사용한다.\n",
        "\n",
        "def moon2(a, *, b):\n",
        "  print(a+b)"
      ]
    },
    {
      "cell_type": "code",
      "execution_count": null,
      "metadata": {
        "colab": {
          "base_uri": "https://localhost:8080/"
        },
        "id": "AB5S6gC1534H",
        "outputId": "93f83657-64ea-4fe2-ba90-fa7f2453e115"
      },
      "outputs": [
        {
          "name": "stdout",
          "output_type": "stream",
          "text": [
            "6\n"
          ]
        }
      ],
      "source": [
        "moon2(3, b=3)"
      ]
    },
    {
      "cell_type": "markdown",
      "metadata": {
        "id": "_uIOroyO2LQG"
      },
      "source": [
        "### Parameter(매개변수)\n",
        "-"
      ]
    },
    {
      "cell_type": "code",
      "execution_count": null,
      "metadata": {
        "id": "arklQ7HD13x_"
      },
      "outputs": [],
      "source": [
        "def sun2(x,y):\n",
        "  print(x+y)"
      ]
    },
    {
      "cell_type": "code",
      "execution_count": null,
      "metadata": {
        "colab": {
          "base_uri": "https://localhost:8080/"
        },
        "id": "onSj2GdZ2x83",
        "outputId": "34e8b011-ec91-4c1b-f711-beb452641d13"
      },
      "outputs": [
        {
          "name": "stdout",
          "output_type": "stream",
          "text": [
            "3\n"
          ]
        }
      ],
      "source": [
        "sun2(1,2) # positional 방식 : 순서대로, 위치에 맞게 사용한다."
      ]
    },
    {
      "cell_type": "code",
      "execution_count": null,
      "metadata": {
        "colab": {
          "base_uri": "https://localhost:8080/",
          "height": 144
        },
        "id": "SRPkzYh923gG",
        "outputId": "d45c3506-b79b-446f-d471-45b770b38be7"
      },
      "outputs": [
        {
          "ename": "TypeError",
          "evalue": "sun2() missing 1 required positional argument: 'y'",
          "output_type": "error",
          "traceback": [
            "\u001b[0;31m---------------------------------------------------------------------------\u001b[0m",
            "\u001b[0;31mTypeError\u001b[0m                                 Traceback (most recent call last)",
            "\u001b[0;32m<ipython-input-47-6ab71d9c6044>\u001b[0m in \u001b[0;36m<cell line: 0>\u001b[0;34m()\u001b[0m\n\u001b[0;32m----> 1\u001b[0;31m \u001b[0msun2\u001b[0m\u001b[0;34m(\u001b[0m\u001b[0;36m1\u001b[0m\u001b[0;34m)\u001b[0m\u001b[0;34m\u001b[0m\u001b[0;34m\u001b[0m\u001b[0m\n\u001b[0m",
            "\u001b[0;31mTypeError\u001b[0m: sun2() missing 1 required positional argument: 'y'"
          ]
        }
      ],
      "source": [
        "sun2(1) # positional argument"
      ]
    },
    {
      "cell_type": "code",
      "execution_count": null,
      "metadata": {
        "colab": {
          "base_uri": "https://localhost:8080/"
        },
        "id": "qPBS7UBj28Ui",
        "outputId": "57c924be-6946-4d56-8012-190d5b4cf1d3"
      },
      "outputs": [
        {
          "name": "stdout",
          "output_type": "stream",
          "text": [
            "4\n"
          ]
        }
      ],
      "source": [
        "sun2(x=3, y=1) # 키워드 방식: 순서에 상관없이 사용해도 된다."
      ]
    },
    {
      "cell_type": "code",
      "execution_count": null,
      "metadata": {
        "colab": {
          "base_uri": "https://localhost:8080/"
        },
        "id": "nbO5gbhQ3Cho",
        "outputId": "a9c89918-732f-4621-f052-0fb882935b71"
      },
      "outputs": [
        {
          "name": "stdout",
          "output_type": "stream",
          "text": [
            "3\n"
          ]
        }
      ],
      "source": [
        "sun2(y=1, x=2)"
      ]
    },
    {
      "cell_type": "code",
      "execution_count": null,
      "metadata": {
        "colab": {
          "base_uri": "https://localhost:8080/",
          "height": 144
        },
        "id": "7oSQVaZD3O5v",
        "outputId": "4db062b5-2901-4840-e867-f83417ee0e63"
      },
      "outputs": [
        {
          "ename": "TypeError",
          "evalue": "sun2() got an unexpected keyword argument 'z'",
          "output_type": "error",
          "traceback": [
            "\u001b[0;31m---------------------------------------------------------------------------\u001b[0m",
            "\u001b[0;31mTypeError\u001b[0m                                 Traceback (most recent call last)",
            "\u001b[0;32m<ipython-input-51-9ac3938c4bea>\u001b[0m in \u001b[0;36m<cell line: 0>\u001b[0;34m()\u001b[0m\n\u001b[0;32m----> 1\u001b[0;31m \u001b[0msun2\u001b[0m\u001b[0;34m(\u001b[0m\u001b[0mz\u001b[0m\u001b[0;34m=\u001b[0m\u001b[0;36m2\u001b[0m\u001b[0;34m)\u001b[0m \u001b[0;31m# 'unexpected' keyword argument 'z'\u001b[0m\u001b[0;34m\u001b[0m\u001b[0;34m\u001b[0m\u001b[0m\n\u001b[0m",
            "\u001b[0;31mTypeError\u001b[0m: sun2() got an unexpected keyword argument 'z'"
          ]
        }
      ],
      "source": [
        "sun2(z=2) # 'unexpected' keyword argument 'z'"
      ]
    },
    {
      "cell_type": "code",
      "execution_count": null,
      "metadata": {
        "id": "3rMB45Ov3Rfa"
      },
      "outputs": [],
      "source": [
        "def sun3(x,y,z):\n",
        "  print(x+y+z)"
      ]
    },
    {
      "cell_type": "code",
      "execution_count": null,
      "metadata": {
        "colab": {
          "base_uri": "https://localhost:8080/"
        },
        "id": "ngptGZa838TV",
        "outputId": "03962b96-489a-4b6b-81ba-a1840b4b046e"
      },
      "outputs": [
        {
          "name": "stdout",
          "output_type": "stream",
          "text": [
            "10\n"
          ]
        }
      ],
      "source": [
        "sun3(3, z=4, y=3)\n",
        "# Positional과 Keyword는 혼용 가능\n",
        "# 한 번 사용한 이후에는 계속 Keyword 방식을 사용해야 한다."
      ]
    },
    {
      "cell_type": "code",
      "execution_count": null,
      "metadata": {
        "colab": {
          "base_uri": "https://localhost:8080/",
          "height": 108
        },
        "id": "SyuiLt-b4KYN",
        "outputId": "d2cb9de4-335a-4df9-d010-449b0d794502"
      },
      "outputs": [
        {
          "ename": "SyntaxError",
          "evalue": "positional argument follows keyword argument (<ipython-input-56-5f858fea4b91>, line 1)",
          "output_type": "error",
          "traceback": [
            "\u001b[0;36m  File \u001b[0;32m\"<ipython-input-56-5f858fea4b91>\"\u001b[0;36m, line \u001b[0;32m1\u001b[0m\n\u001b[0;31m    sun3(3, y=4, 3)\u001b[0m\n\u001b[0m                  ^\u001b[0m\n\u001b[0;31mSyntaxError\u001b[0m\u001b[0;31m:\u001b[0m positional argument follows keyword argument\n"
          ]
        }
      ],
      "source": [
        "sun3(3, y=4, 3)\n",
        "# 한 번 사용한 이후에는 계속 Keyword 방식을 사용해야 한다."
      ]
    },
    {
      "cell_type": "code",
      "execution_count": null,
      "metadata": {
        "id": "MzoNbcm24T7U"
      },
      "outputs": [],
      "source": [
        "def sun31(x, y=3):\n",
        "  print(x+y)"
      ]
    },
    {
      "cell_type": "code",
      "execution_count": null,
      "metadata": {
        "colab": {
          "base_uri": "https://localhost:8080/"
        },
        "id": "-9a4eZSf4f8g",
        "outputId": "e307ff4e-0f30-47e4-d2e7-cd6407016344"
      },
      "outputs": [
        {
          "name": "stdout",
          "output_type": "stream",
          "text": [
            "4\n"
          ]
        }
      ],
      "source": [
        "sun31(1)"
      ]
    },
    {
      "cell_type": "code",
      "execution_count": null,
      "metadata": {
        "colab": {
          "base_uri": "https://localhost:8080/",
          "height": 108
        },
        "id": "crRkXxwn4j_8",
        "outputId": "fb0f622f-0fdb-4414-d50e-c13c85f230e7"
      },
      "outputs": [
        {
          "ename": "SyntaxError",
          "evalue": "non-default argument follows default argument (<ipython-input-60-818b4dde17be>, line 1)",
          "output_type": "error",
          "traceback": [
            "\u001b[0;36m  File \u001b[0;32m\"<ipython-input-60-818b4dde17be>\"\u001b[0;36m, line \u001b[0;32m1\u001b[0m\n\u001b[0;31m    def sun32(x=3, y):\u001b[0m\n\u001b[0m                   ^\u001b[0m\n\u001b[0;31mSyntaxError\u001b[0m\u001b[0;31m:\u001b[0m non-default argument follows default argument\n"
          ]
        }
      ],
      "source": [
        "def sun32(x=3,y):\n",
        "  print(x+y)"
      ]
    },
    {
      "cell_type": "code",
      "execution_count": null,
      "metadata": {
        "id": "oBQ7B7MH4tAe"
      },
      "outputs": [],
      "source": [
        "def a(*b): # 가변 positional 방식\n",
        "  print(b)"
      ]
    },
    {
      "cell_type": "code",
      "execution_count": null,
      "metadata": {
        "colab": {
          "base_uri": "https://localhost:8080/"
        },
        "id": "6VaEN3Og-f0O",
        "outputId": "45630037-7ed2-4490-f13e-c7348ad01ac7"
      },
      "outputs": [
        {
          "name": "stdout",
          "output_type": "stream",
          "text": [
            "()\n"
          ]
        }
      ],
      "source": [
        "a()"
      ]
    },
    {
      "cell_type": "code",
      "execution_count": null,
      "metadata": {
        "colab": {
          "base_uri": "https://localhost:8080/"
        },
        "id": "ID6KAFi_-gjZ",
        "outputId": "562763f6-2ad9-49d4-a4b6-9620c1ebfa5b"
      },
      "outputs": [
        {
          "name": "stdout",
          "output_type": "stream",
          "text": [
            "(1,)\n"
          ]
        }
      ],
      "source": [
        "a(1)"
      ]
    },
    {
      "cell_type": "code",
      "execution_count": null,
      "metadata": {
        "colab": {
          "base_uri": "https://localhost:8080/"
        },
        "id": "CJtkE3Gm-hwA",
        "outputId": "4a6466fb-ccc9-440f-c2a7-2aee42feb7b6"
      },
      "outputs": [
        {
          "name": "stdout",
          "output_type": "stream",
          "text": [
            "(1, 2)\n"
          ]
        }
      ],
      "source": [
        "a(1,2) # 포지셔널 방식으로는 무제한으로 쓸 수 있다."
      ]
    },
    {
      "cell_type": "code",
      "execution_count": null,
      "metadata": {
        "colab": {
          "base_uri": "https://localhost:8080/",
          "height": 144
        },
        "id": "KoF6LaWM-jqs",
        "outputId": "04e33b41-fa3a-4402-e16e-2824affc9d86"
      },
      "outputs": [
        {
          "ename": "TypeError",
          "evalue": "a() got an unexpected keyword argument 'b'",
          "output_type": "error",
          "traceback": [
            "\u001b[0;31m---------------------------------------------------------------------------\u001b[0m",
            "\u001b[0;31mTypeError\u001b[0m                                 Traceback (most recent call last)",
            "\u001b[0;32m<ipython-input-75-93ae5b9deded>\u001b[0m in \u001b[0;36m<cell line: 0>\u001b[0;34m()\u001b[0m\n\u001b[0;32m----> 1\u001b[0;31m \u001b[0ma\u001b[0m\u001b[0;34m(\u001b[0m\u001b[0mb\u001b[0m\u001b[0;34m=\u001b[0m\u001b[0;36m1\u001b[0m\u001b[0;34m)\u001b[0m \u001b[0;31m# 키워드 방식으로는 안 된다.\u001b[0m\u001b[0;34m\u001b[0m\u001b[0;34m\u001b[0m\u001b[0m\n\u001b[0m",
            "\u001b[0;31mTypeError\u001b[0m: a() got an unexpected keyword argument 'b'"
          ]
        }
      ],
      "source": [
        "a(b=1) # 키워드 방식으로는 안 된다."
      ]
    },
    {
      "cell_type": "code",
      "execution_count": null,
      "metadata": {
        "id": "agmCfA6C-lih"
      },
      "outputs": [],
      "source": [
        "def aa(**b): # 가변 keyword 방식\n",
        "  print(b)"
      ]
    },
    {
      "cell_type": "code",
      "execution_count": null,
      "metadata": {
        "colab": {
          "base_uri": "https://localhost:8080/"
        },
        "id": "LYRS33_G-0FU",
        "outputId": "6a6b8243-d83e-4df8-bbef-9753dcc07cb4"
      },
      "outputs": [
        {
          "name": "stdout",
          "output_type": "stream",
          "text": [
            "{}\n"
          ]
        }
      ],
      "source": [
        "aa()"
      ]
    },
    {
      "cell_type": "code",
      "execution_count": null,
      "metadata": {
        "colab": {
          "base_uri": "https://localhost:8080/"
        },
        "id": "qdB_qJq1-1Sa",
        "outputId": "e27ac99f-db53-4682-f567-9a662c7a6022"
      },
      "outputs": [
        {
          "name": "stdout",
          "output_type": "stream",
          "text": [
            "{'a': 1}\n"
          ]
        }
      ],
      "source": [
        "aa(a=1)"
      ]
    },
    {
      "cell_type": "code",
      "execution_count": null,
      "metadata": {
        "colab": {
          "base_uri": "https://localhost:8080/"
        },
        "id": "IiEZyqgx-3K0",
        "outputId": "df7122fa-0c44-4517-97a5-884d72a3aa44"
      },
      "outputs": [
        {
          "name": "stdout",
          "output_type": "stream",
          "text": [
            "{'a': 1, 'b': 2}\n"
          ]
        }
      ],
      "source": [
        "aa(a=1, b=2)"
      ]
    },
    {
      "cell_type": "code",
      "execution_count": null,
      "metadata": {
        "colab": {
          "base_uri": "https://localhost:8080/"
        },
        "id": "TeZIsOkS-5Fb",
        "outputId": "7967b2e7-8b57-4f3d-a50c-72e1deab0fb8"
      },
      "outputs": [
        {
          "data": {
            "text/plain": [
              "0"
            ]
          },
          "execution_count": 141,
          "metadata": {},
          "output_type": "execute_result"
        }
      ],
      "source": [
        "# 다음과 같은 방식은 세상의 모든 입력을 받을 수 있다.\n",
        "def aaa(*a, **aa):\n",
        "  print('a')\n",
        "\n",
        "# int(self, /, *args, **kwargs)\n",
        "# 대괄호 '[]' 내의 것은 옵션, 안 넣어도 된다.\n",
        "int()"
      ]
    },
    {
      "cell_type": "code",
      "execution_count": null,
      "metadata": {
        "colab": {
          "base_uri": "https://localhost:8080/",
          "height": 448
        },
        "id": "yhOUX2ql_vZx",
        "outputId": "eb6a9907-e872-4e96-a4da-24d83ae8b53e"
      },
      "outputs": [
        {
          "data": {
            "text/plain": [
              "<BarContainer object of 3 artists>"
            ]
          },
          "execution_count": 82,
          "metadata": {},
          "output_type": "execute_result"
        },
        {
          "data": {
            "image/png": "[encoded data removed]",
            "text/plain": [
              "<Figure size 640x480 with 1 Axes>"
            ]
          },
          "metadata": {},
          "output_type": "display_data"
        }
      ],
      "source": [
        "import matplotlib.pyplot as plt\n",
        "\n",
        "plt.bar([1,2,3], [2,3,4])"
      ]
    },
    {
      "cell_type": "code",
      "execution_count": null,
      "metadata": {
        "colab": {
          "base_uri": "https://localhost:8080/",
          "height": 448
        },
        "id": "XP1n8yLqAZYt",
        "outputId": "ae1403df-0263-48c5-cee0-ba13cb291c6b"
      },
      "outputs": [
        {
          "data": {
            "text/plain": [
              "<BarContainer object of 3 artists>"
            ]
          },
          "execution_count": 85,
          "metadata": {},
          "output_type": "execute_result"
        },
        {
          "data": {
            "image/png": "[encoded data removed]",
            "text/plain": [
              "<Figure size 640x480 with 1 Axes>"
            ]
          },
          "metadata": {},
          "output_type": "display_data"
        }
      ],
      "source": [
        "plt.bar([1,2,3], [2,3,4], 0.3, color='purple')"
      ]
    },
    {
      "cell_type": "code",
      "execution_count": null,
      "metadata": {
        "colab": {
          "base_uri": "https://localhost:8080/",
          "height": 501
        },
        "id": "tz6_ZD8kAmkB",
        "outputId": "db76b1d9-43e3-4154-a564-a1baba519e7c"
      },
      "outputs": [
        {
          "data": {
            "text/plain": [
              "(array([1., 0., 0., 1., 0., 0., 0., 0., 0., 1.]),\n",
              " array([ 0.5 ,  2.95,  5.4 ,  7.85, 10.3 , 12.75, 15.2 , 17.65, 20.1 ,\n",
              "        22.55, 25.  ]),\n",
              " [<matplotlib.patches.Polygon at 0x7f2ef413edd0>])"
            ]
          },
          "execution_count": 91,
          "metadata": {},
          "output_type": "execute_result"
        },
        {
          "data": {
            "image/png": "[encoded data removed]",
            "text/plain": [
              "<Figure size 640x480 with 1 Axes>"
            ]
          },
          "metadata": {},
          "output_type": "display_data"
        }
      ],
      "source": [
        "plt.hist([0.5, 10, 25], histtype='step', align='left')"
      ]
    },
    {
      "cell_type": "code",
      "execution_count": null,
      "metadata": {
        "colab": {
          "base_uri": "https://localhost:8080/"
        },
        "id": "dn98EtIbCy_A",
        "outputId": "0d4ea709-9b8b-4a90-f64f-61f469222138"
      },
      "outputs": [
        {
          "data": {
            "text/plain": [
              "6"
            ]
          },
          "execution_count": 102,
          "metadata": {},
          "output_type": "execute_result"
        }
      ],
      "source": [
        "sum([1,2,3])"
      ]
    },
    {
      "cell_type": "code",
      "execution_count": null,
      "metadata": {
        "id": "gZCPXj6WAvdM"
      },
      "outputs": [],
      "source": [
        "def average(*a):\n",
        "  return sum(*a) / len(*a)"
      ]
    },
    {
      "cell_type": "code",
      "execution_count": null,
      "metadata": {
        "colab": {
          "base_uri": "https://localhost:8080/"
        },
        "id": "skeu6-2KCsPE",
        "outputId": "b1143a7a-07b4-45db-f6e0-c47af302459a"
      },
      "outputs": [
        {
          "data": {
            "text/plain": [
              "4.0"
            ]
          },
          "execution_count": 104,
          "metadata": {},
          "output_type": "execute_result"
        }
      ],
      "source": [
        "average([2,3,4,5,6])"
      ]
    },
    {
      "cell_type": "code",
      "execution_count": null,
      "metadata": {
        "colab": {
          "base_uri": "https://localhost:8080/"
        },
        "id": "iyU7D0YaCueQ",
        "outputId": "c04ad632-efbf-491a-c9ec-f9605dc4900e"
      },
      "outputs": [
        {
          "name": "stdout",
          "output_type": "stream",
          "text": [
            "([1, 2, 3],)\n"
          ]
        }
      ],
      "source": [
        "def a(*b):\n",
        "  print(b)\n",
        "\n",
        "x= [1,2,3]\n",
        "a(x)"
      ]
    },
    {
      "cell_type": "code",
      "execution_count": null,
      "metadata": {
        "colab": {
          "base_uri": "https://localhost:8080/"
        },
        "id": "VWw1tkV6DWht",
        "outputId": "5838ad65-381d-467b-e37e-c9720c1e795d"
      },
      "outputs": [
        {
          "name": "stdout",
          "output_type": "stream",
          "text": [
            "(1, 2, 3)\n"
          ]
        }
      ],
      "source": [
        "a(*x) # 인수 앞에 *을 붙여주면 unpacking해서 값을 집어넣어준다."
      ]
    },
    {
      "cell_type": "code",
      "execution_count": null,
      "metadata": {
        "id": "TReR-wZvDZQf"
      },
      "outputs": [],
      "source": [
        "def a(*b):\n",
        "  return sum(b)"
      ]
    },
    {
      "cell_type": "code",
      "execution_count": null,
      "metadata": {
        "colab": {
          "base_uri": "https://localhost:8080/"
        },
        "id": "x4VoFlTgEANe",
        "outputId": "034ecbb9-2178-47de-bf8a-eb623ae31943"
      },
      "outputs": [
        {
          "data": {
            "text/plain": [
              "12"
            ]
          },
          "execution_count": 107,
          "metadata": {},
          "output_type": "execute_result"
        }
      ],
      "source": [
        "a(2,4,6)"
      ]
    },
    {
      "cell_type": "code",
      "execution_count": null,
      "metadata": {
        "colab": {
          "base_uri": "https://localhost:8080/",
          "height": 216
        },
        "id": "uwJbksrJEB6l",
        "outputId": "2b6f4875-0bfc-4e97-9b50-34a88917f7e1"
      },
      "outputs": [
        {
          "ename": "TypeError",
          "evalue": "unsupported operand type(s) for +: 'int' and 'list'",
          "output_type": "error",
          "traceback": [
            "\u001b[0;31m---------------------------------------------------------------------------\u001b[0m",
            "\u001b[0;31mTypeError\u001b[0m                                 Traceback (most recent call last)",
            "\u001b[0;32m<ipython-input-109-06a5209ddaf3>\u001b[0m in \u001b[0;36m<cell line: 0>\u001b[0;34m()\u001b[0m\n\u001b[0;32m----> 1\u001b[0;31m \u001b[0ma\u001b[0m\u001b[0;34m(\u001b[0m\u001b[0;34m[\u001b[0m\u001b[0;36m2\u001b[0m\u001b[0;34m,\u001b[0m\u001b[0;36m3\u001b[0m\u001b[0;34m,\u001b[0m\u001b[0;36m4\u001b[0m\u001b[0;34m]\u001b[0m\u001b[0;34m)\u001b[0m \u001b[0;31m# tuple 안에 tuple\u001b[0m\u001b[0;34m\u001b[0m\u001b[0;34m\u001b[0m\u001b[0m\n\u001b[0m",
            "\u001b[0;32m<ipython-input-106-9ea96dc44eab>\u001b[0m in \u001b[0;36ma\u001b[0;34m(*b)\u001b[0m\n\u001b[1;32m      1\u001b[0m \u001b[0;32mdef\u001b[0m \u001b[0ma\u001b[0m\u001b[0;34m(\u001b[0m\u001b[0;34m*\u001b[0m\u001b[0mb\u001b[0m\u001b[0;34m)\u001b[0m\u001b[0;34m:\u001b[0m\u001b[0;34m\u001b[0m\u001b[0;34m\u001b[0m\u001b[0m\n\u001b[0;32m----> 2\u001b[0;31m   \u001b[0;32mreturn\u001b[0m \u001b[0msum\u001b[0m\u001b[0;34m(\u001b[0m\u001b[0mb\u001b[0m\u001b[0;34m)\u001b[0m\u001b[0;34m\u001b[0m\u001b[0;34m\u001b[0m\u001b[0m\n\u001b[0m",
            "\u001b[0;31mTypeError\u001b[0m: unsupported operand type(s) for +: 'int' and 'list'"
          ]
        }
      ],
      "source": [
        "a([2,3,4]) # tuple 안에 tuple"
      ]
    },
    {
      "cell_type": "code",
      "execution_count": null,
      "metadata": {
        "id": "RKu4rfcYEdGX"
      },
      "outputs": [],
      "source": [
        "def aa(**bb):\n",
        "  print(bb)"
      ]
    },
    {
      "cell_type": "code",
      "execution_count": null,
      "metadata": {
        "id": "AuEDb1cUEmMW"
      },
      "outputs": [],
      "source": [
        "xx = {'a':1, 'b':2}"
      ]
    },
    {
      "cell_type": "code",
      "execution_count": null,
      "metadata": {
        "colab": {
          "base_uri": "https://localhost:8080/",
          "height": 144
        },
        "id": "F87DBcI5EkHF",
        "outputId": "c5d89b12-6301-4056-f6d5-25526c2df05c"
      },
      "outputs": [
        {
          "ename": "TypeError",
          "evalue": "aa() takes 0 positional arguments but 1 was given",
          "output_type": "error",
          "traceback": [
            "\u001b[0;31m---------------------------------------------------------------------------\u001b[0m",
            "\u001b[0;31mTypeError\u001b[0m                                 Traceback (most recent call last)",
            "\u001b[0;32m<ipython-input-115-ad62dc9085f2>\u001b[0m in \u001b[0;36m<cell line: 0>\u001b[0;34m()\u001b[0m\n\u001b[0;32m----> 1\u001b[0;31m \u001b[0maa\u001b[0m\u001b[0;34m(\u001b[0m\u001b[0mxx\u001b[0m\u001b[0;34m)\u001b[0m\u001b[0;34m\u001b[0m\u001b[0;34m\u001b[0m\u001b[0m\n\u001b[0m",
            "\u001b[0;31mTypeError\u001b[0m: aa() takes 0 positional arguments but 1 was given"
          ]
        }
      ],
      "source": [
        "aa(xx)"
      ]
    },
    {
      "cell_type": "code",
      "execution_count": null,
      "metadata": {
        "colab": {
          "base_uri": "https://localhost:8080/"
        },
        "id": "5FuMZslTEp6k",
        "outputId": "1c0e4602-aef7-46b1-b30a-ccdc334b4480"
      },
      "outputs": [
        {
          "name": "stdout",
          "output_type": "stream",
          "text": [
            "{'a': 1, 'b': 2}\n"
          ]
        }
      ],
      "source": [
        "aa(**xx)"
      ]
    },
    {
      "cell_type": "code",
      "execution_count": null,
      "metadata": {
        "colab": {
          "base_uri": "https://localhost:8080/",
          "height": 144
        },
        "id": "IqupDXBjErqw",
        "outputId": "2fd7eb17-e44e-40ea-eb16-f09487f60d69"
      },
      "outputs": [
        {
          "ename": "TypeError",
          "evalue": "aa() takes 0 positional arguments but 3 were given",
          "output_type": "error",
          "traceback": [
            "\u001b[0;31m---------------------------------------------------------------------------\u001b[0m",
            "\u001b[0;31mTypeError\u001b[0m                                 Traceback (most recent call last)",
            "\u001b[0;32m<ipython-input-117-89ffd4f19112>\u001b[0m in \u001b[0;36m<cell line: 0>\u001b[0;34m()\u001b[0m\n\u001b[0;32m----> 1\u001b[0;31m \u001b[0maa\u001b[0m\u001b[0;34m(\u001b[0m\u001b[0;34m*\u001b[0m\u001b[0mx\u001b[0m\u001b[0;34m)\u001b[0m\u001b[0;34m\u001b[0m\u001b[0;34m\u001b[0m\u001b[0m\n\u001b[0m",
            "\u001b[0;31mTypeError\u001b[0m: aa() takes 0 positional arguments but 3 were given"
          ]
        }
      ],
      "source": [
        "aa(*x)"
      ]
    },
    {
      "cell_type": "code",
      "execution_count": null,
      "metadata": {
        "id": "BPdoemuCEwe6"
      },
      "outputs": [],
      "source": [
        "def b(*a):\n",
        "  print(a)"
      ]
    },
    {
      "cell_type": "code",
      "execution_count": null,
      "metadata": {
        "colab": {
          "base_uri": "https://localhost:8080/"
        },
        "id": "9bs6qTqNEzbK",
        "outputId": "a00ccbf0-cdf5-4a39-d197-5c690b5c4698"
      },
      "outputs": [
        {
          "name": "stdout",
          "output_type": "stream",
          "text": [
            "('a', 'b')\n"
          ]
        }
      ],
      "source": [
        "b(*xx) # key만 뽑아서 unplacking 가능"
      ]
    },
    {
      "cell_type": "code",
      "execution_count": null,
      "metadata": {
        "colab": {
          "base_uri": "https://localhost:8080/"
        },
        "id": "eNESa5M7FDOS",
        "outputId": "3d804bfd-4367-4000-ee3c-cb0487fa4792"
      },
      "outputs": [
        {
          "data": {
            "text/plain": [
              "{'a': 3, 'b': 4}"
            ]
          },
          "execution_count": 122,
          "metadata": {},
          "output_type": "execute_result"
        }
      ],
      "source": [
        "t = {'a':1, 'b':2}\n",
        "s = {'a':3, 'b':4}\n",
        "\n",
        "{**t, **s}"
      ]
    },
    {
      "cell_type": "code",
      "execution_count": null,
      "metadata": {
        "id": "IXw-LhrGGRLt"
      },
      "outputs": [],
      "source": [
        "def t():\n",
        "  return 1"
      ]
    },
    {
      "cell_type": "code",
      "execution_count": null,
      "metadata": {
        "colab": {
          "base_uri": "https://localhost:8080/"
        },
        "id": "2RSQVBxLGqz9",
        "outputId": "b6a59b64-a7a5-4da3-c19e-1c4525c5dd3a"
      },
      "outputs": [
        {
          "data": {
            "text/plain": [
              "1"
            ]
          },
          "execution_count": 124,
          "metadata": {},
          "output_type": "execute_result"
        }
      ],
      "source": [
        "t() # 괄호가 붙이면 함수의 return 값을 불러옴"
      ]
    },
    {
      "cell_type": "code",
      "execution_count": null,
      "metadata": {
        "colab": {
          "base_uri": "https://localhost:8080/"
        },
        "id": "BixCCE40Grax",
        "outputId": "e13d0808-d054-49d2-df17-33a3d4784199"
      },
      "outputs": [
        {
          "name": "stdout",
          "output_type": "stream",
          "text": [
            "tt\n"
          ]
        }
      ],
      "source": [
        "def tt():\n",
        "  print('tt')\n",
        "  # return None\n",
        "\n",
        "a = tt()"
      ]
    },
    {
      "cell_type": "code",
      "execution_count": null,
      "metadata": {
        "id": "dpE72r5uHzm0"
      },
      "outputs": [],
      "source": [
        "a"
      ]
    },
    {
      "cell_type": "code",
      "execution_count": null,
      "metadata": {
        "id": "8pQPXyPZHAS2"
      },
      "outputs": [],
      "source": [
        "def ttt():\n",
        "  return 'tt' # return 있음\n",
        "\n",
        "b = ttt()"
      ]
    },
    {
      "cell_type": "code",
      "execution_count": null,
      "metadata": {
        "id": "HTdOtILNHItA"
      },
      "outputs": [],
      "source": [
        "a = [1,2,3]\n",
        "\n",
        "a.append(4) # method, return이 없으나, 다른 값을 바꿀 수 있다.\n",
        "# 굉장히 위험하므로, 사용을 자제하도록 하자."
      ]
    },
    {
      "cell_type": "code",
      "execution_count": null,
      "metadata": {
        "colab": {
          "base_uri": "https://localhost:8080/"
        },
        "id": "u9pproYJHUUo",
        "outputId": "38b38793-f287-4e4c-ad15-9e453ce3c160"
      },
      "outputs": [
        {
          "data": {
            "text/plain": [
              "[1, 2, 3, 4]"
            ]
          },
          "execution_count": 138,
          "metadata": {},
          "output_type": "execute_result"
        }
      ],
      "source": [
        "a"
      ]
    },
    {
      "cell_type": "code",
      "execution_count": null,
      "metadata": {
        "colab": {
          "base_uri": "https://localhost:8080/",
          "height": 36
        },
        "id": "LR0KNKalHVgQ",
        "outputId": "e8381266-928c-4402-9f23-73dd85049c81"
      },
      "outputs": [
        {
          "data": {
            "application/vnd.google.colaboratory.intrinsic+json": {
              "type": "string"
            },
            "text/plain": [
              "'tt'"
            ]
          },
          "execution_count": 139,
          "metadata": {},
          "output_type": "execute_result"
        }
      ],
      "source": [
        "b"
      ]
    },
    {
      "cell_type": "markdown",
      "metadata": {
        "id": "pwCsprMmKypU"
      },
      "source": [
        "## *의 의미\n",
        "- 연산자(곱하기)"
      ]
    },
    {
      "cell_type": "code",
      "execution_count": null,
      "metadata": {
        "colab": {
          "base_uri": "https://localhost:8080/"
        },
        "id": "enjy1BvoH5CU",
        "outputId": "62bb54c6-e9a3-4d34-d6a2-b623c8f60aa0"
      },
      "outputs": [
        {
          "data": {
            "text/plain": [
              "12"
            ]
          },
          "execution_count": 142,
          "metadata": {},
          "output_type": "execute_result"
        }
      ],
      "source": [
        "3 * 4"
      ]
    },
    {
      "cell_type": "code",
      "execution_count": null,
      "metadata": {
        "colab": {
          "base_uri": "https://localhost:8080/"
        },
        "id": "OAm7dzrmK6Z-",
        "outputId": "86aaa38f-fec9-4a53-b48a-306461c0ffaa"
      },
      "outputs": [
        {
          "data": {
            "text/plain": [
              "13.529999999999998"
            ]
          },
          "execution_count": 145,
          "metadata": {},
          "output_type": "execute_result"
        }
      ],
      "source": [
        "3.3 * 4.1  # 대충 부동소수점 계산함"
      ]
    },
    {
      "cell_type": "code",
      "execution_count": null,
      "metadata": {
        "colab": {
          "base_uri": "https://localhost:8080/"
        },
        "id": "RyGhxqcpK7l4",
        "outputId": "cb5727b7-ce0e-453d-bce3-af5478b2d1e2"
      },
      "outputs": [
        {
          "data": {
            "text/plain": [
              "81"
            ]
          },
          "execution_count": 146,
          "metadata": {},
          "output_type": "execute_result"
        }
      ],
      "source": [
        "3 ** 4"
      ]
    },
    {
      "cell_type": "code",
      "execution_count": null,
      "metadata": {
        "colab": {
          "base_uri": "https://localhost:8080/"
        },
        "id": "PbD-N_trLkCr",
        "outputId": "fdf37d11-92a0-4d05-f979-06aa0fbd5586"
      },
      "outputs": [
        {
          "data": {
            "text/plain": [
              "0.012345679012345678"
            ]
          },
          "execution_count": 149,
          "metadata": {},
          "output_type": "execute_result"
        }
      ],
      "source": [
        "3 ** (-4)"
      ]
    },
    {
      "cell_type": "code",
      "execution_count": null,
      "metadata": {
        "colab": {
          "base_uri": "https://localhost:8080/"
        },
        "id": "vZPoV8ROLucA",
        "outputId": "661a606f-b48f-4df1-b299-a6b2a20a5d6b"
      },
      "outputs": [
        {
          "data": {
            "text/plain": [
              "0.75"
            ]
          },
          "execution_count": 150,
          "metadata": {},
          "output_type": "execute_result"
        }
      ],
      "source": [
        "3 / 4"
      ]
    },
    {
      "cell_type": "code",
      "execution_count": null,
      "metadata": {
        "colab": {
          "base_uri": "https://localhost:8080/"
        },
        "id": "sxUQw86LL4QB",
        "outputId": "98c33865-5122-48b5-a184-574877e306dd"
      },
      "outputs": [
        {
          "data": {
            "text/plain": [
              "0"
            ]
          },
          "execution_count": 151,
          "metadata": {},
          "output_type": "execute_result"
        }
      ],
      "source": [
        "3 // 4"
      ]
    },
    {
      "cell_type": "code",
      "execution_count": null,
      "metadata": {
        "colab": {
          "base_uri": "https://localhost:8080/"
        },
        "id": "2XzSwv0NL92v",
        "outputId": "bfd1917d-2536-4d06-9985-f7cfe893c1f5"
      },
      "outputs": [
        {
          "data": {
            "text/plain": [
              "3"
            ]
          },
          "execution_count": 152,
          "metadata": {},
          "output_type": "execute_result"
        }
      ],
      "source": [
        "3 % 4"
      ]
    },
    {
      "cell_type": "code",
      "execution_count": null,
      "metadata": {
        "colab": {
          "base_uri": "https://localhost:8080/"
        },
        "id": "Yap11ROEL-gU",
        "outputId": "b8dddc82-b605-4ee2-f94f-7dc76fe3c6c9"
      },
      "outputs": [
        {
          "data": {
            "text/plain": [
              "-0.75"
            ]
          },
          "execution_count": 153,
          "metadata": {},
          "output_type": "execute_result"
        }
      ],
      "source": [
        "3 / -4"
      ]
    },
    {
      "cell_type": "code",
      "execution_count": null,
      "metadata": {
        "colab": {
          "base_uri": "https://localhost:8080/"
        },
        "id": "puwiQKodMAXa",
        "outputId": "d0112f31-bf02-42bc-a2f2-5ed8956d6cab"
      },
      "outputs": [
        {
          "data": {
            "text/plain": [
              "-1"
            ]
          },
          "execution_count": 154,
          "metadata": {},
          "output_type": "execute_result"
        }
      ],
      "source": [
        "3 // -4"
      ]
    },
    {
      "cell_type": "code",
      "execution_count": null,
      "metadata": {
        "colab": {
          "base_uri": "https://localhost:8080/"
        },
        "id": "PPvY8ZFJMBXA",
        "outputId": "5d52a4ff-e929-4bfe-cfd7-a9b23f9e614f"
      },
      "outputs": [
        {
          "data": {
            "text/plain": [
              "-1"
            ]
          },
          "execution_count": 155,
          "metadata": {},
          "output_type": "execute_result"
        }
      ],
      "source": [
        "3 % -4"
      ]
    },
    {
      "cell_type": "code",
      "execution_count": null,
      "metadata": {
        "colab": {
          "base_uri": "https://localhost:8080/"
        },
        "id": "M_TuH4wrMDR_",
        "outputId": "afd84576-50b5-45a4-e1fa-49371469592e"
      },
      "outputs": [
        {
          "data": {
            "text/plain": [
              "-0.75"
            ]
          },
          "execution_count": 156,
          "metadata": {},
          "output_type": "execute_result"
        }
      ],
      "source": [
        "-3 / 4"
      ]
    },
    {
      "cell_type": "code",
      "execution_count": null,
      "metadata": {
        "colab": {
          "base_uri": "https://localhost:8080/"
        },
        "id": "cAungTABMHA9",
        "outputId": "1abe3d0f-ad53-440c-c09b-2b6f074ef860"
      },
      "outputs": [
        {
          "data": {
            "text/plain": [
              "-1"
            ]
          },
          "execution_count": 157,
          "metadata": {},
          "output_type": "execute_result"
        }
      ],
      "source": [
        "-3 // 4"
      ]
    },
    {
      "cell_type": "code",
      "execution_count": null,
      "metadata": {
        "colab": {
          "base_uri": "https://localhost:8080/"
        },
        "id": "B84BfswMMII1",
        "outputId": "c37fb42d-39f8-4e34-c2e8-af821ba4287b"
      },
      "outputs": [
        {
          "data": {
            "text/plain": [
              "1"
            ]
          },
          "execution_count": 159,
          "metadata": {},
          "output_type": "execute_result"
        }
      ],
      "source": [
        "-3 % 4"
      ]
    },
    {
      "cell_type": "code",
      "execution_count": null,
      "metadata": {
        "colab": {
          "base_uri": "https://localhost:8080/",
          "height": 36
        },
        "id": "C5heimH6MJmL",
        "outputId": "449e37fc-15df-48c6-801f-32f938313e19"
      },
      "outputs": [
        {
          "data": {
            "application/vnd.google.colaboratory.intrinsic+json": {
              "type": "string"
            },
            "text/plain": [
              "'asdfasdfasdf'"
            ]
          },
          "execution_count": 160,
          "metadata": {},
          "output_type": "execute_result"
        }
      ],
      "source": [
        "3 * 'asdf'"
      ]
    },
    {
      "cell_type": "code",
      "execution_count": null,
      "metadata": {
        "colab": {
          "base_uri": "https://localhost:8080/",
          "height": 144
        },
        "id": "_4sP_q6FNVaQ",
        "outputId": "30b772b4-d7f2-4111-cceb-94b1ce5c03e1"
      },
      "outputs": [
        {
          "ename": "TypeError",
          "evalue": "can't multiply sequence by non-int of type 'float'",
          "output_type": "error",
          "traceback": [
            "\u001b[0;31m---------------------------------------------------------------------------\u001b[0m",
            "\u001b[0;31mTypeError\u001b[0m                                 Traceback (most recent call last)",
            "\u001b[0;32m<ipython-input-161-470bea3d29bd>\u001b[0m in \u001b[0;36m<cell line: 0>\u001b[0;34m()\u001b[0m\n\u001b[0;32m----> 1\u001b[0;31m \u001b[0;36m3.\u001b[0m \u001b[0;34m*\u001b[0m \u001b[0;34m'asdf'\u001b[0m\u001b[0;34m\u001b[0m\u001b[0;34m\u001b[0m\u001b[0m\n\u001b[0m",
            "\u001b[0;31mTypeError\u001b[0m: can't multiply sequence by non-int of type 'float'"
          ]
        }
      ],
      "source": [
        "3. * 'asdf' # 데이터 타입에 따라 지원하는 연산자가 있다."
      ]
    },
    {
      "cell_type": "markdown",
      "metadata": {
        "id": "uZvb2uOyOVF4"
      },
      "source": [
        "## Mutable?\n",
        "\n",
        "프로그래밍을 어렵게 하므로 위험하다. 하지만, 위험한 것일수록 매력적이다.\n",
        "\n",
        "값을 바꾸기 위해서는 재할당을 한다."
      ]
    },
    {
      "cell_type": "code",
      "execution_count": null,
      "metadata": {
        "colab": {
          "base_uri": "https://localhost:8080/"
        },
        "id": "sIn-7vGINXji",
        "outputId": "31b729d9-787d-40e6-ddf6-31bbd8887cd6"
      },
      "outputs": [
        {
          "data": {
            "text/plain": [
              "10750856"
            ]
          },
          "execution_count": 163,
          "metadata": {},
          "output_type": "execute_result"
        }
      ],
      "source": [
        "a = 1\n",
        "id(a) # 메모리"
      ]
    },
    {
      "cell_type": "code",
      "execution_count": null,
      "metadata": {
        "colab": {
          "base_uri": "https://localhost:8080/"
        },
        "id": "RY9iFq7wOl4t",
        "outputId": "f52ee742-f36a-4549-d424-ca89e8188721"
      },
      "outputs": [
        {
          "data": {
            "text/plain": [
              "10750920"
            ]
          },
          "execution_count": 164,
          "metadata": {},
          "output_type": "execute_result"
        }
      ],
      "source": [
        "a = 3\n",
        "id(a) # 바뀐다"
      ]
    },
    {
      "cell_type": "code",
      "execution_count": null,
      "metadata": {
        "id": "umZMpUoVO0Dx"
      },
      "outputs": [],
      "source": [
        "a = (1,2,3) # 추후 가비지 콜렉션을 통해 삭제되지만, 데이터 크기가 커지면 메모리 낭비가 심해짐.\n",
        "a = (1,2,3,4)"
      ]
    },
    {
      "cell_type": "code",
      "execution_count": null,
      "metadata": {
        "colab": {
          "base_uri": "https://localhost:8080/"
        },
        "id": "aIWsY1U9Oqf7",
        "outputId": "f85b45a7-47ed-417d-8aec-fd1b6be029cc"
      },
      "outputs": [
        {
          "data": {
            "text/plain": [
              "139839532502528"
            ]
          },
          "execution_count": 177,
          "metadata": {},
          "output_type": "execute_result"
        }
      ],
      "source": [
        "a = [1,2,3] # return 값 없음, 자신 변화\n",
        "id(a)"
      ]
    },
    {
      "cell_type": "markdown",
      "metadata": {
        "id": "dwS_5DF6Pdsj"
      },
      "source": [
        "1. return 값 없음, 자신 변화\n",
        "1. return 값 있음, 자신 변화\n",
        "1. return 값 있음, 자신 변화 X"
      ]
    },
    {
      "cell_type": "code",
      "execution_count": null,
      "metadata": {
        "colab": {
          "base_uri": "https://localhost:8080/"
        },
        "id": "qJ1PE-kWOwKo",
        "outputId": "f706ae4d-5275-4b7a-8030-c87650996982"
      },
      "outputs": [
        {
          "data": {
            "text/plain": [
              "139839532502528"
            ]
          },
          "execution_count": 178,
          "metadata": {},
          "output_type": "execute_result"
        }
      ],
      "source": [
        "c = a.append(4)\n",
        "id(a) # 가장 앞 메모리 주소를 표현, 메모리 공유를 한다."
      ]
    },
    {
      "cell_type": "code",
      "execution_count": null,
      "metadata": {
        "id": "xGQfRpUZPVNK"
      },
      "outputs": [],
      "source": [
        "c"
      ]
    },
    {
      "cell_type": "code",
      "execution_count": null,
      "metadata": {
        "colab": {
          "base_uri": "https://localhost:8080/"
        },
        "id": "4MJ1srpKQTB8",
        "outputId": "3f964e14-81a6-4cb3-c3a0-8c6e16123355"
      },
      "outputs": [
        {
          "data": {
            "text/plain": [
              "[1, 2, 3, 4]"
            ]
          },
          "execution_count": 179,
          "metadata": {},
          "output_type": "execute_result"
        }
      ],
      "source": [
        "a"
      ]
    },
    {
      "cell_type": "code",
      "execution_count": null,
      "metadata": {
        "colab": {
          "base_uri": "https://localhost:8080/"
        },
        "id": "ZyCHZmNmQV4P",
        "outputId": "8716f308-885f-4be2-aa32-7c1996dbbbc6"
      },
      "outputs": [
        {
          "data": {
            "text/plain": [
              "4"
            ]
          },
          "execution_count": 181,
          "metadata": {},
          "output_type": "execute_result"
        }
      ],
      "source": [
        "a.pop() # return 값 있음, 자신 변화"
      ]
    },
    {
      "cell_type": "code",
      "execution_count": null,
      "metadata": {
        "colab": {
          "base_uri": "https://localhost:8080/"
        },
        "id": "LZNZBgrGQicL",
        "outputId": "2bc165ef-ceeb-462d-d964-c621a9543c32"
      },
      "outputs": [
        {
          "data": {
            "text/plain": [
              "0"
            ]
          },
          "execution_count": 182,
          "metadata": {},
          "output_type": "execute_result"
        }
      ],
      "source": [
        "a.index(1) # return 값 있음, 자신 변화 X"
      ]
    },
    {
      "cell_type": "code",
      "execution_count": null,
      "metadata": {
        "id": "C6jvy6_-P6W7"
      },
      "outputs": [],
      "source": [
        "# tuple <>  list\n",
        "# bytes <>  bytearray\n",
        "# set   <>  frozenset\n",
        "#           dict\n",
        "#           array"
      ]
    },
    {
      "cell_type": "code",
      "execution_count": null,
      "metadata": {
        "colab": {
          "base_uri": "https://localhost:8080/"
        },
        "id": "BtqtwIiARRfv",
        "outputId": "e07b1427-d81d-4d23-cab7-72b6b8746bb4"
      },
      "outputs": [
        {
          "data": {
            "text/plain": [
              "[1, 2, 3]"
            ]
          },
          "execution_count": 184,
          "metadata": {},
          "output_type": "execute_result"
        }
      ],
      "source": [
        "a = b = [1,2]\n",
        "a.append(3)\n",
        "b"
      ]
    },
    {
      "cell_type": "code",
      "execution_count": null,
      "metadata": {
        "colab": {
          "base_uri": "https://localhost:8080/"
        },
        "id": "CnbwJqaQRWKL",
        "outputId": "213bcc31-8209-4101-b67d-e8b24f15595d"
      },
      "outputs": [
        {
          "data": {
            "text/plain": [
              "[1, 2, 3]"
            ]
          },
          "execution_count": 186,
          "metadata": {},
          "output_type": "execute_result"
        }
      ],
      "source": [
        "a = [1,2]\n",
        "b = [1,2]\n",
        "b = a\n",
        "b.append(3)\n",
        "a"
      ]
    },
    {
      "cell_type": "code",
      "execution_count": null,
      "metadata": {
        "id": "XaJFwRZdRce_"
      },
      "outputs": [],
      "source": [
        "a = [1,2]"
      ]
    },
    {
      "cell_type": "code",
      "execution_count": null,
      "metadata": {
        "id": "X7yp3CbyRnyF"
      },
      "outputs": [],
      "source": [
        "b = a[:] # 처음부터 끝까지, 슬라이싱"
      ]
    },
    {
      "cell_type": "code",
      "execution_count": null,
      "metadata": {
        "colab": {
          "base_uri": "https://localhost:8080/"
        },
        "id": "R06nFgJBRqCN",
        "outputId": "91a42812-1dac-44d8-b8f8-9fb7af656d37"
      },
      "outputs": [
        {
          "data": {
            "text/plain": [
              "[1, 2]"
            ]
          },
          "execution_count": 189,
          "metadata": {},
          "output_type": "execute_result"
        }
      ],
      "source": [
        "b.append(3)\n",
        "a"
      ]
    },
    {
      "cell_type": "code",
      "execution_count": null,
      "metadata": {
        "id": "NNMtTsmmRw1d"
      },
      "outputs": [],
      "source": [
        "# atomic\n",
        "# container - homo/hetero\n",
        "#          |- sequence/non-sequencial\n",
        "#          |- mutable/immutable"
      ]
    }
  ],
  "metadata": {
    "colab": {
      "provenance": []
    },
    "kernelspec": {
      "display_name": "Python 3",
      "name": "python3"
    },
    "language_info": {
      "name": "python"
    }
  },
  "nbformat": 4,
  "nbformat_minor": 0
}
