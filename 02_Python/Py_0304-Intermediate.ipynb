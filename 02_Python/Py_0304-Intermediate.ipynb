{
  "cells": [
    {
      "cell_type": "markdown",
      "metadata": {
        "id": "Pfq8VV2agl17"
      },
      "source": [
        "# 1. Expressions\n",
        "\n",
        "[파이썬 공식 문서](https://docs.python.org/ko/3.9/)를 기반으로 함.\n",
        "\n",
        "파이썬에서는 variance(변수)가 아닌, identifier(식별자)라고 말한다. 파이썬에서는 계속 이름을 다르게 붙일 수 있기 때문에 상수가 따로 존재하지 않는다(const, final 등).\n",
        "\n",
        "Expression(표현식)은 **하나의 결과'값'으로 축약할 수 있다.**\n",
        "\n",
        "등호의 오른쪽에는 식이 올 수 있으며, Lambda(함수식)은 식이므로 등호의 오른쪽에 올 수 있다. 클래스도 가능."
      ]
    },
    {
      "cell_type": "code",
      "execution_count": null,
      "metadata": {
        "id": "rHmG8qtDgD_q"
      },
      "outputs": [],
      "source": [
        "a = 1 + 1 # Assignment(정의문)"
      ]
    },
    {
      "cell_type": "code",
      "execution_count": null,
      "metadata": {
        "id": "Z41fbNKUpYpv"
      },
      "outputs": [],
      "source": [
        "a = lambda x : x + 1"
      ]
    },
    {
      "cell_type": "code",
      "execution_count": null,
      "metadata": {
        "colab": {
          "base_uri": "https://localhost:8080/"
        },
        "id": "JnC4y1_cpdGz",
        "outputId": "13ff6ffd-6fac-4ef3-ed57-78ada89602dd"
      },
      "outputs": [
        {
          "data": {
            "text/plain": [
              "<function __main__.<lambda>(x)>"
            ]
          },
          "execution_count": 3,
          "metadata": {},
          "output_type": "execute_result"
        }
      ],
      "source": [
        "a"
      ]
    },
    {
      "cell_type": "markdown",
      "metadata": {
        "id": "_fMR6QWCpze9"
      },
      "source": [
        "파이썬에서 이름을 정하는 규칙: PEP Index(Index of Python Enhancement Proposals)\n",
        "1. snake: moon_beauty\n",
        "2. camel: moonBeauty\n",
        "3. pascal(caps word): MoonBeauty\n",
        "\n",
        "PEP-8 방식에 따르면, 파이썬에서 카멜 방식은 클래스 이름을 지을 때 사용한다.\n",
        "\n",
        "PEP-8 명명법이 중요한 이유: 시간 단축과 명확성. 명명 방식만 봐도 속성을 알 수 있음.\n",
        "\n",
        "첫번째 인자는 self. 키워드(예약어, reserved)는 identifier로 사용할 수 없다.\n",
        "\n",
        "계속 식별자들을 사용하기 때문에 이름이 중요하다. 람다는 익명 함수로, 한 번만 사용하기에 이름 붙이지 않아도 됨."
      ]
    },
    {
      "cell_type": "code",
      "execution_count": null,
      "metadata": {
        "id": "kZr6z9O7peJx"
      },
      "outputs": [],
      "source": [
        "class B:\n",
        "  __x = 1"
      ]
    },
    {
      "cell_type": "code",
      "execution_count": null,
      "metadata": {
        "colab": {
          "base_uri": "https://localhost:8080/"
        },
        "id": "8NVsaPmArPiy",
        "outputId": "770e06b3-eb70-4330-eb9d-3cfd94728ae4"
      },
      "outputs": [
        {
          "data": {
            "text/plain": [
              "1"
            ]
          },
          "execution_count": 8,
          "metadata": {},
          "output_type": "execute_result"
        }
      ],
      "source": [
        "B._B__x"
      ]
    },
    {
      "cell_type": "code",
      "execution_count": null,
      "metadata": {
        "id": "0dzlGjZurSzb"
      },
      "outputs": [],
      "source": [
        "a = 1 # 하나의 실행 단위(statement)"
      ]
    },
    {
      "cell_type": "code",
      "execution_count": null,
      "metadata": {
        "id": "EwgslEvcrkBH"
      },
      "outputs": [],
      "source": [
        "# def = 1 # 예약어이므로 사용할 수 없음"
      ]
    },
    {
      "cell_type": "code",
      "execution_count": null,
      "metadata": {
        "id": "z6tKk7Xws9Tw"
      },
      "outputs": [],
      "source": [
        "b = lambda t : t+1"
      ]
    },
    {
      "cell_type": "code",
      "execution_count": null,
      "metadata": {
        "colab": {
          "base_uri": "https://localhost:8080/",
          "height": 36
        },
        "id": "hpTHPw3etBlz",
        "outputId": "35ab4c4a-a146-413a-9eb4-53201c403dc9"
      },
      "outputs": [
        {
          "data": {
            "application/vnd.google.colaboratory.intrinsic+json": {
              "type": "string"
            },
            "text/plain": [
              "'<lambda>'"
            ]
          },
          "execution_count": 13,
          "metadata": {},
          "output_type": "execute_result"
        }
      ],
      "source": [
        "b.__name__"
      ]
    },
    {
      "cell_type": "markdown",
      "metadata": {
        "id": "JFr-IeUBtyt5"
      },
      "source": [
        "## 파이썬의 숫자 체계\n",
        "\n",
        "파이썬의 숫자 종류는 4개다.\n",
        "- integer(정수형)\n",
        "- float(부동소수점)\n",
        "- complex(복소수)\n",
        "- bool(불린)"
      ]
    },
    {
      "cell_type": "markdown",
      "metadata": {
        "id": "pjHhNRnEyok4"
      },
      "source": [
        "### 1. Integer(정수형)"
      ]
    },
    {
      "cell_type": "code",
      "execution_count": null,
      "metadata": {
        "colab": {
          "base_uri": "https://localhost:8080/"
        },
        "id": "q2hZyIj7tDm-",
        "outputId": "9b182d3b-928b-48fb-887e-f5b181462a0c"
      },
      "outputs": [
        {
          "data": {
            "text/plain": [
              "int"
            ]
          },
          "execution_count": 15,
          "metadata": {},
          "output_type": "execute_result"
        }
      ],
      "source": [
        "type(a)"
      ]
    },
    {
      "cell_type": "code",
      "execution_count": null,
      "metadata": {
        "id": "eAT4sYqZuHnZ"
      },
      "outputs": [],
      "source": [
        "import sys"
      ]
    },
    {
      "cell_type": "code",
      "execution_count": null,
      "metadata": {
        "colab": {
          "base_uri": "https://localhost:8080/"
        },
        "id": "y8w8poWduW5I",
        "outputId": "125fea0e-801a-45e8-d7fc-4ced30181ebf"
      },
      "outputs": [
        {
          "data": {
            "text/plain": [
              "9223372036854775807"
            ]
          },
          "execution_count": 17,
          "metadata": {},
          "output_type": "execute_result"
        }
      ],
      "source": [
        "sys.maxsize"
      ]
    },
    {
      "cell_type": "markdown",
      "metadata": {
        "id": "JoGb5LgUuaN2"
      },
      "source": [
        "위 숫자를 초과하면 자체적으로 메모리를 늘려줌. **연산이 느리지만 범위에 상관없이 연산이 가능함(편함).**\n",
        "\n",
        "정수형에 맞는 연산자를 사용해야 함.\n",
        "\n"
      ]
    },
    {
      "cell_type": "code",
      "execution_count": null,
      "metadata": {
        "id": "cLbEgoiCuZNS"
      },
      "outputs": [],
      "source": [
        "b = 1.0"
      ]
    },
    {
      "cell_type": "code",
      "execution_count": null,
      "metadata": {
        "colab": {
          "base_uri": "https://localhost:8080/"
        },
        "id": "BFh1MgKlvNIi",
        "outputId": "1e7fca7d-a562-469b-e321-bde134e56458"
      },
      "outputs": [
        {
          "data": {
            "text/plain": [
              "float"
            ]
          },
          "execution_count": 19,
          "metadata": {},
          "output_type": "execute_result"
        }
      ],
      "source": [
        "type(b)"
      ]
    },
    {
      "cell_type": "code",
      "execution_count": null,
      "metadata": {
        "colab": {
          "base_uri": "https://localhost:8080/"
        },
        "id": "KWDZYl4VvORo",
        "outputId": "7351b60e-96bd-41aa-f22b-0d02ada54a47"
      },
      "outputs": [
        {
          "data": {
            "text/plain": [
              "sys.float_info(max=1.7976931348623157e+308, max_exp=1024, max_10_exp=308, min=2.2250738585072014e-308, min_exp=-1021, min_10_exp=-307, dig=15, mant_dig=53, epsilon=2.220446049250313e-16, radix=2, rounds=1)"
            ]
          },
          "execution_count": 20,
          "metadata": {},
          "output_type": "execute_result"
        }
      ],
      "source": [
        "sys.float_info"
      ]
    },
    {
      "cell_type": "code",
      "execution_count": null,
      "metadata": {
        "colab": {
          "base_uri": "https://localhost:8080/"
        },
        "id": "BFH2MKNsvXdG",
        "outputId": "a23ee3dc-d72e-441b-89c4-21fac97b6897"
      },
      "outputs": [
        {
          "data": {
            "text/plain": [
              "inf"
            ]
          },
          "execution_count": 21,
          "metadata": {},
          "output_type": "execute_result"
        }
      ],
      "source": [
        "1.7976931348623157e+309 # 무한대"
      ]
    },
    {
      "cell_type": "code",
      "execution_count": null,
      "metadata": {
        "id": "0b2OQ4sjvVeC"
      },
      "outputs": [],
      "source": [
        "a = 1.7976931348623157e+308 + 1"
      ]
    },
    {
      "cell_type": "code",
      "execution_count": null,
      "metadata": {
        "colab": {
          "base_uri": "https://localhost:8080/"
        },
        "id": "IoMzeFlkv2Up",
        "outputId": "9f7cd3cd-a099-454b-b455-ab2225edf9e7"
      },
      "outputs": [
        {
          "data": {
            "text/plain": [
              "1.7976931348623157e+308"
            ]
          },
          "execution_count": 23,
          "metadata": {},
          "output_type": "execute_result"
        }
      ],
      "source": [
        "a"
      ]
    },
    {
      "cell_type": "code",
      "execution_count": null,
      "metadata": {
        "colab": {
          "base_uri": "https://localhost:8080/"
        },
        "id": "PjAFXAmLv36w",
        "outputId": "f62a7440-334c-4eb5-edb4-9a192a106ec4"
      },
      "outputs": [
        {
          "data": {
            "text/plain": [
              "True"
            ]
          },
          "execution_count": 24,
          "metadata": {},
          "output_type": "execute_result"
        }
      ],
      "source": [
        "a == a + 1"
      ]
    },
    {
      "cell_type": "markdown",
      "metadata": {
        "id": "gtVpKhTTyhk_"
      },
      "source": [
        "### 2. Float(부동소수점)"
      ]
    },
    {
      "cell_type": "markdown",
      "metadata": {
        "id": "CAh0xUP9wCM6"
      },
      "source": [
        "파이썬에서는 부동소수점을 근사적으로 계산한다. **대충 계산하기 때문에 빠르다.**\n",
        "정확한 값을 계산하지 않기 때문에 주의해야 한다.\n",
        "\n",
        "그렇게 때문에 numpy 라이브러리를 이용해 연산을 진행한다."
      ]
    },
    {
      "cell_type": "code",
      "execution_count": null,
      "metadata": {
        "colab": {
          "base_uri": "https://localhost:8080/"
        },
        "id": "HJ_YRJWDv9a1",
        "outputId": "c6dd7ed8-14f9-4fd3-c70a-edcedd17db41"
      },
      "outputs": [
        {
          "data": {
            "text/plain": [
              "1000"
            ]
          },
          "execution_count": 38,
          "metadata": {},
          "output_type": "execute_result"
        }
      ],
      "source": [
        "a = 1000\n",
        "a"
      ]
    },
    {
      "cell_type": "code",
      "execution_count": null,
      "metadata": {
        "colab": {
          "base_uri": "https://localhost:8080/"
        },
        "id": "3tnO6WMZwL6K",
        "outputId": "531cd048-d9b8-4992-8dee-b98c02720acf"
      },
      "outputs": [
        {
          "data": {
            "text/plain": [
              "1000.0"
            ]
          },
          "execution_count": 39,
          "metadata": {},
          "output_type": "execute_result"
        }
      ],
      "source": [
        "b = 1e3\n",
        "b"
      ]
    },
    {
      "cell_type": "code",
      "execution_count": null,
      "metadata": {
        "colab": {
          "base_uri": "https://localhost:8080/"
        },
        "id": "4YMiGYq51Jv6",
        "outputId": "745e51ce-5c56-45b9-83c9-3e5ef3a18ada"
      },
      "outputs": [
        {
          "data": {
            "text/plain": [
              "True"
            ]
          },
          "execution_count": 40,
          "metadata": {},
          "output_type": "execute_result"
        }
      ],
      "source": [
        "a == b"
      ]
    },
    {
      "cell_type": "code",
      "execution_count": null,
      "metadata": {
        "colab": {
          "base_uri": "https://localhost:8080/"
        },
        "id": "lzlu2rpuwQsz",
        "outputId": "e6799b64-0228-4800-bc64-2ffc7ff2c2cf"
      },
      "outputs": [
        {
          "data": {
            "text/plain": [
              "0.30000000000000004"
            ]
          },
          "execution_count": 28,
          "metadata": {},
          "output_type": "execute_result"
        }
      ],
      "source": [
        "0.1 + 0.1 + 0.1"
      ]
    },
    {
      "cell_type": "code",
      "execution_count": null,
      "metadata": {
        "colab": {
          "base_uri": "https://localhost:8080/"
        },
        "id": "ACc1xXbKwXi3",
        "outputId": "a6e44605-9cbe-49b2-b01d-e1d07587b66e"
      },
      "outputs": [
        {
          "data": {
            "text/plain": [
              "nan"
            ]
          },
          "execution_count": 29,
          "metadata": {},
          "output_type": "execute_result"
        }
      ],
      "source": [
        "float('nan')"
      ]
    },
    {
      "cell_type": "markdown",
      "metadata": {
        "id": "Tst94G4yyNJ1"
      },
      "source": [
        "### 3. Complex(복소수)"
      ]
    },
    {
      "cell_type": "code",
      "execution_count": null,
      "metadata": {
        "colab": {
          "base_uri": "https://localhost:8080/"
        },
        "id": "VEPFNYhswpWi",
        "outputId": "47701452-b8d9-4656-f0db-d55ad41dd919"
      },
      "outputs": [
        {
          "data": {
            "text/plain": [
              "complex"
            ]
          },
          "execution_count": 31,
          "metadata": {},
          "output_type": "execute_result"
        }
      ],
      "source": [
        "a = 3 + 4j\n",
        "type(a)"
      ]
    },
    {
      "cell_type": "markdown",
      "metadata": {
        "id": "akIP8RXuyH-H"
      },
      "source": [
        "### 4. Bool(불린)\n",
        "\n",
        "대부분의 상황에서 각기 0과 1처럼 동작함. 명확성을 주기 위해서 True와 False를 키워드로 둠."
      ]
    },
    {
      "cell_type": "code",
      "execution_count": null,
      "metadata": {
        "colab": {
          "base_uri": "https://localhost:8080/"
        },
        "id": "Mlex_Ws8xllY",
        "outputId": "8e3c3798-83c1-4290-9962-3cfaa5ea4077"
      },
      "outputs": [
        {
          "data": {
            "text/plain": [
              "2"
            ]
          },
          "execution_count": 34,
          "metadata": {},
          "output_type": "execute_result"
        }
      ],
      "source": [
        "a = True + True\n",
        "a"
      ]
    },
    {
      "cell_type": "code",
      "execution_count": null,
      "metadata": {
        "colab": {
          "base_uri": "https://localhost:8080/"
        },
        "id": "m14YL6Kcx0P1",
        "outputId": "f2890902-5523-47a2-c638-f0aedf0bedf1"
      },
      "outputs": [
        {
          "data": {
            "text/plain": [
              "True"
            ]
          },
          "execution_count": 35,
          "metadata": {},
          "output_type": "execute_result"
        }
      ],
      "source": [
        "True == 1"
      ]
    },
    {
      "cell_type": "code",
      "execution_count": null,
      "metadata": {
        "colab": {
          "base_uri": "https://localhost:8080/",
          "height": 36
        },
        "id": "XMwnhKoYx2Ux",
        "outputId": "7ad054ab-3184-4b37-8750-26cd9642892e"
      },
      "outputs": [
        {
          "data": {
            "application/vnd.google.colaboratory.intrinsic+json": {
              "type": "string"
            },
            "text/plain": [
              "'True'"
            ]
          },
          "execution_count": 36,
          "metadata": {},
          "output_type": "execute_result"
        }
      ],
      "source": [
        "True.__str__()"
      ]
    },
    {
      "cell_type": "code",
      "execution_count": null,
      "metadata": {
        "colab": {
          "base_uri": "https://localhost:8080/"
        },
        "id": "FsYlDqOVx7cp",
        "outputId": "8ca68e21-db83-45b7-ff19-b3f15c24953e"
      },
      "outputs": [
        {
          "data": {
            "text/plain": [
              "True"
            ]
          },
          "execution_count": 37,
          "metadata": {},
          "output_type": "execute_result"
        }
      ],
      "source": [
        "False == 0"
      ]
    },
    {
      "cell_type": "markdown",
      "metadata": {
        "id": "4YHvrrahyWE4"
      },
      "source": [
        "## Container"
      ]
    },
    {
      "cell_type": "code",
      "execution_count": null,
      "metadata": {
        "id": "tgj1wHNIyVuN"
      },
      "outputs": [],
      "source": [
        "class A:\n",
        "  def x(this):\n",
        "    print('a')"
      ]
    },
    {
      "cell_type": "code",
      "execution_count": null,
      "metadata": {
        "id": "0iHx204yyEpd"
      },
      "outputs": [],
      "source": [
        " a = 1000 # 숫자는 원자성(atomic)을 가지기에 더 이상 쪼갤 수 없다"
      ]
    },
    {
      "cell_type": "code",
      "execution_count": null,
      "metadata": {
        "colab": {
          "base_uri": "https://localhost:8080/"
        },
        "id": "yC0cFPiC6bE5",
        "outputId": "83f3afaa-9407-4982-f9aa-e2a7abe78b77"
      },
      "outputs": [
        {
          "data": {
            "text/plain": [
              "100000"
            ]
          },
          "execution_count": 44,
          "metadata": {},
          "output_type": "execute_result"
        }
      ],
      "source": [
        "100_000 # 수 안에 있는 언더바는 자릿수 가독성을 위해 사용."
      ]
    },
    {
      "cell_type": "markdown",
      "metadata": {
        "id": "FyNhD-pw7nc7"
      },
      "source": [
        "Atomic의 반대는 Container, 쪼갤 수 있는 것들을 말함. 문자도 Container.\n",
        "- **Homogeneous(같은 데이터 타입)** & Heterogeneous(다른 데이터 타입)\n",
        "- **Sequence(순서가 있는)** & Non-sequence - 인덱싱과 슬라이싱이 가능\n",
        "- Mutable & **Immutable**\n",
        "\n",
        "**효율적인 자료구조**와 **객체지향 프로그래밍**에 대한 간단하고 효과적인 접근법을 제공하는 파이썬.\n",
        "\n",
        "1. 유니코드로 제공하는 str: 다양한 문자를 표기할 수 있지만 해석이 필요함.\n",
        "2. 변환이 필요없는 byte: 여러 개의 문자열을 표기할 때는 bytearray."
      ]
    },
    {
      "cell_type": "code",
      "execution_count": null,
      "metadata": {
        "id": "MwddeoFZ7XhQ"
      },
      "outputs": [],
      "source": [
        "a = '홍길동'"
      ]
    },
    {
      "cell_type": "code",
      "execution_count": null,
      "metadata": {
        "colab": {
          "base_uri": "https://localhost:8080/",
          "height": 36
        },
        "id": "gQo58U6j8x_J",
        "outputId": "97e0219e-5578-4538-e24b-673009513276"
      },
      "outputs": [
        {
          "data": {
            "application/vnd.google.colaboratory.intrinsic+json": {
              "type": "string"
            },
            "text/plain": [
              "'홍'"
            ]
          },
          "execution_count": 51,
          "metadata": {},
          "output_type": "execute_result"
        }
      ],
      "source": [
        "a[0]"
      ]
    },
    {
      "cell_type": "code",
      "execution_count": null,
      "metadata": {
        "colab": {
          "base_uri": "https://localhost:8080/"
        },
        "id": "s8kdsbbI9n1j",
        "outputId": "5271fa5b-e3af-4d62-fec5-093c020c0c8d"
      },
      "outputs": [
        {
          "data": {
            "text/plain": [
              "str"
            ]
          },
          "execution_count": 52,
          "metadata": {},
          "output_type": "execute_result"
        }
      ],
      "source": [
        "type(a)"
      ]
    },
    {
      "cell_type": "code",
      "execution_count": null,
      "metadata": {
        "colab": {
          "base_uri": "https://localhost:8080/",
          "height": 108
        },
        "id": "CmJr3VQr9p-1",
        "outputId": "c0bfb2e2-4768-40ea-ee94-e945b6e0d436"
      },
      "outputs": [
        {
          "ename": "SyntaxError",
          "evalue": "bytes can only contain ASCII literal characters (<ipython-input-53-f027fed7c512>, line 1)",
          "output_type": "error",
          "traceback": [
            "\u001b[0;36m  File \u001b[0;32m\"<ipython-input-53-f027fed7c512>\"\u001b[0;36m, line \u001b[0;32m1\u001b[0m\n\u001b[0;31m    b = b'홍길동'\u001b[0m\n\u001b[0m        ^\u001b[0m\n\u001b[0;31mSyntaxError\u001b[0m\u001b[0;31m:\u001b[0m bytes can only contain ASCII literal characters\n"
          ]
        }
      ],
      "source": [
        "b = b'홍길동'"
      ]
    },
    {
      "cell_type": "code",
      "execution_count": null,
      "metadata": {
        "colab": {
          "base_uri": "https://localhost:8080/"
        },
        "id": "ACZSfk-79-6u",
        "outputId": "f8d32d1f-4957-45b9-acb0-83efc7e53ae2"
      },
      "outputs": [
        {
          "data": {
            "text/plain": [
              "bytearray(b'abc')"
            ]
          },
          "execution_count": 55,
          "metadata": {},
          "output_type": "execute_result"
        }
      ],
      "source": [
        "c = bytearray(b'abc')\n",
        "c"
      ]
    },
    {
      "cell_type": "code",
      "execution_count": null,
      "metadata": {
        "colab": {
          "base_uri": "https://localhost:8080/"
        },
        "id": "9coxLfHh8KLI",
        "outputId": "960d51fc-0104-489e-bb03-7793078d33ef"
      },
      "outputs": [
        {
          "data": {
            "text/plain": [
              "range(1, 10)"
            ]
          },
          "execution_count": 49,
          "metadata": {},
          "output_type": "execute_result"
        }
      ],
      "source": [
        "range(1, 10)"
      ]
    },
    {
      "cell_type": "code",
      "execution_count": null,
      "metadata": {
        "colab": {
          "base_uri": "https://localhost:8080/"
        },
        "id": "-t2n7e50-Qfj",
        "outputId": "cfc1221e-764e-4a7d-98c5-3ecab2be1b2a"
      },
      "outputs": [
        {
          "data": {
            "text/plain": [
              "2.1"
            ]
          },
          "execution_count": 56,
          "metadata": {},
          "output_type": "execute_result"
        }
      ],
      "source": [
        "1 + 1.1"
      ]
    },
    {
      "cell_type": "code",
      "execution_count": null,
      "metadata": {
        "colab": {
          "base_uri": "https://localhost:8080/",
          "height": 144
        },
        "id": "kn_tajPY-SkI",
        "outputId": "06db819b-4c62-4dfa-b560-2b315a08fee5"
      },
      "outputs": [
        {
          "ename": "TypeError",
          "evalue": "unsupported operand type(s) for +: 'int' and 'str'",
          "output_type": "error",
          "traceback": [
            "\u001b[0;31m---------------------------------------------------------------------------\u001b[0m",
            "\u001b[0;31mTypeError\u001b[0m                                 Traceback (most recent call last)",
            "\u001b[0;32m<ipython-input-57-4371add2a52b>\u001b[0m in \u001b[0;36m<cell line: 0>\u001b[0;34m()\u001b[0m\n\u001b[0;32m----> 1\u001b[0;31m \u001b[0;36m1\u001b[0m \u001b[0;34m+\u001b[0m \u001b[0;34m'홍길동'\u001b[0m\u001b[0;34m\u001b[0m\u001b[0;34m\u001b[0m\u001b[0m\n\u001b[0m",
            "\u001b[0;31mTypeError\u001b[0m: unsupported operand type(s) for +: 'int' and 'str'"
          ]
        }
      ],
      "source": [
        "1 + '홍길동'"
      ]
    },
    {
      "cell_type": "markdown",
      "metadata": {
        "id": "3M0Rfa6g-foT"
      },
      "source": [
        "같은 타입끼리만 연산이 되는 것이 첫 번째 규칙.\n",
        "\n",
        "많이 사용하는 연산의 경우, 파이썬에서 자체적으로 coersion(묵시적 형변환)이 되는 경우가 있음. 예) int + float = float"
      ]
    },
    {
      "cell_type": "code",
      "execution_count": null,
      "metadata": {
        "colab": {
          "base_uri": "https://localhost:8080/"
        },
        "id": "eXPwbFz68Mxb",
        "outputId": "61851c0d-8beb-452e-f628-56acb904f038"
      },
      "outputs": [
        {
          "data": {
            "text/plain": [
              "array([1., 2., 3.])"
            ]
          },
          "execution_count": 48,
          "metadata": {},
          "output_type": "execute_result"
        }
      ],
      "source": [
        "import numpy as np\n",
        "\n",
        "a = np.array([1,2,3.])\n",
        "a"
      ]
    },
    {
      "cell_type": "code",
      "execution_count": null,
      "metadata": {
        "colab": {
          "base_uri": "https://localhost:8080/"
        },
        "id": "KCduG7Or8R29",
        "outputId": "75f4e3ee-b096-40cb-c2d6-4c977a0dd15f"
      },
      "outputs": [
        {
          "data": {
            "text/plain": [
              "<tf.Tensor: shape=(3,), dtype=float32, numpy=array([2., 3., 4.], dtype=float32)>"
            ]
          },
          "execution_count": 47,
          "metadata": {},
          "output_type": "execute_result"
        }
      ],
      "source": [
        "import tensorflow as tf\n",
        "\n",
        "b = tf.constant([2, 3, 4.])\n",
        "b"
      ]
    },
    {
      "cell_type": "markdown",
      "metadata": {
        "id": "hRDD_9H9_BUg"
      },
      "source": [
        "Sequence 데이터 타입에서 곱하기는 반복을 의미한다."
      ]
    },
    {
      "cell_type": "code",
      "execution_count": null,
      "metadata": {
        "colab": {
          "base_uri": "https://localhost:8080/",
          "height": 36
        },
        "id": "h2Hfd8iZ8dLD",
        "outputId": "20a8d2df-f178-4b85-c969-94fc827e92ca"
      },
      "outputs": [
        {
          "data": {
            "application/vnd.google.colaboratory.intrinsic+json": {
              "type": "string"
            },
            "text/plain": [
              "'abcdabcdabcd'"
            ]
          },
          "execution_count": 58,
          "metadata": {},
          "output_type": "execute_result"
        }
      ],
      "source": [
        "'abcd' * 3"
      ]
    },
    {
      "cell_type": "code",
      "execution_count": null,
      "metadata": {
        "colab": {
          "base_uri": "https://localhost:8080/"
        },
        "id": "qwkVHoXz-dby",
        "outputId": "791fa442-1701-4716-9f10-f65deb45d48a"
      },
      "outputs": [
        {
          "data": {
            "text/plain": [
              "[1, 2, 3, 1, 2, 3, 1, 2, 3]"
            ]
          },
          "execution_count": 59,
          "metadata": {},
          "output_type": "execute_result"
        }
      ],
      "source": [
        "[1, 2, 3] * 3"
      ]
    },
    {
      "cell_type": "markdown",
      "metadata": {
        "id": "JP-sswrP_LiP"
      },
      "source": [
        "Datatype = 클래스 -> 객체지향이 가능하도록\n",
        "\n"
      ]
    },
    {
      "cell_type": "code",
      "execution_count": null,
      "metadata": {
        "colab": {
          "base_uri": "https://localhost:8080/"
        },
        "id": "rap8ZTUm_AfJ",
        "outputId": "ebc688d8-538e-4c25-eaeb-a9e9a59b5555"
      },
      "outputs": [
        {
          "data": {
            "text/plain": [
              "[1, 2, '3']"
            ]
          },
          "execution_count": 61,
          "metadata": {},
          "output_type": "execute_result"
        }
      ],
      "source": [
        "a = [1, 2, '3'] # list : Heterogeneous Sequencial Mutable Data Type\n",
        "a"
      ]
    },
    {
      "cell_type": "code",
      "execution_count": null,
      "metadata": {
        "colab": {
          "base_uri": "https://localhost:8080/"
        },
        "id": "MLfwt0JCAGJ1",
        "outputId": "38963d41-7be2-465d-fa18-81a5a0483685"
      },
      "outputs": [
        {
          "data": {
            "text/plain": [
              "(1, 2, 3)"
            ]
          },
          "execution_count": 62,
          "metadata": {},
          "output_type": "execute_result"
        }
      ],
      "source": [
        "1,2,3 # Tuple : Heterogeneous Sequencial Mutable Data Type\n"
      ]
    },
    {
      "cell_type": "markdown",
      "metadata": {
        "id": "tIHvIvpqA7A3"
      },
      "source": [
        "리터럴(Literal): 단축 표현, 특수기호의 여부에 따라 간단하게 사용할 수 있음. 아래 표현은 동일하지만, 위와 같이 축약해 표현한다.\n",
        "\n",
        "고급 프로그래밍일수록 리터럴의 사용을 꺼린다. 보다 복잡한 것을 추구하기 때문에."
      ]
    },
    {
      "cell_type": "code",
      "execution_count": null,
      "metadata": {
        "id": "8EvOimLMAhpE"
      },
      "outputs": [],
      "source": [
        "a = 1\n",
        "a = int(1)"
      ]
    },
    {
      "cell_type": "markdown",
      "metadata": {
        "id": "w0GrSQwbB9MO"
      },
      "source": [
        "다음은 연산자 우선순위로 인해 연산 이후 튜플이 생성된다."
      ]
    },
    {
      "cell_type": "code",
      "execution_count": null,
      "metadata": {
        "colab": {
          "base_uri": "https://localhost:8080/"
        },
        "id": "fV-SI06TB6dv",
        "outputId": "ed057bd0-9258-44e6-c4fd-7a8a41660f22"
      },
      "outputs": [
        {
          "data": {
            "text/plain": [
              "(1, 2, 9)"
            ]
          },
          "execution_count": 63,
          "metadata": {},
          "output_type": "execute_result"
        }
      ],
      "source": [
        "1,2,3 * 3"
      ]
    },
    {
      "cell_type": "code",
      "execution_count": null,
      "metadata": {
        "colab": {
          "base_uri": "https://localhost:8080/"
        },
        "id": "Wi4LqwBtB8Hy",
        "outputId": "10cb9ffe-f552-4528-ae7a-fdacce5e81e4"
      },
      "outputs": [
        {
          "name": "stdout",
          "output_type": "stream",
          "text": [
            "1\n",
            "2\n",
            "3\n",
            "4\n"
          ]
        }
      ],
      "source": [
        "for i in 1,2,3,4:\n",
        "  print(i)"
      ]
    },
    {
      "cell_type": "markdown",
      "metadata": {
        "id": "8sC2i1T3CkVl"
      },
      "source": [
        "### 대입문\n",
        "동시에 할당하려고 할 때 mutable이 다음과 같이 적용됨."
      ]
    },
    {
      "cell_type": "code",
      "execution_count": null,
      "metadata": {
        "colab": {
          "base_uri": "https://localhost:8080/"
        },
        "id": "QM2H3bFXCF1D",
        "outputId": "704ea8af-fa96-4b91-8585-b321136f101b"
      },
      "outputs": [
        {
          "data": {
            "text/plain": [
              "[1, 2, 3]"
            ]
          },
          "execution_count": 68,
          "metadata": {},
          "output_type": "execute_result"
        }
      ],
      "source": [
        "a = b = [1, 2, 3]\n",
        "a"
      ]
    },
    {
      "cell_type": "code",
      "execution_count": null,
      "metadata": {
        "id": "KkW4dlJhCrQE"
      },
      "outputs": [],
      "source": [
        "b.append(4)"
      ]
    },
    {
      "cell_type": "code",
      "execution_count": null,
      "metadata": {
        "colab": {
          "base_uri": "https://localhost:8080/"
        },
        "id": "1-yqU06oCt98",
        "outputId": "49b85d11-9bf9-4b29-a88a-458d4535bb78"
      },
      "outputs": [
        {
          "data": {
            "text/plain": [
              "[1, 2, 3, 4]"
            ]
          },
          "execution_count": 70,
          "metadata": {},
          "output_type": "execute_result"
        }
      ],
      "source": [
        "a"
      ]
    },
    {
      "cell_type": "code",
      "execution_count": null,
      "metadata": {
        "colab": {
          "base_uri": "https://localhost:8080/"
        },
        "id": "rLuXBAEpC2yG",
        "outputId": "830f3e58-1591-471c-c8e0-6b993b5c123e"
      },
      "outputs": [
        {
          "data": {
            "text/plain": [
              "[1, 2, 3]"
            ]
          },
          "execution_count": 71,
          "metadata": {},
          "output_type": "execute_result"
        }
      ],
      "source": [
        "a = [1,2,3]\n",
        "b = [1,2,3]\n",
        "b.append(4)\n",
        "a"
      ]
    },
    {
      "cell_type": "code",
      "execution_count": null,
      "metadata": {
        "id": "ioYdtifWDCTs"
      },
      "outputs": [],
      "source": [
        "a, b = 1, 2 # 튜플로 바뀜, unpacking, 개수가 일치해야 함."
      ]
    },
    {
      "cell_type": "code",
      "execution_count": null,
      "metadata": {
        "id": "yNksxvWYDG7S"
      },
      "outputs": [],
      "source": [
        "a,b,c = (1,2,3) # unpacking"
      ]
    },
    {
      "cell_type": "code",
      "execution_count": null,
      "metadata": {
        "colab": {
          "base_uri": "https://localhost:8080/",
          "height": 144
        },
        "id": "KLrkD7tmDTOD",
        "outputId": "e638a791-67b0-403a-ceb8-59abaa09b52a"
      },
      "outputs": [
        {
          "ename": "NameError",
          "evalue": "name 'ddd' is not defined",
          "output_type": "error",
          "traceback": [
            "\u001b[0;31m---------------------------------------------------------------------------\u001b[0m",
            "\u001b[0;31mNameError\u001b[0m                                 Traceback (most recent call last)",
            "\u001b[0;32m<ipython-input-78-fb145a0fef0c>\u001b[0m in \u001b[0;36m<cell line: 0>\u001b[0;34m()\u001b[0m\n\u001b[0;32m----> 1\u001b[0;31m \u001b[0mddd\u001b[0m\u001b[0;34m\u001b[0m\u001b[0;34m\u001b[0m\u001b[0m\n\u001b[0m",
            "\u001b[0;31mNameError\u001b[0m: name 'ddd' is not defined"
          ]
        }
      ],
      "source": [
        "ddd # NameError 이름이 없음"
      ]
    },
    {
      "cell_type": "code",
      "execution_count": null,
      "metadata": {
        "id": "OEDwD39SFVJF"
      },
      "outputs": [],
      "source": [
        " ="
      ]
    },
    {
      "cell_type": "code",
      "execution_count": null,
      "metadata": {
        "colab": {
          "base_uri": "https://localhost:8080/",
          "height": 144
        },
        "id": "pWVhZWGvDYjE",
        "outputId": "f02f7a5a-c4bc-44ca-ab7f-23e511ac4967"
      },
      "outputs": [
        {
          "ename": "ValueError",
          "evalue": "too many values to unpack (expected 3)",
          "output_type": "error",
          "traceback": [
            "\u001b[0;31m---------------------------------------------------------------------------\u001b[0m",
            "\u001b[0;31mValueError\u001b[0m                                Traceback (most recent call last)",
            "\u001b[0;32m<ipython-input-80-baed3f0ebc6a>\u001b[0m in \u001b[0;36m<cell line: 0>\u001b[0;34m()\u001b[0m\n\u001b[0;32m----> 1\u001b[0;31m \u001b[0ma\u001b[0m\u001b[0;34m,\u001b[0m\u001b[0mb\u001b[0m\u001b[0;34m,\u001b[0m\u001b[0mc\u001b[0m \u001b[0;34m=\u001b[0m \u001b[0;34m(\u001b[0m\u001b[0;36m1\u001b[0m\u001b[0;34m,\u001b[0m\u001b[0;36m2\u001b[0m\u001b[0;34m,\u001b[0m\u001b[0;36m3\u001b[0m\u001b[0;34m,\u001b[0m\u001b[0;36m4\u001b[0m\u001b[0;34m)\u001b[0m \u001b[0;31m# unpacking ValueError, 개수가 맞지 않음.\u001b[0m\u001b[0;34m\u001b[0m\u001b[0;34m\u001b[0m\u001b[0m\n\u001b[0m",
            "\u001b[0;31mValueError\u001b[0m: too many values to unpack (expected 3)"
          ]
        }
      ],
      "source": [
        "a,b,c = (1,2,3,4) # unpacking ValueError, 개수가 맞지 않음."
      ]
    },
    {
      "cell_type": "code",
      "execution_count": null,
      "metadata": {
        "colab": {
          "base_uri": "https://localhost:8080/"
        },
        "id": "vHtDqQyNDgjJ",
        "outputId": "ac24b212-673a-4211-c6ba-be3e3326eda1"
      },
      "outputs": [
        {
          "data": {
            "text/plain": [
              "[3, 4]"
            ]
          },
          "execution_count": 82,
          "metadata": {},
          "output_type": "execute_result"
        }
      ],
      "source": [
        "a, b, *c = 1,2,3,4\n",
        "c"
      ]
    },
    {
      "cell_type": "markdown",
      "metadata": {
        "id": "FwwgCZ1gFDxl"
      },
      "source": [
        "### Dictionary\n",
        "\n",
        "Mapping - key : value\n",
        "\n",
        "파이썬3부터는 순서에 따라 사전이 출력됨."
      ]
    },
    {
      "cell_type": "code",
      "execution_count": null,
      "metadata": {
        "colab": {
          "base_uri": "https://localhost:8080/"
        },
        "id": "pINSymB_D7X6",
        "outputId": "aec7291d-1933-455b-b1f6-adcb711afe3c"
      },
      "outputs": [
        {
          "data": {
            "text/plain": [
              "{'a': 1, 'b': 3}"
            ]
          },
          "execution_count": 83,
          "metadata": {},
          "output_type": "execute_result"
        }
      ],
      "source": [
        "a = {'a': 1, 'b': 3}\n",
        "a"
      ]
    },
    {
      "cell_type": "code",
      "execution_count": null,
      "metadata": {
        "colab": {
          "base_uri": "https://localhost:8080/"
        },
        "id": "Kyq3rnbpFbuB",
        "outputId": "f33a45a3-79ec-451b-85fb-677c203edcf1"
      },
      "outputs": [
        {
          "data": {
            "text/plain": [
              "{'b': 1, 'a': 3}"
            ]
          },
          "execution_count": 84,
          "metadata": {},
          "output_type": "execute_result"
        }
      ],
      "source": [
        "a = {'b': 1, 'a': 3}\n",
        "a"
      ]
    },
    {
      "cell_type": "code",
      "execution_count": null,
      "metadata": {
        "id": "LfoJSsDaFoND"
      },
      "outputs": [],
      "source": [
        "a = 1\n",
        "a = 2 # 재할당이 항상 가능하기 때문에 상수가 없음."
      ]
    },
    {
      "cell_type": "code",
      "execution_count": null,
      "metadata": {
        "colab": {
          "base_uri": "https://localhost:8080/"
        },
        "id": "KmraCiwmFgyU",
        "outputId": "05889c21-1c90-49fc-dd6b-7effcb33198f"
      },
      "outputs": [
        {
          "data": {
            "text/plain": [
              "{'b': 7, 'a': 3}"
            ]
          },
          "execution_count": 86,
          "metadata": {},
          "output_type": "execute_result"
        }
      ],
      "source": [
        "a = {'b': 1, 'a': 3, 'b': 7} # key 중심으로 재할당됨.\n",
        "a"
      ]
    },
    {
      "cell_type": "code",
      "execution_count": null,
      "metadata": {
        "colab": {
          "base_uri": "https://localhost:8080/"
        },
        "id": "KkTEe7cBF3Cl",
        "outputId": "3180d36a-b269-41ec-818b-07ccd8e7b283"
      },
      "outputs": [
        {
          "data": {
            "text/plain": [
              "dict_keys(['b', 'a'])"
            ]
          },
          "execution_count": 89,
          "metadata": {},
          "output_type": "execute_result"
        }
      ],
      "source": [
        "a.keys() # 뷰의 중요성"
      ]
    },
    {
      "cell_type": "code",
      "execution_count": null,
      "metadata": {
        "colab": {
          "base_uri": "https://localhost:8080/"
        },
        "id": "DKQGw52ZGNpD",
        "outputId": "08a8639c-2fef-4450-83cc-6efdf3ac0f96"
      },
      "outputs": [
        {
          "data": {
            "text/plain": [
              "dict_values([7, 3])"
            ]
          },
          "execution_count": 90,
          "metadata": {},
          "output_type": "execute_result"
        }
      ],
      "source": [
        "a.values()"
      ]
    },
    {
      "cell_type": "code",
      "execution_count": null,
      "metadata": {
        "colab": {
          "base_uri": "https://localhost:8080/"
        },
        "id": "OQV5minSGPcN",
        "outputId": "6d2cf67f-fb62-4ef9-f821-f74156c01e32"
      },
      "outputs": [
        {
          "data": {
            "text/plain": [
              "{'b': 1, 'a': '3'}"
            ]
          },
          "execution_count": 93,
          "metadata": {},
          "output_type": "execute_result"
        }
      ],
      "source": [
        "a = {'b': 1, 'a': '3'} # value는 mutable\n",
        "a"
      ]
    },
    {
      "cell_type": "code",
      "execution_count": null,
      "metadata": {
        "colab": {
          "base_uri": "https://localhost:8080/",
          "height": 162
        },
        "id": "jKfXZ8vDGg3b",
        "outputId": "26dc9067-cf0f-4b8e-98ca-8861566fc530"
      },
      "outputs": [
        {
          "ename": "TypeError",
          "evalue": "unhashable type: 'list'",
          "output_type": "error",
          "traceback": [
            "\u001b[0;31m---------------------------------------------------------------------------\u001b[0m",
            "\u001b[0;31mTypeError\u001b[0m                                 Traceback (most recent call last)",
            "\u001b[0;32m<ipython-input-94-28d0ef59b16c>\u001b[0m in \u001b[0;36m<cell line: 0>\u001b[0;34m()\u001b[0m\n\u001b[0;32m----> 1\u001b[0;31m \u001b[0ma\u001b[0m \u001b[0;34m=\u001b[0m \u001b[0;34m{\u001b[0m\u001b[0;34m[\u001b[0m\u001b[0;36m1\u001b[0m\u001b[0;34m,\u001b[0m\u001b[0;36m2\u001b[0m\u001b[0;34m]\u001b[0m\u001b[0;34m:\u001b[0m \u001b[0;36m1\u001b[0m\u001b[0;34m,\u001b[0m \u001b[0;34m'a'\u001b[0m\u001b[0;34m:\u001b[0m \u001b[0;34m'3'\u001b[0m\u001b[0;34m}\u001b[0m \u001b[0;31m# key에는 mutable이 불가하다. 1:1 매핑만 가능.\u001b[0m\u001b[0;34m\u001b[0m\u001b[0;34m\u001b[0m\u001b[0m\n\u001b[0m\u001b[1;32m      2\u001b[0m \u001b[0ma\u001b[0m\u001b[0;34m\u001b[0m\u001b[0;34m\u001b[0m\u001b[0m\n",
            "\u001b[0;31mTypeError\u001b[0m: unhashable type: 'list'"
          ]
        }
      ],
      "source": [
        "a = {[1,2]: 1, 'a': '3'} # key에는 mutable이 불가하다. 1:1 매핑만 가능.\n",
        "a"
      ]
    },
    {
      "cell_type": "code",
      "execution_count": null,
      "metadata": {
        "id": "6hD4z7oYGpRC"
      },
      "outputs": [],
      "source": [
        "a = {2, 3, 4} # set, 중복도 없고 순서도 없음."
      ]
    },
    {
      "cell_type": "code",
      "execution_count": null,
      "metadata": {
        "colab": {
          "base_uri": "https://localhost:8080/",
          "height": 144
        },
        "id": "1_nszdDnG73O",
        "outputId": "99d09c18-c502-4bb6-fb4a-9ca255f84423"
      },
      "outputs": [
        {
          "ename": "TypeError",
          "evalue": "unhashable type: 'list'",
          "output_type": "error",
          "traceback": [
            "\u001b[0;31m---------------------------------------------------------------------------\u001b[0m",
            "\u001b[0;31mTypeError\u001b[0m                                 Traceback (most recent call last)",
            "\u001b[0;32m<ipython-input-97-41e99757b28b>\u001b[0m in \u001b[0;36m<cell line: 0>\u001b[0;34m()\u001b[0m\n\u001b[0;32m----> 1\u001b[0;31m \u001b[0ma\u001b[0m \u001b[0;34m=\u001b[0m \u001b[0;34m{\u001b[0m\u001b[0;36m2\u001b[0m\u001b[0;34m,\u001b[0m \u001b[0;36m3\u001b[0m\u001b[0;34m,\u001b[0m \u001b[0;34m[\u001b[0m\u001b[0;36m4\u001b[0m\u001b[0;34m,\u001b[0m \u001b[0;36m3\u001b[0m\u001b[0;34m,\u001b[0m \u001b[0;36m4\u001b[0m\u001b[0;34m]\u001b[0m\u001b[0;34m}\u001b[0m \u001b[0;31m# 타입은 나의 고유한 값으로 같아야 함. unhashable.\u001b[0m\u001b[0;34m\u001b[0m\u001b[0;34m\u001b[0m\u001b[0m\n\u001b[0m",
            "\u001b[0;31mTypeError\u001b[0m: unhashable type: 'list'"
          ]
        }
      ],
      "source": [
        "a = {2, 3, [4, 3, 4]} # 타입은 나의 고유한 값으로 같아야 함. unhashable."
      ]
    },
    {
      "cell_type": "markdown",
      "metadata": {
        "id": "5aX_RuMUHWaM"
      },
      "source": [
        "## 비교연산자"
      ]
    },
    {
      "cell_type": "code",
      "execution_count": null,
      "metadata": {
        "colab": {
          "base_uri": "https://localhost:8080/"
        },
        "id": "fhnhyUGZHAB7",
        "outputId": "d83178f0-4364-442c-fb90-c45742702648"
      },
      "outputs": [
        {
          "data": {
            "text/plain": [
              "False"
            ]
          },
          "execution_count": 98,
          "metadata": {},
          "output_type": "execute_result"
        }
      ],
      "source": [
        "a = 1\n",
        "b = 2\n",
        "a > b"
      ]
    },
    {
      "cell_type": "code",
      "execution_count": null,
      "metadata": {
        "colab": {
          "base_uri": "https://localhost:8080/"
        },
        "id": "lvatIQphHcc2",
        "outputId": "7871169b-daba-4a96-e96c-d4ca670841f7"
      },
      "outputs": [
        {
          "data": {
            "text/plain": [
              "False"
            ]
          },
          "execution_count": 99,
          "metadata": {},
          "output_type": "execute_result"
        }
      ],
      "source": [
        "a = 1,2,3\n",
        "b = 2,3\n",
        "a > b # container는 가장 앞 인텍스의 값끼리 비교함, 같으면 그 이후로 넘어감."
      ]
    },
    {
      "cell_type": "code",
      "execution_count": null,
      "metadata": {
        "colab": {
          "base_uri": "https://localhost:8080/"
        },
        "id": "1ev2M8vUHf6g",
        "outputId": "809633ba-9fce-46a8-ccf1-58dd44fda894"
      },
      "outputs": [
        {
          "data": {
            "text/plain": [
              "True"
            ]
          },
          "execution_count": 100,
          "metadata": {},
          "output_type": "execute_result"
        }
      ],
      "source": [
        "'a' > 'A' # 97 > 65"
      ]
    },
    {
      "cell_type": "code",
      "execution_count": null,
      "metadata": {
        "colab": {
          "base_uri": "https://localhost:8080/"
        },
        "id": "Vo2TRhx1HxoP",
        "outputId": "9437cdcd-e4af-4874-cb3b-dffc3c3a847c"
      },
      "outputs": [
        {
          "data": {
            "text/plain": [
              "True"
            ]
          },
          "execution_count": 101,
          "metadata": {},
          "output_type": "execute_result"
        }
      ],
      "source": [
        "'a' > 'Aa'"
      ]
    },
    {
      "cell_type": "markdown",
      "metadata": {
        "id": "NQQqJu3PNpt9"
      },
      "source": [
        "### Condition(조건)"
      ]
    },
    {
      "cell_type": "code",
      "execution_count": null,
      "metadata": {
        "colab": {
          "base_uri": "https://localhost:8080/"
        },
        "id": "M8WTlxMmH1mt",
        "outputId": "bd8074e5-b82f-4502-96bf-4ea5b6989a4c"
      },
      "outputs": [
        {
          "name": "stdout",
          "output_type": "stream",
          "text": [
            "a\n"
          ]
        }
      ],
      "source": [
        "if 3: # true/false 개념이 없음, '존재론적인 관점'에서 따진다.\n",
        "  print('a')\n",
        "else:\n",
        "  print('b')"
      ]
    },
    {
      "cell_type": "code",
      "execution_count": null,
      "metadata": {
        "colab": {
          "base_uri": "https://localhost:8080/"
        },
        "id": "tTtlBqmAIDJn",
        "outputId": "fdbcd7ca-4d1d-4515-cce2-abd706748e33"
      },
      "outputs": [
        {
          "data": {
            "text/plain": [
              "0"
            ]
          },
          "execution_count": 103,
          "metadata": {},
          "output_type": "execute_result"
        }
      ],
      "source": [
        "int() # false, 이외에는 모두 true."
      ]
    },
    {
      "cell_type": "code",
      "execution_count": null,
      "metadata": {
        "colab": {
          "base_uri": "https://localhost:8080/"
        },
        "id": "5RzPSrSNIgN4",
        "outputId": "00684aff-1d4c-4a2e-fb6a-4784c5ef9279"
      },
      "outputs": [
        {
          "data": {
            "text/plain": [
              "0.0"
            ]
          },
          "execution_count": 105,
          "metadata": {},
          "output_type": "execute_result"
        }
      ],
      "source": [
        "float()"
      ]
    },
    {
      "cell_type": "code",
      "execution_count": null,
      "metadata": {
        "colab": {
          "base_uri": "https://localhost:8080/",
          "height": 36
        },
        "id": "cQsZ_TRqIlVH",
        "outputId": "fc514b8b-a26c-4a36-b618-ed2da8f226d6"
      },
      "outputs": [
        {
          "data": {
            "application/vnd.google.colaboratory.intrinsic+json": {
              "type": "string"
            },
            "text/plain": [
              "''"
            ]
          },
          "execution_count": 106,
          "metadata": {},
          "output_type": "execute_result"
        }
      ],
      "source": [
        "str()"
      ]
    },
    {
      "cell_type": "code",
      "execution_count": null,
      "metadata": {
        "colab": {
          "base_uri": "https://localhost:8080/"
        },
        "id": "2UZehZTvInFA",
        "outputId": "3f385826-3add-4d75-f834-a042580f9471"
      },
      "outputs": [
        {
          "data": {
            "text/plain": [
              "[]"
            ]
          },
          "execution_count": 107,
          "metadata": {},
          "output_type": "execute_result"
        }
      ],
      "source": [
        "list()"
      ]
    },
    {
      "cell_type": "code",
      "execution_count": null,
      "metadata": {
        "colab": {
          "base_uri": "https://localhost:8080/"
        },
        "id": "vqt4hTurK-VO",
        "outputId": "9511553c-0e24-41f7-a8e3-59aa4d0baa29"
      },
      "outputs": [
        {
          "data": {
            "text/plain": [
              "{}"
            ]
          },
          "execution_count": 111,
          "metadata": {},
          "output_type": "execute_result"
        }
      ],
      "source": [
        "{} # dictionary, literal"
      ]
    },
    {
      "cell_type": "code",
      "execution_count": null,
      "metadata": {
        "colab": {
          "base_uri": "https://localhost:8080/"
        },
        "id": "vYrnexVdN5Bx",
        "outputId": "1c63fe35-1133-47ac-e967-c941afbe277a"
      },
      "outputs": [
        {
          "data": {
            "text/plain": [
              "set()"
            ]
          },
          "execution_count": 112,
          "metadata": {},
          "output_type": "execute_result"
        }
      ],
      "source": [
        "set() # 객체지향 방식으로 공집합 만들기"
      ]
    },
    {
      "cell_type": "markdown",
      "metadata": {
        "id": "KFhTEpcgOZrR"
      },
      "source": [
        "### 복합문(:)\n",
        "8개"
      ]
    },
    {
      "cell_type": "code",
      "execution_count": null,
      "metadata": {
        "colab": {
          "base_uri": "https://localhost:8080/"
        },
        "id": "TgWSgajdO1d-",
        "outputId": "a9123019-a496-4f8d-86a4-1f125fc8d436"
      },
      "outputs": [
        {
          "name": "stdout",
          "output_type": "stream",
          "text": [
            "a\n"
          ]
        }
      ],
      "source": [
        "if a:\n",
        "  print('a')\n",
        "else:\n",
        "  print('b')"
      ]
    },
    {
      "cell_type": "code",
      "execution_count": null,
      "metadata": {
        "id": "WEqZtpLYOBV-"
      },
      "outputs": [],
      "source": [
        "b = 3 if a else 5 # 삼항연산자, 조건식"
      ]
    },
    {
      "cell_type": "code",
      "execution_count": null,
      "metadata": {
        "colab": {
          "base_uri": "https://localhost:8080/"
        },
        "id": "ilq7iHPwOmjn",
        "outputId": "6de11268-fde9-4a3d-b053-1af457e16222"
      },
      "outputs": [
        {
          "data": {
            "text/plain": [
              "3"
            ]
          },
          "execution_count": 127,
          "metadata": {},
          "output_type": "execute_result"
        }
      ],
      "source": [
        "b"
      ]
    },
    {
      "cell_type": "markdown",
      "metadata": {
        "id": "W_gJirrXPNXM"
      },
      "source": [
        "### EAFP\n",
        "- 허락보다 용서를 구하기가 쉽다(Easier to ask for forgiveness than permission)\n",
        "- 저지르고 에러를 수정해라. 예외저리를 진향할 것. 대비되는 뜻은 LBYL.\n",
        "\n",
        "1. 강제로 예외를 발생.\n",
        "2. 예외가 발생해도 계속 실행."
      ]
    },
    {
      "cell_type": "code",
      "execution_count": null,
      "metadata": {
        "id": "mekEGgTnP15b"
      },
      "outputs": [],
      "source": [
        "a = 3"
      ]
    },
    {
      "cell_type": "code",
      "execution_count": null,
      "metadata": {
        "id": "pqGjddqIPjt0"
      },
      "outputs": [],
      "source": [
        "assert a==3 # 값 디버깅, 문제가 생겼을 때만 error 발생. 주석까지 출력 가능, 참거짓 판별."
      ]
    },
    {
      "cell_type": "code",
      "execution_count": null,
      "metadata": {
        "colab": {
          "base_uri": "https://localhost:8080/",
          "height": 144
        },
        "id": "kUR7vAWcP3eG",
        "outputId": "f998491c-7c8b-46ac-9ae2-acda31e76a0d"
      },
      "outputs": [
        {
          "ename": "AssertionError",
          "evalue": "이번 생은 망했다.",
          "output_type": "error",
          "traceback": [
            "\u001b[0;31m---------------------------------------------------------------------------\u001b[0m",
            "\u001b[0;31mAssertionError\u001b[0m                            Traceback (most recent call last)",
            "\u001b[0;32m<ipython-input-136-878ae03081ac>\u001b[0m in \u001b[0;36m<cell line: 0>\u001b[0;34m()\u001b[0m\n\u001b[0;32m----> 1\u001b[0;31m \u001b[0;32massert\u001b[0m \u001b[0ma\u001b[0m\u001b[0;34m==\u001b[0m\u001b[0;36m4\u001b[0m\u001b[0;34m,\u001b[0m \u001b[0;34m'이번 생은 망했다.'\u001b[0m\u001b[0;34m\u001b[0m\u001b[0;34m\u001b[0m\u001b[0m\n\u001b[0m",
            "\u001b[0;31mAssertionError\u001b[0m: 이번 생은 망했다."
          ]
        }
      ],
      "source": [
        "assert a==4, '이번 생은 망했다.'"
      ]
    },
    {
      "cell_type": "code",
      "execution_count": null,
      "metadata": {
        "colab": {
          "base_uri": "https://localhost:8080/"
        },
        "id": "p9MoRIJqP4cI",
        "outputId": "41831146-096a-4545-b373-a19179f51809"
      },
      "outputs": [
        {
          "name": "stdout",
          "output_type": "stream",
          "text": [
            "The \"assert\" statement\n",
            "**********************\n",
            "\n",
            "Assert statements are a convenient way to insert debugging assertions\n",
            "into a program:\n",
            "\n",
            "   assert_stmt ::= \"assert\" expression [\",\" expression]\n",
            "\n",
            "The simple form, \"assert expression\", is equivalent to\n",
            "\n",
            "   if __debug__:\n",
            "       if not expression: raise AssertionError\n",
            "\n",
            "The extended form, \"assert expression1, expression2\", is equivalent to\n",
            "\n",
            "   if __debug__:\n",
            "       if not expression1: raise AssertionError(expression2)\n",
            "\n",
            "These equivalences assume that \"__debug__\" and \"AssertionError\" refer\n",
            "to the built-in variables with those names.  In the current\n",
            "implementation, the built-in variable \"__debug__\" is \"True\" under\n",
            "normal circumstances, \"False\" when optimization is requested (command\n",
            "line option \"-O\").  The current code generator emits no code for an\n",
            "assert statement when optimization is requested at compile time.  Note\n",
            "that it is unnecessary to include the source code for the expression\n",
            "that failed in the error message; it will be displayed as part of the\n",
            "stack trace.\n",
            "\n",
            "Assignments to \"__debug__\" are illegal.  The value for the built-in\n",
            "variable is determined when the interpreter starts.\n",
            "\n"
          ]
        }
      ],
      "source": [
        "help('assert')"
      ]
    },
    {
      "cell_type": "code",
      "execution_count": null,
      "metadata": {
        "colab": {
          "base_uri": "https://localhost:8080/"
        },
        "id": "2Pq5Pyp_QHIj",
        "outputId": "16008f04-de1a-41ca-d7f1-9a8fa470b29c"
      },
      "outputs": [
        {
          "name": "stdout",
          "output_type": "stream",
          "text": [
            "The \"raise\" statement\n",
            "*********************\n",
            "\n",
            "   raise_stmt ::= \"raise\" [expression [\"from\" expression]]\n",
            "\n",
            "If no expressions are present, \"raise\" re-raises the exception that is\n",
            "currently being handled, which is also known as the *active\n",
            "exception*. If there isn’t currently an active exception, a\n",
            "\"RuntimeError\" exception is raised indicating that this is an error.\n",
            "\n",
            "Otherwise, \"raise\" evaluates the first expression as the exception\n",
            "object.  It must be either a subclass or an instance of\n",
            "\"BaseException\". If it is a class, the exception instance will be\n",
            "obtained when needed by instantiating the class with no arguments.\n",
            "\n",
            "The *type* of the exception is the exception instance’s class, the\n",
            "*value* is the instance itself.\n",
            "\n",
            "A traceback object is normally created automatically when an exception\n",
            "is raised and attached to it as the \"__traceback__\" attribute. You can\n",
            "create an exception and set your own traceback in one step using the\n",
            "\"with_traceback()\" exception method (which returns the same exception\n",
            "instance, with its traceback set to its argument), like so:\n",
            "\n",
            "   raise Exception(\"foo occurred\").with_traceback(tracebackobj)\n",
            "\n",
            "The \"from\" clause is used for exception chaining: if given, the second\n",
            "*expression* must be another exception class or instance. If the\n",
            "second expression is an exception instance, it will be attached to the\n",
            "raised exception as the \"__cause__\" attribute (which is writable). If\n",
            "the expression is an exception class, the class will be instantiated\n",
            "and the resulting exception instance will be attached to the raised\n",
            "exception as the \"__cause__\" attribute. If the raised exception is not\n",
            "handled, both exceptions will be printed:\n",
            "\n",
            "   >>> try:\n",
            "   ...     print(1 / 0)\n",
            "   ... except Exception as exc:\n",
            "   ...     raise RuntimeError(\"Something bad happened\") from exc\n",
            "   ...\n",
            "   Traceback (most recent call last):\n",
            "     File \"<stdin>\", line 2, in <module>\n",
            "       print(1 / 0)\n",
            "             ~~^~~\n",
            "   ZeroDivisionError: division by zero\n",
            "\n",
            "   The above exception was the direct cause of the following exception:\n",
            "\n",
            "   Traceback (most recent call last):\n",
            "     File \"<stdin>\", line 4, in <module>\n",
            "       raise RuntimeError(\"Something bad happened\") from exc\n",
            "   RuntimeError: Something bad happened\n",
            "\n",
            "A similar mechanism works implicitly if a new exception is raised when\n",
            "an exception is already being handled.  An exception may be handled\n",
            "when an \"except\" or \"finally\" clause, or a \"with\" statement, is used.\n",
            "The previous exception is then attached as the new exception’s\n",
            "\"__context__\" attribute:\n",
            "\n",
            "   >>> try:\n",
            "   ...     print(1 / 0)\n",
            "   ... except:\n",
            "   ...     raise RuntimeError(\"Something bad happened\")\n",
            "   ...\n",
            "   Traceback (most recent call last):\n",
            "     File \"<stdin>\", line 2, in <module>\n",
            "       print(1 / 0)\n",
            "             ~~^~~\n",
            "   ZeroDivisionError: division by zero\n",
            "\n",
            "   During handling of the above exception, another exception occurred:\n",
            "\n",
            "   Traceback (most recent call last):\n",
            "     File \"<stdin>\", line 4, in <module>\n",
            "       raise RuntimeError(\"Something bad happened\")\n",
            "   RuntimeError: Something bad happened\n",
            "\n",
            "Exception chaining can be explicitly suppressed by specifying \"None\"\n",
            "in the \"from\" clause:\n",
            "\n",
            "   >>> try:\n",
            "   ...     print(1 / 0)\n",
            "   ... except:\n",
            "   ...     raise RuntimeError(\"Something bad happened\") from None\n",
            "   ...\n",
            "   Traceback (most recent call last):\n",
            "     File \"<stdin>\", line 4, in <module>\n",
            "   RuntimeError: Something bad happened\n",
            "\n",
            "Additional information on exceptions can be found in section\n",
            "Exceptions, and information about handling exceptions is in section\n",
            "The try statement.\n",
            "\n",
            "Changed in version 3.3: \"None\" is now permitted as \"Y\" in \"raise X\n",
            "from Y\".Added the \"__suppress_context__\" attribute to suppress\n",
            "automatic display of the exception context.\n",
            "\n",
            "Changed in version 3.11: If the traceback of the active exception is\n",
            "modified in an \"except\" clause, a subsequent \"raise\" statement re-\n",
            "raises the exception with the modified traceback. Previously, the\n",
            "exception was re-raised with the traceback it had when it was caught.\n",
            "\n",
            "Related help topics: EXCEPTIONS\n",
            "\n"
          ]
        }
      ],
      "source": [
        "help('raise')"
      ]
    },
    {
      "cell_type": "code",
      "execution_count": null,
      "metadata": {
        "colab": {
          "base_uri": "https://localhost:8080/",
          "height": 144
        },
        "id": "p-UVJ1_7QW5H",
        "outputId": "dab68c90-5591-46b3-b6d6-8dc23488f4ff"
      },
      "outputs": [
        {
          "ename": "Exception",
          "evalue": "",
          "output_type": "error",
          "traceback": [
            "\u001b[0;31m---------------------------------------------------------------------------\u001b[0m",
            "\u001b[0;31mException\u001b[0m                                 Traceback (most recent call last)",
            "\u001b[0;32m<ipython-input-138-93b7cf606c4c>\u001b[0m in \u001b[0;36m<cell line: 0>\u001b[0;34m()\u001b[0m\n\u001b[0;32m----> 1\u001b[0;31m \u001b[0;32mraise\u001b[0m\u001b[0;34m(\u001b[0m\u001b[0mException\u001b[0m\u001b[0;34m)\u001b[0m \u001b[0;31m# 강제로 에러를 발생\u001b[0m\u001b[0;34m\u001b[0m\u001b[0;34m\u001b[0m\u001b[0m\n\u001b[0m",
            "\u001b[0;31mException\u001b[0m: "
          ]
        }
      ],
      "source": [
        "raise(Exception) # 강제로 에러를 발생, 중간중간 실행을 중단시킴."
      ]
    },
    {
      "cell_type": "code",
      "execution_count": null,
      "metadata": {
        "colab": {
          "base_uri": "https://localhost:8080/"
        },
        "id": "wa090rK7QdZm",
        "outputId": "beb8ec7b-8f3b-451f-bc40-c7e8fd3509e1"
      },
      "outputs": [
        {
          "name": "stdout",
          "output_type": "stream",
          "text": [
            "1\n",
            "2\n",
            "3\n",
            "asdf\n"
          ]
        }
      ],
      "source": [
        "for i in 1,2,3:\n",
        "  print(i)\n",
        "else: # for가 break가 없으면 반복이 끝나고 else가 실행됨. 반복이 완벽하게 돌아감.\n",
        "  print('asdf')"
      ]
    },
    {
      "cell_type": "code",
      "execution_count": null,
      "metadata": {
        "colab": {
          "base_uri": "https://localhost:8080/"
        },
        "id": "bJHjFXguRCNd",
        "outputId": "6b0c0848-831e-448b-d51a-75c918070523"
      },
      "outputs": [
        {
          "name": "stdout",
          "output_type": "stream",
          "text": [
            "1\n",
            "2\n",
            "3\n"
          ]
        }
      ],
      "source": [
        "for i in 1,2,3:\n",
        "  print(i)\n",
        "  if i==3:\n",
        "    break\n",
        "else: # for가 break가 없으면 반복이 끝나고 else가 실행됨.\n",
        "  print('asdf')"
      ]
    }
  ],
  "metadata": {
    "colab": {
      "provenance": []
    },
    "kernelspec": {
      "display_name": "Python 3",
      "name": "python3"
    },
    "language_info": {
      "name": "python"
    }
  },
  "nbformat": 4,
  "nbformat_minor": 0
}
