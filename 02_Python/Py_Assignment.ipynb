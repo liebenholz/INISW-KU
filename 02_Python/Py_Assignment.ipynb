{
  "nbformat": 4,
  "nbformat_minor": 0,
  "metadata": {
    "colab": {
      "provenance": []
    },
    "kernelspec": {
      "name": "python3",
      "display_name": "Python 3"
    },
    "language_info": {
      "name": "python"
    }
  },
  "cells": [
    {
      "cell_type": "markdown",
      "source": [
        "# The Python Tutorial\n",
        "\n",
        "[파이썬 3.9 공식 문서 내 자습서](https://docs.python.org/3.9/tutorial/index.html)를 기반으로 자습(모든 코드를 직접 실행) 후, **이해가 되지 않는 부분만 별도로 정리**해서 제출.\n",
        "\n",
        "\n",
        "- 배우기 쉬우면서도 강력한 프로그래밍 언어, 우아한 문법과 **동적 타이핑(typing)**을 지원하는 인터프리터 언어.\n",
        "\n",
        "- **효율적인 자료 구조**와 **객체 지향 프로그래밍**에 대한 간단하고도 효과적인 접근법을 제공.\n",
        "\n",
        "- 대부분 플랫폼과 다양한 문제 영역에서 스크립트 작성과 빠른 응용 프로그램 개발에 이상적인 환경을 제공."
      ],
      "metadata": {
        "id": "QziOYHza2byL"
      }
    },
    {
      "cell_type": "markdown",
      "source": [
        "# 4. 기타 제어 흐름 도구"
      ],
      "metadata": {
        "id": "lh9i7IRD98b0"
      }
    },
    {
      "cell_type": "markdown",
      "source": [
        "## 4.7 함수 정의 더 보기"
      ],
      "metadata": {
        "id": "2zYJOz4-N_eV"
      }
    },
    {
      "cell_type": "markdown",
      "source": [
        "### [4.7.8 함수 어노테이션(Function Annotations)](https://docs.python.org/ko/3.9/tutorial/controlflow.html#function-annotations)\n",
        "함수의 매개변수와 반환 값의 타입을 적어주는 방식으로, 함수 내 `__annotation__` attribute에 dict 형태로 저장된다.\n",
        "\n",
        "이렇게 하는 이유는 **입력 및 출력되는 자료형의 타입을 제한함**으로서 함수가 **특정 자료형만을 위한 기능을 제공**하는 데 보다 도움이 되기 때문인 것 같다. 대부분의 프로그래밍 언어에서는 이렇게 함수를 정의할 때 파라미터와 반환값의 자료형을 명시적으로 지정해줘야 하는데, **파이썬은 이게 선택이다.**\n",
        "\n",
        "[**PEP-484**](https://peps.python.org/pep-0484/)에 따르면, 타입 힌트 방식은 코드 가독성과 유지 관리성을 향상하고 타입 관련 오류를 조기에 감지할 수 있는 등 이점이 있어 이를 권장한다고 한다. 그럼에도 불구하고 파이썬에서는 이것이 선택으로 유지되는 이유가 궁금하다."
      ],
      "metadata": {
        "id": "M1Xu80Fkpscn"
      }
    },
    {
      "cell_type": "code",
      "source": [
        "def f(ham: str, eggs: str = 'eggs') -> str:\n",
        "  print(\"Annotations:\", f.__annotations__)\n",
        "  print(\"Arguments:\", ham, eggs)\n",
        "  return ham + ' and ' + eggs\n",
        "\n",
        "f('spam')"
      ],
      "metadata": {
        "colab": {
          "base_uri": "https://localhost:8080/",
          "height": 70
        },
        "id": "w5m4upxYUjP-",
        "outputId": "5cd9238e-93f9-4487-9589-548b16dfc696"
      },
      "execution_count": 1,
      "outputs": [
        {
          "output_type": "stream",
          "name": "stdout",
          "text": [
            "Annotations: {'ham': <class 'str'>, 'eggs': <class 'str'>, 'return': <class 'str'>}\n",
            "Arguments: spam eggs\n"
          ]
        },
        {
          "output_type": "execute_result",
          "data": {
            "text/plain": [
              "'spam and eggs'"
            ],
            "application/vnd.google.colaboratory.intrinsic+json": {
              "type": "string"
            }
          },
          "metadata": {},
          "execution_count": 1
        }
      ]
    },
    {
      "cell_type": "code",
      "source": [
        "dir(f)"
      ],
      "metadata": {
        "colab": {
          "base_uri": "https://localhost:8080/"
        },
        "collapsed": true,
        "id": "RtHWbd5D1UIS",
        "outputId": "4a48cf65-48f9-4c0f-fa1e-20b81cb7eff8"
      },
      "execution_count": 2,
      "outputs": [
        {
          "output_type": "execute_result",
          "data": {
            "text/plain": [
              "['__annotations__',\n",
              " '__builtins__',\n",
              " '__call__',\n",
              " '__class__',\n",
              " '__closure__',\n",
              " '__code__',\n",
              " '__defaults__',\n",
              " '__delattr__',\n",
              " '__dict__',\n",
              " '__dir__',\n",
              " '__doc__',\n",
              " '__eq__',\n",
              " '__format__',\n",
              " '__ge__',\n",
              " '__get__',\n",
              " '__getattribute__',\n",
              " '__getstate__',\n",
              " '__globals__',\n",
              " '__gt__',\n",
              " '__hash__',\n",
              " '__init__',\n",
              " '__init_subclass__',\n",
              " '__kwdefaults__',\n",
              " '__le__',\n",
              " '__lt__',\n",
              " '__module__',\n",
              " '__name__',\n",
              " '__ne__',\n",
              " '__new__',\n",
              " '__qualname__',\n",
              " '__reduce__',\n",
              " '__reduce_ex__',\n",
              " '__repr__',\n",
              " '__setattr__',\n",
              " '__sizeof__',\n",
              " '__str__',\n",
              " '__subclasshook__']"
            ]
          },
          "metadata": {},
          "execution_count": 2
        }
      ]
    },
    {
      "cell_type": "code",
      "source": [
        "f('Tom', 'Jerry')"
      ],
      "metadata": {
        "colab": {
          "base_uri": "https://localhost:8080/",
          "height": 70
        },
        "id": "vsShJg0T2AOl",
        "outputId": "6f838c86-ce1a-4aee-e00b-f09d8bce62c7"
      },
      "execution_count": 3,
      "outputs": [
        {
          "output_type": "stream",
          "name": "stdout",
          "text": [
            "Annotations: {'ham': <class 'str'>, 'eggs': <class 'str'>, 'return': <class 'str'>}\n",
            "Arguments: Tom Jerry\n"
          ]
        },
        {
          "output_type": "execute_result",
          "data": {
            "text/plain": [
              "'Tom and Jerry'"
            ],
            "application/vnd.google.colaboratory.intrinsic+json": {
              "type": "string"
            }
          },
          "metadata": {},
          "execution_count": 3
        }
      ]
    },
    {
      "cell_type": "code",
      "source": [
        "f(1,2) # TypeError"
      ],
      "metadata": {
        "colab": {
          "base_uri": "https://localhost:8080/",
          "height": 297
        },
        "collapsed": true,
        "id": "p0eQOcU-277G",
        "outputId": "d006efba-3a75-4e1a-dfce-fcfc685c983f"
      },
      "execution_count": 4,
      "outputs": [
        {
          "output_type": "stream",
          "name": "stdout",
          "text": [
            "Annotations: {'ham': <class 'str'>, 'eggs': <class 'str'>, 'return': <class 'str'>}\n",
            "Arguments: 1 2\n"
          ]
        },
        {
          "output_type": "error",
          "ename": "TypeError",
          "evalue": "unsupported operand type(s) for +: 'int' and 'str'",
          "traceback": [
            "\u001b[0;31m---------------------------------------------------------------------------\u001b[0m",
            "\u001b[0;31mTypeError\u001b[0m                                 Traceback (most recent call last)",
            "\u001b[0;32m<ipython-input-4-bb0160252503>\u001b[0m in \u001b[0;36m<cell line: 0>\u001b[0;34m()\u001b[0m\n\u001b[0;32m----> 1\u001b[0;31m \u001b[0mf\u001b[0m\u001b[0;34m(\u001b[0m\u001b[0;36m1\u001b[0m\u001b[0;34m,\u001b[0m\u001b[0;36m2\u001b[0m\u001b[0;34m)\u001b[0m \u001b[0;31m# TypeError\u001b[0m\u001b[0;34m\u001b[0m\u001b[0;34m\u001b[0m\u001b[0m\n\u001b[0m",
            "\u001b[0;32m<ipython-input-1-e95c15509a73>\u001b[0m in \u001b[0;36mf\u001b[0;34m(ham, eggs)\u001b[0m\n\u001b[1;32m      2\u001b[0m   \u001b[0mprint\u001b[0m\u001b[0;34m(\u001b[0m\u001b[0;34m\"Annotations:\"\u001b[0m\u001b[0;34m,\u001b[0m \u001b[0mf\u001b[0m\u001b[0;34m.\u001b[0m\u001b[0m__annotations__\u001b[0m\u001b[0;34m)\u001b[0m\u001b[0;34m\u001b[0m\u001b[0;34m\u001b[0m\u001b[0m\n\u001b[1;32m      3\u001b[0m   \u001b[0mprint\u001b[0m\u001b[0;34m(\u001b[0m\u001b[0;34m\"Arguments:\"\u001b[0m\u001b[0;34m,\u001b[0m \u001b[0mham\u001b[0m\u001b[0;34m,\u001b[0m \u001b[0meggs\u001b[0m\u001b[0;34m)\u001b[0m\u001b[0;34m\u001b[0m\u001b[0;34m\u001b[0m\u001b[0m\n\u001b[0;32m----> 4\u001b[0;31m   \u001b[0;32mreturn\u001b[0m \u001b[0mham\u001b[0m \u001b[0;34m+\u001b[0m \u001b[0;34m' and '\u001b[0m \u001b[0;34m+\u001b[0m \u001b[0meggs\u001b[0m\u001b[0;34m\u001b[0m\u001b[0;34m\u001b[0m\u001b[0m\n\u001b[0m\u001b[1;32m      5\u001b[0m \u001b[0;34m\u001b[0m\u001b[0m\n\u001b[1;32m      6\u001b[0m \u001b[0mf\u001b[0m\u001b[0;34m(\u001b[0m\u001b[0;34m'spam'\u001b[0m\u001b[0;34m)\u001b[0m\u001b[0;34m\u001b[0m\u001b[0;34m\u001b[0m\u001b[0m\n",
            "\u001b[0;31mTypeError\u001b[0m: unsupported operand type(s) for +: 'int' and 'str'"
          ]
        }
      ]
    },
    {
      "cell_type": "code",
      "source": [
        "def sum(a, b):\n",
        "   # print(sum.__annotations__)\n",
        "   return a + b\n",
        "\n",
        "sum(28, 42)"
      ],
      "metadata": {
        "colab": {
          "base_uri": "https://localhost:8080/"
        },
        "id": "Xheh02aP0X5q",
        "outputId": "abc1946e-228a-4a7c-ba55-56184a1dd576"
      },
      "execution_count": 5,
      "outputs": [
        {
          "output_type": "execute_result",
          "data": {
            "text/plain": [
              "70"
            ]
          },
          "metadata": {},
          "execution_count": 5
        }
      ]
    },
    {
      "cell_type": "code",
      "source": [
        "sum('Tom', 'Danny')"
      ],
      "metadata": {
        "colab": {
          "base_uri": "https://localhost:8080/",
          "height": 35
        },
        "id": "kjW-CJQ07gS9",
        "outputId": "28681234-23c1-4b8c-e35c-06e4e07ad351"
      },
      "execution_count": 6,
      "outputs": [
        {
          "output_type": "execute_result",
          "data": {
            "text/plain": [
              "'TomDanny'"
            ],
            "application/vnd.google.colaboratory.intrinsic+json": {
              "type": "string"
            }
          },
          "metadata": {},
          "execution_count": 6
        }
      ]
    },
    {
      "cell_type": "markdown",
      "source": [
        "# 9. 클래스"
      ],
      "metadata": {
        "id": "iZsb-7ioNEMx"
      }
    },
    {
      "cell_type": "markdown",
      "source": [
        "## [9.2 파이썬 스코프와 이름 공간(Python Scopes and Namespaces)](https://docs.python.org/ko/3.9/tutorial/classes.html#python-scopes-and-namespaces)"
      ],
      "metadata": {
        "id": "8QJHi01GpjRh"
      }
    },
    {
      "cell_type": "markdown",
      "source": [
        "LEGB에 따라 Local -> Enclosed -> Global -> Build-in 순으로 값을 찾는다. 여기까지는 이해함.\n",
        "\n",
        "**nonlocal**이 문젠데... 나열된 식별자들이 **전역을 제외하고 가장 가까이서 둘러싸는 스코프**에서 이미 연결된 변수를 가리키도록 만든다는 설명이다.\n",
        "\n",
        "그렇다면 아래와 같이 함수 내에 nonlocal로 값이 설정되면 global보다 우선순위가 높은 local과 enclosed function locals는 접근하지 못하는 건가?\n",
        "\n",
        "값을 재할당 해줘야하는건가?"
      ],
      "metadata": {
        "id": "CM8_c6a1phW0"
      }
    },
    {
      "cell_type": "code",
      "source": [
        "def scope_test():\n",
        "    def do_local():\n",
        "        spam = \"local spam\"\n",
        "\n",
        "    def do_nonlocal():\n",
        "        nonlocal spam\n",
        "        spam = \"nonlocal spam\"\n",
        "\n",
        "    def do_global():\n",
        "        global spam\n",
        "        spam = \"global spam\"\n",
        "\n",
        "    # do_local 기준으로 enclosed 영역에 선언된 스팸\n",
        "    spam = \"test spam\"\n",
        "\n",
        "    # local이 선언된 곳은 함수 내부\n",
        "    # 함수 외부에서는 영향을 미치지 않음\n",
        "    do_local()\n",
        "\n",
        "    # 따라서, 함수 내부가 아닌 enclodsed 영역에 선언한 'test spam'이 출력됨\n",
        "    print(\"After local assignment:\", spam)\n",
        "\n",
        "    # nonlocal은 global을 제외한 가장 큰 공간에 선언되어있는\n",
        "    # 값을 가리키도록 설정함\n",
        "    do_nonlocal()\n",
        "\n",
        "    # do_nonlocal() 이후 local보다 nonlocal에 먼저 접근함\n",
        "    # 따라서, 'nonlocal spam'이 출력됨\n",
        "    print(\"After nonlocal assignment:\", spam)\n",
        "\n",
        "    # --- 여기서 elclosed 영역에 선언된 'test spam'을 출력하는 방법? ---\n",
        "    # spam = \"test spam\"\n",
        "    # print(\"After reassigning:\", spam)\n",
        "    # --- 이렇게 재할당하는 방법밖에 없는 건가? ---\n",
        "\n",
        "    # global 영역에서 사용하는 spam의 값을 선언했으므로\n",
        "    # 이 함수 외에서도 사용가능한 spam의 값은 'global spam'이 된다\n",
        "    do_global()\n",
        "\n",
        "    # 하지만, global 외에도 가장 큰 공간에 선언되어있는\n",
        "    # 이 함수 내부에 nonlocal이 할당되어 있으므로 출력은 'nonlocal spam'이 된다.\n",
        "    print(\"After global assignment:\", spam)\n",
        "\n",
        "\n",
        "# 함수 내부에서 global 영역에서 사용하는 spam의 값을 선언이 된 상태\n",
        "# local, nonlocal spam은 접근 불가하지만, global spam은 외부에서 함수 외부, 전역에서 접근 가능\n",
        "scope_test()\n",
        "\n",
        "# global 영역에서 사용하는 spam의 값을 선언했으므로 함수 밖에서도 접근 가능\n",
        "# 따라서, 출력은 'global spam'\n",
        "print(\"In global scope:\", spam)"
      ],
      "metadata": {
        "colab": {
          "base_uri": "https://localhost:8080/"
        },
        "id": "5uWSuCOSf2aK",
        "outputId": "11a00418-4887-41a9-c1f2-efda598ec1b1"
      },
      "execution_count": 7,
      "outputs": [
        {
          "output_type": "stream",
          "name": "stdout",
          "text": [
            "After local assignment: test spam\n",
            "After nonlocal assignment: nonlocal spam\n",
            "After global assignment: nonlocal spam\n",
            "In global scope: global spam\n"
          ]
        }
      ]
    },
    {
      "cell_type": "markdown",
      "source": [
        "## [9.6 비공개 변수(Private Variables)](https://docs.python.org/ko/3.9/tutorial/classes.html#private-variables)\n",
        "\n",
        "Private 인스턴스들은 이름 앞에 `_`를 붙이나보다. 해당 부분 한국어 번역본이 난해해 원문을 가져왔다.\n",
        "\n",
        " > a name prefixed with an underscore (e.g. `_spam`) should be treated as a non-public part of the API (whether it is a function, a method or a data member). **It should be considered an implementation detail and subject to change without notice.**\n",
        "\n",
        " 이 통보 없이 구현된다는 건 아래와 같이 private 인스턴스 변수를 클래스 내부에 선언하면 자동적으로 `_ClassName`이 붙고, 그 다음에 `__methodName'이 붙는 걸 의미하는 것 같음."
      ],
      "metadata": {
        "id": "XIxDbX5mpXwa"
      }
    },
    {
      "cell_type": "code",
      "source": [
        "class Mapping:\n",
        "    def __init__(self, iterable):\n",
        "        self.items_list = []\n",
        "        self.__update(iterable)\n",
        "\n",
        "    def update(self, iterable):\n",
        "        for item in iterable:\n",
        "            self.items_list.append(item)\n",
        "\n",
        "    __update = update   # private copy of original update() method\n",
        "\n",
        "class MappingSubclass(Mapping):\n",
        "\n",
        "    def update(self, keys, values):\n",
        "        # provides new signature for update()\n",
        "        # but does not break __init__()\n",
        "        for item in zip(keys, values):\n",
        "          self.items_list.append(item)\n",
        "\n",
        "    __update = update   # 원문엔 없는데 추가함"
      ],
      "metadata": {
        "id": "-Jfdfb9YpTsA"
      },
      "execution_count": 8,
      "outputs": []
    },
    {
      "cell_type": "markdown",
      "source": [
        "Mapping 클래스 내부에 `update()` 메소드에 대한 private 복사본으로 `__update`를 선언해주었다.\n",
        "\n",
        "그리고 `__dict__`를 통해 `_Mapping__update`가 존재함을 확인했다."
      ],
      "metadata": {
        "id": "VSa21_jNADD1"
      }
    },
    {
      "cell_type": "code",
      "source": [
        "Mapping.__dict__"
      ],
      "metadata": {
        "colab": {
          "base_uri": "https://localhost:8080/"
        },
        "id": "AbUEH1JctlA9",
        "outputId": "22c0eb62-bec1-404b-8869-1cc85675d2f0"
      },
      "execution_count": 9,
      "outputs": [
        {
          "output_type": "execute_result",
          "data": {
            "text/plain": [
              "mappingproxy({'__module__': '__main__',\n",
              "              '__init__': <function __main__.Mapping.__init__(self, iterable)>,\n",
              "              'update': <function __main__.Mapping.update(self, iterable)>,\n",
              "              '_Mapping__update': <function __main__.Mapping.update(self, iterable)>,\n",
              "              '__dict__': <attribute '__dict__' of 'Mapping' objects>,\n",
              "              '__weakref__': <attribute '__weakref__' of 'Mapping' objects>,\n",
              "              '__doc__': None})"
            ]
          },
          "metadata": {},
          "execution_count": 9
        }
      ]
    },
    {
      "cell_type": "markdown",
      "source": [
        "> `MappingSubclass`가 `__update` 식별자를 도입하더라도 작동합니다. `Mapping` 클래스에서는 `_Mapping__update`로, `MappingSubclass` 클래스에서는 `_MappingSubclass__update`로 각각 대체 되기 때문입니다.\n",
        "\n",
        "이런 식으로 private variables를 선언하는 이유가 부모 클래스의 동일한 기능을 사용하는 것을 방지하기 위해서라고 이해하면 되려나?\n",
        "\n",
        "**이미 새로 선언한 시점부터 override해서 무관한 것 아닌가?**"
      ],
      "metadata": {
        "id": "17VMwSiECJdc"
      }
    },
    {
      "cell_type": "code",
      "source": [
        "MappingSubclass.__dict__"
      ],
      "metadata": {
        "colab": {
          "base_uri": "https://localhost:8080/"
        },
        "id": "8xCOV9H-taKQ",
        "outputId": "2e4cde98-e732-4468-865f-f478672a6ff4"
      },
      "execution_count": 10,
      "outputs": [
        {
          "output_type": "execute_result",
          "data": {
            "text/plain": [
              "mappingproxy({'__module__': '__main__',\n",
              "              'update': <function __main__.MappingSubclass.update(self, keys, values)>,\n",
              "              '_MappingSubclass__update': <function __main__.MappingSubclass.update(self, keys, values)>,\n",
              "              '__doc__': None})"
            ]
          },
          "metadata": {},
          "execution_count": 10
        }
      ]
    },
    {
      "cell_type": "code",
      "source": [
        "MappingSubclass.mro()"
      ],
      "metadata": {
        "colab": {
          "base_uri": "https://localhost:8080/"
        },
        "id": "WeXhDDRvto9f",
        "outputId": "4b1a18dd-3760-4e58-db67-eafe090259f8"
      },
      "execution_count": 11,
      "outputs": [
        {
          "output_type": "execute_result",
          "data": {
            "text/plain": [
              "[__main__.MappingSubclass, __main__.Mapping, object]"
            ]
          },
          "metadata": {},
          "execution_count": 11
        }
      ]
    },
    {
      "cell_type": "code",
      "source": [
        "# 아래는 MappingSubclass를 인스턴스화해서 활용해 본 코드임. 참고...\n",
        "MSC = MappingSubclass([('a', 1), ('b', 2)])\n",
        "MSC.items_list"
      ],
      "metadata": {
        "colab": {
          "base_uri": "https://localhost:8080/"
        },
        "id": "OvqV8ivaCrSc",
        "outputId": "055c05a6-2a13-47eb-9aee-c8176c8462d5"
      },
      "execution_count": 12,
      "outputs": [
        {
          "output_type": "execute_result",
          "data": {
            "text/plain": [
              "[('a', 1), ('b', 2)]"
            ]
          },
          "metadata": {},
          "execution_count": 12
        }
      ]
    },
    {
      "cell_type": "markdown",
      "source": [
        "`__update`를 한다고 해서 호출되는 것도 아니다. dir()에도 없음. **아직 이렇게 선언하고 사용해야하는 명확한 이유를 모르겠다...**"
      ],
      "metadata": {
        "id": "hS9HibEDI7id"
      }
    },
    {
      "cell_type": "code",
      "source": [
        "MSC.update(\"cdef\", [3, 4, 5, 6])\n",
        "MSC.items_list"
      ],
      "metadata": {
        "colab": {
          "base_uri": "https://localhost:8080/"
        },
        "id": "FTMZqhNkDRHa",
        "outputId": "3db676c5-2996-4a99-e97a-481bc9043573"
      },
      "execution_count": 13,
      "outputs": [
        {
          "output_type": "execute_result",
          "data": {
            "text/plain": [
              "[('a', 1), ('b', 2), ('c', 3), ('d', 4), ('e', 5), ('f', 6)]"
            ]
          },
          "metadata": {},
          "execution_count": 13
        }
      ]
    },
    {
      "cell_type": "markdown",
      "source": [
        "# 11. 표준 라이브러리 둘러보기 — 2부"
      ],
      "metadata": {
        "id": "txffiQffNKP1"
      }
    },
    {
      "cell_type": "markdown",
      "source": [
        "## [11.6 약한 참조](https://docs.python.org/ko/3.9/tutorial/stdlib2.html#weak-references)\n",
        "\n",
        "[weakref - 약한 참조](https://docs.python.org/ko/3.9/library/weakref.html#module-weakref)에 따르면, 이를 이용해 참조를 설정하지 않고 객체를 살아있게 유지할 수 있다. Garbage Collection을 통해 참조대상을 파괴하고 메모리를 비워도, **객체가 실제로 파괴될 때까지 객체를 반환**할 수 있다.\n",
        "\n",
        "객체가 더 필요하지 않으면 weakref 테이블에서 객체가 자동으로 제거되고 weakref 객체에 대한 콜백이 트리거된다.\n"
      ],
      "metadata": {
        "id": "yFGBmKV7voqj"
      }
    },
    {
      "cell_type": "code",
      "source": [
        "import weakref, gc\n",
        "class A:\n",
        "  def __init__(self, value):\n",
        "    self.value = value\n",
        "  def __repr__(self):\n",
        "    return str(self.value)"
      ],
      "metadata": {
        "id": "m9t6YIsowH9B"
      },
      "execution_count": 37,
      "outputs": []
    },
    {
      "cell_type": "code",
      "source": [
        "a = A(10)           # create a reference\n",
        "a"
      ],
      "metadata": {
        "colab": {
          "base_uri": "https://localhost:8080/"
        },
        "id": "p79K3D7UwE7y",
        "outputId": "6bde7d5b-0ee8-444f-8cd7-3613c9d5e6d4"
      },
      "execution_count": 38,
      "outputs": [
        {
          "output_type": "execute_result",
          "data": {
            "text/plain": [
              "10"
            ]
          },
          "metadata": {},
          "execution_count": 38
        }
      ]
    },
    {
      "cell_type": "code",
      "source": [
        "d = weakref.WeakValueDictionary()\n",
        "d['primary'] = a    # does not create a reference\n",
        "d['primary']        # fetch the object if it is still alive"
      ],
      "metadata": {
        "colab": {
          "base_uri": "https://localhost:8080/"
        },
        "id": "Z80BoKzuP0Q9",
        "outputId": "fbbc26dd-c1ba-4248-e971-5b1e50396a55"
      },
      "execution_count": 39,
      "outputs": [
        {
          "output_type": "execute_result",
          "data": {
            "text/plain": [
              "10"
            ]
          },
          "metadata": {},
          "execution_count": 39
        }
      ]
    },
    {
      "cell_type": "code",
      "source": [
        "del a         # remove the one reference\n",
        "gc.collect()  # run garbage collection right away"
      ],
      "metadata": {
        "colab": {
          "base_uri": "https://localhost:8080/"
        },
        "id": "ALnZQY23v4s_",
        "outputId": "b12e6b55-ad78-41e8-b2fe-6dec295f8b3e"
      },
      "execution_count": 40,
      "outputs": [
        {
          "output_type": "execute_result",
          "data": {
            "text/plain": [
              "90"
            ]
          },
          "metadata": {},
          "execution_count": 40
        }
      ]
    },
    {
      "cell_type": "code",
      "source": [
        "d.__getitem__('primary')"
      ],
      "metadata": {
        "colab": {
          "base_uri": "https://localhost:8080/"
        },
        "id": "EIjeAkO2Pg2U",
        "outputId": "26423bcd-1178-40f0-9800-1ceeb06e61ea"
      },
      "execution_count": 41,
      "outputs": [
        {
          "output_type": "execute_result",
          "data": {
            "text/plain": [
              "10"
            ]
          },
          "metadata": {},
          "execution_count": 41
        }
      ]
    },
    {
      "cell_type": "code",
      "source": [
        "dir(d)"
      ],
      "metadata": {
        "colab": {
          "base_uri": "https://localhost:8080/"
        },
        "id": "oRzhoXC9Pi6f",
        "outputId": "45c5b081-4c15-4e39-d985-f811eb3bf1c7"
      },
      "execution_count": 43,
      "outputs": [
        {
          "output_type": "execute_result",
          "data": {
            "text/plain": [
              "['_MutableMapping__marker',\n",
              " '__abstractmethods__',\n",
              " '__class__',\n",
              " '__class_getitem__',\n",
              " '__contains__',\n",
              " '__copy__',\n",
              " '__deepcopy__',\n",
              " '__delattr__',\n",
              " '__delitem__',\n",
              " '__dict__',\n",
              " '__dir__',\n",
              " '__doc__',\n",
              " '__eq__',\n",
              " '__format__',\n",
              " '__ge__',\n",
              " '__getattribute__',\n",
              " '__getitem__',\n",
              " '__getstate__',\n",
              " '__gt__',\n",
              " '__hash__',\n",
              " '__init__',\n",
              " '__init_subclass__',\n",
              " '__ior__',\n",
              " '__iter__',\n",
              " '__le__',\n",
              " '__len__',\n",
              " '__lt__',\n",
              " '__module__',\n",
              " '__ne__',\n",
              " '__new__',\n",
              " '__or__',\n",
              " '__reduce__',\n",
              " '__reduce_ex__',\n",
              " '__repr__',\n",
              " '__reversed__',\n",
              " '__ror__',\n",
              " '__setattr__',\n",
              " '__setitem__',\n",
              " '__sizeof__',\n",
              " '__slots__',\n",
              " '__str__',\n",
              " '__subclasshook__',\n",
              " '__weakref__',\n",
              " '_abc_impl',\n",
              " '_commit_removals',\n",
              " '_iterating',\n",
              " '_pending_removals',\n",
              " '_remove',\n",
              " 'clear',\n",
              " 'copy',\n",
              " 'data',\n",
              " 'get',\n",
              " 'items',\n",
              " 'itervaluerefs',\n",
              " 'keys',\n",
              " 'pop',\n",
              " 'popitem',\n",
              " 'setdefault',\n",
              " 'update',\n",
              " 'valuerefs',\n",
              " 'values']"
            ]
          },
          "metadata": {},
          "execution_count": 43
        }
      ]
    },
    {
      "cell_type": "code",
      "source": [
        "d['primary']  # entry was automatically removed"
      ],
      "metadata": {
        "colab": {
          "base_uri": "https://localhost:8080/"
        },
        "id": "OPgag6OxKg-G",
        "outputId": "ce7d29e1-d7d7-490a-86a2-fef4b74cb881"
      },
      "execution_count": 42,
      "outputs": [
        {
          "output_type": "execute_result",
          "data": {
            "text/plain": [
              "10"
            ]
          },
          "metadata": {},
          "execution_count": 42
        }
      ]
    },
    {
      "cell_type": "markdown",
      "source": [
        "`a`에 대한 약한 참조인 `d`는 `a`가 사라지고 Garbage Collection이 이루어지고 나면 클래스 `A()`의 기능이 **일정 시간동안은 계속 남아있는 건가?**\n",
        "\n",
        "> 객체가 더 필요하지 않으면 weakref 테이블에서 객체가 자동으로 제거되고 weakref 객체에 대한 콜백이 트리거됩니다.\n",
        "\n",
        "사실 객체가 더 필요하지 않은 시점이 무엇인지도 의문이다. 이것도 Garbage Collection에서 관여하는 건가?\n",
        "\n",
        "예제 결과와 실제 결과가 다른 이유도 의문이다.\n",
        "\n",
        "```md\n",
        "Traceback (most recent call last):\n",
        "  File \"<stdin>\", line 1, in <module>\n",
        "    d['primary']                # entry was automatically removed\n",
        "  File \"C:/python39/lib/weakref.py\", line 46, in __getitem__\n",
        "    o = self.data[key]()\n",
        "KeyError: 'primary'\n",
        "```"
      ],
      "metadata": {
        "id": "VFGAxNw_KpLV"
      }
    },
    {
      "cell_type": "markdown",
      "source": [
        "# 기타 질문\n",
        "### MRO(Method Resolve Order)\n",
        "\n",
        "다중 상속된 클래스가 부모 클래스에 동일한 이름이 메소드를 호출하려고 할 때 어떤 부모의 메소드를 호출해야 할 지 모르기에 발생하는 '죽음의 다이아몬드' 문제를 해결하기 위해 만들어낸 개념으로, 동일한 이름의 메소드가 등장하더라도 지정된 순서대로 실행하면 이 문제를 극복할 수 있다."
      ],
      "metadata": {
        "id": "IOFeQ2PI-X3K"
      }
    },
    {
      "cell_type": "code",
      "source": [
        "class A:\n",
        "  def __init__(self):\n",
        "    print('A')\n",
        "\n",
        "class B(A):\n",
        "  def __init__(self):\n",
        "    super(B, self).__init__() # B의 부모를 instance화한다.\n",
        "    print('B')\n",
        "\n",
        "class C(A):\n",
        "  def __init__(self):\n",
        "    super().__init__() # 파이썬3부터 self를 생략할 수 있다.\n",
        "    print('C')\n",
        "\n",
        "class D(B, C):\n",
        "  def __init__(self):\n",
        "    super().__init__() # 모든 부모를 탐색해서 사용할 수 있다.\n",
        "    print('D')"
      ],
      "metadata": {
        "id": "AE32mjUW-IWf"
      },
      "execution_count": 19,
      "outputs": []
    },
    {
      "cell_type": "code",
      "source": [
        "d = D()"
      ],
      "metadata": {
        "colab": {
          "base_uri": "https://localhost:8080/"
        },
        "id": "uKxwWejpQMdP",
        "outputId": "6cce6429-a357-48b3-a9d6-6a33931e8525"
      },
      "execution_count": 20,
      "outputs": [
        {
          "output_type": "stream",
          "name": "stdout",
          "text": [
            "A\n",
            "C\n",
            "B\n",
            "D\n"
          ]
        }
      ]
    },
    {
      "cell_type": "markdown",
      "source": [
        "D를 선언할 때 B를 C보다 먼저 참조했으므로, 후입선출에 따라 A 다음에 C가 호출되고 B, D 순인 것을 이해함.\n",
        "\n",
        "아래 `mro()`를 통해서도 이것이 의도된 다중상속의 결과임을 알 수 있음."
      ],
      "metadata": {
        "id": "WW4dfY10Qg-w"
      }
    },
    {
      "cell_type": "code",
      "source": [
        "D.mro()"
      ],
      "metadata": {
        "colab": {
          "base_uri": "https://localhost:8080/"
        },
        "id": "Vh9iED0OQN0p",
        "outputId": "6b622bda-4c0b-46ed-acf3-c5f1e74a49c2"
      },
      "execution_count": 21,
      "outputs": [
        {
          "output_type": "execute_result",
          "data": {
            "text/plain": [
              "[__main__.D, __main__.B, __main__.C, __main__.A, object]"
            ]
          },
          "metadata": {},
          "execution_count": 21
        }
      ]
    },
    {
      "cell_type": "markdown",
      "source": [
        "그럼 조금 더 복잡하게 가보자.\n",
        "1. 손주가 부모와 조상을 동시에 상속받는 경우\n",
        "2. 부모가 교차된 순서로 상속을 받은 녀석들을 상속받는 경우\n",
        "\n",
        "위 두 경우에는 우선순위를 정할 수가 없어서 선언조차 되지 않는 것인가?"
      ],
      "metadata": {
        "id": "hhzSZfFQQ9OB"
      }
    },
    {
      "cell_type": "code",
      "source": [
        "# 손주가 부모와 조상을 동시에 상속받는 경우\n",
        "class A:\n",
        "  def __init__(self):\n",
        "    print('A')\n",
        "\n",
        "class B(A):\n",
        "  def __init__(self):\n",
        "    super().__init__()\n",
        "    print('B')\n",
        "\n",
        "class C(A):\n",
        "  def __init__(self):\n",
        "    super().__init__()\n",
        "    print('C')\n",
        "\n",
        "class D(A, B, C):\n",
        "  def __init__(self):\n",
        "    super().__init__()\n",
        "    print('D')"
      ],
      "metadata": {
        "colab": {
          "base_uri": "https://localhost:8080/",
          "height": 228
        },
        "id": "N5vsxJ8WViV-",
        "outputId": "44d4fe85-9643-4ad8-f1b8-2d54bee3c08e"
      },
      "execution_count": 56,
      "outputs": [
        {
          "output_type": "error",
          "ename": "TypeError",
          "evalue": "Cannot create a consistent method resolution\norder (MRO) for bases A, B, C",
          "traceback": [
            "\u001b[0;31m---------------------------------------------------------------------------\u001b[0m",
            "\u001b[0;31mTypeError\u001b[0m                                 Traceback (most recent call last)",
            "\u001b[0;32m<ipython-input-56-e467b2474a3e>\u001b[0m in \u001b[0;36m<cell line: 0>\u001b[0;34m()\u001b[0m\n\u001b[1;32m     13\u001b[0m     \u001b[0mprint\u001b[0m\u001b[0;34m(\u001b[0m\u001b[0;34m'C'\u001b[0m\u001b[0;34m)\u001b[0m\u001b[0;34m\u001b[0m\u001b[0;34m\u001b[0m\u001b[0m\n\u001b[1;32m     14\u001b[0m \u001b[0;34m\u001b[0m\u001b[0m\n\u001b[0;32m---> 15\u001b[0;31m \u001b[0;32mclass\u001b[0m \u001b[0mD\u001b[0m\u001b[0;34m(\u001b[0m\u001b[0mA\u001b[0m\u001b[0;34m,\u001b[0m \u001b[0mB\u001b[0m\u001b[0;34m,\u001b[0m \u001b[0mC\u001b[0m\u001b[0;34m)\u001b[0m\u001b[0;34m:\u001b[0m\u001b[0;34m\u001b[0m\u001b[0;34m\u001b[0m\u001b[0m\n\u001b[0m\u001b[1;32m     16\u001b[0m   \u001b[0;32mdef\u001b[0m \u001b[0m__init__\u001b[0m\u001b[0;34m(\u001b[0m\u001b[0mself\u001b[0m\u001b[0;34m)\u001b[0m\u001b[0;34m:\u001b[0m\u001b[0;34m\u001b[0m\u001b[0;34m\u001b[0m\u001b[0m\n\u001b[1;32m     17\u001b[0m     \u001b[0msuper\u001b[0m\u001b[0;34m(\u001b[0m\u001b[0;34m)\u001b[0m\u001b[0;34m.\u001b[0m\u001b[0m__init__\u001b[0m\u001b[0;34m(\u001b[0m\u001b[0;34m)\u001b[0m\u001b[0;34m\u001b[0m\u001b[0;34m\u001b[0m\u001b[0m\n",
            "\u001b[0;31mTypeError\u001b[0m: Cannot create a consistent method resolution\norder (MRO) for bases A, B, C"
          ]
        }
      ]
    },
    {
      "cell_type": "code",
      "source": [
        "# 부모가 교차된 순서로 상속을 받은 녀석들을 상속받는 경우\n",
        "class A:\n",
        "  def __init__(self):\n",
        "    print('A')\n",
        "\n",
        "class B:\n",
        "  def __init__(self):\n",
        "    super().__init__()\n",
        "    print('B')\n",
        "\n",
        "class C(A, B):\n",
        "  def __init__(self):\n",
        "    super().__init__()\n",
        "    print('C')\n",
        "\n",
        "class D(B, A):\n",
        "  def __init__(self):\n",
        "    super().__init__()\n",
        "    print('D')\n",
        "\n",
        "class E(C ,D):\n",
        "  def __init__(self):\n",
        "    super().__init__()\n",
        "    print('E')"
      ],
      "metadata": {
        "colab": {
          "base_uri": "https://localhost:8080/",
          "height": 228
        },
        "id": "kHvVKIIiUKa3",
        "outputId": "fc68645e-d732-4975-c822-19f8de10ef10"
      },
      "execution_count": 54,
      "outputs": [
        {
          "output_type": "error",
          "ename": "TypeError",
          "evalue": "Cannot create a consistent method resolution\norder (MRO) for bases A, B",
          "traceback": [
            "\u001b[0;31m---------------------------------------------------------------------------\u001b[0m",
            "\u001b[0;31mTypeError\u001b[0m                                 Traceback (most recent call last)",
            "\u001b[0;32m<ipython-input-54-7976e2b8045f>\u001b[0m in \u001b[0;36m<cell line: 0>\u001b[0;34m()\u001b[0m\n\u001b[1;32m     18\u001b[0m     \u001b[0mprint\u001b[0m\u001b[0;34m(\u001b[0m\u001b[0;34m'D'\u001b[0m\u001b[0;34m)\u001b[0m\u001b[0;34m\u001b[0m\u001b[0;34m\u001b[0m\u001b[0m\n\u001b[1;32m     19\u001b[0m \u001b[0;34m\u001b[0m\u001b[0m\n\u001b[0;32m---> 20\u001b[0;31m \u001b[0;32mclass\u001b[0m \u001b[0mE\u001b[0m\u001b[0;34m(\u001b[0m\u001b[0mC\u001b[0m \u001b[0;34m,\u001b[0m\u001b[0mD\u001b[0m\u001b[0;34m)\u001b[0m\u001b[0;34m:\u001b[0m\u001b[0;34m\u001b[0m\u001b[0;34m\u001b[0m\u001b[0m\n\u001b[0m\u001b[1;32m     21\u001b[0m   \u001b[0;32mdef\u001b[0m \u001b[0m__init__\u001b[0m\u001b[0;34m(\u001b[0m\u001b[0mself\u001b[0m\u001b[0;34m)\u001b[0m\u001b[0;34m:\u001b[0m\u001b[0;34m\u001b[0m\u001b[0;34m\u001b[0m\u001b[0m\n\u001b[1;32m     22\u001b[0m     \u001b[0msuper\u001b[0m\u001b[0;34m(\u001b[0m\u001b[0;34m)\u001b[0m\u001b[0;34m.\u001b[0m\u001b[0m__init__\u001b[0m\u001b[0;34m(\u001b[0m\u001b[0;34m)\u001b[0m\u001b[0;34m\u001b[0m\u001b[0;34m\u001b[0m\u001b[0m\n",
            "\u001b[0;31mTypeError\u001b[0m: Cannot create a consistent method resolution\norder (MRO) for bases A, B"
          ]
        }
      ]
    },
    {
      "cell_type": "markdown",
      "source": [
        "추가적으로, 아래와 같이 한 단계 커진 죽음의 피라미드를 통해 만들어진 클래스 `J`는 상속 순서가 분명해 아래와 같이 인스턴스 생성할 때 순서가 정해지는 것처럼 보인다. 그런데 **mro를 가지지 않는 것은 왜일까?** 우선순위를 정할 수 없는 경우에 mro를 가질 수 없는 것 아닌가? `J`는 메타클래스가 아닌가?"
      ],
      "metadata": {
        "id": "XFp4OnEWWxwl"
      }
    },
    {
      "cell_type": "code",
      "source": [
        "#       A\n",
        "#     /   \\\n",
        "#    B     C\n",
        "#   / \\   / \\\n",
        "#  D   E F   G\n",
        "#   \\ /   \\ /\n",
        "#    H     I\n",
        "#     \\   /\n",
        "#       J"
      ],
      "metadata": {
        "id": "zAM1GJ0vQ_Ao"
      },
      "execution_count": null,
      "outputs": []
    },
    {
      "cell_type": "code",
      "source": [
        "class A:\n",
        "  def __init__(self):\n",
        "    print('A')\n",
        "\n",
        "class B(A):\n",
        "  def __init__(self):\n",
        "    super().__init__()\n",
        "    print('B')\n",
        "\n",
        "class C(A):\n",
        "  def __init__(self):\n",
        "    super().__init__()\n",
        "    print('C')\n",
        "\n",
        "class D(B):\n",
        "  def __init__(self):\n",
        "    super().__init__()\n",
        "    print('D')\n",
        "\n",
        "class E(B):\n",
        "  def __init__(self):\n",
        "    super().__init__()\n",
        "    print('E')\n",
        "\n",
        "class F(C):\n",
        "  def __init__(self):\n",
        "    super().__init__()\n",
        "    print('F')\n",
        "\n",
        "class G(C):\n",
        "  def __init__(self):\n",
        "    super().__init__()\n",
        "    print('G')\n",
        "\n",
        "class H(D, E):\n",
        "  def __init__(self):\n",
        "    super().__init__()\n",
        "    print('H')\n",
        "\n",
        "class I(F, G):\n",
        "  def __init__(self):\n",
        "    super().__init__()\n",
        "    print('I')\n",
        "\n",
        "class J(H, I):\n",
        "  def __init__(self):\n",
        "    super().__init__()\n",
        "    print('J')"
      ],
      "metadata": {
        "id": "MCaBRChLQXRo"
      },
      "execution_count": 58,
      "outputs": []
    },
    {
      "cell_type": "code",
      "source": [
        "jj = J()"
      ],
      "metadata": {
        "colab": {
          "base_uri": "https://localhost:8080/"
        },
        "id": "x45qmqZVRpZv",
        "outputId": "cead8119-5c88-459d-c58e-9eabc07bd0ed"
      },
      "execution_count": 59,
      "outputs": [
        {
          "output_type": "stream",
          "name": "stdout",
          "text": [
            "A\n",
            "C\n",
            "G\n",
            "F\n",
            "I\n",
            "B\n",
            "E\n",
            "D\n",
            "H\n",
            "J\n"
          ]
        }
      ]
    },
    {
      "cell_type": "code",
      "source": [
        "jj.mro() # 얘는 왜 mro를 가지지 않는 건가? 메타클래스가 아닌가?"
      ],
      "metadata": {
        "colab": {
          "base_uri": "https://localhost:8080/",
          "height": 141
        },
        "id": "qGV-9J9iR1g_",
        "outputId": "1f8b53c5-a9ea-404a-c0e8-6f357ee1b0a4"
      },
      "execution_count": 60,
      "outputs": [
        {
          "output_type": "error",
          "ename": "AttributeError",
          "evalue": "'J' object has no attribute 'mro'",
          "traceback": [
            "\u001b[0;31m---------------------------------------------------------------------------\u001b[0m",
            "\u001b[0;31mAttributeError\u001b[0m                            Traceback (most recent call last)",
            "\u001b[0;32m<ipython-input-60-b05f9e462d1f>\u001b[0m in \u001b[0;36m<cell line: 0>\u001b[0;34m()\u001b[0m\n\u001b[0;32m----> 1\u001b[0;31m \u001b[0mjj\u001b[0m\u001b[0;34m.\u001b[0m\u001b[0mmro\u001b[0m\u001b[0;34m(\u001b[0m\u001b[0;34m)\u001b[0m\u001b[0;34m\u001b[0m\u001b[0;34m\u001b[0m\u001b[0m\n\u001b[0m",
            "\u001b[0;31mAttributeError\u001b[0m: 'J' object has no attribute 'mro'"
          ]
        }
      ]
    },
    {
      "cell_type": "markdown",
      "source": [
        "End of Document."
      ],
      "metadata": {
        "id": "WGBGEwSoXjQb"
      }
    }
  ]
}