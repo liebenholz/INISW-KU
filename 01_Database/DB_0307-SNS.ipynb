{
 "cells": [
  {
   "cell_type": "code",
   "execution_count": 1,
   "metadata": {},
   "outputs": [],
   "source": [
    "import sqlite3\n",
    "import sqlalchemy"
   ]
  },
  {
   "cell_type": "code",
   "execution_count": 2,
   "metadata": {},
   "outputs": [],
   "source": [
    "from sqlalchemy.orm import declarative_base, sessionmaker, relationship\n",
    "from sqlalchemy.types import Integer, Text\n",
    "from sqlalchemy.schema import ForeignKey, Column\n",
    "from sqlalchemy.engine import create_engine"
   ]
  },
  {
   "cell_type": "code",
   "execution_count": 3,
   "metadata": {},
   "outputs": [],
   "source": [
    "base = declarative_base()\n",
    "session = sessionmaker()\n",
    "sess = session()\n",
    "engine = create_engine('sqlite:///:memory:', echo=True)\n",
    "sess.bind = engine"
   ]
  },
  {
   "cell_type": "code",
   "execution_count": 4,
   "metadata": {},
   "outputs": [],
   "source": [
    "class Post(base):\n",
    "    __tablename__ = 'POST'\n",
    "    pk = Column('PK', Integer, primary_key=True)\n",
    "    content = Column('CONTENT', Text, default='')\n",
    "    tags = relationship('PH', back_populates='post', uselist=True)\n",
    "    \n",
    "class Hashtag(base):\n",
    "    __tablename__ = 'HASHTAG'\n",
    "    pk = Column('PK', Integer, primary_key=True)\n",
    "    name = Column('NAME', Text, default='')\n",
    "    count = Column('COUNT', Integer, default=0)\n",
    "    posts = relationship('PH', back_populates='tag', uselist=True)\n",
    "    \n",
    "class PH(base):\n",
    "    __tablename__ = 'PH'\n",
    "    pk = Column('PK', Integer, primary_key=True)\n",
    "    pfk = Column('PFK', Integer, ForeignKey('POST.PK'))\n",
    "    hfk = Column('HFK', Integer, ForeignKey('HASHTAG.PK'))\n",
    "    post = relationship('Post', back_populates='tags', uselist=False)\n",
    "    tag = relationship('Hashtag', back_populates='posts', uselist=False)"
   ]
  },
  {
   "cell_type": "code",
   "execution_count": 5,
   "metadata": {},
   "outputs": [
    {
     "name": "stdout",
     "output_type": "stream",
     "text": [
      "2025-03-07 12:00:42,006 INFO sqlalchemy.engine.Engine BEGIN (implicit)\n",
      "2025-03-07 12:00:42,007 INFO sqlalchemy.engine.Engine PRAGMA main.table_info(\"POST\")\n",
      "2025-03-07 12:00:42,008 INFO sqlalchemy.engine.Engine [raw sql] ()\n",
      "2025-03-07 12:00:42,009 INFO sqlalchemy.engine.Engine PRAGMA temp.table_info(\"POST\")\n",
      "2025-03-07 12:00:42,009 INFO sqlalchemy.engine.Engine [raw sql] ()\n",
      "2025-03-07 12:00:42,010 INFO sqlalchemy.engine.Engine PRAGMA main.table_info(\"HASHTAG\")\n",
      "2025-03-07 12:00:42,010 INFO sqlalchemy.engine.Engine [raw sql] ()\n",
      "2025-03-07 12:00:42,010 INFO sqlalchemy.engine.Engine PRAGMA temp.table_info(\"HASHTAG\")\n",
      "2025-03-07 12:00:42,011 INFO sqlalchemy.engine.Engine [raw sql] ()\n",
      "2025-03-07 12:00:42,011 INFO sqlalchemy.engine.Engine PRAGMA main.table_info(\"PH\")\n",
      "2025-03-07 12:00:42,011 INFO sqlalchemy.engine.Engine [raw sql] ()\n",
      "2025-03-07 12:00:42,012 INFO sqlalchemy.engine.Engine PRAGMA temp.table_info(\"PH\")\n",
      "2025-03-07 12:00:42,012 INFO sqlalchemy.engine.Engine [raw sql] ()\n",
      "2025-03-07 12:00:42,012 INFO sqlalchemy.engine.Engine \n",
      "CREATE TABLE \"POST\" (\n",
      "\t\"PK\" INTEGER NOT NULL, \n",
      "\t\"CONTENT\" TEXT, \n",
      "\tPRIMARY KEY (\"PK\")\n",
      ")\n",
      "\n",
      "\n",
      "2025-03-07 12:00:42,013 INFO sqlalchemy.engine.Engine [no key 0.00031s] ()\n",
      "2025-03-07 12:00:42,014 INFO sqlalchemy.engine.Engine \n",
      "CREATE TABLE \"HASHTAG\" (\n",
      "\t\"PK\" INTEGER NOT NULL, \n",
      "\t\"NAME\" TEXT, \n",
      "\t\"COUNT\" INTEGER, \n",
      "\tPRIMARY KEY (\"PK\")\n",
      ")\n",
      "\n",
      "\n",
      "2025-03-07 12:00:42,014 INFO sqlalchemy.engine.Engine [no key 0.00084s] ()\n",
      "2025-03-07 12:00:42,015 INFO sqlalchemy.engine.Engine \n",
      "CREATE TABLE \"PH\" (\n",
      "\t\"PK\" INTEGER NOT NULL, \n",
      "\t\"PFK\" INTEGER, \n",
      "\t\"HFK\" INTEGER, \n",
      "\tPRIMARY KEY (\"PK\"), \n",
      "\tFOREIGN KEY(\"PFK\") REFERENCES \"POST\" (\"PK\"), \n",
      "\tFOREIGN KEY(\"HFK\") REFERENCES \"HASHTAG\" (\"PK\")\n",
      ")\n",
      "\n",
      "\n",
      "2025-03-07 12:00:42,015 INFO sqlalchemy.engine.Engine [no key 0.00026s] ()\n",
      "2025-03-07 12:00:42,016 INFO sqlalchemy.engine.Engine COMMIT\n"
     ]
    }
   ],
   "source": [
    "base.metadata.create_all(engine)"
   ]
  },
  {
   "cell_type": "code",
   "execution_count": 6,
   "metadata": {},
   "outputs": [],
   "source": [
    "ph1 = PH()\n",
    "\n",
    "ph1.post = Post(content='내용1')\n",
    "ph1.tag = Hashtag(name='태그1')"
   ]
  },
  {
   "cell_type": "code",
   "execution_count": 8,
   "metadata": {},
   "outputs": [
    {
     "name": "stdout",
     "output_type": "stream",
     "text": [
      "2025-03-07 12:01:21,446 INFO sqlalchemy.engine.Engine BEGIN (implicit)\n",
      "2025-03-07 12:01:21,456 INFO sqlalchemy.engine.Engine INSERT INTO \"HASHTAG\" (\"NAME\", \"COUNT\") VALUES (?, ?)\n",
      "2025-03-07 12:01:21,469 INFO sqlalchemy.engine.Engine [generated in 0.01313s] ('태그1', 0)\n",
      "2025-03-07 12:01:21,474 INFO sqlalchemy.engine.Engine INSERT INTO \"POST\" (\"CONTENT\") VALUES (?)\n",
      "2025-03-07 12:01:21,478 INFO sqlalchemy.engine.Engine [generated in 0.00405s] ('내용1',)\n",
      "2025-03-07 12:01:21,481 INFO sqlalchemy.engine.Engine INSERT INTO \"PH\" (\"PFK\", \"HFK\") VALUES (?, ?)\n",
      "2025-03-07 12:01:21,481 INFO sqlalchemy.engine.Engine [generated in 0.00048s] (1, 1)\n",
      "2025-03-07 12:01:21,482 INFO sqlalchemy.engine.Engine COMMIT\n"
     ]
    }
   ],
   "source": [
    "sess.add(ph1)\n",
    "sess.commit()"
   ]
  },
  {
   "cell_type": "code",
   "execution_count": 9,
   "metadata": {},
   "outputs": [
    {
     "name": "stdout",
     "output_type": "stream",
     "text": [
      "2025-03-07 12:01:29,919 INFO sqlalchemy.engine.Engine BEGIN (implicit)\n",
      "2025-03-07 12:01:29,922 INFO sqlalchemy.engine.Engine SELECT \"PH\".\"PK\" AS \"PH_PK\", \"PH\".\"PFK\" AS \"PH_PFK\", \"PH\".\"HFK\" AS \"PH_HFK\" \n",
      "FROM \"PH\" \n",
      "WHERE \"PH\".\"PK\" = ?\n",
      "2025-03-07 12:01:29,923 INFO sqlalchemy.engine.Engine [generated in 0.00126s] (1,)\n",
      "2025-03-07 12:01:29,926 INFO sqlalchemy.engine.Engine SELECT \"POST\".\"PK\" AS \"POST_PK\", \"POST\".\"CONTENT\" AS \"POST_CONTENT\" \n",
      "FROM \"POST\" \n",
      "WHERE \"POST\".\"PK\" = ?\n",
      "2025-03-07 12:01:29,926 INFO sqlalchemy.engine.Engine [generated in 0.00062s] (1,)\n",
      "2025-03-07 12:01:29,928 INFO sqlalchemy.engine.Engine SELECT \"HASHTAG\".\"PK\" AS \"HASHTAG_PK\", \"HASHTAG\".\"NAME\" AS \"HASHTAG_NAME\", \"HASHTAG\".\"COUNT\" AS \"HASHTAG_COUNT\" \n",
      "FROM \"HASHTAG\" \n",
      "WHERE \"HASHTAG\".\"PK\" = ?\n",
      "2025-03-07 12:01:29,928 INFO sqlalchemy.engine.Engine [generated in 0.00048s] (1,)\n"
     ]
    },
    {
     "data": {
      "text/plain": [
       "('내용1', '태그1')"
      ]
     },
     "execution_count": 9,
     "metadata": {},
     "output_type": "execute_result"
    }
   ],
   "source": [
    "ph1.post.content, ph1.tag.name\n",
    "# INSERT Post 내용\n",
    "# INSERT Hashtag 태그\n",
    "# INSERT PH 내용,태그의 pk"
   ]
  },
  {
   "cell_type": "code",
   "execution_count": 10,
   "metadata": {},
   "outputs": [
    {
     "name": "stdout",
     "output_type": "stream",
     "text": [
      "2025-03-07 12:01:38,062 INFO sqlalchemy.engine.Engine SELECT \"POST\".\"PK\" AS \"POST_PK\", \"POST\".\"CONTENT\" AS \"POST_CONTENT\" \n",
      "FROM \"POST\"\n",
      "2025-03-07 12:01:38,063 INFO sqlalchemy.engine.Engine [generated in 0.00088s] ()\n"
     ]
    }
   ],
   "source": [
    "p1 = sess.query(Post).one()"
   ]
  },
  {
   "cell_type": "code",
   "execution_count": 11,
   "metadata": {},
   "outputs": [
    {
     "name": "stdout",
     "output_type": "stream",
     "text": [
      "2025-03-07 12:01:43,995 INFO sqlalchemy.engine.Engine SELECT \"PH\".\"PK\" AS \"PH_PK\", \"PH\".\"PFK\" AS \"PH_PFK\", \"PH\".\"HFK\" AS \"PH_HFK\" \n",
      "FROM \"PH\" \n",
      "WHERE ? = \"PH\".\"PFK\"\n",
      "2025-03-07 12:01:43,996 INFO sqlalchemy.engine.Engine [generated in 0.00088s] (1,)\n"
     ]
    },
    {
     "data": {
      "text/plain": [
       "('내용1', 1, '태그1')"
      ]
     },
     "execution_count": 11,
     "metadata": {},
     "output_type": "execute_result"
    }
   ],
   "source": [
    "p1.content, len(p1.tags), p1.tags[0].tag.name"
   ]
  },
  {
   "cell_type": "code",
   "execution_count": 12,
   "metadata": {},
   "outputs": [
    {
     "data": {
      "text/plain": [
       "('내용1', 1, '태그1')"
      ]
     },
     "execution_count": 12,
     "metadata": {},
     "output_type": "execute_result"
    }
   ],
   "source": [
    "p1.content, len(p1.tags), p1.tags[0].tag.name"
   ]
  },
  {
   "cell_type": "code",
   "execution_count": 13,
   "metadata": {},
   "outputs": [],
   "source": [
    "p1.tags[0].tag.name = '새로운 태그1'"
   ]
  },
  {
   "cell_type": "code",
   "execution_count": 14,
   "metadata": {},
   "outputs": [
    {
     "data": {
      "text/plain": [
       "IdentitySet([<__main__.Hashtag object at 0x107255f50>])"
      ]
     },
     "execution_count": 14,
     "metadata": {},
     "output_type": "execute_result"
    }
   ],
   "source": [
    "sess.dirty"
   ]
  },
  {
   "cell_type": "code",
   "execution_count": 15,
   "metadata": {},
   "outputs": [
    {
     "name": "stdout",
     "output_type": "stream",
     "text": [
      "2025-03-07 12:02:08,900 INFO sqlalchemy.engine.Engine UPDATE \"HASHTAG\" SET \"NAME\"=? WHERE \"HASHTAG\".\"PK\" = ?\n",
      "2025-03-07 12:02:08,901 INFO sqlalchemy.engine.Engine [generated in 0.00120s] ('새로운 태그1', 1)\n",
      "2025-03-07 12:02:08,902 INFO sqlalchemy.engine.Engine COMMIT\n"
     ]
    }
   ],
   "source": [
    "sess.commit()"
   ]
  },
  {
   "cell_type": "code",
   "execution_count": 16,
   "metadata": {},
   "outputs": [
    {
     "name": "stdout",
     "output_type": "stream",
     "text": [
      "2025-03-07 12:02:18,932 INFO sqlalchemy.engine.Engine BEGIN (implicit)\n",
      "2025-03-07 12:02:18,933 INFO sqlalchemy.engine.Engine INSERT INTO \"HASHTAG\" (\"NAME\", \"COUNT\") VALUES (?, ?)\n",
      "2025-03-07 12:02:18,933 INFO sqlalchemy.engine.Engine [cached since 57.48s ago] ('태그2', 0)\n",
      "2025-03-07 12:02:18,935 INFO sqlalchemy.engine.Engine COMMIT\n"
     ]
    }
   ],
   "source": [
    "t2 = Hashtag(name='태그2')\n",
    "sess.add(t2)\n",
    "sess.commit()"
   ]
  },
  {
   "cell_type": "code",
   "execution_count": 17,
   "metadata": {},
   "outputs": [
    {
     "name": "stdout",
     "output_type": "stream",
     "text": [
      "2025-03-07 12:02:27,150 INFO sqlalchemy.engine.Engine BEGIN (implicit)\n",
      "2025-03-07 12:02:27,151 INFO sqlalchemy.engine.Engine SELECT \"POST\".\"PK\" AS \"POST_PK\", \"POST\".\"CONTENT\" AS \"POST_CONTENT\" \n",
      "FROM \"POST\" \n",
      "WHERE \"POST\".\"PK\" = ?\n",
      "2025-03-07 12:02:27,152 INFO sqlalchemy.engine.Engine [generated in 0.00039s] (1,)\n",
      "2025-03-07 12:02:27,153 INFO sqlalchemy.engine.Engine SELECT \"PH\".\"PK\" AS \"PH_PK\", \"PH\".\"PFK\" AS \"PH_PFK\", \"PH\".\"HFK\" AS \"PH_HFK\" \n",
      "FROM \"PH\" \n",
      "WHERE ? = \"PH\".\"PFK\"\n",
      "2025-03-07 12:02:27,154 INFO sqlalchemy.engine.Engine [cached since 43.16s ago] (1,)\n",
      "2025-03-07 12:02:27,155 INFO sqlalchemy.engine.Engine SELECT \"HASHTAG\".\"PK\" AS \"HASHTAG_PK\", \"HASHTAG\".\"NAME\" AS \"HASHTAG_NAME\", \"HASHTAG\".\"COUNT\" AS \"HASHTAG_COUNT\" \n",
      "FROM \"HASHTAG\" \n",
      "WHERE \"HASHTAG\".\"PK\" = ?\n",
      "2025-03-07 12:02:27,155 INFO sqlalchemy.engine.Engine [generated in 0.00040s] (2,)\n"
     ]
    }
   ],
   "source": [
    "p1.tags.append(PH(pfk=p1.pk, hfk=t2.pk))"
   ]
  },
  {
   "cell_type": "code",
   "execution_count": 18,
   "metadata": {},
   "outputs": [
    {
     "data": {
      "text/plain": [
       "IdentitySet([<__main__.Post object at 0x107243f50>])"
      ]
     },
     "execution_count": 18,
     "metadata": {},
     "output_type": "execute_result"
    }
   ],
   "source": [
    "sess.dirty"
   ]
  },
  {
   "cell_type": "code",
   "execution_count": 19,
   "metadata": {},
   "outputs": [
    {
     "name": "stdout",
     "output_type": "stream",
     "text": [
      "2025-03-07 12:02:40,713 INFO sqlalchemy.engine.Engine INSERT INTO \"PH\" (\"PFK\", \"HFK\") VALUES (?, ?)\n",
      "2025-03-07 12:02:40,714 INFO sqlalchemy.engine.Engine [cached since 79.23s ago] (1, 2)\n",
      "2025-03-07 12:02:40,714 INFO sqlalchemy.engine.Engine COMMIT\n"
     ]
    }
   ],
   "source": [
    "sess.commit()"
   ]
  },
  {
   "cell_type": "code",
   "execution_count": 20,
   "metadata": {},
   "outputs": [
    {
     "name": "stdout",
     "output_type": "stream",
     "text": [
      "2025-03-07 12:02:47,585 INFO sqlalchemy.engine.Engine BEGIN (implicit)\n",
      "2025-03-07 12:02:47,586 INFO sqlalchemy.engine.Engine SELECT \"POST\".\"PK\" AS \"POST_PK\", \"POST\".\"CONTENT\" AS \"POST_CONTENT\" \n",
      "FROM \"POST\" \n",
      "WHERE \"POST\".\"PK\" = ?\n",
      "2025-03-07 12:02:47,587 INFO sqlalchemy.engine.Engine [cached since 20.44s ago] (1,)\n",
      "2025-03-07 12:02:47,588 INFO sqlalchemy.engine.Engine SELECT \"PH\".\"PK\" AS \"PH_PK\", \"PH\".\"PFK\" AS \"PH_PFK\", \"PH\".\"HFK\" AS \"PH_HFK\" \n",
      "FROM \"PH\" \n",
      "WHERE ? = \"PH\".\"PFK\"\n",
      "2025-03-07 12:02:47,589 INFO sqlalchemy.engine.Engine [cached since 63.59s ago] (1,)\n",
      "2025-03-07 12:02:47,590 INFO sqlalchemy.engine.Engine SELECT \"HASHTAG\".\"PK\" AS \"HASHTAG_PK\", \"HASHTAG\".\"NAME\" AS \"HASHTAG_NAME\", \"HASHTAG\".\"COUNT\" AS \"HASHTAG_COUNT\" \n",
      "FROM \"HASHTAG\" \n",
      "WHERE \"HASHTAG\".\"PK\" = ?\n",
      "2025-03-07 12:02:47,590 INFO sqlalchemy.engine.Engine [cached since 20.44s ago] (2,)\n"
     ]
    },
    {
     "data": {
      "text/plain": [
       "(2, '태그2')"
      ]
     },
     "execution_count": 20,
     "metadata": {},
     "output_type": "execute_result"
    }
   ],
   "source": [
    "len(p1.tags), p1.tags[-1].tag.name"
   ]
  },
  {
   "cell_type": "code",
   "execution_count": 21,
   "metadata": {},
   "outputs": [
    {
     "data": {
      "text/plain": [
       "<__main__.PH at 0x10726f2d0>"
      ]
     },
     "execution_count": 21,
     "metadata": {},
     "output_type": "execute_result"
    }
   ],
   "source": [
    "p1.tags.pop(-1)"
   ]
  },
  {
   "cell_type": "code",
   "execution_count": 22,
   "metadata": {},
   "outputs": [
    {
     "data": {
      "text/plain": [
       "1"
      ]
     },
     "execution_count": 22,
     "metadata": {},
     "output_type": "execute_result"
    }
   ],
   "source": [
    "len(p1.tags)"
   ]
  },
  {
   "cell_type": "code",
   "execution_count": 23,
   "metadata": {},
   "outputs": [
    {
     "data": {
      "text/plain": [
       "IdentitySet([<__main__.Post object at 0x107243f50>, <__main__.PH object at 0x10726f2d0>])"
      ]
     },
     "execution_count": 23,
     "metadata": {},
     "output_type": "execute_result"
    }
   ],
   "source": [
    "sess.dirty"
   ]
  },
  {
   "cell_type": "code",
   "execution_count": 24,
   "metadata": {},
   "outputs": [
    {
     "name": "stdout",
     "output_type": "stream",
     "text": [
      "2025-03-07 12:03:11,288 INFO sqlalchemy.engine.Engine UPDATE \"PH\" SET \"PFK\"=? WHERE \"PH\".\"PK\" = ?\n",
      "2025-03-07 12:03:11,288 INFO sqlalchemy.engine.Engine [generated in 0.00059s] (None, 2)\n",
      "2025-03-07 12:03:11,289 INFO sqlalchemy.engine.Engine COMMIT\n"
     ]
    }
   ],
   "source": [
    "sess.commit()"
   ]
  },
  {
   "cell_type": "code",
   "execution_count": 25,
   "metadata": {},
   "outputs": [
    {
     "name": "stdout",
     "output_type": "stream",
     "text": [
      "2025-03-07 12:03:19,350 INFO sqlalchemy.engine.Engine BEGIN (implicit)\n",
      "2025-03-07 12:03:19,351 INFO sqlalchemy.engine.Engine SELECT \"PH\".\"PK\" AS \"PH_PK\", \"PH\".\"PFK\" AS \"PH_PFK\", \"PH\".\"HFK\" AS \"PH_HFK\" \n",
      "FROM \"PH\"\n",
      "2025-03-07 12:03:19,351 INFO sqlalchemy.engine.Engine [generated in 0.00049s] ()\n"
     ]
    }
   ],
   "source": [
    "sess.query(PH).all()[1].pfk"
   ]
  },
  {
   "cell_type": "code",
   "execution_count": 26,
   "metadata": {},
   "outputs": [
    {
     "name": "stdout",
     "output_type": "stream",
     "text": [
      "2025-03-07 12:03:28,375 INFO sqlalchemy.engine.Engine INSERT INTO \"HASHTAG\" (\"NAME\", \"COUNT\") VALUES (?, ?)\n",
      "2025-03-07 12:03:28,376 INFO sqlalchemy.engine.Engine [cached since 126.9s ago] ('태그3', 0)\n",
      "2025-03-07 12:03:28,377 INFO sqlalchemy.engine.Engine COMMIT\n"
     ]
    }
   ],
   "source": [
    "t3 = Hashtag(name='태그3')\n",
    "sess.add(t3)\n",
    "sess.commit()"
   ]
  },
  {
   "cell_type": "code",
   "execution_count": 27,
   "metadata": {},
   "outputs": [
    {
     "name": "stdout",
     "output_type": "stream",
     "text": [
      "2025-03-07 12:03:34,919 INFO sqlalchemy.engine.Engine BEGIN (implicit)\n",
      "2025-03-07 12:03:34,920 INFO sqlalchemy.engine.Engine SELECT \"POST\".\"PK\" AS \"POST_PK\", \"POST\".\"CONTENT\" AS \"POST_CONTENT\" \n",
      "FROM \"POST\" \n",
      "WHERE \"POST\".\"PK\" = ?\n",
      "2025-03-07 12:03:34,920 INFO sqlalchemy.engine.Engine [cached since 67.77s ago] (1,)\n",
      "2025-03-07 12:03:34,921 INFO sqlalchemy.engine.Engine SELECT \"PH\".\"PK\" AS \"PH_PK\", \"PH\".\"PFK\" AS \"PH_PFK\", \"PH\".\"HFK\" AS \"PH_HFK\" \n",
      "FROM \"PH\" \n",
      "WHERE ? = \"PH\".\"PFK\"\n",
      "2025-03-07 12:03:34,921 INFO sqlalchemy.engine.Engine [cached since 110.9s ago] (1,)\n",
      "2025-03-07 12:03:34,922 INFO sqlalchemy.engine.Engine SELECT \"HASHTAG\".\"PK\" AS \"HASHTAG_PK\", \"HASHTAG\".\"NAME\" AS \"HASHTAG_NAME\", \"HASHTAG\".\"COUNT\" AS \"HASHTAG_COUNT\" \n",
      "FROM \"HASHTAG\" \n",
      "WHERE \"HASHTAG\".\"PK\" = ?\n",
      "2025-03-07 12:03:34,922 INFO sqlalchemy.engine.Engine [cached since 67.77s ago] (3,)\n"
     ]
    },
    {
     "data": {
      "text/plain": [
       "IdentitySet([<__main__.Post object at 0x107243f50>])"
      ]
     },
     "execution_count": 27,
     "metadata": {},
     "output_type": "execute_result"
    }
   ],
   "source": [
    "p1.tags.append(PH(pfk=p1.pk, hfk=t3.pk))\n",
    "sess.dirty"
   ]
  },
  {
   "cell_type": "code",
   "execution_count": 28,
   "metadata": {},
   "outputs": [
    {
     "name": "stdout",
     "output_type": "stream",
     "text": [
      "2025-03-07 12:03:41,353 INFO sqlalchemy.engine.Engine INSERT INTO \"PH\" (\"PFK\", \"HFK\") VALUES (?, ?)\n",
      "2025-03-07 12:03:41,353 INFO sqlalchemy.engine.Engine [cached since 139.9s ago] (1, 3)\n",
      "2025-03-07 12:03:41,354 INFO sqlalchemy.engine.Engine COMMIT\n"
     ]
    }
   ],
   "source": [
    "sess.commit()"
   ]
  },
  {
   "cell_type": "code",
   "execution_count": 29,
   "metadata": {},
   "outputs": [],
   "source": [
    "base.registry.dispose()\n",
    "sess.close()\n",
    "sess.bind = engine"
   ]
  },
  {
   "cell_type": "code",
   "execution_count": null,
   "metadata": {},
   "outputs": [],
   "source": [
    "class Post(base):\n",
    "    __table__ = base.metadata.tables['POST']\n",
    "    pk = base.metadata.tables['POST'].c['PK']\n",
    "    content = base.metadata.tables['POST'].c['CONTENT']\n",
    "    tags = relationship('PH', back_populates='post', uselist=True)\n",
    "    def add(self, s, *tags):\n",
    "        for tag in tags:\n",
    "            t = s.query(Hashtag).filter(Hashtag.name==tag).all()\n",
    "            if len(t) == 0:\n",
    "                t = Hashtag(name=tag)\n",
    "                s.add(t)\n",
    "                s.commit()\n",
    "            else:\n",
    "                t = t[0]\n",
    "            t.count += 1\n",
    "            self.tags.append(PH(pfk=self.pk, hfk=t.pk))\n",
    "        s.commit()\n",
    "    def update(self, s, *tags):\n",
    "        print('어떻게?')         \n",
    "        s.commit()\n",
    "\n",
    "class Hashtag(base):\n",
    "    __table__ = base.metadata.tables['HASHTAG']\n",
    "    pk = base.metadata.tables['HASHTAG'].c['PK']\n",
    "    name = base.metadata.tables['HASHTAG'].c['NAME']\n",
    "    count = base.metadata.tables['HASHTAG'].c['COUNT']\n",
    "    posts = relationship('PH', back_populates='tag', uselist=True)\n",
    "    def plus(self):\n",
    "        self.count += 1\n",
    "    def minus(self):\n",
    "        self.count -= 1\n",
    "\n",
    "class PH(base):\n",
    "    __table__ = base.metadata.tables['PH']\n",
    "    pk = base.metadata.tables['PH'].c['PK']\n",
    "    pfk = base.metadata.tables['PH'].c['PFK']\n",
    "    hfk = base.metadata.tables['PH'].c['HFK']\n",
    "    post = relationship('Post', back_populates='tags', uselist=False)\n",
    "    tag = relationship('Hashtag', back_populates='posts', uselist=False)"
   ]
  },
  {
   "cell_type": "code",
   "execution_count": 31,
   "metadata": {},
   "outputs": [],
   "source": [
    "new_p = Post(content='새로운 게시글')"
   ]
  },
  {
   "cell_type": "code",
   "execution_count": 32,
   "metadata": {},
   "outputs": [
    {
     "name": "stdout",
     "output_type": "stream",
     "text": [
      "2025-03-07 12:19:41,311 INFO sqlalchemy.engine.Engine BEGIN (implicit)\n",
      "2025-03-07 12:19:41,313 INFO sqlalchemy.engine.Engine INSERT INTO \"POST\" (\"CONTENT\") VALUES (?)\n",
      "2025-03-07 12:19:41,314 INFO sqlalchemy.engine.Engine [generated in 0.00103s] ('새로운 게시글',)\n",
      "2025-03-07 12:19:41,315 INFO sqlalchemy.engine.Engine COMMIT\n"
     ]
    }
   ],
   "source": [
    "sess.add(new_p)\n",
    "sess.commit()"
   ]
  },
  {
   "cell_type": "code",
   "execution_count": 33,
   "metadata": {},
   "outputs": [
    {
     "name": "stdout",
     "output_type": "stream",
     "text": [
      "2025-03-07 12:19:42,203 INFO sqlalchemy.engine.Engine BEGIN (implicit)\n",
      "2025-03-07 12:19:42,205 INFO sqlalchemy.engine.Engine SELECT \"HASHTAG\".\"PK\" AS \"HASHTAG_PK\", \"HASHTAG\".\"NAME\" AS \"HASHTAG_NAME\", \"HASHTAG\".\"COUNT\" AS \"HASHTAG_COUNT\" \n",
      "FROM \"HASHTAG\" \n",
      "WHERE \"HASHTAG\".\"NAME\" = ?\n",
      "2025-03-07 12:19:42,206 INFO sqlalchemy.engine.Engine [generated in 0.00103s] ('새로운 태그1',)\n",
      "2025-03-07 12:19:42,208 INFO sqlalchemy.engine.Engine UPDATE \"HASHTAG\" SET \"COUNT\"=? WHERE \"HASHTAG\".\"PK\" = ?\n",
      "2025-03-07 12:19:42,209 INFO sqlalchemy.engine.Engine [generated in 0.00049s] (1, 1)\n",
      "2025-03-07 12:19:42,210 INFO sqlalchemy.engine.Engine SELECT \"POST\".\"PK\" AS \"POST_PK\", \"POST\".\"CONTENT\" AS \"POST_CONTENT\" \n",
      "FROM \"POST\" \n",
      "WHERE \"POST\".\"PK\" = ?\n",
      "2025-03-07 12:19:42,210 INFO sqlalchemy.engine.Engine [generated in 0.00029s] (2,)\n",
      "2025-03-07 12:19:42,211 INFO sqlalchemy.engine.Engine SELECT \"PH\".\"PK\" AS \"PH_PK\", \"PH\".\"PFK\" AS \"PH_PFK\", \"PH\".\"HFK\" AS \"PH_HFK\" \n",
      "FROM \"PH\" \n",
      "WHERE ? = \"PH\".\"PFK\"\n",
      "2025-03-07 12:19:42,212 INFO sqlalchemy.engine.Engine [generated in 0.00041s] (2,)\n",
      "2025-03-07 12:19:42,213 INFO sqlalchemy.engine.Engine INSERT INTO \"PH\" (\"PFK\", \"HFK\") VALUES (?, ?)\n",
      "2025-03-07 12:19:42,214 INFO sqlalchemy.engine.Engine [generated in 0.00051s] (2, 1)\n",
      "2025-03-07 12:19:42,215 INFO sqlalchemy.engine.Engine SELECT \"HASHTAG\".\"PK\" AS \"HASHTAG_PK\", \"HASHTAG\".\"NAME\" AS \"HASHTAG_NAME\", \"HASHTAG\".\"COUNT\" AS \"HASHTAG_COUNT\" \n",
      "FROM \"HASHTAG\" \n",
      "WHERE \"HASHTAG\".\"NAME\" = ?\n",
      "2025-03-07 12:19:42,215 INFO sqlalchemy.engine.Engine [cached since 0.009901s ago] ('새로운 태그2',)\n",
      "2025-03-07 12:19:42,216 INFO sqlalchemy.engine.Engine INSERT INTO \"HASHTAG\" (\"NAME\", \"COUNT\") VALUES (?, ?)\n",
      "2025-03-07 12:19:42,216 INFO sqlalchemy.engine.Engine [generated in 0.00036s] ('새로운 태그2', 0)\n",
      "2025-03-07 12:19:42,217 INFO sqlalchemy.engine.Engine COMMIT\n",
      "2025-03-07 12:19:42,217 INFO sqlalchemy.engine.Engine BEGIN (implicit)\n",
      "2025-03-07 12:19:42,218 INFO sqlalchemy.engine.Engine SELECT \"HASHTAG\".\"PK\" AS \"HASHTAG_PK\", \"HASHTAG\".\"NAME\" AS \"HASHTAG_NAME\", \"HASHTAG\".\"COUNT\" AS \"HASHTAG_COUNT\" \n",
      "FROM \"HASHTAG\" \n",
      "WHERE \"HASHTAG\".\"PK\" = ?\n",
      "2025-03-07 12:19:42,218 INFO sqlalchemy.engine.Engine [generated in 0.00030s] (4,)\n",
      "2025-03-07 12:19:42,219 INFO sqlalchemy.engine.Engine UPDATE \"HASHTAG\" SET \"COUNT\"=? WHERE \"HASHTAG\".\"PK\" = ?\n",
      "2025-03-07 12:19:42,220 INFO sqlalchemy.engine.Engine [cached since 0.0111s ago] (1, 4)\n",
      "2025-03-07 12:19:42,220 INFO sqlalchemy.engine.Engine SELECT \"POST\".\"PK\" AS \"POST_PK\", \"POST\".\"CONTENT\" AS \"POST_CONTENT\" \n",
      "FROM \"POST\" \n",
      "WHERE \"POST\".\"PK\" = ?\n",
      "2025-03-07 12:19:42,221 INFO sqlalchemy.engine.Engine [cached since 0.01067s ago] (2,)\n",
      "2025-03-07 12:19:42,222 INFO sqlalchemy.engine.Engine SELECT \"PH\".\"PK\" AS \"PH_PK\", \"PH\".\"PFK\" AS \"PH_PFK\", \"PH\".\"HFK\" AS \"PH_HFK\" \n",
      "FROM \"PH\" \n",
      "WHERE ? = \"PH\".\"PFK\"\n",
      "2025-03-07 12:19:42,222 INFO sqlalchemy.engine.Engine [cached since 0.01076s ago] (2,)\n",
      "2025-03-07 12:19:42,223 INFO sqlalchemy.engine.Engine INSERT INTO \"PH\" (\"PFK\", \"HFK\") VALUES (?, ?)\n",
      "2025-03-07 12:19:42,224 INFO sqlalchemy.engine.Engine [cached since 0.01045s ago] (2, 4)\n",
      "2025-03-07 12:19:42,224 INFO sqlalchemy.engine.Engine SELECT \"HASHTAG\".\"PK\" AS \"HASHTAG_PK\", \"HASHTAG\".\"NAME\" AS \"HASHTAG_NAME\", \"HASHTAG\".\"COUNT\" AS \"HASHTAG_COUNT\" \n",
      "FROM \"HASHTAG\" \n",
      "WHERE \"HASHTAG\".\"NAME\" = ?\n",
      "2025-03-07 12:19:42,225 INFO sqlalchemy.engine.Engine [cached since 0.01946s ago] ('새로운 태그3',)\n",
      "2025-03-07 12:19:42,225 INFO sqlalchemy.engine.Engine INSERT INTO \"HASHTAG\" (\"NAME\", \"COUNT\") VALUES (?, ?)\n",
      "2025-03-07 12:19:42,225 INFO sqlalchemy.engine.Engine [cached since 0.009557s ago] ('새로운 태그3', 0)\n",
      "2025-03-07 12:19:42,226 INFO sqlalchemy.engine.Engine COMMIT\n",
      "2025-03-07 12:19:42,226 INFO sqlalchemy.engine.Engine BEGIN (implicit)\n",
      "2025-03-07 12:19:42,227 INFO sqlalchemy.engine.Engine SELECT \"HASHTAG\".\"PK\" AS \"HASHTAG_PK\", \"HASHTAG\".\"NAME\" AS \"HASHTAG_NAME\", \"HASHTAG\".\"COUNT\" AS \"HASHTAG_COUNT\" \n",
      "FROM \"HASHTAG\" \n",
      "WHERE \"HASHTAG\".\"PK\" = ?\n",
      "2025-03-07 12:19:42,227 INFO sqlalchemy.engine.Engine [cached since 0.009072s ago] (5,)\n",
      "2025-03-07 12:19:42,228 INFO sqlalchemy.engine.Engine UPDATE \"HASHTAG\" SET \"COUNT\"=? WHERE \"HASHTAG\".\"PK\" = ?\n",
      "2025-03-07 12:19:42,228 INFO sqlalchemy.engine.Engine [cached since 0.01956s ago] (1, 5)\n",
      "2025-03-07 12:19:42,229 INFO sqlalchemy.engine.Engine SELECT \"POST\".\"PK\" AS \"POST_PK\", \"POST\".\"CONTENT\" AS \"POST_CONTENT\" \n",
      "FROM \"POST\" \n",
      "WHERE \"POST\".\"PK\" = ?\n",
      "2025-03-07 12:19:42,229 INFO sqlalchemy.engine.Engine [cached since 0.01873s ago] (2,)\n",
      "2025-03-07 12:19:42,229 INFO sqlalchemy.engine.Engine SELECT \"PH\".\"PK\" AS \"PH_PK\", \"PH\".\"PFK\" AS \"PH_PFK\", \"PH\".\"HFK\" AS \"PH_HFK\" \n",
      "FROM \"PH\" \n",
      "WHERE ? = \"PH\".\"PFK\"\n",
      "2025-03-07 12:19:42,230 INFO sqlalchemy.engine.Engine [cached since 0.01844s ago] (2,)\n",
      "2025-03-07 12:19:42,230 INFO sqlalchemy.engine.Engine INSERT INTO \"PH\" (\"PFK\", \"HFK\") VALUES (?, ?)\n",
      "2025-03-07 12:19:42,231 INFO sqlalchemy.engine.Engine [cached since 0.01764s ago] (2, 5)\n",
      "2025-03-07 12:19:42,232 INFO sqlalchemy.engine.Engine COMMIT\n"
     ]
    }
   ],
   "source": [
    "new_p.add(sess, '새로운 태그1', '새로운 태그2', '새로운 태그3')"
   ]
  },
  {
   "cell_type": "code",
   "execution_count": 34,
   "metadata": {},
   "outputs": [
    {
     "name": "stdout",
     "output_type": "stream",
     "text": [
      "2025-03-07 12:19:43,227 INFO sqlalchemy.engine.Engine BEGIN (implicit)\n",
      "2025-03-07 12:19:43,229 INFO sqlalchemy.engine.Engine SELECT \"POST\".\"PK\" AS \"POST_PK\", \"POST\".\"CONTENT\" AS \"POST_CONTENT\" \n",
      "FROM \"POST\" \n",
      "WHERE \"POST\".\"PK\" = ?\n",
      "2025-03-07 12:19:43,229 INFO sqlalchemy.engine.Engine [cached since 1.019s ago] (2,)\n",
      "2025-03-07 12:19:43,231 INFO sqlalchemy.engine.Engine SELECT \"PH\".\"PK\" AS \"PH_PK\", \"PH\".\"PFK\" AS \"PH_PFK\", \"PH\".\"HFK\" AS \"PH_HFK\" \n",
      "FROM \"PH\" \n",
      "WHERE ? = \"PH\".\"PFK\"\n",
      "2025-03-07 12:19:43,231 INFO sqlalchemy.engine.Engine [cached since 1.02s ago] (2,)\n",
      "2025-03-07 12:19:43,232 INFO sqlalchemy.engine.Engine SELECT \"HASHTAG\".\"PK\" AS \"HASHTAG_PK\", \"HASHTAG\".\"NAME\" AS \"HASHTAG_NAME\", \"HASHTAG\".\"COUNT\" AS \"HASHTAG_COUNT\" \n",
      "FROM \"HASHTAG\" \n",
      "WHERE \"HASHTAG\".\"PK\" = ?\n",
      "2025-03-07 12:19:43,232 INFO sqlalchemy.engine.Engine [generated in 0.00047s] (1,)\n"
     ]
    },
    {
     "data": {
      "text/plain": [
       "('새로운 게시글', 3, '새로운 태그1', 1)"
      ]
     },
     "execution_count": 34,
     "metadata": {},
     "output_type": "execute_result"
    }
   ],
   "source": [
    "new_p.content, len(new_p.tags), new_p.tags[0].tag.name, new_p.tags[0].tag.count"
   ]
  },
  {
   "cell_type": "code",
   "execution_count": 35,
   "metadata": {},
   "outputs": [
    {
     "name": "stdout",
     "output_type": "stream",
     "text": [
      "2025-03-07 12:19:44,741 INFO sqlalchemy.engine.Engine SELECT \"HASHTAG\".\"PK\" AS \"HASHTAG_PK\", \"HASHTAG\".\"NAME\" AS \"HASHTAG_NAME\", \"HASHTAG\".\"COUNT\" AS \"HASHTAG_COUNT\" \n",
      "FROM \"HASHTAG\" \n",
      "WHERE \"HASHTAG\".\"PK\" = ?\n",
      "2025-03-07 12:19:44,742 INFO sqlalchemy.engine.Engine [cached since 1.51s ago] (4,)\n"
     ]
    },
    {
     "data": {
      "text/plain": [
       "('새로운 게시글', 3, '새로운 태그2', 1)"
      ]
     },
     "execution_count": 35,
     "metadata": {},
     "output_type": "execute_result"
    }
   ],
   "source": [
    "new_p.content, len(new_p.tags), new_p.tags[1].tag.name, new_p.tags[1].tag.count"
   ]
  }
 ],
 "metadata": {
  "kernelspec": {
   "display_name": "Python 3",
   "language": "python",
   "name": "python3"
  },
  "language_info": {
   "codemirror_mode": {
    "name": "ipython",
    "version": 3
   },
   "file_extension": ".py",
   "mimetype": "text/x-python",
   "name": "python",
   "nbconvert_exporter": "python",
   "pygments_lexer": "ipython3",
   "version": "3.11.2"
  }
 },
 "nbformat": 4,
 "nbformat_minor": 2
}
