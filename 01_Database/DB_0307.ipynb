{
 "cells": [
  {
   "cell_type": "code",
   "execution_count": null,
   "metadata": {},
   "outputs": [],
   "source": [
    "#            ORM-Python           DBMS          Database\n",
    "#            SQLAlchemy          SQLite           FILE\n",
    "#             engine -> connect\n",
    "#                       dialect   *SQL(Params)     관리\n",
    "#            MetaData(Object)\n",
    "#            Table(Column)\n",
    "#            sql(select, insert, ...)\n",
    "#            MetaData(Table) <---> Database.Table\n",
    "# 상위 클래스 상속 -> 클래스 선언 -> 객체 생성\n",
    "# MetaData     -> 등록      -> 객체 생성(Row->insert), 객체 수정(Row->update)\n",
    "# Class <----> Metadata(Table) <-----> Database.Table\n",
    "# ---------------------------=> Session\n",
    "# ORM은 데이터 관리가 목적. "
   ]
  },
  {
   "cell_type": "code",
   "execution_count": 102,
   "metadata": {},
   "outputs": [],
   "source": [
    "import sqlite3\n",
    "import sqlalchemy"
   ]
  },
  {
   "cell_type": "code",
   "execution_count": 103,
   "metadata": {},
   "outputs": [],
   "source": [
    "from sqlalchemy.orm import declarative_base, sessionmaker\n",
    "from sqlalchemy.types import Integer, Text\n",
    "from sqlalchemy.schema import ForeignKey, Column\n",
    "from sqlalchemy.engine import create_engine"
   ]
  },
  {
   "cell_type": "code",
   "execution_count": 104,
   "metadata": {},
   "outputs": [],
   "source": [
    "base = declarative_base()"
   ]
  },
  {
   "cell_type": "code",
   "execution_count": 105,
   "metadata": {},
   "outputs": [
    {
     "data": {
      "text/plain": [
       "FacadeDict({})"
      ]
     },
     "execution_count": 105,
     "metadata": {},
     "output_type": "execute_result"
    }
   ],
   "source": [
    "base.metadata.tables"
   ]
  },
  {
   "cell_type": "code",
   "execution_count": 106,
   "metadata": {},
   "outputs": [],
   "source": [
    "engine = create_engine('sqlite:///:memory:', echo=True)"
   ]
  },
  {
   "cell_type": "code",
   "execution_count": 107,
   "metadata": {},
   "outputs": [
    {
     "data": {
      "text/plain": [
       "['__abstract__',\n",
       " '__class__',\n",
       " '__delattr__',\n",
       " '__dict__',\n",
       " '__dir__',\n",
       " '__doc__',\n",
       " '__eq__',\n",
       " '__format__',\n",
       " '__ge__',\n",
       " '__getattribute__',\n",
       " '__getstate__',\n",
       " '__gt__',\n",
       " '__hash__',\n",
       " '__init__',\n",
       " '__init_subclass__',\n",
       " '__le__',\n",
       " '__lt__',\n",
       " '__module__',\n",
       " '__ne__',\n",
       " '__new__',\n",
       " '__reduce__',\n",
       " '__reduce_ex__',\n",
       " '__repr__',\n",
       " '__setattr__',\n",
       " '__sizeof__',\n",
       " '__str__',\n",
       " '__subclasshook__',\n",
       " '__weakref__',\n",
       " '_sa_registry',\n",
       " 'metadata',\n",
       " 'registry']"
      ]
     },
     "execution_count": 107,
     "metadata": {},
     "output_type": "execute_result"
    }
   ],
   "source": [
    "dir(base)"
   ]
  },
  {
   "cell_type": "code",
   "execution_count": 108,
   "metadata": {},
   "outputs": [],
   "source": [
    "# 서버랑 상관없이 클라이언트에서 작업, 싱크를 반드시 맞출 것\n",
    "base.registry.dispose() # base에 등록된 class만 날린다\n",
    "# base.metadata.clear()   # meta에 등록된 Table 객체를 날린다"
   ]
  },
  {
   "cell_type": "code",
   "execution_count": 109,
   "metadata": {},
   "outputs": [],
   "source": [
    "class User(base):\n",
    "    __tablename__ = 'USER'\n",
    "    # __table_args__ = {'extend_existing': True}\n",
    "    \n",
    "    pk = Column('PK', Integer, primary_key=True)\n",
    "    name = Column('NAME', Text, nullable=False)"
   ]
  },
  {
   "cell_type": "code",
   "execution_count": 110,
   "metadata": {},
   "outputs": [
    {
     "data": {
      "text/plain": [
       "FacadeDict({'USER': Table('USER', MetaData(), Column('PK', Integer(), table=<USER>, primary_key=True, nullable=False), Column('NAME', Text(), table=<USER>, nullable=False), schema=None)})"
      ]
     },
     "execution_count": 110,
     "metadata": {},
     "output_type": "execute_result"
    }
   ],
   "source": [
    "base.metadata.tables"
   ]
  },
  {
   "cell_type": "code",
   "execution_count": 111,
   "metadata": {},
   "outputs": [],
   "source": [
    "user1 = User(name='사람1')"
   ]
  },
  {
   "cell_type": "code",
   "execution_count": 112,
   "metadata": {},
   "outputs": [
    {
     "data": {
      "text/plain": [
       "(None, '사람1')"
      ]
     },
     "execution_count": 112,
     "metadata": {},
     "output_type": "execute_result"
    }
   ],
   "source": [
    "user1.pk, user1.name # Class->Instance 값 조회(DB와 무관함)"
   ]
  },
  {
   "cell_type": "code",
   "execution_count": 113,
   "metadata": {},
   "outputs": [
    {
     "name": "stdout",
     "output_type": "stream",
     "text": [
      "2025-03-07 10:26:49,111 INFO sqlalchemy.engine.Engine BEGIN (implicit)\n",
      "2025-03-07 10:26:49,111 INFO sqlalchemy.engine.Engine PRAGMA main.table_info(\"USER\")\n",
      "2025-03-07 10:26:49,112 INFO sqlalchemy.engine.Engine [raw sql] ()\n",
      "2025-03-07 10:26:49,113 INFO sqlalchemy.engine.Engine PRAGMA temp.table_info(\"USER\")\n",
      "2025-03-07 10:26:49,113 INFO sqlalchemy.engine.Engine [raw sql] ()\n",
      "2025-03-07 10:26:49,114 INFO sqlalchemy.engine.Engine \n",
      "CREATE TABLE \"USER\" (\n",
      "\t\"PK\" INTEGER NOT NULL, \n",
      "\t\"NAME\" TEXT NOT NULL, \n",
      "\tPRIMARY KEY (\"PK\")\n",
      ")\n",
      "\n",
      "\n",
      "2025-03-07 10:26:49,114 INFO sqlalchemy.engine.Engine [no key 0.00027s] ()\n",
      "2025-03-07 10:26:49,115 INFO sqlalchemy.engine.Engine COMMIT\n"
     ]
    }
   ],
   "source": [
    "base.metadata.create_all(engine)\n",
    "# Class(base) 선언, Instance 생성 -> MetaData(Table 객체 등록) -> engine.dialect가 Table 객체를 SQL로 변환\n",
    "# "
   ]
  },
  {
   "cell_type": "code",
   "execution_count": 114,
   "metadata": {},
   "outputs": [],
   "source": [
    "# Instance <-------> 물리적DB\n",
    "#        connect(engine)\n",
    "sess = sessionmaker()\n",
    "sess.bind = engine"
   ]
  },
  {
   "cell_type": "code",
   "execution_count": 115,
   "metadata": {},
   "outputs": [],
   "source": [
    "s = sess()"
   ]
  },
  {
   "cell_type": "code",
   "execution_count": 116,
   "metadata": {},
   "outputs": [],
   "source": [
    "s.bind = engine"
   ]
  },
  {
   "cell_type": "code",
   "execution_count": 117,
   "metadata": {},
   "outputs": [],
   "source": [
    "s.add(user1)"
   ]
  },
  {
   "cell_type": "code",
   "execution_count": 118,
   "metadata": {},
   "outputs": [
    {
     "data": {
      "text/plain": [
       "(IdentitySet([]), True)"
      ]
     },
     "execution_count": 118,
     "metadata": {},
     "output_type": "execute_result"
    }
   ],
   "source": [
    "s.dirty, s.is_modified(user1)\n",
    "# session이 db에 기로 및 수정에 차이점이 있는지,\n",
    "# session이 관리중인 객체가 변화가 있는지"
   ]
  },
  {
   "cell_type": "code",
   "execution_count": 119,
   "metadata": {},
   "outputs": [],
   "source": [
    "s.add(User(name='사람2'))"
   ]
  },
  {
   "cell_type": "code",
   "execution_count": 120,
   "metadata": {},
   "outputs": [],
   "source": [
    "s.rollback()\n",
    "s.commit()"
   ]
  },
  {
   "cell_type": "code",
   "execution_count": 121,
   "metadata": {},
   "outputs": [],
   "source": [
    "user1.pk"
   ]
  },
  {
   "cell_type": "code",
   "execution_count": 122,
   "metadata": {},
   "outputs": [
    {
     "name": "stdout",
     "output_type": "stream",
     "text": [
      "2025-03-07 10:27:43,078 INFO sqlalchemy.engine.Engine ROLLBACK\n"
     ]
    },
    {
     "name": "stderr",
     "output_type": "stream",
     "text": [
      "/var/folders/rp/63vh6wpj4w7_sq93lr8wwmm00000gn/T/ipykernel_4550/1955662118.py:2: SADeprecationWarning: The Session.close_all() method is deprecated and will be removed in a future release.  Please refer to session.close_all_sessions(). (deprecated since: 1.3)\n",
      "  sess.close_all()\n"
     ]
    }
   ],
   "source": [
    "s.close()\n",
    "sess.close_all()"
   ]
  },
  {
   "cell_type": "code",
   "execution_count": 123,
   "metadata": {},
   "outputs": [],
   "source": [
    "session = sessionmaker()\n",
    "sess = session()\n",
    "sess.bind = engine"
   ]
  },
  {
   "cell_type": "code",
   "execution_count": 124,
   "metadata": {},
   "outputs": [],
   "source": [
    "sess.add(user1)"
   ]
  },
  {
   "cell_type": "code",
   "execution_count": 125,
   "metadata": {},
   "outputs": [
    {
     "name": "stdout",
     "output_type": "stream",
     "text": [
      "2025-03-07 10:27:48,448 INFO sqlalchemy.engine.Engine BEGIN (implicit)\n",
      "2025-03-07 10:27:48,450 INFO sqlalchemy.engine.Engine INSERT INTO \"USER\" (\"NAME\") VALUES (?)\n",
      "2025-03-07 10:27:48,451 INFO sqlalchemy.engine.Engine [generated in 0.00072s] ('사람1',)\n",
      "2025-03-07 10:27:48,452 INFO sqlalchemy.engine.Engine COMMIT\n"
     ]
    }
   ],
   "source": [
    "sess.commit()"
   ]
  },
  {
   "cell_type": "code",
   "execution_count": 126,
   "metadata": {},
   "outputs": [
    {
     "name": "stdout",
     "output_type": "stream",
     "text": [
      "2025-03-07 10:27:49,655 INFO sqlalchemy.engine.Engine BEGIN (implicit)\n",
      "2025-03-07 10:27:49,657 INFO sqlalchemy.engine.Engine SELECT \"USER\".\"PK\" AS \"USER_PK\", \"USER\".\"NAME\" AS \"USER_NAME\" \n",
      "FROM \"USER\" \n",
      "WHERE \"USER\".\"PK\" = ?\n",
      "2025-03-07 10:27:49,658 INFO sqlalchemy.engine.Engine [generated in 0.00079s] (1,)\n"
     ]
    },
    {
     "data": {
      "text/plain": [
       "1"
      ]
     },
     "execution_count": 126,
     "metadata": {},
     "output_type": "execute_result"
    }
   ],
   "source": [
    "user1.pk"
   ]
  },
  {
   "cell_type": "code",
   "execution_count": 127,
   "metadata": {},
   "outputs": [
    {
     "name": "stdout",
     "output_type": "stream",
     "text": [
      "2025-03-07 10:27:51,248 INFO sqlalchemy.engine.Engine SELECT \"USER\".\"PK\" AS \"USER_PK\", \"USER\".\"NAME\" AS \"USER_NAME\" \n",
      "FROM \"USER\"\n",
      "2025-03-07 10:27:51,249 INFO sqlalchemy.engine.Engine [generated in 0.00096s] ()\n"
     ]
    }
   ],
   "source": [
    "result = sess.query(User).all()\n",
    "# 세션이 관리하고 있는 객체들을 먼저 보고, \n",
    "# 메모리에서 충분히 관리할 수 있다고 판단이 되면 Execute -> fetchall"
   ]
  },
  {
   "cell_type": "code",
   "execution_count": 128,
   "metadata": {},
   "outputs": [
    {
     "data": {
      "text/plain": [
       "True"
      ]
     },
     "execution_count": 128,
     "metadata": {},
     "output_type": "execute_result"
    }
   ],
   "source": [
    "result[0] is user1"
   ]
  },
  {
   "cell_type": "code",
   "execution_count": 129,
   "metadata": {},
   "outputs": [
    {
     "ename": "IndexError",
     "evalue": "list index out of range",
     "output_type": "error",
     "traceback": [
      "\u001b[0;31m---------------------------------------------------------------------------\u001b[0m",
      "\u001b[0;31mIndexError\u001b[0m                                Traceback (most recent call last)",
      "Cell \u001b[0;32mIn[129], line 1\u001b[0m\n\u001b[0;32m----> 1\u001b[0m \u001b[43mresult\u001b[49m\u001b[43m[\u001b[49m\u001b[38;5;241;43m1\u001b[39;49m\u001b[43m]\u001b[49m\u001b[38;5;241m.\u001b[39mname\n",
      "\u001b[0;31mIndexError\u001b[0m: list index out of range"
     ]
    }
   ],
   "source": [
    "result[1].name"
   ]
  },
  {
   "cell_type": "code",
   "execution_count": 69,
   "metadata": {},
   "outputs": [
    {
     "data": {
      "text/plain": [
       "IdentitySet([])"
      ]
     },
     "execution_count": 69,
     "metadata": {},
     "output_type": "execute_result"
    }
   ],
   "source": [
    "sess.dirty"
   ]
  },
  {
   "cell_type": "code",
   "execution_count": 74,
   "metadata": {},
   "outputs": [
    {
     "name": "stdout",
     "output_type": "stream",
     "text": [
      "2025-03-07 09:42:56,842 INFO sqlalchemy.engine.Engine ROLLBACK\n"
     ]
    }
   ],
   "source": [
    "sess.close()\n",
    "base.registry.dispose()"
   ]
  },
  {
   "cell_type": "code",
   "execution_count": 76,
   "metadata": {},
   "outputs": [
    {
     "data": {
      "text/plain": [
       "FacadeDict({'USER': Table('USER', MetaData(), Column('PK', Integer(), table=<USER>, primary_key=True, nullable=False), Column('NAME', Text(), table=<USER>, nullable=False), schema=None)})"
      ]
     },
     "execution_count": 76,
     "metadata": {},
     "output_type": "execute_result"
    }
   ],
   "source": [
    "base.metadata.tables"
   ]
  },
  {
   "cell_type": "code",
   "execution_count": 77,
   "metadata": {},
   "outputs": [],
   "source": [
    "base.metadata.clear()"
   ]
  },
  {
   "cell_type": "code",
   "execution_count": 78,
   "metadata": {},
   "outputs": [],
   "source": [
    "sess.bind = engine"
   ]
  },
  {
   "cell_type": "code",
   "execution_count": 79,
   "metadata": {},
   "outputs": [
    {
     "name": "stdout",
     "output_type": "stream",
     "text": [
      "2025-03-07 09:44:06,645 INFO sqlalchemy.engine.Engine BEGIN (implicit)\n",
      "2025-03-07 09:44:06,646 INFO sqlalchemy.engine.Engine SELECT name FROM sqlite_master WHERE type='table' AND name NOT LIKE 'sqlite~_%' ESCAPE '~' ORDER BY name\n",
      "2025-03-07 09:44:06,646 INFO sqlalchemy.engine.Engine [raw sql] ()\n",
      "2025-03-07 09:44:06,647 INFO sqlalchemy.engine.Engine SELECT name FROM sqlite_temp_master WHERE type='table' AND name NOT LIKE 'sqlite~_%' ESCAPE '~' ORDER BY name\n",
      "2025-03-07 09:44:06,648 INFO sqlalchemy.engine.Engine [raw sql] ()\n",
      "2025-03-07 09:44:06,648 INFO sqlalchemy.engine.Engine PRAGMA main.table_xinfo(\"USER\")\n",
      "2025-03-07 09:44:06,648 INFO sqlalchemy.engine.Engine [raw sql] ()\n",
      "2025-03-07 09:44:06,649 INFO sqlalchemy.engine.Engine SELECT sql FROM  (SELECT * FROM sqlite_master UNION ALL   SELECT * FROM sqlite_temp_master) WHERE name = ? AND type in ('table', 'view')\n",
      "2025-03-07 09:44:06,649 INFO sqlalchemy.engine.Engine [raw sql] ('USER',)\n",
      "2025-03-07 09:44:06,650 INFO sqlalchemy.engine.Engine PRAGMA main.foreign_key_list(\"USER\")\n",
      "2025-03-07 09:44:06,650 INFO sqlalchemy.engine.Engine [raw sql] ()\n",
      "2025-03-07 09:44:06,650 INFO sqlalchemy.engine.Engine PRAGMA temp.foreign_key_list(\"USER\")\n",
      "2025-03-07 09:44:06,651 INFO sqlalchemy.engine.Engine [raw sql] ()\n",
      "2025-03-07 09:44:06,651 INFO sqlalchemy.engine.Engine SELECT sql FROM  (SELECT * FROM sqlite_master UNION ALL   SELECT * FROM sqlite_temp_master) WHERE name = ? AND type in ('table', 'view')\n",
      "2025-03-07 09:44:06,651 INFO sqlalchemy.engine.Engine [raw sql] ('USER',)\n",
      "2025-03-07 09:44:06,652 INFO sqlalchemy.engine.Engine PRAGMA main.index_list(\"USER\")\n",
      "2025-03-07 09:44:06,653 INFO sqlalchemy.engine.Engine [raw sql] ()\n",
      "2025-03-07 09:44:06,653 INFO sqlalchemy.engine.Engine PRAGMA temp.index_list(\"USER\")\n",
      "2025-03-07 09:44:06,653 INFO sqlalchemy.engine.Engine [raw sql] ()\n",
      "2025-03-07 09:44:06,654 INFO sqlalchemy.engine.Engine PRAGMA main.table_info(\"USER\")\n",
      "2025-03-07 09:44:06,654 INFO sqlalchemy.engine.Engine [raw sql] ()\n",
      "2025-03-07 09:44:06,654 INFO sqlalchemy.engine.Engine PRAGMA main.index_list(\"USER\")\n",
      "2025-03-07 09:44:06,655 INFO sqlalchemy.engine.Engine [raw sql] ()\n",
      "2025-03-07 09:44:06,655 INFO sqlalchemy.engine.Engine PRAGMA temp.index_list(\"USER\")\n",
      "2025-03-07 09:44:06,655 INFO sqlalchemy.engine.Engine [raw sql] ()\n",
      "2025-03-07 09:44:06,655 INFO sqlalchemy.engine.Engine PRAGMA main.table_info(\"USER\")\n",
      "2025-03-07 09:44:06,655 INFO sqlalchemy.engine.Engine [raw sql] ()\n",
      "2025-03-07 09:44:06,656 INFO sqlalchemy.engine.Engine SELECT sql FROM  (SELECT * FROM sqlite_master UNION ALL   SELECT * FROM sqlite_temp_master) WHERE name = ? AND type in ('table', 'view')\n",
      "2025-03-07 09:44:06,656 INFO sqlalchemy.engine.Engine [raw sql] ('USER',)\n",
      "2025-03-07 09:44:06,657 INFO sqlalchemy.engine.Engine ROLLBACK\n"
     ]
    }
   ],
   "source": [
    "base.metadata.reflect(engine)"
   ]
  },
  {
   "cell_type": "code",
   "execution_count": 80,
   "metadata": {},
   "outputs": [
    {
     "data": {
      "text/plain": [
       "FacadeDict({'USER': Table('USER', MetaData(), Column('PK', INTEGER(), table=<USER>, primary_key=True, nullable=False), Column('NAME', TEXT(), table=<USER>, nullable=False), schema=None)})"
      ]
     },
     "execution_count": 80,
     "metadata": {},
     "output_type": "execute_result"
    }
   ],
   "source": [
    "base.metadata.tables"
   ]
  },
  {
   "cell_type": "code",
   "execution_count": 84,
   "metadata": {},
   "outputs": [
    {
     "name": "stderr",
     "output_type": "stream",
     "text": [
      "/var/folders/rp/63vh6wpj4w7_sq93lr8wwmm00000gn/T/ipykernel_4550/4147149204.py:1: SAWarning: This declarative base already contains a class with the same class name and module name as __main__.NewUser, and will be replaced in the string-lookup table.\n",
      "  class NewUser(base):\n"
     ]
    }
   ],
   "source": [
    "class NewUser(base):\n",
    "    __table__ = base.metadata.tables['USER']\n",
    "    \n",
    "    NO = base.metadata.tables['USER'].c['PK']\n",
    "    NAME = base.metadata.tables['USER'].c['NAME']\n",
    "    # 클래스와 메타데이터.테이블 객체의 연결만 잘 시키면 됨.\n",
    "    \n",
    "    def print(self):\n",
    "        print(self.NO, self.NAME)"
   ]
  },
  {
   "cell_type": "code",
   "execution_count": 85,
   "metadata": {},
   "outputs": [],
   "source": [
    "r = sess.query(NewUser).all"
   ]
  },
  {
   "cell_type": "code",
   "execution_count": 86,
   "metadata": {},
   "outputs": [
    {
     "ename": "TypeError",
     "evalue": "'method' object is not subscriptable",
     "output_type": "error",
     "traceback": [
      "\u001b[0;31m---------------------------------------------------------------------------\u001b[0m",
      "\u001b[0;31mTypeError\u001b[0m                                 Traceback (most recent call last)",
      "Cell \u001b[0;32mIn[86], line 1\u001b[0m\n\u001b[0;32m----> 1\u001b[0m \u001b[43mr\u001b[49m\u001b[43m[\u001b[49m\u001b[38;5;241;43m0\u001b[39;49m\u001b[43m]\u001b[49m\u001b[38;5;241m.\u001b[39mprint(), r[\u001b[38;5;241m1\u001b[39m]\u001b[38;5;241m.\u001b[39mprint()\n",
      "\u001b[0;31mTypeError\u001b[0m: 'method' object is not subscriptable"
     ]
    }
   ],
   "source": [
    "r[0].print(), r[1].print()"
   ]
  },
  {
   "cell_type": "code",
   "execution_count": 87,
   "metadata": {},
   "outputs": [
    {
     "data": {
      "text/plain": [
       "IdentitySet([])"
      ]
     },
     "execution_count": 87,
     "metadata": {},
     "output_type": "execute_result"
    }
   ],
   "source": [
    "sess.dirty"
   ]
  },
  {
   "cell_type": "code",
   "execution_count": 91,
   "metadata": {},
   "outputs": [],
   "source": [
    "sess.close()\n",
    "base.registry.dispose()\n",
    "base.metadata.clear()"
   ]
  },
  {
   "cell_type": "code",
   "execution_count": 93,
   "metadata": {},
   "outputs": [
    {
     "name": "stdout",
     "output_type": "stream",
     "text": [
      "2025-03-07 09:52:01,316 INFO sqlalchemy.engine.Engine BEGIN (implicit)\n",
      "2025-03-07 09:52:01,316 INFO sqlalchemy.engine.Engine SELECT name FROM sqlite_master WHERE type='table' AND name NOT LIKE 'sqlite~_%' ESCAPE '~' ORDER BY name\n",
      "2025-03-07 09:52:01,317 INFO sqlalchemy.engine.Engine [raw sql] ()\n",
      "2025-03-07 09:52:01,318 INFO sqlalchemy.engine.Engine SELECT name FROM sqlite_temp_master WHERE type='table' AND name NOT LIKE 'sqlite~_%' ESCAPE '~' ORDER BY name\n",
      "2025-03-07 09:52:01,318 INFO sqlalchemy.engine.Engine [raw sql] ()\n",
      "2025-03-07 09:52:01,318 INFO sqlalchemy.engine.Engine PRAGMA main.table_xinfo(\"ALBUM\")\n",
      "2025-03-07 09:52:01,318 INFO sqlalchemy.engine.Engine [raw sql] ()\n",
      "2025-03-07 09:52:01,319 INFO sqlalchemy.engine.Engine PRAGMA main.table_xinfo(\"ARTIST\")\n",
      "2025-03-07 09:52:01,319 INFO sqlalchemy.engine.Engine [raw sql] ()\n",
      "2025-03-07 09:52:01,319 INFO sqlalchemy.engine.Engine PRAGMA main.table_xinfo(\"CITY\")\n",
      "2025-03-07 09:52:01,320 INFO sqlalchemy.engine.Engine [raw sql] ()\n",
      "2025-03-07 09:52:01,320 INFO sqlalchemy.engine.Engine PRAGMA main.table_xinfo(\"PART\")\n",
      "2025-03-07 09:52:01,320 INFO sqlalchemy.engine.Engine [raw sql] ()\n",
      "2025-03-07 09:52:01,321 INFO sqlalchemy.engine.Engine PRAGMA main.table_xinfo(\"SELLS\")\n",
      "2025-03-07 09:52:01,321 INFO sqlalchemy.engine.Engine [raw sql] ()\n",
      "2025-03-07 09:52:01,321 INFO sqlalchemy.engine.Engine PRAGMA main.table_xinfo(\"SUPPLIER\")\n",
      "2025-03-07 09:52:01,321 INFO sqlalchemy.engine.Engine [raw sql] ()\n",
      "2025-03-07 09:52:01,322 INFO sqlalchemy.engine.Engine SELECT sql FROM  (SELECT * FROM sqlite_master UNION ALL   SELECT * FROM sqlite_temp_master) WHERE name = ? AND type in ('table', 'view')\n",
      "2025-03-07 09:52:01,322 INFO sqlalchemy.engine.Engine [raw sql] ('ALBUM',)\n",
      "2025-03-07 09:52:01,322 INFO sqlalchemy.engine.Engine SELECT sql FROM  (SELECT * FROM sqlite_master UNION ALL   SELECT * FROM sqlite_temp_master) WHERE name = ? AND type in ('table', 'view')\n",
      "2025-03-07 09:52:01,322 INFO sqlalchemy.engine.Engine [raw sql] ('ARTIST',)\n",
      "2025-03-07 09:52:01,323 INFO sqlalchemy.engine.Engine SELECT sql FROM  (SELECT * FROM sqlite_master UNION ALL   SELECT * FROM sqlite_temp_master) WHERE name = ? AND type in ('table', 'view')\n",
      "2025-03-07 09:52:01,323 INFO sqlalchemy.engine.Engine [raw sql] ('CITY',)\n",
      "2025-03-07 09:52:01,324 INFO sqlalchemy.engine.Engine SELECT sql FROM  (SELECT * FROM sqlite_master UNION ALL   SELECT * FROM sqlite_temp_master) WHERE name = ? AND type in ('table', 'view')\n",
      "2025-03-07 09:52:01,324 INFO sqlalchemy.engine.Engine [raw sql] ('PART',)\n",
      "2025-03-07 09:52:01,325 INFO sqlalchemy.engine.Engine SELECT sql FROM  (SELECT * FROM sqlite_master UNION ALL   SELECT * FROM sqlite_temp_master) WHERE name = ? AND type in ('table', 'view')\n",
      "2025-03-07 09:52:01,325 INFO sqlalchemy.engine.Engine [raw sql] ('SELLS',)\n",
      "2025-03-07 09:52:01,326 INFO sqlalchemy.engine.Engine SELECT sql FROM  (SELECT * FROM sqlite_master UNION ALL   SELECT * FROM sqlite_temp_master) WHERE name = ? AND type in ('table', 'view')\n",
      "2025-03-07 09:52:01,327 INFO sqlalchemy.engine.Engine [raw sql] ('SUPPLIER',)\n",
      "2025-03-07 09:52:01,327 INFO sqlalchemy.engine.Engine PRAGMA main.foreign_key_list(\"ALBUM\")\n",
      "2025-03-07 09:52:01,327 INFO sqlalchemy.engine.Engine [raw sql] ()\n",
      "2025-03-07 09:52:01,328 INFO sqlalchemy.engine.Engine SELECT sql FROM  (SELECT * FROM sqlite_master UNION ALL   SELECT * FROM sqlite_temp_master) WHERE name = ? AND type in ('table', 'view')\n",
      "2025-03-07 09:52:01,328 INFO sqlalchemy.engine.Engine [raw sql] ('ALBUM',)\n",
      "2025-03-07 09:52:01,329 INFO sqlalchemy.engine.Engine PRAGMA main.foreign_key_list(\"ARTIST\")\n",
      "2025-03-07 09:52:01,329 INFO sqlalchemy.engine.Engine [raw sql] ()\n",
      "2025-03-07 09:52:01,329 INFO sqlalchemy.engine.Engine PRAGMA temp.foreign_key_list(\"ARTIST\")\n",
      "2025-03-07 09:52:01,329 INFO sqlalchemy.engine.Engine [raw sql] ()\n",
      "2025-03-07 09:52:01,330 INFO sqlalchemy.engine.Engine SELECT sql FROM  (SELECT * FROM sqlite_master UNION ALL   SELECT * FROM sqlite_temp_master) WHERE name = ? AND type in ('table', 'view')\n",
      "2025-03-07 09:52:01,330 INFO sqlalchemy.engine.Engine [raw sql] ('ARTIST',)\n",
      "2025-03-07 09:52:01,330 INFO sqlalchemy.engine.Engine PRAGMA main.foreign_key_list(\"CITY\")\n",
      "2025-03-07 09:52:01,330 INFO sqlalchemy.engine.Engine [raw sql] ()\n",
      "2025-03-07 09:52:01,331 INFO sqlalchemy.engine.Engine PRAGMA temp.foreign_key_list(\"CITY\")\n",
      "2025-03-07 09:52:01,331 INFO sqlalchemy.engine.Engine [raw sql] ()\n",
      "2025-03-07 09:52:01,331 INFO sqlalchemy.engine.Engine SELECT sql FROM  (SELECT * FROM sqlite_master UNION ALL   SELECT * FROM sqlite_temp_master) WHERE name = ? AND type in ('table', 'view')\n",
      "2025-03-07 09:52:01,331 INFO sqlalchemy.engine.Engine [raw sql] ('CITY',)\n",
      "2025-03-07 09:52:01,332 INFO sqlalchemy.engine.Engine PRAGMA main.foreign_key_list(\"PART\")\n",
      "2025-03-07 09:52:01,332 INFO sqlalchemy.engine.Engine [raw sql] ()\n",
      "2025-03-07 09:52:01,333 INFO sqlalchemy.engine.Engine PRAGMA temp.foreign_key_list(\"PART\")\n",
      "2025-03-07 09:52:01,333 INFO sqlalchemy.engine.Engine [raw sql] ()\n",
      "2025-03-07 09:52:01,333 INFO sqlalchemy.engine.Engine SELECT sql FROM  (SELECT * FROM sqlite_master UNION ALL   SELECT * FROM sqlite_temp_master) WHERE name = ? AND type in ('table', 'view')\n",
      "2025-03-07 09:52:01,333 INFO sqlalchemy.engine.Engine [raw sql] ('PART',)\n",
      "2025-03-07 09:52:01,334 INFO sqlalchemy.engine.Engine PRAGMA main.foreign_key_list(\"SELLS\")\n",
      "2025-03-07 09:52:01,334 INFO sqlalchemy.engine.Engine [raw sql] ()\n",
      "2025-03-07 09:52:01,335 INFO sqlalchemy.engine.Engine PRAGMA temp.foreign_key_list(\"SELLS\")\n",
      "2025-03-07 09:52:01,335 INFO sqlalchemy.engine.Engine [raw sql] ()\n",
      "2025-03-07 09:52:01,335 INFO sqlalchemy.engine.Engine SELECT sql FROM  (SELECT * FROM sqlite_master UNION ALL   SELECT * FROM sqlite_temp_master) WHERE name = ? AND type in ('table', 'view')\n",
      "2025-03-07 09:52:01,336 INFO sqlalchemy.engine.Engine [raw sql] ('SELLS',)\n",
      "2025-03-07 09:52:01,336 INFO sqlalchemy.engine.Engine PRAGMA main.foreign_key_list(\"SUPPLIER\")\n",
      "2025-03-07 09:52:01,336 INFO sqlalchemy.engine.Engine [raw sql] ()\n",
      "2025-03-07 09:52:01,337 INFO sqlalchemy.engine.Engine PRAGMA temp.foreign_key_list(\"SUPPLIER\")\n",
      "2025-03-07 09:52:01,337 INFO sqlalchemy.engine.Engine [raw sql] ()\n",
      "2025-03-07 09:52:01,337 INFO sqlalchemy.engine.Engine SELECT sql FROM  (SELECT * FROM sqlite_master UNION ALL   SELECT * FROM sqlite_temp_master) WHERE name = ? AND type in ('table', 'view')\n",
      "2025-03-07 09:52:01,337 INFO sqlalchemy.engine.Engine [raw sql] ('SUPPLIER',)\n",
      "2025-03-07 09:52:01,338 INFO sqlalchemy.engine.Engine PRAGMA main.index_list(\"ALBUM\")\n",
      "2025-03-07 09:52:01,338 INFO sqlalchemy.engine.Engine [raw sql] ()\n",
      "2025-03-07 09:52:01,338 INFO sqlalchemy.engine.Engine PRAGMA temp.index_list(\"ALBUM\")\n",
      "2025-03-07 09:52:01,339 INFO sqlalchemy.engine.Engine [raw sql] ()\n",
      "2025-03-07 09:52:01,339 INFO sqlalchemy.engine.Engine PRAGMA main.table_info(\"ALBUM\")\n",
      "2025-03-07 09:52:01,339 INFO sqlalchemy.engine.Engine [raw sql] ()\n",
      "2025-03-07 09:52:01,340 INFO sqlalchemy.engine.Engine PRAGMA main.index_list(\"ARTIST\")\n",
      "2025-03-07 09:52:01,340 INFO sqlalchemy.engine.Engine [raw sql] ()\n",
      "2025-03-07 09:52:01,340 INFO sqlalchemy.engine.Engine PRAGMA temp.index_list(\"ARTIST\")\n",
      "2025-03-07 09:52:01,340 INFO sqlalchemy.engine.Engine [raw sql] ()\n",
      "2025-03-07 09:52:01,341 INFO sqlalchemy.engine.Engine PRAGMA main.table_info(\"ARTIST\")\n",
      "2025-03-07 09:52:01,341 INFO sqlalchemy.engine.Engine [raw sql] ()\n",
      "2025-03-07 09:52:01,341 INFO sqlalchemy.engine.Engine PRAGMA main.index_list(\"CITY\")\n",
      "2025-03-07 09:52:01,341 INFO sqlalchemy.engine.Engine [raw sql] ()\n",
      "2025-03-07 09:52:01,342 INFO sqlalchemy.engine.Engine PRAGMA temp.index_list(\"CITY\")\n",
      "2025-03-07 09:52:01,342 INFO sqlalchemy.engine.Engine [raw sql] ()\n",
      "2025-03-07 09:52:01,342 INFO sqlalchemy.engine.Engine PRAGMA main.table_info(\"CITY\")\n",
      "2025-03-07 09:52:01,343 INFO sqlalchemy.engine.Engine [raw sql] ()\n",
      "2025-03-07 09:52:01,343 INFO sqlalchemy.engine.Engine PRAGMA main.index_list(\"PART\")\n",
      "2025-03-07 09:52:01,343 INFO sqlalchemy.engine.Engine [raw sql] ()\n",
      "2025-03-07 09:52:01,344 INFO sqlalchemy.engine.Engine PRAGMA temp.index_list(\"PART\")\n",
      "2025-03-07 09:52:01,344 INFO sqlalchemy.engine.Engine [raw sql] ()\n",
      "2025-03-07 09:52:01,344 INFO sqlalchemy.engine.Engine PRAGMA main.table_info(\"PART\")\n",
      "2025-03-07 09:52:01,344 INFO sqlalchemy.engine.Engine [raw sql] ()\n",
      "2025-03-07 09:52:01,345 INFO sqlalchemy.engine.Engine PRAGMA main.index_list(\"SELLS\")\n",
      "2025-03-07 09:52:01,345 INFO sqlalchemy.engine.Engine [raw sql] ()\n",
      "2025-03-07 09:52:01,345 INFO sqlalchemy.engine.Engine PRAGMA temp.index_list(\"SELLS\")\n",
      "2025-03-07 09:52:01,346 INFO sqlalchemy.engine.Engine [raw sql] ()\n",
      "2025-03-07 09:52:01,346 INFO sqlalchemy.engine.Engine PRAGMA main.table_info(\"SELLS\")\n",
      "2025-03-07 09:52:01,346 INFO sqlalchemy.engine.Engine [raw sql] ()\n",
      "2025-03-07 09:52:01,346 INFO sqlalchemy.engine.Engine PRAGMA main.index_list(\"SUPPLIER\")\n",
      "2025-03-07 09:52:01,347 INFO sqlalchemy.engine.Engine [raw sql] ()\n",
      "2025-03-07 09:52:01,347 INFO sqlalchemy.engine.Engine PRAGMA temp.index_list(\"SUPPLIER\")\n",
      "2025-03-07 09:52:01,347 INFO sqlalchemy.engine.Engine [raw sql] ()\n",
      "2025-03-07 09:52:01,348 INFO sqlalchemy.engine.Engine PRAGMA main.table_info(\"SUPPLIER\")\n",
      "2025-03-07 09:52:01,348 INFO sqlalchemy.engine.Engine [raw sql] ()\n",
      "2025-03-07 09:52:01,348 INFO sqlalchemy.engine.Engine PRAGMA main.index_list(\"ALBUM\")\n",
      "2025-03-07 09:52:01,349 INFO sqlalchemy.engine.Engine [raw sql] ()\n",
      "2025-03-07 09:52:01,349 INFO sqlalchemy.engine.Engine PRAGMA temp.index_list(\"ALBUM\")\n",
      "2025-03-07 09:52:01,349 INFO sqlalchemy.engine.Engine [raw sql] ()\n",
      "2025-03-07 09:52:01,350 INFO sqlalchemy.engine.Engine PRAGMA main.table_info(\"ALBUM\")\n",
      "2025-03-07 09:52:01,350 INFO sqlalchemy.engine.Engine [raw sql] ()\n",
      "2025-03-07 09:52:01,350 INFO sqlalchemy.engine.Engine SELECT sql FROM  (SELECT * FROM sqlite_master UNION ALL   SELECT * FROM sqlite_temp_master) WHERE name = ? AND type in ('table', 'view')\n",
      "2025-03-07 09:52:01,350 INFO sqlalchemy.engine.Engine [raw sql] ('ALBUM',)\n",
      "2025-03-07 09:52:01,351 INFO sqlalchemy.engine.Engine PRAGMA main.index_list(\"ARTIST\")\n",
      "2025-03-07 09:52:01,351 INFO sqlalchemy.engine.Engine [raw sql] ()\n",
      "2025-03-07 09:52:01,351 INFO sqlalchemy.engine.Engine PRAGMA temp.index_list(\"ARTIST\")\n",
      "2025-03-07 09:52:01,351 INFO sqlalchemy.engine.Engine [raw sql] ()\n",
      "2025-03-07 09:52:01,352 INFO sqlalchemy.engine.Engine PRAGMA main.table_info(\"ARTIST\")\n",
      "2025-03-07 09:52:01,352 INFO sqlalchemy.engine.Engine [raw sql] ()\n",
      "2025-03-07 09:52:01,352 INFO sqlalchemy.engine.Engine SELECT sql FROM  (SELECT * FROM sqlite_master UNION ALL   SELECT * FROM sqlite_temp_master) WHERE name = ? AND type in ('table', 'view')\n",
      "2025-03-07 09:52:01,352 INFO sqlalchemy.engine.Engine [raw sql] ('ARTIST',)\n",
      "2025-03-07 09:52:01,353 INFO sqlalchemy.engine.Engine PRAGMA main.index_list(\"CITY\")\n",
      "2025-03-07 09:52:01,353 INFO sqlalchemy.engine.Engine [raw sql] ()\n",
      "2025-03-07 09:52:01,353 INFO sqlalchemy.engine.Engine PRAGMA temp.index_list(\"CITY\")\n",
      "2025-03-07 09:52:01,353 INFO sqlalchemy.engine.Engine [raw sql] ()\n",
      "2025-03-07 09:52:01,353 INFO sqlalchemy.engine.Engine PRAGMA main.table_info(\"CITY\")\n",
      "2025-03-07 09:52:01,354 INFO sqlalchemy.engine.Engine [raw sql] ()\n",
      "2025-03-07 09:52:01,354 INFO sqlalchemy.engine.Engine SELECT sql FROM  (SELECT * FROM sqlite_master UNION ALL   SELECT * FROM sqlite_temp_master) WHERE name = ? AND type in ('table', 'view')\n",
      "2025-03-07 09:52:01,354 INFO sqlalchemy.engine.Engine [raw sql] ('CITY',)\n",
      "2025-03-07 09:52:01,354 INFO sqlalchemy.engine.Engine PRAGMA main.index_list(\"PART\")\n",
      "2025-03-07 09:52:01,354 INFO sqlalchemy.engine.Engine [raw sql] ()\n",
      "2025-03-07 09:52:01,355 INFO sqlalchemy.engine.Engine PRAGMA temp.index_list(\"PART\")\n",
      "2025-03-07 09:52:01,355 INFO sqlalchemy.engine.Engine [raw sql] ()\n",
      "2025-03-07 09:52:01,355 INFO sqlalchemy.engine.Engine PRAGMA main.table_info(\"PART\")\n",
      "2025-03-07 09:52:01,355 INFO sqlalchemy.engine.Engine [raw sql] ()\n",
      "2025-03-07 09:52:01,356 INFO sqlalchemy.engine.Engine SELECT sql FROM  (SELECT * FROM sqlite_master UNION ALL   SELECT * FROM sqlite_temp_master) WHERE name = ? AND type in ('table', 'view')\n",
      "2025-03-07 09:52:01,356 INFO sqlalchemy.engine.Engine [raw sql] ('PART',)\n",
      "2025-03-07 09:52:01,356 INFO sqlalchemy.engine.Engine PRAGMA main.index_list(\"SELLS\")\n",
      "2025-03-07 09:52:01,356 INFO sqlalchemy.engine.Engine [raw sql] ()\n",
      "2025-03-07 09:52:01,357 INFO sqlalchemy.engine.Engine PRAGMA temp.index_list(\"SELLS\")\n",
      "2025-03-07 09:52:01,357 INFO sqlalchemy.engine.Engine [raw sql] ()\n",
      "2025-03-07 09:52:01,357 INFO sqlalchemy.engine.Engine PRAGMA main.table_info(\"SELLS\")\n",
      "2025-03-07 09:52:01,357 INFO sqlalchemy.engine.Engine [raw sql] ()\n",
      "2025-03-07 09:52:01,358 INFO sqlalchemy.engine.Engine SELECT sql FROM  (SELECT * FROM sqlite_master UNION ALL   SELECT * FROM sqlite_temp_master) WHERE name = ? AND type in ('table', 'view')\n",
      "2025-03-07 09:52:01,358 INFO sqlalchemy.engine.Engine [raw sql] ('SELLS',)\n",
      "2025-03-07 09:52:01,359 INFO sqlalchemy.engine.Engine PRAGMA main.index_list(\"SUPPLIER\")\n",
      "2025-03-07 09:52:01,359 INFO sqlalchemy.engine.Engine [raw sql] ()\n",
      "2025-03-07 09:52:01,359 INFO sqlalchemy.engine.Engine PRAGMA temp.index_list(\"SUPPLIER\")\n",
      "2025-03-07 09:52:01,360 INFO sqlalchemy.engine.Engine [raw sql] ()\n",
      "2025-03-07 09:52:01,360 INFO sqlalchemy.engine.Engine PRAGMA main.table_info(\"SUPPLIER\")\n",
      "2025-03-07 09:52:01,360 INFO sqlalchemy.engine.Engine [raw sql] ()\n",
      "2025-03-07 09:52:01,360 INFO sqlalchemy.engine.Engine SELECT sql FROM  (SELECT * FROM sqlite_master UNION ALL   SELECT * FROM sqlite_temp_master) WHERE name = ? AND type in ('table', 'view')\n",
      "2025-03-07 09:52:01,361 INFO sqlalchemy.engine.Engine [raw sql] ('SUPPLIER',)\n",
      "2025-03-07 09:52:01,362 INFO sqlalchemy.engine.Engine ROLLBACK\n"
     ]
    }
   ],
   "source": [
    "engine = create_engine('sqlite:///coffee.db', echo=True)\n",
    "sess.bind = engine\n",
    "base.metadata.reflect(engine)"
   ]
  },
  {
   "cell_type": "code",
   "execution_count": 135,
   "metadata": {},
   "outputs": [
    {
     "name": "stdout",
     "output_type": "stream",
     "text": [
      "2025-03-07 10:46:07,721 INFO sqlalchemy.engine.Engine ROLLBACK\n"
     ]
    }
   ],
   "source": [
    "sess.close()\n",
    "base.registry.dispose()\n",
    "base.metadata.clear()\n",
    "engine.connect().close()"
   ]
  },
  {
   "cell_type": "code",
   "execution_count": 136,
   "metadata": {},
   "outputs": [],
   "source": [
    "engine = create_engine('sqlite:///coffee.db', echo=True)\n",
    "sess.bind = engine"
   ]
  },
  {
   "cell_type": "code",
   "execution_count": 137,
   "metadata": {},
   "outputs": [],
   "source": [
    "class City(base):\n",
    "    __tablename__ = 'CITY'\n",
    "    cno = Column('CNO', Integer, primary_key=True)\n",
    "    name = Column('NAME', Text)\n",
    "    \n",
    "class supplier(base):\n",
    "    __tablename__ = 'SUPPLIER'\n",
    "    sno = Column('SNO', Integer, primary_key=True)\n",
    "    name = Column('NAME', Text)\n",
    "    cno = Column('CNO', Integer, ForeignKey('CITY.CNO'), nullable=False)\n",
    "                                # 이 때는, meta.table에 등록되기 전이니까 물리적 DB의 테이블.컬럼\n",
    "    \n",
    "class Part(base):\n",
    "    __tablename__ = 'PART'\n",
    "    pno = Column('PNO', Integer, primary_key=True)\n",
    "    name = Column('NAME', Text)\n",
    "    \n",
    "class Sells(base):\n",
    "    __tablename__ = 'SELLS'\n",
    "    no = Column('NO', Integer, primary_key=True)\n",
    "    sno = Column('SNO', Integer, ForeignKey('SUPPLIER.SNO'), nullable=False)\n",
    "    pno = Column('PNO', Integer, ForeignKey('PART.PNO'), nullable=False)\n",
    "    price = Column('PRICE', Integer, default=0)"
   ]
  },
  {
   "cell_type": "code",
   "execution_count": 99,
   "metadata": {},
   "outputs": [],
   "source": [
    "city = list()\n",
    "for c in ['성북구', '강북구', '노원구']:\n",
    "    city.append(City(name=c))\n",
    "    \n",
    "sess.add_all(city)"
   ]
  },
  {
   "cell_type": "code",
   "execution_count": 101,
   "metadata": {},
   "outputs": [
    {
     "data": {
      "text/plain": [
       "[<__main__.City at 0x109d49510>,\n",
       " <__main__.City at 0x1081be790>,\n",
       " <__main__.City at 0x1081dae50>]"
      ]
     },
     "execution_count": 101,
     "metadata": {},
     "output_type": "execute_result"
    }
   ],
   "source": [
    "city"
   ]
  },
  {
   "cell_type": "code",
   "execution_count": null,
   "metadata": {},
   "outputs": [
    {
     "name": "stdout",
     "output_type": "stream",
     "text": [
      "2025-03-07 10:04:14,733 INFO sqlalchemy.engine.Engine BEGIN (implicit)\n",
      "2025-03-07 10:04:14,734 INFO sqlalchemy.engine.Engine INSERT INTO \"CITY\" (\"NAME\") VALUES (?) RETURNING \"CNO\"\n",
      "2025-03-07 10:04:14,735 INFO sqlalchemy.engine.Engine [generated in 0.00006s (insertmanyvalues) 1/3 (ordered; batch not supported)] ('성북구',)\n",
      "2025-03-07 10:04:14,736 INFO sqlalchemy.engine.Engine INSERT INTO \"CITY\" (\"NAME\") VALUES (?) RETURNING \"CNO\"\n",
      "2025-03-07 10:04:14,736 INFO sqlalchemy.engine.Engine [insertmanyvalues 2/3 (ordered; batch not supported)] ('강북구',)\n",
      "2025-03-07 10:04:14,737 INFO sqlalchemy.engine.Engine INSERT INTO \"CITY\" (\"NAME\") VALUES (?) RETURNING \"CNO\"\n",
      "2025-03-07 10:04:14,738 INFO sqlalchemy.engine.Engine [insertmanyvalues 3/3 (ordered; batch not supported)] ('노원구',)\n",
      "2025-03-07 10:04:14,739 INFO sqlalchemy.engine.Engine SELECT \"CITY\".\"CNO\" AS \"CITY_CNO\", \"CITY\".\"NAME\" AS \"CITY_NAME\" \n",
      "FROM \"CITY\" \n",
      "WHERE \"CITY\".\"NAME\" = ?\n",
      "2025-03-07 10:04:14,740 INFO sqlalchemy.engine.Engine [generated in 0.00038s] ('성북구',)\n"
     ]
    },
    {
     "ename": "MultipleResultsFound",
     "evalue": "Multiple rows were found when exactly one was required",
     "output_type": "error",
     "traceback": [
      "\u001b[0;31m---------------------------------------------------------------------------\u001b[0m",
      "\u001b[0;31mMultipleResultsFound\u001b[0m                      Traceback (most recent call last)",
      "Cell \u001b[0;32mIn[100], line 1\u001b[0m\n\u001b[0;32m----> 1\u001b[0m city1 \u001b[38;5;241m=\u001b[39m \u001b[43msess\u001b[49m\u001b[38;5;241;43m.\u001b[39;49m\u001b[43mquery\u001b[49m\u001b[43m(\u001b[49m\u001b[43mCity\u001b[49m\u001b[43m)\u001b[49m\u001b[38;5;241;43m.\u001b[39;49m\u001b[43mfilter\u001b[49m\u001b[43m(\u001b[49m\u001b[43mCity\u001b[49m\u001b[38;5;241;43m.\u001b[39;49m\u001b[43mname\u001b[49m\u001b[38;5;241;43m==\u001b[39;49m\u001b[38;5;124;43m'\u001b[39;49m\u001b[38;5;124;43m성북구\u001b[39;49m\u001b[38;5;124;43m'\u001b[39;49m\u001b[43m)\u001b[49m\u001b[38;5;241;43m.\u001b[39;49m\u001b[43mone\u001b[49m\u001b[43m(\u001b[49m\u001b[43m)\u001b[49m\n\u001b[1;32m      2\u001b[0m city2 \u001b[38;5;241m=\u001b[39m sess\u001b[38;5;241m.\u001b[39mquery(City)\u001b[38;5;241m.\u001b[39mfilter(City\u001b[38;5;241m.\u001b[39mname\u001b[38;5;241m==\u001b[39m\u001b[38;5;124m'\u001b[39m\u001b[38;5;124m강북구\u001b[39m\u001b[38;5;124m'\u001b[39m)\u001b[38;5;241m.\u001b[39mone()\n\u001b[1;32m      3\u001b[0m city3 \u001b[38;5;241m=\u001b[39m sess\u001b[38;5;241m.\u001b[39mquery(City)\u001b[38;5;241m.\u001b[39mfilter(City\u001b[38;5;241m.\u001b[39mname\u001b[38;5;241m==\u001b[39m\u001b[38;5;124m'\u001b[39m\u001b[38;5;124m노원구\u001b[39m\u001b[38;5;124m'\u001b[39m)\u001b[38;5;241m.\u001b[39mone()\n",
      "File \u001b[0;32m/Library/Frameworks/Python.framework/Versions/3.11/lib/python3.11/site-packages/sqlalchemy/orm/query.py:2804\u001b[0m, in \u001b[0;36mQuery.one\u001b[0;34m(self)\u001b[0m\n\u001b[1;32m   2782\u001b[0m \u001b[38;5;28;01mdef\u001b[39;00m \u001b[38;5;21mone\u001b[39m(\u001b[38;5;28mself\u001b[39m) \u001b[38;5;241m-\u001b[39m\u001b[38;5;241m>\u001b[39m _T:\n\u001b[1;32m   2783\u001b[0m \u001b[38;5;250m    \u001b[39m\u001b[38;5;124;03m\"\"\"Return exactly one result or raise an exception.\u001b[39;00m\n\u001b[1;32m   2784\u001b[0m \n\u001b[1;32m   2785\u001b[0m \u001b[38;5;124;03m    Raises ``sqlalchemy.orm.exc.NoResultFound`` if the query selects\u001b[39;00m\n\u001b[0;32m   (...)\u001b[0m\n\u001b[1;32m   2802\u001b[0m \n\u001b[1;32m   2803\u001b[0m \u001b[38;5;124;03m    \"\"\"\u001b[39;00m\n\u001b[0;32m-> 2804\u001b[0m     \u001b[38;5;28;01mreturn\u001b[39;00m \u001b[38;5;28;43mself\u001b[39;49m\u001b[38;5;241;43m.\u001b[39;49m\u001b[43m_iter\u001b[49m\u001b[43m(\u001b[49m\u001b[43m)\u001b[49m\u001b[38;5;241;43m.\u001b[39;49m\u001b[43mone\u001b[49m\u001b[43m(\u001b[49m\u001b[43m)\u001b[49m\n",
      "File \u001b[0;32m/Library/Frameworks/Python.framework/Versions/3.11/lib/python3.11/site-packages/sqlalchemy/engine/result.py:1808\u001b[0m, in \u001b[0;36mScalarResult.one\u001b[0;34m(self)\u001b[0m\n\u001b[1;32m   1800\u001b[0m \u001b[38;5;28;01mdef\u001b[39;00m \u001b[38;5;21mone\u001b[39m(\u001b[38;5;28mself\u001b[39m) \u001b[38;5;241m-\u001b[39m\u001b[38;5;241m>\u001b[39m _R:\n\u001b[1;32m   1801\u001b[0m \u001b[38;5;250m    \u001b[39m\u001b[38;5;124;03m\"\"\"Return exactly one object or raise an exception.\u001b[39;00m\n\u001b[1;32m   1802\u001b[0m \n\u001b[1;32m   1803\u001b[0m \u001b[38;5;124;03m    Equivalent to :meth:`_engine.Result.one` except that\u001b[39;00m\n\u001b[0;32m   (...)\u001b[0m\n\u001b[1;32m   1806\u001b[0m \n\u001b[1;32m   1807\u001b[0m \u001b[38;5;124;03m    \"\"\"\u001b[39;00m\n\u001b[0;32m-> 1808\u001b[0m     \u001b[38;5;28;01mreturn\u001b[39;00m \u001b[38;5;28;43mself\u001b[39;49m\u001b[38;5;241;43m.\u001b[39;49m\u001b[43m_only_one_row\u001b[49m\u001b[43m(\u001b[49m\n\u001b[1;32m   1809\u001b[0m \u001b[43m        \u001b[49m\u001b[43mraise_for_second_row\u001b[49m\u001b[38;5;241;43m=\u001b[39;49m\u001b[38;5;28;43;01mTrue\u001b[39;49;00m\u001b[43m,\u001b[49m\u001b[43m \u001b[49m\u001b[43mraise_for_none\u001b[49m\u001b[38;5;241;43m=\u001b[39;49m\u001b[38;5;28;43;01mTrue\u001b[39;49;00m\u001b[43m,\u001b[49m\u001b[43m \u001b[49m\u001b[43mscalar\u001b[49m\u001b[38;5;241;43m=\u001b[39;49m\u001b[38;5;28;43;01mFalse\u001b[39;49;00m\n\u001b[1;32m   1810\u001b[0m \u001b[43m    \u001b[49m\u001b[43m)\u001b[49m\n",
      "File \u001b[0;32m/Library/Frameworks/Python.framework/Versions/3.11/lib/python3.11/site-packages/sqlalchemy/engine/result.py:805\u001b[0m, in \u001b[0;36mResultInternal._only_one_row\u001b[0;34m(self, raise_for_second_row, raise_for_none, scalar)\u001b[0m\n\u001b[1;32m    803\u001b[0m     \u001b[38;5;28;01mif\u001b[39;00m next_row \u001b[38;5;129;01mis\u001b[39;00m \u001b[38;5;129;01mnot\u001b[39;00m _NO_ROW:\n\u001b[1;32m    804\u001b[0m         \u001b[38;5;28mself\u001b[39m\u001b[38;5;241m.\u001b[39m_soft_close(hard\u001b[38;5;241m=\u001b[39m\u001b[38;5;28;01mTrue\u001b[39;00m)\n\u001b[0;32m--> 805\u001b[0m         \u001b[38;5;28;01mraise\u001b[39;00m exc\u001b[38;5;241m.\u001b[39mMultipleResultsFound(\n\u001b[1;32m    806\u001b[0m             \u001b[38;5;124m\"\u001b[39m\u001b[38;5;124mMultiple rows were found when exactly one was required\u001b[39m\u001b[38;5;124m\"\u001b[39m\n\u001b[1;32m    807\u001b[0m             \u001b[38;5;28;01mif\u001b[39;00m raise_for_none\n\u001b[1;32m    808\u001b[0m             \u001b[38;5;28;01melse\u001b[39;00m \u001b[38;5;124m\"\u001b[39m\u001b[38;5;124mMultiple rows were found when one or none \u001b[39m\u001b[38;5;124m\"\u001b[39m\n\u001b[1;32m    809\u001b[0m             \u001b[38;5;124m\"\u001b[39m\u001b[38;5;124mwas required\u001b[39m\u001b[38;5;124m\"\u001b[39m\n\u001b[1;32m    810\u001b[0m         )\n\u001b[1;32m    811\u001b[0m \u001b[38;5;28;01melse\u001b[39;00m:\n\u001b[1;32m    812\u001b[0m     next_row \u001b[38;5;241m=\u001b[39m _NO_ROW\n",
      "\u001b[0;31mMultipleResultsFound\u001b[0m: Multiple rows were found when exactly one was required"
     ]
    }
   ],
   "source": [
    "city1 = sess.query(City).filter(City.name=='성북구').one()\n",
    "city2 = sess.query(City).filter(City.name=='강북구').one()\n",
    "city3 = sess.query(City).filter(City.name=='노원구').one()"
   ]
  },
  {
   "cell_type": "code",
   "execution_count": null,
   "metadata": {},
   "outputs": [],
   "source": [
    "slist = [Supplier(name='지점1', cno=city.cno),\n",
    "         Supplier(name='지점2', cno=city.cno)\n",
    "         Supplier(name='지점1', cno=city.cno)\n",
    "         Supplier(name='지점2', cno=city.cno)\n",
    "         Supplier(name='지점3', cno=city.cno)]\n",
    "\n",
    "sess.add_all(slist)\n",
    "sess.commit()"
   ]
  },
  {
   "cell_type": "markdown",
   "metadata": {},
   "source": [
    "세션에 등록했기 때문에 쿼리 없이 객체를 그냥 호출할 수 있게 됐다."
   ]
  },
  {
   "cell_type": "code",
   "execution_count": 139,
   "metadata": {},
   "outputs": [],
   "source": [
    "from sqlalchemy.orm import relationship\n",
    "\n",
    "base.registry.dispose()"
   ]
  },
  {
   "cell_type": "code",
   "execution_count": 142,
   "metadata": {},
   "outputs": [
    {
     "name": "stderr",
     "output_type": "stream",
     "text": [
      "/var/folders/rp/63vh6wpj4w7_sq93lr8wwmm00000gn/T/ipykernel_4550/641223588.py:1: SAWarning: This declarative base already contains a class with the same class name and module name as __main__.City, and will be replaced in the string-lookup table.\n",
      "  class City(base):\n",
      "/var/folders/rp/63vh6wpj4w7_sq93lr8wwmm00000gn/T/ipykernel_4550/641223588.py:5: SAWarning: This declarative base already contains a class with the same class name and module name as __main__.supplier, and will be replaced in the string-lookup table.\n",
      "  class supplier(base):\n"
     ]
    }
   ],
   "source": [
    "class City(base):\n",
    "    __table__ = base.metadata.tables['CITY']\n",
    "    slist = relationship('Supplier', back_populates='city', uselist=True)\n",
    "    \n",
    "class supplier(base):\n",
    "    __table__ = base.metadata.tables['SUPPLIER']\n",
    "    city = relationship('City', back_populates='slist')\n",
    "    \n",
    "# class Part(base):\n",
    "#     __table__ = base.metadata.tables['PART']\n",
    "    \n",
    "# class Sells(base):\n",
    "#     __table__ = base.metadata.tables['SELLS']"
   ]
  },
  {
   "cell_type": "code",
   "execution_count": 144,
   "metadata": {},
   "outputs": [],
   "source": [
    "# c = sess.query(City).all()[0]"
   ]
  },
  {
   "cell_type": "code",
   "execution_count": null,
   "metadata": {},
   "outputs": [],
   "source": []
  }
 ],
 "metadata": {
  "kernelspec": {
   "display_name": "Python 3",
   "language": "python",
   "name": "python3"
  },
  "language_info": {
   "codemirror_mode": {
    "name": "ipython",
    "version": 3
   },
   "file_extension": ".py",
   "mimetype": "text/x-python",
   "name": "python",
   "nbconvert_exporter": "python",
   "pygments_lexer": "ipython3",
   "version": "3.11.2"
  }
 },
 "nbformat": 4,
 "nbformat_minor": 2
}
