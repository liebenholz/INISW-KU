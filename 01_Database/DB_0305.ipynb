{
  "cells": [
    {
      "cell_type": "code",
      "execution_count": 1,
      "metadata": {
        "id": "TRq52_7TqDfG"
      },
      "outputs": [],
      "source": [
        "import sqlite3"
      ]
    },
    {
      "cell_type": "code",
      "execution_count": null,
      "metadata": {},
      "outputs": [],
      "source": [
        "#   1              2                   3\n",
        "# User           DBMS               Database\n",
        "# Python       Sqlite3   <--SQL--->   FILE\n",
        "#     connection\n",
        "#       cursor            CREATE, INSERT, SELECT"
      ]
    },
    {
      "cell_type": "code",
      "execution_count": null,
      "metadata": {
        "id": "GxnQ5djDqlVr"
      },
      "outputs": [],
      "source": [
        "con = sqlite3.connect('')\n",
        "cur = con.cursor()"
      ]
    },
    {
      "cell_type": "code",
      "execution_count": null,
      "metadata": {
        "id": "AviiTa_eq-2U"
      },
      "outputs": [],
      "source": [
        "# cur.execute       # SQL 1개 실행\n",
        "# cur.executemany   # SQL 1개를 N번 반복 실행\n",
        "# cur.executescript # (비표준) N개의 SQL문 실행"
      ]
    },
    {
      "cell_type": "code",
      "execution_count": null,
      "metadata": {
        "colab": {
          "base_uri": "https://localhost:8080/"
        },
        "id": "9fiWk30vrzX5",
        "outputId": "0df72592-9d91-45fe-e85e-778ff6943652"
      },
      "outputs": [
        {
          "data": {
            "text/plain": [
              "<sqlite3.Cursor at 0x1100bd1c0>"
            ]
          },
          "execution_count": 4,
          "metadata": {},
          "output_type": "execute_result"
        }
      ],
      "source": [
        "cur.execute('''\n",
        "  CREATE TABLE TEST (\n",
        "    ID INTEGER,\n",
        "    NAME CHAR(1)\n",
        "  );\n",
        "''')"
      ]
    },
    {
      "cell_type": "code",
      "execution_count": null,
      "metadata": {
        "colab": {
          "base_uri": "https://localhost:8080/"
        },
        "id": "I6K_YCtyrtk-",
        "outputId": "8d7ebfc5-b521-436c-8f95-0f633d580c08"
      },
      "outputs": [
        {
          "data": {
            "text/plain": [
              "<sqlite3.Cursor at 0x1100bd1c0>"
            ]
          },
          "execution_count": 5,
          "metadata": {},
          "output_type": "execute_result"
        }
      ],
      "source": [
        "cur.execute('''\n",
        "  INSERT INTO TEST (ID, NAME) VALUES (1, 'A');\n",
        "''')"
      ]
    },
    {
      "cell_type": "code",
      "execution_count": null,
      "metadata": {
        "colab": {
          "base_uri": "https://localhost:8080/"
        },
        "id": "twToq8oxsBtt",
        "outputId": "73e667e0-ae01-48c2-e46a-1385e161211f"
      },
      "outputs": [
        {
          "data": {
            "text/plain": [
              "<sqlite3.Cursor at 0x1100bd1c0>"
            ]
          },
          "execution_count": 6,
          "metadata": {},
          "output_type": "execute_result"
        }
      ],
      "source": [
        "cur.execute('SELECT * FROM TEST;')"
      ]
    },
    {
      "cell_type": "code",
      "execution_count": null,
      "metadata": {
        "colab": {
          "base_uri": "https://localhost:8080/"
        },
        "id": "HTyZbvMBsS5A",
        "outputId": "a3623fc8-6e2c-4f49-fc43-f2d383ec1387"
      },
      "outputs": [
        {
          "data": {
            "text/plain": [
              "<sqlite3.Cursor at 0x1100bd1c0>"
            ]
          },
          "execution_count": 7,
          "metadata": {},
          "output_type": "execute_result"
        }
      ],
      "source": [
        "cur.execute('''\n",
        "  INSERT INTO TEST (ID, NAME) VALUES (2, 'ABC');\n",
        "''')"
      ]
    },
    {
      "cell_type": "code",
      "execution_count": null,
      "metadata": {
        "id": "KexIyYqqsYPZ"
      },
      "outputs": [],
      "source": [
        "# cur.fetchone   # 1행\n",
        "# cur.fetchmany  # N행\n",
        "# cur.fetchall   # 전체"
      ]
    },
    {
      "cell_type": "code",
      "execution_count": null,
      "metadata": {
        "colab": {
          "base_uri": "https://localhost:8080/"
        },
        "id": "A0IKklhNspjq",
        "outputId": "b1e23fc4-780d-4992-8fa5-79a94e7dbb94"
      },
      "outputs": [
        {
          "data": {
            "text/plain": [
              "[]"
            ]
          },
          "execution_count": 9,
          "metadata": {},
          "output_type": "execute_result"
        }
      ],
      "source": [
        "cur.fetchall()"
      ]
    },
    {
      "cell_type": "code",
      "execution_count": null,
      "metadata": {
        "colab": {
          "base_uri": "https://localhost:8080/"
        },
        "id": "Uf8QHQV4tCW3",
        "outputId": "bd943881-b04c-4586-e905-b2ac696f3a75"
      },
      "outputs": [
        {
          "data": {
            "text/plain": [
              "<sqlite3.Cursor at 0x1100bd1c0>"
            ]
          },
          "execution_count": 10,
          "metadata": {},
          "output_type": "execute_result"
        }
      ],
      "source": [
        "cur.execute('INSERT INTO TEST VALUES (3,NULL);')"
      ]
    },
    {
      "cell_type": "code",
      "execution_count": null,
      "metadata": {
        "colab": {
          "base_uri": "https://localhost:8080/"
        },
        "id": "fo0e-ZbmtJC7",
        "outputId": "a7129dc2-e52f-4c2c-daa1-030bc9d5b943"
      },
      "outputs": [
        {
          "data": {
            "text/plain": [
              "[(1, 'A'), (2, 'ABC'), (3, None)]"
            ]
          },
          "execution_count": 11,
          "metadata": {},
          "output_type": "execute_result"
        }
      ],
      "source": [
        "cur.execute('SELECT * FROM TEST;') # 2\n",
        "cur.fetchall()   # 1"
      ]
    },
    {
      "cell_type": "code",
      "execution_count": null,
      "metadata": {
        "id": "QzBb8qG7tqvB"
      },
      "outputs": [],
      "source": [
        "con.close()"
      ]
    },
    {
      "cell_type": "markdown",
      "metadata": {
        "id": "dfdjPhzrqFuN"
      },
      "source": [
        "콘솔을 닫고 다음 예제를 실행한다."
      ]
    },
    {
      "cell_type": "code",
      "execution_count": 2,
      "metadata": {
        "id": "3-S2tobZtzjF"
      },
      "outputs": [],
      "source": [
        "con = sqlite3.connect('')\n",
        "cur = con.cursor()"
      ]
    },
    {
      "cell_type": "code",
      "execution_count": 3,
      "metadata": {
        "colab": {
          "base_uri": "https://localhost:8080/"
        },
        "id": "_bMfBV0nt71k",
        "outputId": "73a3847f-b238-4680-de04-9dcc74b2ca72"
      },
      "outputs": [
        {
          "data": {
            "text/plain": [
              "<sqlite3.Cursor at 0x1047411c0>"
            ]
          },
          "execution_count": 3,
          "metadata": {},
          "output_type": "execute_result"
        }
      ],
      "source": [
        "con.execute('''\n",
        "  CREATE TABLE CITY (\n",
        "    CNO INTEGER PRIMARY KEY,\n",
        "    NAME TEXT NOT NULL\n",
        "  );\n",
        "''')"
      ]
    },
    {
      "cell_type": "code",
      "execution_count": 4,
      "metadata": {
        "colab": {
          "base_uri": "https://localhost:8080/"
        },
        "id": "n8L51i8juftc",
        "outputId": "b15a7ed0-9e7a-4e66-c8de-4b436d6e80ec"
      },
      "outputs": [
        {
          "data": {
            "text/plain": [
              "<sqlite3.Cursor at 0x104741140>"
            ]
          },
          "execution_count": 4,
          "metadata": {},
          "output_type": "execute_result"
        }
      ],
      "source": [
        "con.execute('''\n",
        "  INSERT INTO CITY (CNO, NAME) VALUES (1, '성북구');\n",
        "''')"
      ]
    },
    {
      "cell_type": "code",
      "execution_count": 5,
      "metadata": {
        "colab": {
          "base_uri": "https://localhost:8080/"
        },
        "id": "QPGgd0XRupnd",
        "outputId": "654d4645-1da0-486c-c5ba-faf9b6523161"
      },
      "outputs": [
        {
          "data": {
            "text/plain": [
              "<sqlite3.Cursor at 0x104741dc0>"
            ]
          },
          "execution_count": 5,
          "metadata": {},
          "output_type": "execute_result"
        }
      ],
      "source": [
        "con.execute('''\n",
        "  INSERT INTO CITY (NAME) VALUES ('강북구');\n",
        "''')"
      ]
    },
    {
      "cell_type": "code",
      "execution_count": 6,
      "metadata": {
        "colab": {
          "base_uri": "https://localhost:8080/"
        },
        "id": "rkX5wXxwuv1N",
        "outputId": "21a31063-e088-4d09-8aa2-94ede7db4283"
      },
      "outputs": [
        {
          "data": {
            "text/plain": [
              "<sqlite3.Cursor at 0x104741a40>"
            ]
          },
          "execution_count": 6,
          "metadata": {},
          "output_type": "execute_result"
        }
      ],
      "source": [
        "con.execute('''\n",
        "  INSERT INTO CITY VALUES (NULL, '동대문구');\n",
        "''')"
      ]
    },
    {
      "cell_type": "code",
      "execution_count": null,
      "metadata": {
        "colab": {
          "base_uri": "https://localhost:8080/",
          "height": 198
        },
        "id": "ptSdsFMOu4oE",
        "outputId": "b3b42f04-96c4-42e0-e8b2-96104ab68c5e"
      },
      "outputs": [
        {
          "ename": "IntegrityError",
          "evalue": "NOT NULL constraint failed: CITY.NAME",
          "output_type": "error",
          "traceback": [
            "\u001b[0;31m---------------------------------------------------------------------------\u001b[0m",
            "\u001b[0;31mIntegrityError\u001b[0m                            Traceback (most recent call last)",
            "Cell \u001b[0;32mIn[18], line 1\u001b[0m\n\u001b[0;32m----> 1\u001b[0m \u001b[43mcon\u001b[49m\u001b[38;5;241;43m.\u001b[39;49m\u001b[43mexecute\u001b[49m\u001b[43m(\u001b[49m\u001b[38;5;124;43m'''\u001b[39;49m\n\u001b[1;32m      2\u001b[0m \u001b[38;5;124;43m  INSERT INTO CITY VALUES (NULL, NULL);\u001b[39;49m\n\u001b[1;32m      3\u001b[0m \u001b[38;5;124;43m'''\u001b[39;49m\u001b[43m)\u001b[49m\n\u001b[1;32m      4\u001b[0m \u001b[38;5;66;03m# 제약조건 위배로 인한 에러 발생\u001b[39;00m\n",
            "\u001b[0;31mIntegrityError\u001b[0m: NOT NULL constraint failed: CITY.NAME"
          ]
        }
      ],
      "source": [
        "con.execute('''\n",
        "  INSERT INTO CITY VALUES (NULL, NULL);\n",
        "''')\n",
        "# 제약조건 위배로 인한 에러 발생"
      ]
    },
    {
      "cell_type": "code",
      "execution_count": null,
      "metadata": {
        "colab": {
          "base_uri": "https://localhost:8080/",
          "height": 216
        },
        "id": "ID_nF4ZbvMo_",
        "outputId": "786e38f0-13e5-410a-a906-502a196fd5cd"
      },
      "outputs": [
        {
          "ename": "IntegrityError",
          "evalue": "UNIQUE constraint failed: CITY.CNO",
          "output_type": "error",
          "traceback": [
            "\u001b[0;31m---------------------------------------------------------------------------\u001b[0m",
            "\u001b[0;31mIntegrityError\u001b[0m                            Traceback (most recent call last)",
            "Cell \u001b[0;32mIn[19], line 1\u001b[0m\n\u001b[0;32m----> 1\u001b[0m \u001b[43mcon\u001b[49m\u001b[38;5;241;43m.\u001b[39;49m\u001b[43mexecute\u001b[49m\u001b[43m(\u001b[49m\u001b[38;5;124;43m'''\u001b[39;49m\n\u001b[1;32m      2\u001b[0m \u001b[38;5;124;43m  INSERT INTO CITY VALUES (3, \u001b[39;49m\u001b[38;5;124;43m'\u001b[39;49m\u001b[38;5;124;43m노원구\u001b[39;49m\u001b[38;5;124;43m'\u001b[39;49m\u001b[38;5;124;43m);\u001b[39;49m\n\u001b[1;32m      3\u001b[0m \u001b[38;5;124;43m'''\u001b[39;49m\u001b[43m)\u001b[49m\n\u001b[1;32m      4\u001b[0m \u001b[38;5;66;03m# CNO가 PK이므로 NOT NULL이면서 UNIQUE한 값이 아님.\u001b[39;00m\n\u001b[1;32m      5\u001b[0m \u001b[38;5;66;03m# 앞선 구문에서 NULL을 넣었지만, 3이 자동으로 들어가면서\u001b[39;00m\n",
            "\u001b[0;31mIntegrityError\u001b[0m: UNIQUE constraint failed: CITY.CNO"
          ]
        }
      ],
      "source": [
        "con.execute('''\n",
        "  INSERT INTO CITY VALUES (3, '노원구');\n",
        "''')\n",
        "# CNO가 PK이므로 NOT NULL이면서 UNIQUE한 값이 아님.\n",
        "# 앞선 구문에서 NULL을 넣었지만, 3이 자동으로 들어가면서"
      ]
    },
    {
      "cell_type": "code",
      "execution_count": 7,
      "metadata": {
        "colab": {
          "base_uri": "https://localhost:8080/"
        },
        "id": "4qZ1P8SXvPMh",
        "outputId": "741f7fa1-26c4-4944-f142-1248ccbc1926"
      },
      "outputs": [
        {
          "data": {
            "text/plain": [
              "[(1, '성북구'), (2, '강북구'), (3, '동대문구')]"
            ]
          },
          "execution_count": 7,
          "metadata": {},
          "output_type": "execute_result"
        }
      ],
      "source": [
        "cur.execute('SELECT * FROM CITY;')\n",
        "cur.fetchall()"
      ]
    },
    {
      "cell_type": "markdown",
      "metadata": {
        "id": "WBGR8VBKvrY1"
      },
      "source": [
        "이를 통해서 SQLite에서의 Primary Key의 특징은 다음과 같다.\n",
        "\n",
        "PrimaryKey -> NOT NULL, Unique, **Auto Increment**"
      ]
    },
    {
      "cell_type": "code",
      "execution_count": 8,
      "metadata": {
        "colab": {
          "base_uri": "https://localhost:8080/"
        },
        "id": "jEGDZ2nLvqCu",
        "outputId": "a3f2970d-3adc-4cd6-8656-f286f489da68"
      },
      "outputs": [
        {
          "data": {
            "text/plain": [
              "3"
            ]
          },
          "execution_count": 8,
          "metadata": {},
          "output_type": "execute_result"
        }
      ],
      "source": [
        "cur.lastrowid"
      ]
    },
    {
      "cell_type": "markdown",
      "metadata": {
        "id": "OnzcI8k5zyiG"
      },
      "source": [
        "DB Browser for SQLite을 다운로드받아 로컬 데이터베이스의 상태를 확인할 수 있다. Table 구조 뜨는 거 확인하고, 이상한 점 찾기.\n",
        "\n",
        "실컷 작업했는데 아무런 데이터가 안 들어가 있는 것을 확인할 수 있는데 이는 commit을 하지 않았기 빼문이다. 데이터의 수정을 반영하기 위해서는 반드시 commit이 필요하다."
      ]
    },
    {
      "cell_type": "markdown",
      "metadata": {
        "id": "cCsZv1JxxY9C"
      },
      "source": [
        "    SQL\n",
        "DBMS -> DB(?)\n",
        "----    ----\n",
        "Transaction\n",
        "데이터가 추가/수정(갱신) -> 변화가 있을 때\n",
        "Commit"
      ]
    },
    {
      "cell_type": "code",
      "execution_count": 9,
      "metadata": {
        "id": "I_VpLeZKwNK-"
      },
      "outputs": [],
      "source": [
        "con.commit()"
      ]
    },
    {
      "cell_type": "code",
      "execution_count": 10,
      "metadata": {
        "colab": {
          "base_uri": "https://localhost:8080/"
        },
        "id": "nhpmtth_x8aZ",
        "outputId": "f5cb9fd2-3c80-4515-9aef-adb044e88578"
      },
      "outputs": [
        {
          "name": "stdout",
          "output_type": "stream",
          "text": [
            "Help on built-in function executescript:\n",
            "\n",
            "executescript(sql_script, /) method of sqlite3.Connection instance\n",
            "    Executes multiple SQL statements at once.\n",
            "\n"
          ]
        }
      ],
      "source": [
        "help(con.executescript)"
      ]
    },
    {
      "cell_type": "code",
      "execution_count": 11,
      "metadata": {
        "colab": {
          "base_uri": "https://localhost:8080/"
        },
        "id": "OV6LTr72yDBL",
        "outputId": "6ef1a10f-bf41-453b-93f3-97d78870d6cb"
      },
      "outputs": [
        {
          "data": {
            "text/plain": [
              "<sqlite3.Cursor at 0x104741b40>"
            ]
          },
          "execution_count": 11,
          "metadata": {},
          "output_type": "execute_result"
        }
      ],
      "source": [
        "# Parameter를 주는 방식 -> qmark\n",
        "# c = [('중구',), ('강남구',), ('서초구',)]\n",
        "con.execute('INSERT INTO CITY VALUES (NULL, ?);', ('중구',))"
      ]
    },
    {
      "cell_type": "code",
      "execution_count": 12,
      "metadata": {
        "colab": {
          "base_uri": "https://localhost:8080/"
        },
        "id": "UcaDI7PuzM6E",
        "outputId": "18870eac-492c-4f6d-c636-782fcac7f637"
      },
      "outputs": [
        {
          "data": {
            "text/plain": [
              "[(1, '성북구'), (2, '강북구'), (3, '동대문구'), (4, '중구')]"
            ]
          },
          "execution_count": 12,
          "metadata": {},
          "output_type": "execute_result"
        }
      ],
      "source": [
        "cur.execute('SELECT * FROM CITY;')\n",
        "cur.fetchall()"
      ]
    },
    {
      "cell_type": "code",
      "execution_count": 13,
      "metadata": {
        "colab": {
          "base_uri": "https://localhost:8080/"
        },
        "id": "iK6c--BwzUcK",
        "outputId": "0bcbc7dd-6cba-4021-879e-56d5bad28001"
      },
      "outputs": [
        {
          "data": {
            "text/plain": [
              "<sqlite3.Cursor at 0x104741bc0>"
            ]
          },
          "execution_count": 13,
          "metadata": {},
          "output_type": "execute_result"
        }
      ],
      "source": [
        "# Parameter를 주는 방식 -> :named\n",
        "con.execute('INSERT INTO CITY VALUES (NULL, :name);', {'name': '중랑구'})"
      ]
    },
    {
      "cell_type": "code",
      "execution_count": 14,
      "metadata": {
        "colab": {
          "base_uri": "https://localhost:8080/"
        },
        "id": "0phrpSQAzfaZ",
        "outputId": "e479ac39-23aa-4903-afc3-5953823e1898"
      },
      "outputs": [
        {
          "data": {
            "text/plain": [
              "[(1, '성북구'), (2, '강북구'), (3, '동대문구'), (4, '중구'), (5, '중랑구')]"
            ]
          },
          "execution_count": 14,
          "metadata": {},
          "output_type": "execute_result"
        }
      ],
      "source": [
        "cur.execute('SELECT * FROM CITY;')\n",
        "cur.fetchall()"
      ]
    },
    {
      "cell_type": "code",
      "execution_count": 15,
      "metadata": {
        "colab": {
          "base_uri": "https://localhost:8080/"
        },
        "id": "Hz6Flwogzgxy",
        "outputId": "70d0c866-62af-4b06-ffe7-0a6d11dcb405"
      },
      "outputs": [
        {
          "data": {
            "text/plain": [
              "<sqlite3.Cursor at 0x104741040>"
            ]
          },
          "execution_count": 15,
          "metadata": {},
          "output_type": "execute_result"
        }
      ],
      "source": [
        "cur.executemany('''\n",
        "  INSERT INTO CITY (NAME) VALUES (?)\n",
        "''', (['노원구'], ['강남구'], ['서초구']))\n",
        "\n",
        "# 여기까지 내용은 commit이 안 이루어졌기 때문에 3번까지밖에 들어가있지 않음."
      ]
    },
    {
      "cell_type": "code",
      "execution_count": 16,
      "metadata": {
        "colab": {
          "base_uri": "https://localhost:8080/"
        },
        "id": "gPki1KXs0LyO",
        "outputId": "dcff2560-5932-4ca3-f790-3d2ca30e0ae5"
      },
      "outputs": [
        {
          "data": {
            "text/plain": [
              "(tuple, list)"
            ]
          },
          "execution_count": 16,
          "metadata": {},
          "output_type": "execute_result"
        }
      ],
      "source": [
        "type((['노원구'], ['강남구'], ['서초구'])), type((['노원구'], ['강남구'], ['서초구'])[0])"
      ]
    },
    {
      "cell_type": "code",
      "execution_count": 17,
      "metadata": {
        "colab": {
          "base_uri": "https://localhost:8080/"
        },
        "id": "HT4ACd360imN",
        "outputId": "c837f0b9-c5dd-48cc-fec2-4b7295986b0b"
      },
      "outputs": [
        {
          "data": {
            "text/plain": [
              "<sqlite3.Cursor at 0x104741040>"
            ]
          },
          "execution_count": 17,
          "metadata": {},
          "output_type": "execute_result"
        }
      ],
      "source": [
        "# exceutescript는 자동으로 커밋을 진행함.\n",
        "cur.executescript('''\n",
        "  DROP TABLE IF EXISTS SUPPLIER;\n",
        "  CREATE TABLE SUPPLIER (\n",
        "    SNO INTEGER PRIMARY KEY,\n",
        "    NAME VARCHAR(2),\n",
        "    CNO INTEGER INTEGER NOT NULL\n",
        "  );\n",
        "\n",
        "  DROP TABLE IF EXISTS PART;\n",
        "  CREATE TABLE PART (\n",
        "      PNO INTEGER PRIMARY KEY,\n",
        "      NAME CHAR(1)\n",
        "  );\n",
        "''')"
      ]
    },
    {
      "cell_type": "markdown",
      "metadata": {},
      "source": [
        "SQLite의 특징 중 하나인 **Serverless (Direct I/O)** -> FILE 1개만 Open 가능\n",
        "\n",
        "connect 여러 번 하면 안 된다! Lock이 걸린다."
      ]
    },
    {
      "cell_type": "code",
      "execution_count": 18,
      "metadata": {
        "id": "dYRLyfYO1MqC"
      },
      "outputs": [
        {
          "data": {
            "text/plain": [
              "<sqlite3.Cursor at 0x104741040>"
            ]
          },
          "execution_count": 18,
          "metadata": {},
          "output_type": "execute_result"
        }
      ],
      "source": [
        "p = [{'n':'아메리카노'}, {'n':'카페라떼'}, {'n':'카페모카'}, {'n':'카푸치노'}, {'n':'프라페'}]\n",
        "# len(p) -> 5, p[0] -> {'n':'아메리카노'}, p[0]['n] -> '아메리카노'\n",
        "\n",
        "cur.executemany('INSERT INTO PART (NAME) VALUES (:n)', p) # 5번 반복, SQL문 1개, 각 반복마가 n키 값에 대응되는 value."
      ]
    },
    {
      "cell_type": "code",
      "execution_count": 19,
      "metadata": {},
      "outputs": [
        {
          "data": {
            "text/plain": [
              "[(1, '아메리카노'), (2, '카페라떼'), (3, '카페모카'), (4, '카푸치노'), (5, '프라페')]"
            ]
          },
          "execution_count": 19,
          "metadata": {},
          "output_type": "execute_result"
        }
      ],
      "source": [
        "cur.execute('SELECT * FROM PART')\n",
        "cur.fetchall()"
      ]
    },
    {
      "cell_type": "markdown",
      "metadata": {},
      "source": [
        "cursor.execute 함수들이 하는 일\n",
        "\n",
        "1. python이 파라미터 2개를 전달(SQL, 변수) <- 작업중\n",
        "2. DBMS가 SQL을 해석\n",
        "3. DB에 SQL을 적용"
      ]
    },
    {
      "cell_type": "code",
      "execution_count": 20,
      "metadata": {},
      "outputs": [
        {
          "data": {
            "text/plain": [
              "(1,)"
            ]
          },
          "execution_count": 20,
          "metadata": {},
          "output_type": "execute_result"
        }
      ],
      "source": [
        "cur.execute('SELECT CNO FROM CITY WHERE NAME=?', ['성북구'])\n",
        "cur.fetchone()"
      ]
    },
    {
      "cell_type": "code",
      "execution_count": 21,
      "metadata": {},
      "outputs": [
        {
          "data": {
            "text/plain": [
              "[(1,), (2,), (3,), (4,), (5,), (6,), (7,), (8,)]"
            ]
          },
          "execution_count": 21,
          "metadata": {},
          "output_type": "execute_result"
        }
      ],
      "source": [
        "cur.execute('SELECT CNO FROM CITY WHERE NAME LIKE ?', ['%구'])\n",
        "cur.fetchall()"
      ]
    },
    {
      "cell_type": "code",
      "execution_count": 22,
      "metadata": {},
      "outputs": [
        {
          "data": {
            "text/plain": [
              "[(7, '강남구'),\n",
              " (2, '강북구'),\n",
              " (6, '노원구'),\n",
              " (3, '동대문구'),\n",
              " (8, '서초구'),\n",
              " (1, '성북구'),\n",
              " (4, '중구'),\n",
              " (5, '중랑구')]"
            ]
          },
          "execution_count": 22,
          "metadata": {},
          "output_type": "execute_result"
        }
      ],
      "source": [
        "cur.execute('''\n",
        "    SELECT * FROM CITY WHERE NAME LIKE ?\n",
        "    ORDER BY NAME\n",
        "''', ['%구'])\n",
        "cur.fetchall()"
      ]
    },
    {
      "cell_type": "code",
      "execution_count": 23,
      "metadata": {},
      "outputs": [
        {
          "data": {
            "text/plain": [
              "[(7, '강남구')]"
            ]
          },
          "execution_count": 23,
          "metadata": {},
          "output_type": "execute_result"
        }
      ],
      "source": [
        "# DBMS에서 슬라이싱을 맡기는 방법\n",
        "# LIMIT 시작위치, 몇개\n",
        "cur.execute('''\n",
        "    SELECT * FROM CITY WHERE NAME LIKE ?\n",
        "    ORDER BY NAME, CNO\n",
        "    LIMIT 0, 1\n",
        "''', ['%구'])\n",
        "\n",
        "# cur.fetchmany(2) # n개, 슬라이싱의 주체는 파이썬\n",
        "cur.fetchall()   # 전체"
      ]
    },
    {
      "cell_type": "code",
      "execution_count": 24,
      "metadata": {},
      "outputs": [
        {
          "data": {
            "text/plain": [
              "[(1, '성북구')]"
            ]
          },
          "execution_count": 24,
          "metadata": {},
          "output_type": "execute_result"
        }
      ],
      "source": [
        "# 게시판에서 검색어를 통해 글을 찾는 방법\n",
        "# 정렬은 ORDER BY를 통햇 설정 가능\n",
        "cur.execute('''\n",
        "    SELECT * FROM CITY WHERE NAME LIKE ?\n",
        "    ORDER BY NAME, CNO ASC\n",
        "    LIMIT 0, 1\n",
        "''', ['%성북구%'])\n",
        "\n",
        "# Cursor -> DBMS <- DB\n",
        "# cur.fetchone()    # record/tuple/row 단위로 가져옴 -> python iteratable 객체로 반환\n",
        "# Cursor 결과 -> 읽어들임\n",
        "# cur.fetchone()[0] \n",
        "# Cursor 결과 X\n",
        "cur.fetchall()"
      ]
    },
    {
      "cell_type": "code",
      "execution_count": 25,
      "metadata": {},
      "outputs": [],
      "source": [
        "cur.execute('''\n",
        "    SELECT * FROM CITY WHERE NAME LIKE ?\n",
        "    ORDER BY NAME, CNO ASC\n",
        "    LIMIT 0, 1\n",
        "''', ['%성북구%'])\n",
        "cno = cur.fetchone()[0] \n"
      ]
    },
    {
      "cell_type": "code",
      "execution_count": 26,
      "metadata": {},
      "outputs": [
        {
          "data": {
            "text/plain": [
              "<sqlite3.Cursor at 0x104741040>"
            ]
          },
          "execution_count": 26,
          "metadata": {},
          "output_type": "execute_result"
        }
      ],
      "source": [
        "cur.execute('INSERT INTO SUPPLIER (NAME, CNO) VALUES(?, ?)', ('1호점', cno))\n",
        "cur.execute('INSERT INTO SUPPLIER (NAME, CNO) VALUES(?, ?)', ('2호점', cno))\n",
        "cur.execute('INSERT INTO SUPPLIER (NAME, CNO) VALUES(?, ?)', ('3호점', cno))"
      ]
    },
    {
      "cell_type": "code",
      "execution_count": 27,
      "metadata": {},
      "outputs": [
        {
          "data": {
            "text/plain": [
              "[(1, '1호점', 1), (2, '2호점', 1), (3, '3호점', 1)]"
            ]
          },
          "execution_count": 27,
          "metadata": {},
          "output_type": "execute_result"
        }
      ],
      "source": [
        "cur.execute('SELECT * FROM SUPPLIER')\n",
        "cur.fetchall()"
      ]
    },
    {
      "cell_type": "code",
      "execution_count": 28,
      "metadata": {},
      "outputs": [
        {
          "data": {
            "text/plain": [
              "<sqlite3.Cursor at 0x104741040>"
            ]
          },
          "execution_count": 28,
          "metadata": {},
          "output_type": "execute_result"
        }
      ],
      "source": [
        "# 중첩 SQL\n",
        "cur.execute('''\n",
        "    INSERT INTO SUPPLIER (NAME, CNO) VALUES (?, (\n",
        "        SELECT CNO FROM CITY WHERE NAME LIKE ?\n",
        "        ORDER BY NAME, CNO ASC\n",
        "        LIMIT 0, 1\n",
        "    ))\n",
        "''' , ('1호점', '%강북구%'))\n",
        "    # INSERT INTO SUPPLIER (NAME, CNO) VALUES ('1호점', 2);\n",
        "    # INSERT INTO SUPPLIER (NAME, CNO) VALUES ('1호점', 2 = (\n",
        "    #     SELECT CNO FROM CITY WHERE NAME LIKE '%강북구%'\n",
        "    #     ORDER BY NAME, CNO ASC\n",
        "    #     LIMIT 0, 1\n",
        "    # ))"
      ]
    },
    {
      "cell_type": "code",
      "execution_count": 29,
      "metadata": {},
      "outputs": [
        {
          "data": {
            "text/plain": [
              "[(1, '1호점', 1), (2, '2호점', 1), (3, '3호점', 1), (4, '1호점', 2)]"
            ]
          },
          "execution_count": 29,
          "metadata": {},
          "output_type": "execute_result"
        }
      ],
      "source": [
        "cur.execute('SELECT * FROM SUPPLIER')\n",
        "cur.fetchall()"
      ]
    },
    {
      "cell_type": "code",
      "execution_count": 30,
      "metadata": {},
      "outputs": [],
      "source": [
        "cur.execute('SELECT NAME FROM CITY WHERE CNO > 2')\n",
        "c = cur.fetchall()\n",
        "\n",
        "for name in c:\n",
        "    name = '%'+name[0]+'%'\n",
        "\n",
        "    # for no in ['1호점', '2호점', '3호점']:\n",
        "    #     cur.execute('''\n",
        "    #         INSERT INTO SUPPLIER (NAME, CNO) VALUES (?, (\n",
        "    #             SELECT CNO FROM CITY WHERE NAME LIKE ?\n",
        "    #             ORDER BY NAME, CNO ASC\n",
        "    #             LIMIT 0, 1\n",
        "    #         ))\n",
        "    #     ''' , (no, name))\n",
        "    params = [{'no':'1호점', 'name':name}, {'no':'2호점', 'name':name}, {'no':'3호점', 'name':name}]\n",
        "    cur.executemany('''\n",
        "        INSERT INTO SUPPLIER (NAME, CNO) VALUES (:no, (\n",
        "            SELECT CNO FROM CITY WHERE NAME LIKE :name\n",
        "            ORDER BY NAME, CNO ASC\n",
        "            LIMIT 0, 1\n",
        "        ))\n",
        "    ''', params)"
      ]
    },
    {
      "cell_type": "code",
      "execution_count": 31,
      "metadata": {},
      "outputs": [
        {
          "data": {
            "text/plain": [
              "22"
            ]
          },
          "execution_count": 31,
          "metadata": {},
          "output_type": "execute_result"
        }
      ],
      "source": [
        "cur.execute('SELECT * FROM SUPPLIER')\n",
        "len(cur.fetchall())"
      ]
    },
    {
      "cell_type": "markdown",
      "metadata": {},
      "source": [
        "거래 이력 만들기"
      ]
    },
    {
      "cell_type": "code",
      "execution_count": 32,
      "metadata": {},
      "outputs": [
        {
          "data": {
            "text/plain": [
              "5"
            ]
          },
          "execution_count": 32,
          "metadata": {},
          "output_type": "execute_result"
        }
      ],
      "source": [
        "cur.execute('SELECT COUNT(PNO) FROM PART')\n",
        "cur.fetchone()[0]"
      ]
    },
    {
      "cell_type": "code",
      "execution_count": 33,
      "metadata": {},
      "outputs": [
        {
          "data": {
            "text/plain": [
              "<sqlite3.Cursor at 0x104741040>"
            ]
          },
          "execution_count": 33,
          "metadata": {},
          "output_type": "execute_result"
        }
      ],
      "source": [
        "cur.execute('''\n",
        "    CREATE TABLE SELLS(\n",
        "        SNO INTEGER NOT NULL,\n",
        "        PNO INTEGER NOT NULL,\n",
        "        PRICE INTEGER NOT NULL DEFAULT 0\n",
        "    )\n",
        "''')"
      ]
    },
    {
      "cell_type": "code",
      "execution_count": 34,
      "metadata": {},
      "outputs": [
        {
          "data": {
            "text/plain": [
              "<sqlite3.Cursor at 0x104741040>"
            ]
          },
          "execution_count": 34,
          "metadata": {},
          "output_type": "execute_result"
        }
      ],
      "source": [
        "cur.executemany('INSERT INTO SELLS VALUES(?,?,?)',\n",
        "[(1,1,10),\n",
        "(2,1,10),\n",
        "(3,1,10),\n",
        "(5,1,10),\n",
        "(7,1,10),\n",
        "(9,1,10),\n",
        "(11,1,10),\n",
        "(1,2,15),\n",
        "(3,2,15),\n",
        "(5,2,15),\n",
        "(8,2,15),\n",
        "(2,3,12),\n",
        "(3,3,12),\n",
        "(4,3,12),\n",
        "(6,3,12),\n",
        "(12,3,12),\n",
        "(10,4,8),\n",
        "(13,4,8),\n",
        "(16,4,8),\n",
        "(19,4,8),\n",
        "(22,4,8),\n",
        "(21,5,20),\n",
        "(18,5,20),\n",
        "(15,5,20),\n",
        "(12,5,20),\n",
        "(9,5,20),\n",
        "(6,5,20),\n",
        "(3,5,20),]\n",
        ")"
      ]
    },
    {
      "cell_type": "code",
      "execution_count": 35,
      "metadata": {},
      "outputs": [],
      "source": [
        "con.commit()"
      ]
    },
    {
      "cell_type": "code",
      "execution_count": 36,
      "metadata": {},
      "outputs": [
        {
          "data": {
            "text/plain": [
              "[('성북구',),\n",
              " ('강북구',),\n",
              " ('동대문구',),\n",
              " ('중구',),\n",
              " ('중랑구',),\n",
              " ('노원구',),\n",
              " ('강남구',),\n",
              " ('서초구',)]"
            ]
          },
          "execution_count": 36,
          "metadata": {},
          "output_type": "execute_result"
        }
      ],
      "source": [
        "cur.execute('SELECT NAME FROM CITY')\n",
        "cur.fetchall()"
      ]
    },
    {
      "cell_type": "code",
      "execution_count": 37,
      "metadata": {},
      "outputs": [
        {
          "data": {
            "text/plain": [
              "<sqlite3.Cursor at 0x104741040>"
            ]
          },
          "execution_count": 37,
          "metadata": {},
          "output_type": "execute_result"
        }
      ],
      "source": [
        "cur.execute('INSERT INTO CITY (NAME) VALUES(\"광진구\");')"
      ]
    },
    {
      "cell_type": "code",
      "execution_count": 38,
      "metadata": {},
      "outputs": [
        {
          "data": {
            "text/plain": [
              "22"
            ]
          },
          "execution_count": 38,
          "metadata": {},
          "output_type": "execute_result"
        }
      ],
      "source": [
        "cur.execute('''\n",
        "    SELECT CITY.NAME, SUPPLIER.NAME FROM CITY\n",
        "    INNER JOIN SUPPLIER\n",
        "    ON CITY.CNO=SUPPLIER.CNO\n",
        "''')\n",
        "len(cur.fetchall()) # 22개"
      ]
    },
    {
      "cell_type": "code",
      "execution_count": 39,
      "metadata": {},
      "outputs": [
        {
          "data": {
            "text/plain": [
              "23"
            ]
          },
          "execution_count": 39,
          "metadata": {},
          "output_type": "execute_result"
        }
      ],
      "source": [
        "cur.execute('''\n",
        "    SELECT CITY.NAME, SUPPLIER.NAME FROM CITY\n",
        "    LEFT JOIN SUPPLIER\n",
        "    ON CITY.CNO=SUPPLIER.CNO\n",
        "''')\n",
        "len(cur.fetchall()) # 23개, [광진구, NULL]"
      ]
    },
    {
      "cell_type": "code",
      "execution_count": 40,
      "metadata": {},
      "outputs": [
        {
          "data": {
            "text/plain": [
              "[('강남구', '1호점'),\n",
              " ('강북구', '1호점'),\n",
              " ('광진구', None),\n",
              " ('노원구', '1호점'),\n",
              " ('동대문구', '1호점'),\n",
              " ('서초구', '1호점'),\n",
              " ('성북구', '1호점'),\n",
              " ('중구', '1호점'),\n",
              " ('중랑구', '1호점')]"
            ]
          },
          "execution_count": 40,
          "metadata": {},
          "output_type": "execute_result"
        }
      ],
      "source": [
        "cur.execute('''\n",
        "    SELECT CITY.NAME, SUPPLIER.NAME FROM CITY\n",
        "    LEFT JOIN SUPPLIER\n",
        "    ON CITY.CNO=SUPPLIER.CNO\n",
        "    GROUP BY CITY.CNO\n",
        "    ORDER BY CITY.NAME ASC\n",
        "''')\n",
        "cur.fetchall()"
      ]
    },
    {
      "cell_type": "code",
      "execution_count": 41,
      "metadata": {},
      "outputs": [
        {
          "data": {
            "text/plain": [
              "[('성북구', '1호점', 2, 25),\n",
              " ('성북구', '2호점', 2, 22),\n",
              " ('성북구', '3호점', 4, 57),\n",
              " ('강북구', '1호점', 1, 12),\n",
              " ('동대문구', '1호점', 2, 25),\n",
              " ('동대문구', '2호점', 2, 32),\n",
              " ('동대문구', '3호점', 1, 10),\n",
              " ('중구', '1호점', 1, 15),\n",
              " ('중구', '2호점', 2, 30),\n",
              " ('중구', '3호점', 1, 8),\n",
              " ('중랑구', '1호점', 1, 10),\n",
              " ('중랑구', '2호점', 2, 32),\n",
              " ('중랑구', '3호점', 1, 8),\n",
              " ('노원구', '2호점', 1, 20),\n",
              " ('노원구', '3호점', 1, 8),\n",
              " ('강남구', '2호점', 1, 20),\n",
              " ('강남구', '3호점', 1, 8),\n",
              " ('서초구', '2호점', 1, 20),\n",
              " ('서초구', '3호점', 1, 8)]"
            ]
          },
          "execution_count": 41,
          "metadata": {},
          "output_type": "execute_result"
        }
      ],
      "source": [
        "cur.execute('''\n",
        "    SELECT CITY.NAME, SUPPLIER.NAME, COUNT(SUPPLIER.NAME), SUM(SELLS.PRICE) FROM CITY\n",
        "    LEFT JOIN SUPPLIER\n",
        "    ON CITY.CNO=SUPPLIER.CNO\n",
        "    INNER JOIN SELLS\n",
        "    ON SUPPLIER.SNO=SELLS.SNO\n",
        "    GROUP BY CITY.NAME, SUPPLIER.NAME\n",
        "    ORDER BY CITY.CNO ASC\n",
        "''')\n",
        "cur.fetchall()"
      ]
    },
    {
      "cell_type": "code",
      "execution_count": 42,
      "metadata": {},
      "outputs": [
        {
          "data": {
            "text/plain": [
              "[('성북구', '1호점', 2, 25),\n",
              " ('성북구', '2호점', 2, 22),\n",
              " ('성북구', '3호점', 4, 57),\n",
              " ('강북구', '1호점', 1, 12),\n",
              " ('동대문구', '1호점', 2, 25),\n",
              " ('동대문구', '2호점', 2, 32),\n",
              " ('동대문구', '3호점', 1, 10),\n",
              " ('중구', '1호점', 1, 15),\n",
              " ('중구', '2호점', 2, 30),\n",
              " ('중구', '3호점', 1, 8),\n",
              " ('중랑구', '1호점', 1, 10),\n",
              " ('중랑구', '2호점', 2, 32),\n",
              " ('중랑구', '3호점', 1, 8),\n",
              " ('노원구', '2호점', 1, 20),\n",
              " ('노원구', '3호점', 1, 8),\n",
              " ('강남구', '2호점', 1, 20),\n",
              " ('강남구', '3호점', 1, 8),\n",
              " ('서초구', '2호점', 1, 20),\n",
              " ('서초구', '3호점', 1, 8)]"
            ]
          },
          "execution_count": 42,
          "metadata": {},
          "output_type": "execute_result"
        }
      ],
      "source": [
        "cur.execute('''\n",
        "    SELECT CITY.NAME, SUPPLIER.NAME, COUNT(SUPPLIER.NAME), SUM(SELLS.PRICE) FROM CITY\n",
        "    LEFT JOIN SUPPLIER\n",
        "    ON CITY.CNO=SUPPLIER.CNO\n",
        "    INNER JOIN SELLS\n",
        "    ON SUPPLIER.SNO=SELLS.SNO\n",
        "    GROUP BY CITY.NAME, SUPPLIER.NAME\n",
        "    ORDER BY CITY.CNO ASC\n",
        "''')\n",
        "cur.fetchall()"
      ]
    },
    {
      "cell_type": "code",
      "execution_count": null,
      "metadata": {},
      "outputs": [],
      "source": [
        "# SQL중첩 시킴(SQL안에 SQL) => Procedure\n",
        "# JOIN(INNER=교집합, LEFT/RIGHT=기준테이블, OUTER)\n",
        "# GROUP BY "
      ]
    },
    {
      "cell_type": "code",
      "execution_count": 43,
      "metadata": {},
      "outputs": [
        {
          "name": "stdout",
          "output_type": "stream",
          "text": [
            "BEGIN TRANSACTION;\n",
            "CREATE TABLE CITY (\n",
            "    CNO INTEGER PRIMARY KEY,\n",
            "    NAME TEXT NOT NULL\n",
            "  );\n",
            "INSERT INTO \"CITY\" VALUES(1,'성북구');\n",
            "INSERT INTO \"CITY\" VALUES(2,'강북구');\n",
            "INSERT INTO \"CITY\" VALUES(3,'동대문구');\n",
            "INSERT INTO \"CITY\" VALUES(4,'중구');\n",
            "INSERT INTO \"CITY\" VALUES(5,'중랑구');\n",
            "INSERT INTO \"CITY\" VALUES(6,'노원구');\n",
            "INSERT INTO \"CITY\" VALUES(7,'강남구');\n",
            "INSERT INTO \"CITY\" VALUES(8,'서초구');\n",
            "INSERT INTO \"CITY\" VALUES(9,'광진구');\n",
            "CREATE TABLE PART (\n",
            "      PNO INTEGER PRIMARY KEY,\n",
            "      NAME CHAR(1)\n",
            "  );\n",
            "INSERT INTO \"PART\" VALUES(1,'아메리카노');\n",
            "INSERT INTO \"PART\" VALUES(2,'카페라떼');\n",
            "INSERT INTO \"PART\" VALUES(3,'카페모카');\n",
            "INSERT INTO \"PART\" VALUES(4,'카푸치노');\n",
            "INSERT INTO \"PART\" VALUES(5,'프라페');\n",
            "CREATE TABLE SELLS(\n",
            "        SNO INTEGER NOT NULL,\n",
            "        PNO INTEGER NOT NULL,\n",
            "        PRICE INTEGER NOT NULL DEFAULT 0\n",
            "    );\n",
            "INSERT INTO \"SELLS\" VALUES(1,1,10);\n",
            "INSERT INTO \"SELLS\" VALUES(2,1,10);\n",
            "INSERT INTO \"SELLS\" VALUES(3,1,10);\n",
            "INSERT INTO \"SELLS\" VALUES(5,1,10);\n",
            "INSERT INTO \"SELLS\" VALUES(7,1,10);\n",
            "INSERT INTO \"SELLS\" VALUES(9,1,10);\n",
            "INSERT INTO \"SELLS\" VALUES(11,1,10);\n",
            "INSERT INTO \"SELLS\" VALUES(1,2,15);\n",
            "INSERT INTO \"SELLS\" VALUES(3,2,15);\n",
            "INSERT INTO \"SELLS\" VALUES(5,2,15);\n",
            "INSERT INTO \"SELLS\" VALUES(8,2,15);\n",
            "INSERT INTO \"SELLS\" VALUES(2,3,12);\n",
            "INSERT INTO \"SELLS\" VALUES(3,3,12);\n",
            "INSERT INTO \"SELLS\" VALUES(4,3,12);\n",
            "INSERT INTO \"SELLS\" VALUES(6,3,12);\n",
            "INSERT INTO \"SELLS\" VALUES(12,3,12);\n",
            "INSERT INTO \"SELLS\" VALUES(10,4,8);\n",
            "INSERT INTO \"SELLS\" VALUES(13,4,8);\n",
            "INSERT INTO \"SELLS\" VALUES(16,4,8);\n",
            "INSERT INTO \"SELLS\" VALUES(19,4,8);\n",
            "INSERT INTO \"SELLS\" VALUES(22,4,8);\n",
            "INSERT INTO \"SELLS\" VALUES(21,5,20);\n",
            "INSERT INTO \"SELLS\" VALUES(18,5,20);\n",
            "INSERT INTO \"SELLS\" VALUES(15,5,20);\n",
            "INSERT INTO \"SELLS\" VALUES(12,5,20);\n",
            "INSERT INTO \"SELLS\" VALUES(9,5,20);\n",
            "INSERT INTO \"SELLS\" VALUES(6,5,20);\n",
            "INSERT INTO \"SELLS\" VALUES(3,5,20);\n",
            "CREATE TABLE SUPPLIER (\n",
            "    SNO INTEGER PRIMARY KEY,\n",
            "    NAME VARCHAR(2),\n",
            "    CNO INTEGER INTEGER NOT NULL\n",
            "  );\n",
            "INSERT INTO \"SUPPLIER\" VALUES(1,'1호점',1);\n",
            "INSERT INTO \"SUPPLIER\" VALUES(2,'2호점',1);\n",
            "INSERT INTO \"SUPPLIER\" VALUES(3,'3호점',1);\n",
            "INSERT INTO \"SUPPLIER\" VALUES(4,'1호점',2);\n",
            "INSERT INTO \"SUPPLIER\" VALUES(5,'1호점',3);\n",
            "INSERT INTO \"SUPPLIER\" VALUES(6,'2호점',3);\n",
            "INSERT INTO \"SUPPLIER\" VALUES(7,'3호점',3);\n",
            "INSERT INTO \"SUPPLIER\" VALUES(8,'1호점',4);\n",
            "INSERT INTO \"SUPPLIER\" VALUES(9,'2호점',4);\n",
            "INSERT INTO \"SUPPLIER\" VALUES(10,'3호점',4);\n",
            "INSERT INTO \"SUPPLIER\" VALUES(11,'1호점',5);\n",
            "INSERT INTO \"SUPPLIER\" VALUES(12,'2호점',5);\n",
            "INSERT INTO \"SUPPLIER\" VALUES(13,'3호점',5);\n",
            "INSERT INTO \"SUPPLIER\" VALUES(14,'1호점',6);\n",
            "INSERT INTO \"SUPPLIER\" VALUES(15,'2호점',6);\n",
            "INSERT INTO \"SUPPLIER\" VALUES(16,'3호점',6);\n",
            "INSERT INTO \"SUPPLIER\" VALUES(17,'1호점',7);\n",
            "INSERT INTO \"SUPPLIER\" VALUES(18,'2호점',7);\n",
            "INSERT INTO \"SUPPLIER\" VALUES(19,'3호점',7);\n",
            "INSERT INTO \"SUPPLIER\" VALUES(20,'1호점',8);\n",
            "INSERT INTO \"SUPPLIER\" VALUES(21,'2호점',8);\n",
            "INSERT INTO \"SUPPLIER\" VALUES(22,'3호점',8);\n",
            "COMMIT;\n"
          ]
        }
      ],
      "source": [
        "for d in con.iterdump():\n",
        "    print(d)"
      ]
    },
    {
      "cell_type": "code",
      "execution_count": null,
      "metadata": {},
      "outputs": [],
      "source": []
    }
  ],
  "metadata": {
    "colab": {
      "provenance": []
    },
    "kernelspec": {
      "display_name": "Python 3",
      "name": "python3"
    },
    "language_info": {
      "codemirror_mode": {
        "name": "ipython",
        "version": 3
      },
      "file_extension": ".py",
      "mimetype": "text/x-python",
      "name": "python",
      "nbconvert_exporter": "python",
      "pygments_lexer": "ipython3",
      "version": "3.11.2"
    }
  },
  "nbformat": 4,
  "nbformat_minor": 0
}
