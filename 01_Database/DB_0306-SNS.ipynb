{
  "nbformat": 4,
  "nbformat_minor": 0,
  "metadata": {
    "colab": {
      "provenance": []
    },
    "kernelspec": {
      "name": "python3",
      "display_name": "Python 3"
    },
    "language_info": {
      "name": "python"
    }
  },
  "cells": [
    {
      "cell_type": "code",
      "execution_count": null,
      "metadata": {
        "id": "sn81DPy7u8Cc"
      },
      "outputs": [],
      "source": [
        "#   *   client        server\n",
        "#  ORM  Python       (R)DBMS ----  Database\n",
        "#       sqlite3       SQLite         FILE\n",
        "#              connect\n",
        "#       cursor(SQL, params)\n",
        "#       <----------------> Business Logit 1= Dev\n",
        "#       => SNS(포스팅 등록 및 수정)"
      ]
    },
    {
      "cell_type": "code",
      "source": [
        "import sqlite3"
      ],
      "metadata": {
        "id": "YW-RWzBhx5rR"
      },
      "execution_count": null,
      "outputs": []
    },
    {
      "cell_type": "code",
      "source": [
        "con = sqlite3.connect('sns.db')\n",
        "cur = con.cursor()"
      ],
      "metadata": {
        "id": "BHhs0hL5x73A"
      },
      "execution_count": null,
      "outputs": []
    },
    {
      "cell_type": "code",
      "source": [
        "# Table 3개\n",
        "# Post          Hashtag        PostHashtag(n:m)\n",
        "# PK, Content   PK, Tag, Cnt   P.PK, H.PK\n",
        "cur.executescript('''\n",
        "  DROP TABLE IF EXISTS POST;\n",
        "  CREATE TABLE POST(\n",
        "    PNO INTEGER PRIMARY KEY,\n",
        "    CONTENT TEXT NOT NULL\n",
        "  );\n",
        "\n",
        "  DROP TABLE IF EXISTS HASHTAG;\n",
        "  CREATE TABLE HASHTAG(\n",
        "    HNO INTEGER PRIMARY KEY,\n",
        "    NAME TEXT NOT NULL,\n",
        "    CNT INTEGER NOT NULL DEFAULT 0\n",
        "  );\n",
        "\n",
        "  DROP TABLE IF EXISTS PH;\n",
        "  CREATE TABLE PH(\n",
        "    PNO INTEGER NOT NULL,\n",
        "    HNO INTEGER NOT NULL\n",
        "  );\n",
        "''')"
      ],
      "metadata": {
        "colab": {
          "base_uri": "https://localhost:8080/"
        },
        "id": "VW1mVuiPyCYg",
        "outputId": "c02e3495-1046-4beb-9369-ca7b3ed252b0"
      },
      "execution_count": null,
      "outputs": [
        {
          "output_type": "execute_result",
          "data": {
            "text/plain": [
              "<sqlite3.Cursor at 0x7f697b35b640>"
            ]
          },
          "metadata": {},
          "execution_count": 4
        }
      ]
    },
    {
      "cell_type": "code",
      "source": [
        "# 새로운 게시물 들록 (내용 해시태그들)\n",
        "# 해시태그: (1)태그풀에 존재하는 태그만, (2)존재하지 않으면 새롭게 추가.\n",
        "def findTag(tag):\n",
        "    cur.execute('SELECT HNO FROM HASHTAG WHERE NAME=?', (tag,))\n",
        "    result = cur.fetchone() # fetchall => fetchone\n",
        "    if not result: # result가 None 일때\n",
        "        return 0\n",
        "    else: # None이 아닐 때, fetchone이니깐 tuple(열, 열, ...)\n",
        "        return result[0]\n",
        "\n",
        "def addTag(tag):\n",
        "    cur.execute('INSERT INTO HASHTAG(NAME) VALUES(?)', (tag,))\n",
        "    con.commit()\n",
        "    return cur.lastrowid"
      ],
      "metadata": {
        "id": "byrXmbFjy6ll"
      },
      "execution_count": null,
      "outputs": []
    },
    {
      "cell_type": "code",
      "source": [
        "findTag('태그1'), addTag('태그1')"
      ],
      "metadata": {
        "colab": {
          "base_uri": "https://localhost:8080/"
        },
        "id": "rHWnmvep2E28",
        "outputId": "fc645a92-98e1-452a-e071-62152a843bf4"
      },
      "execution_count": null,
      "outputs": [
        {
          "output_type": "execute_result",
          "data": {
            "text/plain": [
              "(0, 1)"
            ]
          },
          "metadata": {},
          "execution_count": 6
        }
      ]
    },
    {
      "cell_type": "code",
      "source": [
        "findTag('태그1')"
      ],
      "metadata": {
        "colab": {
          "base_uri": "https://localhost:8080/"
        },
        "id": "cnJEjmdl1eXK",
        "outputId": "81f58df5-a454-4387-ece0-aa7156dc96d5"
      },
      "execution_count": null,
      "outputs": [
        {
          "output_type": "execute_result",
          "data": {
            "text/plain": [
              "1"
            ]
          },
          "metadata": {},
          "execution_count": 7
        }
      ]
    },
    {
      "cell_type": "code",
      "source": [
        "def plusCount(hno):\n",
        "  cur.execute('UPDATE HASHTAG SET CNT = CNT + 1 WHERE HNO=?', (hno,))\n",
        "  con.commit()\n",
        "\n",
        "def minusCount(hno):\n",
        "  cur.execute('UPDATE HASHTAG SET CNT = CNT - 1 WHERE HNO=?', (hno,))\n",
        "  con.commit()"
      ],
      "metadata": {
        "id": "jzyMB1oZ4rmQ"
      },
      "execution_count": null,
      "outputs": []
    },
    {
      "cell_type": "code",
      "source": [
        "plusCount(findTag('태그1')), plusCount(findTag('태그1')), plusCount(findTag('태그1'))"
      ],
      "metadata": {
        "colab": {
          "base_uri": "https://localhost:8080/"
        },
        "id": "tz0UExbx5Rym",
        "outputId": "2e686071-c5f1-485e-a81f-bc8cc2508d44"
      },
      "execution_count": null,
      "outputs": [
        {
          "output_type": "execute_result",
          "data": {
            "text/plain": [
              "(None, None, None)"
            ]
          },
          "metadata": {},
          "execution_count": 9
        }
      ]
    },
    {
      "cell_type": "code",
      "source": [
        "plusCount(findTag('태그2')), plusCount(findTag('태그3'))"
      ],
      "metadata": {
        "colab": {
          "base_uri": "https://localhost:8080/"
        },
        "id": "d73gHA-358v-",
        "outputId": "d3b599ad-797e-4ff5-8017-cacecfffc73f"
      },
      "execution_count": null,
      "outputs": [
        {
          "output_type": "execute_result",
          "data": {
            "text/plain": [
              "(None, None)"
            ]
          },
          "metadata": {},
          "execution_count": 10
        }
      ]
    },
    {
      "cell_type": "code",
      "source": [
        "def addPost(content, opt=True, *tags):\n",
        "    cur.execute('INSERT INTO POST(CONTENT) VALUES(?)', (content,))\n",
        "    con.commit()\n",
        "    pno = cur.lastrowid\n",
        "    # if cur.lastrowid < 1:\n",
        "    #     return None\n",
        "\n",
        "    for tag in tags:\n",
        "        # (1) 태그풀에 존재하는 애들만\n",
        "        r = findTag(tag)\n",
        "        # (2) 태그풀에 존재하지 않으면, 추가\n",
        "        if r == 0 and opt == True:\n",
        "            r = addTag(tag) # 새로운 태그가 들어가면, return pk\n",
        "        if r > 0:\n",
        "            plusCount(r) # 사용된 태그에 +1\n",
        "            cur.execute('INSERT INTO PH VALUES(?,?)', (pno, r))\n",
        "            con.commit()\n",
        "\n",
        "    return pno"
      ],
      "metadata": {
        "id": "rxT04RNS0OSm"
      },
      "execution_count": null,
      "outputs": []
    },
    {
      "cell_type": "code",
      "source": [
        "addPost('내용2', False, '태그1', '태그2', '태그3')"
      ],
      "metadata": {
        "colab": {
          "base_uri": "https://localhost:8080/"
        },
        "id": "L42aCkvr32fI",
        "outputId": "5b4bbce6-5e0a-424d-a287-027339409977"
      },
      "execution_count": null,
      "outputs": [
        {
          "output_type": "execute_result",
          "data": {
            "text/plain": [
              "1"
            ]
          },
          "metadata": {},
          "execution_count": 12
        }
      ]
    },
    {
      "cell_type": "markdown",
      "source": [
        "- Post => 2개\n",
        "- Hatshtag => 1개\n",
        "- PH => 2개"
      ],
      "metadata": {
        "id": "p5F8LNx1BQIK"
      }
    },
    {
      "cell_type": "code",
      "source": [
        "cur.execute('SELECT * FROM POST')\n",
        "cur.fetchall()"
      ],
      "metadata": {
        "colab": {
          "base_uri": "https://localhost:8080/"
        },
        "id": "xdo6z3GYBUx1",
        "outputId": "e1ca13f7-103f-4b40-e1df-a02af5f60d37"
      },
      "execution_count": null,
      "outputs": [
        {
          "output_type": "execute_result",
          "data": {
            "text/plain": [
              "[(1, '내용2')]"
            ]
          },
          "metadata": {},
          "execution_count": 13
        }
      ]
    },
    {
      "cell_type": "code",
      "source": [
        "cur.execute('SELECT * FROM HASHTAG')\n",
        "cur.fetchall()"
      ],
      "metadata": {
        "colab": {
          "base_uri": "https://localhost:8080/"
        },
        "id": "cUXYeN7mBVON",
        "outputId": "c6678749-4386-46e2-d8d9-bdafdb0bb76b"
      },
      "execution_count": null,
      "outputs": [
        {
          "output_type": "execute_result",
          "data": {
            "text/plain": [
              "[(1, '태그1', 4)]"
            ]
          },
          "metadata": {},
          "execution_count": 14
        }
      ]
    },
    {
      "cell_type": "code",
      "source": [
        "cur.execute('SELECT * FROM PH')\n",
        "cur.fetchall()"
      ],
      "metadata": {
        "colab": {
          "base_uri": "https://localhost:8080/"
        },
        "id": "Xw7UImIgBYV2",
        "outputId": "3099cf38-213a-45d3-fd64-b806ef7e58ff"
      },
      "execution_count": null,
      "outputs": [
        {
          "output_type": "execute_result",
          "data": {
            "text/plain": [
              "[(1, 1)]"
            ]
          },
          "metadata": {},
          "execution_count": 15
        }
      ]
    },
    {
      "cell_type": "code",
      "source": [
        "addPost('내용3', True, '태그1', '태그2', '태그3')"
      ],
      "metadata": {
        "colab": {
          "base_uri": "https://localhost:8080/"
        },
        "id": "sw6GZlq5BZxy",
        "outputId": "b8136e11-084a-4607-b34c-c43f74a46ce2"
      },
      "execution_count": null,
      "outputs": [
        {
          "output_type": "execute_result",
          "data": {
            "text/plain": [
              "2"
            ]
          },
          "metadata": {},
          "execution_count": 16
        }
      ]
    },
    {
      "cell_type": "code",
      "source": [
        "cur.execute('SELECT * FROM POST')\n",
        "cur.fetchall()"
      ],
      "metadata": {
        "colab": {
          "base_uri": "https://localhost:8080/"
        },
        "id": "Sol5xvwBBbrz",
        "outputId": "d55a0495-5ef4-4fab-8bb5-62d57b9ea946"
      },
      "execution_count": null,
      "outputs": [
        {
          "output_type": "execute_result",
          "data": {
            "text/plain": [
              "[(1, '내용2'), (2, '내용3')]"
            ]
          },
          "metadata": {},
          "execution_count": 17
        }
      ]
    },
    {
      "cell_type": "code",
      "source": [
        "cur.execute('SELECT * FROM HASHTAG')\n",
        "cur.fetchall()"
      ],
      "metadata": {
        "colab": {
          "base_uri": "https://localhost:8080/"
        },
        "id": "lxen4JbuBdvg",
        "outputId": "495b8135-3482-4631-b863-9986cf44e773"
      },
      "execution_count": null,
      "outputs": [
        {
          "output_type": "execute_result",
          "data": {
            "text/plain": [
              "[(1, '태그1', 5), (2, '태그2', 1), (3, '태그3', 1)]"
            ]
          },
          "metadata": {},
          "execution_count": 18
        }
      ]
    },
    {
      "cell_type": "code",
      "source": [
        "cur.execute('SELECT * FROM PH')\n",
        "cur.fetchall()"
      ],
      "metadata": {
        "colab": {
          "base_uri": "https://localhost:8080/"
        },
        "id": "xGpnztFnBfO1",
        "outputId": "3e6a7157-edd6-466c-f1cf-638ba82bb48a"
      },
      "execution_count": null,
      "outputs": [
        {
          "output_type": "execute_result",
          "data": {
            "text/plain": [
              "[(1, 1), (2, 1), (2, 2), (2, 3)]"
            ]
          },
          "metadata": {},
          "execution_count": 19
        }
      ]
    },
    {
      "cell_type": "code",
      "source": [
        "# 게시글 수정(pno, *tags)\n",
        "# 태그들 => 기존 태그들과 비교해서, 같으면 냅두고, 다르면 수정(추가/삭제)\n",
        "def findTagsByID(pno):\n",
        "    result = list()\n",
        "    cur.execute('SELECT hno FROM PH WHERE pno=?', (pno,))\n",
        "    for row in cur.fetchall():\n",
        "        result.append(row[0])\n",
        "    return result\n",
        "\n",
        "def modifyPost(pno, content, *tags):\n",
        "    cur.execute('UPDATE POST SET CONTENT=? WHERE PNO=?', (content, pno))\n",
        "    con.commit()\n",
        "\n",
        "    tlist = findTagsByID(pno) # 원본에 붙어있던 태그들\n",
        "    hlist = list() # 새롭게 수정된 태그들\n",
        "    for tag in tags:\n",
        "        hno = findTag(tag)\n",
        "        if hno > 0:\n",
        "            hno = addTag(tag)\n",
        "        hlist.append(hno)\n",
        "    removelist = list(set(tlist) - set(hlist))\n",
        "    pluslist = list(set(hlist) - set(tlist))\n",
        "    for r in removelist:\n",
        "        minusCount(r)\n",
        "        cur.execute('DELETE FROM PH WHERE pno=? AND hno=?', (pno, r))\n",
        "    for r in pluslist:\n",
        "        plusCount(r)\n",
        "        cur.execute('INSERT INTO PH VALUES(?,?)', (pno, r))\n",
        "    con.commit()"
      ],
      "metadata": {
        "id": "sJe-xcY94HS6"
      },
      "execution_count": null,
      "outputs": []
    },
    {
      "cell_type": "code",
      "source": [
        "modifyPost(1, '수정된 내용1', '태그1', '태그2') # 태그1 존치, 태그2 추가\n",
        "modifyPost(2, '수정된 내용2', '태그3') # 태그1이 삭제, 태그3 추가\n",
        "modifyPost(3, '수정된 내용3', '태그1', '태그2', '태그3', '태그4') # 태그4가 추가"
      ],
      "metadata": {
        "id": "6lucItga8nt5"
      },
      "execution_count": null,
      "outputs": []
    },
    {
      "cell_type": "code",
      "source": [
        "# PH        HASHTAG\n",
        "# 1,1       1,2\n",
        "# 1,2       2,2\n",
        "# 2,3       3,2\n",
        "# 3,1       4,1\n",
        "# 3,2\n",
        "# 3,3\n",
        "# 3,4"
      ],
      "metadata": {
        "id": "fgXsDqltBvrc"
      },
      "execution_count": null,
      "outputs": []
    },
    {
      "cell_type": "code",
      "source": [
        "# 실무에서는 절대 이 따구로 하지 말 것\n",
        "cur.execute('DELETE FROM POST')\n",
        "cur.execute('DELETE FROM HASHTAG')\n",
        "cur.execute('DELETE FROM PH')\n",
        "con.commit()"
      ],
      "metadata": {
        "id": "Xb-JTBBs9M3x"
      },
      "execution_count": null,
      "outputs": []
    },
    {
      "cell_type": "code",
      "source": [
        "# lastrowid => pk, 문제가 생겨 수정한다.\n",
        "def addTag(tag):\n",
        "  if findTag(tag) == 0: # 0이면 태그풀이 없는 태그\n",
        "    cur.execute('INSERT INTO HASHTAG(NAME) VALUES(?)', (tag,))\n",
        "    con.commit()\n",
        "  return findTag(tag)"
      ],
      "metadata": {
        "id": "vxF8hbWK9enT"
      },
      "execution_count": null,
      "outputs": []
    },
    {
      "cell_type": "code",
      "source": [
        "addPost('내용1', True, '태그1')\n",
        "addPost('내용2', False, '태그1', '태그2')\n",
        "addPost('내용3', True, '태그2', '태그3')"
      ],
      "metadata": {
        "colab": {
          "base_uri": "https://localhost:8080/"
        },
        "id": "PrNgI8dWB7bx",
        "outputId": "8c26d1d7-1b07-48ab-c452-ade930ff3554"
      },
      "execution_count": null,
      "outputs": [
        {
          "output_type": "execute_result",
          "data": {
            "text/plain": [
              "3"
            ]
          },
          "metadata": {},
          "execution_count": 25
        }
      ]
    },
    {
      "cell_type": "code",
      "source": [
        "cur.execute('SELECT * FROM HASHTAG')\n",
        "cur.fetchall()"
      ],
      "metadata": {
        "colab": {
          "base_uri": "https://localhost:8080/"
        },
        "id": "iH9JkjWB8wlp",
        "outputId": "335eac3f-ea15-41ce-d0fd-476fa4a3a398"
      },
      "execution_count": null,
      "outputs": [
        {
          "output_type": "execute_result",
          "data": {
            "text/plain": [
              "[(1, '태그1', 2), (2, '태그2', 1), (3, '태그3', 1)]"
            ]
          },
          "metadata": {},
          "execution_count": 26
        }
      ]
    },
    {
      "cell_type": "code",
      "source": [
        "cur.execute('SELECT * FROM PH')\n",
        "cur.fetchall()"
      ],
      "metadata": {
        "colab": {
          "base_uri": "https://localhost:8080/"
        },
        "id": "jOB0fj_q824V",
        "outputId": "76c7dcd5-3de3-4271-e960-fa160b407622"
      },
      "execution_count": null,
      "outputs": [
        {
          "output_type": "execute_result",
          "data": {
            "text/plain": [
              "[(1, 1), (2, 1), (3, 2), (3, 3)]"
            ]
          },
          "metadata": {},
          "execution_count": 27
        }
      ]
    },
    {
      "cell_type": "code",
      "source": [
        "modifyPost(1, '수정된내용1', '태그1', '태그3') # 태그3 추가\n",
        "modifyPost(2, '수정된내용2', '태그2') # 태그1 삭제\n",
        "modifyPost(3, '수정된내용3') # 태그 삭제"
      ],
      "metadata": {
        "id": "Pn-129AJCCfR"
      },
      "execution_count": null,
      "outputs": []
    },
    {
      "cell_type": "code",
      "source": [
        "cur.execute('SELECT * FROM HASHTAG')\n",
        "cur.fetchall()"
      ],
      "metadata": {
        "colab": {
          "base_uri": "https://localhost:8080/"
        },
        "id": "NUu4VGuXCEDO",
        "outputId": "6b2cd936-47f4-429d-8f5d-f9ca80d1a493"
      },
      "execution_count": null,
      "outputs": [
        {
          "output_type": "execute_result",
          "data": {
            "text/plain": [
              "[(1, '태그1', 1), (2, '태그2', 1), (3, '태그3', 1)]"
            ]
          },
          "metadata": {},
          "execution_count": 29
        }
      ]
    },
    {
      "cell_type": "code",
      "source": [
        "cur.execute('SELECT * FROM PH')\n",
        "cur.fetchall()"
      ],
      "metadata": {
        "colab": {
          "base_uri": "https://localhost:8080/"
        },
        "id": "Z6xbNx-JCFPc",
        "outputId": "e3e1b7cf-c674-4a07-999d-83aee2619325"
      },
      "execution_count": null,
      "outputs": [
        {
          "output_type": "execute_result",
          "data": {
            "text/plain": [
              "[(1, 1), (1, 3), (2, 2)]"
            ]
          },
          "metadata": {},
          "execution_count": 30
        }
      ]
    },
    {
      "cell_type": "code",
      "source": [
        "cur.execute('''\n",
        "  SELECT A.CONTENT, C.NAME\n",
        "  FROM POST AS A\n",
        "  INNER JOIN PH AS B ON B.PNO=A.PNO\n",
        "  INNER JOIN HASHTAG AS C ON B.HNO=C.HNO\n",
        "''')\n",
        "cur.fetchall()"
      ],
      "metadata": {
        "colab": {
          "base_uri": "https://localhost:8080/"
        },
        "id": "vEo2g94k_7jf",
        "outputId": "b2a8247a-389c-471d-ee3c-a23aad210493"
      },
      "execution_count": null,
      "outputs": [
        {
          "output_type": "execute_result",
          "data": {
            "text/plain": [
              "[('수정된내용1', '태그1'), ('수정된내용1', '태그3'), ('수정된내용2', '태그2')]"
            ]
          },
          "metadata": {},
          "execution_count": 32
        }
      ]
    },
    {
      "cell_type": "code",
      "source": [
        "def viewPost(pno):\n",
        "  cur.execute('''\n",
        "    SELECT NAME FROM HASHTAG\n",
        "    INNER JOIN PH ON PH.HNO=HASHTAG.HNO AND PH.PNO=?\n",
        "  ''', (pno,))\n",
        "  tags = list()\n",
        "  for row in cur.fetchall():\n",
        "    tags.append('#'+row[0])\n",
        "  cur.execute('SELECT CONTENT FROM POST WHERE PNO=?', (pno,))\n",
        "  content = cur.fetchone()[0]\n",
        "  return content, ','.join(tags)\n",
        "\n",
        "viewPost(3)"
      ],
      "metadata": {
        "colab": {
          "base_uri": "https://localhost:8080/"
        },
        "id": "imyFI6iADRB2",
        "outputId": "58705d63-c6dd-455f-92e1-7e6bcf968a7e"
      },
      "execution_count": null,
      "outputs": [
        {
          "output_type": "execute_result",
          "data": {
            "text/plain": [
              "('수정된내용3', '')"
            ]
          },
          "metadata": {},
          "execution_count": 34
        }
      ]
    },
    {
      "cell_type": "code",
      "source": [
        "def search(name, asc=True):\n",
        "  order = 'ASC' if asc else 'DESC'\n",
        "  cur.execute('SELECT NAME FROM HASHTAG WHERE NAME LIKE ?', ('%'+name+'%',))\n",
        "  result = list()\n",
        "  for row in cur.fetchall():\n",
        "    result.append(row[0])\n",
        "  return result\n",
        "\n",
        "search('태', False)"
      ],
      "metadata": {
        "colab": {
          "base_uri": "https://localhost:8080/"
        },
        "id": "shJgDBPnEFLb",
        "outputId": "eb95b883-73c7-4c19-b2c0-3085140bd7d3"
      },
      "execution_count": null,
      "outputs": [
        {
          "output_type": "execute_result",
          "data": {
            "text/plain": [
              "['태그1', '태그2', '태그3']"
            ]
          },
          "metadata": {},
          "execution_count": 37
        }
      ]
    },
    {
      "cell_type": "code",
      "source": [
        "cur.execute('SELECT * FROM HASHTAG')\n",
        "cur.fetchall()"
      ],
      "metadata": {
        "colab": {
          "base_uri": "https://localhost:8080/"
        },
        "id": "cZaG5-m8EtLs",
        "outputId": "83ba474e-2d37-4a8b-be43-1f66a05c02e1"
      },
      "execution_count": null,
      "outputs": [
        {
          "output_type": "execute_result",
          "data": {
            "text/plain": [
              "[(1, '태그1', 1), (2, '태그2', 1), (3, '태그3', 1)]"
            ]
          },
          "metadata": {},
          "execution_count": 38
        }
      ]
    },
    {
      "cell_type": "code",
      "source": [
        "def searchPostByTag(tag):\n",
        "  hno = findTag(search(tag)[0])\n",
        "  # 중복 없이: DISTINCT\n",
        "  cur.execute('SELECT DISTINCT(CONTENT) FROM POST INNER JOIN PH ON PH.PNO=POST.PNO AND PH.HNO=?', (hno,))\n",
        "  print(cur.fetchall())\n",
        "\n",
        "searchPostByTag('태그1')"
      ],
      "metadata": {
        "colab": {
          "base_uri": "https://localhost:8080/"
        },
        "id": "hlU6yr8fE7Fu",
        "outputId": "b4414db9-429e-4920-a111-7744b0886c4b"
      },
      "execution_count": null,
      "outputs": [
        {
          "output_type": "stream",
          "name": "stdout",
          "text": [
            "[('수정된내용1',)]\n"
          ]
        }
      ]
    },
    {
      "cell_type": "markdown",
      "source": [
        "백엔드에서 sns를 구현하는 것을 실습을 해봤다.\n",
        "\n",
        "다음과 같이 기술적인 입장에서 서비스를 제작하려고 하면 내가 무엇을 해야 하는지, 어디를 작업하고 있는지 파악하기 어렵다.\n",
        "\n",
        "그렇기에 우리는 ORM을 사용하는 것이다."
      ],
      "metadata": {
        "id": "pKzONgXa_w0T"
      }
    }
  ]
}