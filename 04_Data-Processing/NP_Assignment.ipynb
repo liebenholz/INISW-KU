{
  "nbformat": 4,
  "nbformat_minor": 0,
  "metadata": {
    "colab": {
      "provenance": []
    },
    "kernelspec": {
      "name": "python3",
      "display_name": "Python 3"
    },
    "language_info": {
      "name": "python"
    }
  },
  "cells": [
    {
      "cell_type": "markdown",
      "source": [
        "# [NumPy: the absolute basics for beginners](https://numpy.org/doc/stable/user/absolute_beginners.html)"
      ],
      "metadata": {
        "id": "4G8uSfk1WM8g"
      }
    },
    {
      "cell_type": "markdown",
      "source": [
        "## [Indexing and slicing](https://numpy.org/doc/stable/user/absolute_beginners.html#indexing-and-slicing)\n",
        "\n",
        "별건 아니고, array 시작부분의 whitespace가 약간 거슬린다. 어떨 땐 생기고, 어떨 땐 생기지 않는다. 특별한 기준이 있을까?"
      ],
      "metadata": {
        "id": "-YfEi6L7LE6P"
      }
    },
    {
      "cell_type": "code",
      "execution_count": 7,
      "metadata": {
        "id": "qn14Tv5oWEw8",
        "colab": {
          "base_uri": "https://localhost:8080/"
        },
        "outputId": "6c57714d-36f1-47e0-da43-b97b33043ec8"
      },
      "outputs": [
        {
          "output_type": "execute_result",
          "data": {
            "text/plain": [
              "2"
            ]
          },
          "metadata": {},
          "execution_count": 7
        }
      ],
      "source": [
        "import numpy as np\n",
        "\n",
        "a = np.array([[1, 2, 3, 4], [5, 6, 7, 8], [9, 10, 11, 12]])\n",
        "a.ndim # Dimenstion"
      ]
    },
    {
      "cell_type": "code",
      "source": [
        "five_up = (a >= 5)\n",
        "print(a[five_up])"
      ],
      "metadata": {
        "colab": {
          "base_uri": "https://localhost:8080/"
        },
        "id": "ukT9I-x-KpRY",
        "outputId": "1ce5a5d1-25c1-4566-f0e0-b434987f095d"
      },
      "execution_count": 8,
      "outputs": [
        {
          "output_type": "stream",
          "name": "stdout",
          "text": [
            "[ 5  6  7  8  9 10 11 12]\n"
          ]
        }
      ]
    },
    {
      "cell_type": "code",
      "source": [
        "divisible_by_2 = a[a%2==0]\n",
        "print(divisible_by_2)"
      ],
      "metadata": {
        "colab": {
          "base_uri": "https://localhost:8080/"
        },
        "id": "RmWk6oLuKwLX",
        "outputId": "45a8d9a6-aad9-4e29-ce57-b38009c22291"
      },
      "execution_count": 9,
      "outputs": [
        {
          "output_type": "stream",
          "name": "stdout",
          "text": [
            "[ 2  4  6  8 10 12]\n"
          ]
        }
      ]
    },
    {
      "cell_type": "code",
      "source": [
        "c = a[(a > 2) & (a < 11)]\n",
        "print(c)"
      ],
      "metadata": {
        "colab": {
          "base_uri": "https://localhost:8080/"
        },
        "id": "uMebzaIPL-9v",
        "outputId": "297f64ad-b0bc-4924-9794-9ebf8de28d4c"
      },
      "execution_count": 10,
      "outputs": [
        {
          "output_type": "stream",
          "name": "stdout",
          "text": [
            "[ 3  4  5  6  7  8  9 10]\n"
          ]
        }
      ]
    },
    {
      "cell_type": "code",
      "source": [
        "five_up = (a > 5) | (a == 5)\n",
        "print(five_up)"
      ],
      "metadata": {
        "colab": {
          "base_uri": "https://localhost:8080/"
        },
        "id": "ATIbOPOXMC_M",
        "outputId": "92171b47-806f-43e5-aace-73e0784e50d9"
      },
      "execution_count": 11,
      "outputs": [
        {
          "output_type": "stream",
          "name": "stdout",
          "text": [
            "[[False False False False]\n",
            " [ True  True  True  True]\n",
            " [ True  True  True  True]]\n"
          ]
        }
      ]
    },
    {
      "cell_type": "markdown",
      "source": [
        "# [numpy-100](https://github.com/rougier/numpy-100)"
      ],
      "metadata": {
        "id": "madBiQimWXz4"
      }
    },
    {
      "cell_type": "markdown",
      "source": [
        "#### 73. Consider a set of 10 triplets describing 10 triangles (with shared vertices), find the set of unique line segments composing all the  triangles (★★★)\n",
        "\n",
        "\"10개의 삼각형을 설명하는 10개의 세쌍둥이 집합을 생각해보고, 모든 삼각형을 구성하는 고유 선분 집합을 찾아라.\" 라는데... **문제의 뜻을 모르겠다...**\n",
        "- [np.roll](https://numpy.org/doc/stable/reference/generated/numpy.roll.html) : array를 굴리는 함수, shift 파라미터에 따라 인덱스를 설정하여 가장 앞 원소를 뒤로 보내거나 밀수 있음\n",
        "- repeat : 지정한숫자 (여기선 -1)가 나오기 전까지 무한 반복"
      ],
      "metadata": {
        "id": "oRaXwji-cFK4"
      }
    },
    {
      "cell_type": "code",
      "source": [
        "faces = np.random.randint(0,100,(10,3))\n",
        "F = np.roll(faces.repeat(2,axis=1),-1,axis=1)\n",
        "F = F.reshape(len(F)*3,2)\n",
        "F = np.sort(F,axis=1)\n",
        "G = F.view( dtype=[('p0',F.dtype),('p1',F.dtype)] )\n",
        "G = np.unique(G)\n",
        "print(G)"
      ],
      "metadata": {
        "id": "rhD9RhqVWbn5",
        "colab": {
          "base_uri": "https://localhost:8080/"
        },
        "outputId": "80c78a55-4d1d-4eef-fb63-77e97140a040"
      },
      "execution_count": 12,
      "outputs": [
        {
          "output_type": "stream",
          "name": "stdout",
          "text": [
            "[( 0, 26) ( 0, 81) ( 6, 21) ( 6, 93) (10, 59) (10, 64) (21, 93) (24, 65)\n",
            " (24, 88) (26, 81) (28, 55) (28, 61) (30, 39) (30, 69) (31, 57) (31, 74)\n",
            " (31, 78) (31, 81) (39, 69) (43, 77) (43, 81) (55, 60) (55, 61) (55, 87)\n",
            " (57, 74) (59, 64) (60, 87) (65, 88) (77, 81) (78, 81)]\n"
          ]
        }
      ]
    }
  ]
}