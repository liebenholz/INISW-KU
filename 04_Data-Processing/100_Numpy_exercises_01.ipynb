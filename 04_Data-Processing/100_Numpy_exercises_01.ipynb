{
  "cells": [
    {
      "cell_type": "markdown",
      "id": "d46e26d4",
      "metadata": {
        "id": "d46e26d4"
      },
      "source": [
        "# 100 numpy exercises\n",
        "\n",
        "This is a collection of exercises that have been collected in the numpy mailing list, on stack overflow\n",
        "and in the numpy documentation. The goal of this collection is to offer a quick reference for both old\n",
        "and new users but also to provide a set of exercises for those who teach.\n",
        "\n",
        "\n",
        "If you find an error or think you've a better way to solve some of them, feel\n",
        "free to open an issue at <https://github.com/rougier/numpy-100>."
      ]
    },
    {
      "cell_type": "markdown",
      "id": "d391e44c",
      "metadata": {
        "id": "d391e44c"
      },
      "source": [
        "File automatically generated. See the documentation to update questions/answers/hints programmatically."
      ]
    },
    {
      "cell_type": "markdown",
      "id": "1ce7c53f",
      "metadata": {
        "id": "1ce7c53f"
      },
      "source": [
        "Run the `initialize.py` module, then for each question you can query the\n",
        "answer or an hint with `hint(n)` or `answer(n)` for `n` question number."
      ]
    },
    {
      "cell_type": "code",
      "execution_count": null,
      "id": "2e6ba9b2",
      "metadata": {
        "id": "2e6ba9b2",
        "colab": {
          "base_uri": "https://localhost:8080/",
          "height": 443
        },
        "outputId": "71f8c4fe-0d6d-4dab-cc54-b2889ec2cc53"
      },
      "outputs": [
        {
          "output_type": "error",
          "ename": "Exception",
          "evalue": "File `'initialise.py'` not found.",
          "traceback": [
            "\u001b[0;31m---------------------------------------------------------------------------\u001b[0m",
            "\u001b[0;31mOSError\u001b[0m                                   Traceback (most recent call last)",
            "\u001b[0;32m/usr/local/lib/python3.11/dist-packages/IPython/core/magics/execution.py\u001b[0m in \u001b[0;36mrun\u001b[0;34m(self, parameter_s, runner, file_finder)\u001b[0m\n\u001b[1;32m    713\u001b[0m             \u001b[0mfpath\u001b[0m \u001b[0;34m=\u001b[0m \u001b[0marg_lst\u001b[0m\u001b[0;34m[\u001b[0m\u001b[0;36m0\u001b[0m\u001b[0;34m]\u001b[0m\u001b[0;34m\u001b[0m\u001b[0;34m\u001b[0m\u001b[0m\n\u001b[0;32m--> 714\u001b[0;31m             \u001b[0mfilename\u001b[0m \u001b[0;34m=\u001b[0m \u001b[0mfile_finder\u001b[0m\u001b[0;34m(\u001b[0m\u001b[0mfpath\u001b[0m\u001b[0;34m)\u001b[0m\u001b[0;34m\u001b[0m\u001b[0;34m\u001b[0m\u001b[0m\n\u001b[0m\u001b[1;32m    715\u001b[0m         \u001b[0;32mexcept\u001b[0m \u001b[0mIndexError\u001b[0m\u001b[0;34m:\u001b[0m\u001b[0;34m\u001b[0m\u001b[0;34m\u001b[0m\u001b[0m\n",
            "\u001b[0;32m/usr/local/lib/python3.11/dist-packages/IPython/utils/path.py\u001b[0m in \u001b[0;36mget_py_filename\u001b[0;34m(name, force_win32)\u001b[0m\n\u001b[1;32m    108\u001b[0m     \u001b[0;32melse\u001b[0m\u001b[0;34m:\u001b[0m\u001b[0;34m\u001b[0m\u001b[0;34m\u001b[0m\u001b[0m\n\u001b[0;32m--> 109\u001b[0;31m         \u001b[0;32mraise\u001b[0m \u001b[0mIOError\u001b[0m\u001b[0;34m(\u001b[0m\u001b[0;34m'File `%r` not found.'\u001b[0m \u001b[0;34m%\u001b[0m \u001b[0mname\u001b[0m\u001b[0;34m)\u001b[0m\u001b[0;34m\u001b[0m\u001b[0;34m\u001b[0m\u001b[0m\n\u001b[0m\u001b[1;32m    110\u001b[0m \u001b[0;34m\u001b[0m\u001b[0m\n",
            "\u001b[0;31mOSError\u001b[0m: File `'initialise.py'` not found.",
            "\nDuring handling of the above exception, another exception occurred:\n",
            "\u001b[0;31mException\u001b[0m                                 Traceback (most recent call last)",
            "\u001b[0;32m<ipython-input-1-79a9b8b96c92>\u001b[0m in \u001b[0;36m<cell line: 0>\u001b[0;34m()\u001b[0m\n\u001b[0;32m----> 1\u001b[0;31m \u001b[0mget_ipython\u001b[0m\u001b[0;34m(\u001b[0m\u001b[0;34m)\u001b[0m\u001b[0;34m.\u001b[0m\u001b[0mrun_line_magic\u001b[0m\u001b[0;34m(\u001b[0m\u001b[0;34m'run'\u001b[0m\u001b[0;34m,\u001b[0m \u001b[0;34m'initialise.py'\u001b[0m\u001b[0;34m)\u001b[0m\u001b[0;34m\u001b[0m\u001b[0;34m\u001b[0m\u001b[0m\n\u001b[0m",
            "\u001b[0;32m/usr/local/lib/python3.11/dist-packages/IPython/core/interactiveshell.py\u001b[0m in \u001b[0;36mrun_line_magic\u001b[0;34m(self, magic_name, line, _stack_depth)\u001b[0m\n\u001b[1;32m   2416\u001b[0m                 \u001b[0mkwargs\u001b[0m\u001b[0;34m[\u001b[0m\u001b[0;34m'local_ns'\u001b[0m\u001b[0;34m]\u001b[0m \u001b[0;34m=\u001b[0m \u001b[0mself\u001b[0m\u001b[0;34m.\u001b[0m\u001b[0mget_local_scope\u001b[0m\u001b[0;34m(\u001b[0m\u001b[0mstack_depth\u001b[0m\u001b[0;34m)\u001b[0m\u001b[0;34m\u001b[0m\u001b[0;34m\u001b[0m\u001b[0m\n\u001b[1;32m   2417\u001b[0m             \u001b[0;32mwith\u001b[0m \u001b[0mself\u001b[0m\u001b[0;34m.\u001b[0m\u001b[0mbuiltin_trap\u001b[0m\u001b[0;34m:\u001b[0m\u001b[0;34m\u001b[0m\u001b[0;34m\u001b[0m\u001b[0m\n\u001b[0;32m-> 2418\u001b[0;31m                 \u001b[0mresult\u001b[0m \u001b[0;34m=\u001b[0m \u001b[0mfn\u001b[0m\u001b[0;34m(\u001b[0m\u001b[0;34m*\u001b[0m\u001b[0margs\u001b[0m\u001b[0;34m,\u001b[0m \u001b[0;34m**\u001b[0m\u001b[0mkwargs\u001b[0m\u001b[0;34m)\u001b[0m\u001b[0;34m\u001b[0m\u001b[0;34m\u001b[0m\u001b[0m\n\u001b[0m\u001b[1;32m   2419\u001b[0m             \u001b[0;32mreturn\u001b[0m \u001b[0mresult\u001b[0m\u001b[0;34m\u001b[0m\u001b[0;34m\u001b[0m\u001b[0m\n\u001b[1;32m   2420\u001b[0m \u001b[0;34m\u001b[0m\u001b[0m\n",
            "\u001b[0;32m<decorator-gen-52>\u001b[0m in \u001b[0;36mrun\u001b[0;34m(self, parameter_s, runner, file_finder)\u001b[0m\n",
            "\u001b[0;32m/usr/local/lib/python3.11/dist-packages/IPython/core/magic.py\u001b[0m in \u001b[0;36m<lambda>\u001b[0;34m(f, *a, **k)\u001b[0m\n\u001b[1;32m    185\u001b[0m     \u001b[0;31m# but it's overkill for just that one bit of state.\u001b[0m\u001b[0;34m\u001b[0m\u001b[0;34m\u001b[0m\u001b[0m\n\u001b[1;32m    186\u001b[0m     \u001b[0;32mdef\u001b[0m \u001b[0mmagic_deco\u001b[0m\u001b[0;34m(\u001b[0m\u001b[0marg\u001b[0m\u001b[0;34m)\u001b[0m\u001b[0;34m:\u001b[0m\u001b[0;34m\u001b[0m\u001b[0;34m\u001b[0m\u001b[0m\n\u001b[0;32m--> 187\u001b[0;31m         \u001b[0mcall\u001b[0m \u001b[0;34m=\u001b[0m \u001b[0;32mlambda\u001b[0m \u001b[0mf\u001b[0m\u001b[0;34m,\u001b[0m \u001b[0;34m*\u001b[0m\u001b[0ma\u001b[0m\u001b[0;34m,\u001b[0m \u001b[0;34m**\u001b[0m\u001b[0mk\u001b[0m\u001b[0;34m:\u001b[0m \u001b[0mf\u001b[0m\u001b[0;34m(\u001b[0m\u001b[0;34m*\u001b[0m\u001b[0ma\u001b[0m\u001b[0;34m,\u001b[0m \u001b[0;34m**\u001b[0m\u001b[0mk\u001b[0m\u001b[0;34m)\u001b[0m\u001b[0;34m\u001b[0m\u001b[0;34m\u001b[0m\u001b[0m\n\u001b[0m\u001b[1;32m    188\u001b[0m \u001b[0;34m\u001b[0m\u001b[0m\n\u001b[1;32m    189\u001b[0m         \u001b[0;32mif\u001b[0m \u001b[0mcallable\u001b[0m\u001b[0;34m(\u001b[0m\u001b[0marg\u001b[0m\u001b[0;34m)\u001b[0m\u001b[0;34m:\u001b[0m\u001b[0;34m\u001b[0m\u001b[0;34m\u001b[0m\u001b[0m\n",
            "\u001b[0;32m/usr/local/lib/python3.11/dist-packages/IPython/core/magics/execution.py\u001b[0m in \u001b[0;36mrun\u001b[0;34m(self, parameter_s, runner, file_finder)\u001b[0m\n\u001b[1;32m    723\u001b[0m             \u001b[0;32mif\u001b[0m \u001b[0mos\u001b[0m\u001b[0;34m.\u001b[0m\u001b[0mname\u001b[0m \u001b[0;34m==\u001b[0m \u001b[0;34m'nt'\u001b[0m \u001b[0;32mand\u001b[0m \u001b[0mre\u001b[0m\u001b[0;34m.\u001b[0m\u001b[0mmatch\u001b[0m\u001b[0;34m(\u001b[0m\u001b[0;34mr\"^'.*'$\"\u001b[0m\u001b[0;34m,\u001b[0m\u001b[0mfpath\u001b[0m\u001b[0;34m)\u001b[0m\u001b[0;34m:\u001b[0m\u001b[0;34m\u001b[0m\u001b[0;34m\u001b[0m\u001b[0m\n\u001b[1;32m    724\u001b[0m                 \u001b[0mwarn\u001b[0m\u001b[0;34m(\u001b[0m\u001b[0;34m'For Windows, use double quotes to wrap a filename: %run \"mypath\\\\myfile.py\"'\u001b[0m\u001b[0;34m)\u001b[0m\u001b[0;34m\u001b[0m\u001b[0;34m\u001b[0m\u001b[0m\n\u001b[0;32m--> 725\u001b[0;31m             \u001b[0;32mraise\u001b[0m \u001b[0mException\u001b[0m\u001b[0;34m(\u001b[0m\u001b[0mmsg\u001b[0m\u001b[0;34m)\u001b[0m\u001b[0;34m\u001b[0m\u001b[0;34m\u001b[0m\u001b[0m\n\u001b[0m\u001b[1;32m    726\u001b[0m         \u001b[0;32mexcept\u001b[0m \u001b[0mTypeError\u001b[0m\u001b[0;34m:\u001b[0m\u001b[0;34m\u001b[0m\u001b[0;34m\u001b[0m\u001b[0m\n\u001b[1;32m    727\u001b[0m             \u001b[0;32mif\u001b[0m \u001b[0mfpath\u001b[0m \u001b[0;32min\u001b[0m \u001b[0msys\u001b[0m\u001b[0;34m.\u001b[0m\u001b[0mmeta_path\u001b[0m\u001b[0;34m:\u001b[0m\u001b[0;34m\u001b[0m\u001b[0;34m\u001b[0m\u001b[0m\n",
            "\u001b[0;31mException\u001b[0m: File `'initialise.py'` not found."
          ]
        }
      ],
      "source": [
        "%run initialise.py"
      ]
    },
    {
      "cell_type": "markdown",
      "id": "dcc6b1ac",
      "metadata": {
        "id": "dcc6b1ac"
      },
      "source": [
        "#### 1. Import the numpy package under the name `np` (★☆☆)"
      ]
    },
    {
      "cell_type": "code",
      "execution_count": null,
      "id": "6c52078e",
      "metadata": {
        "id": "6c52078e"
      },
      "outputs": [],
      "source": [
        "import numpy as np"
      ]
    },
    {
      "cell_type": "markdown",
      "id": "118ded29",
      "metadata": {
        "id": "118ded29"
      },
      "source": [
        "#### 2. Print the numpy version and the configuration (★☆☆)"
      ]
    },
    {
      "cell_type": "code",
      "execution_count": null,
      "id": "023a2c52",
      "metadata": {
        "colab": {
          "base_uri": "https://localhost:8080/"
        },
        "id": "023a2c52",
        "outputId": "54db535f-787a-4619-bff7-a2048e440430"
      },
      "outputs": [
        {
          "output_type": "stream",
          "name": "stdout",
          "text": [
            "Build Dependencies:\n",
            "  blas:\n",
            "    detection method: pkgconfig\n",
            "    found: true\n",
            "    include directory: /opt/_internal/cpython-3.11.8/lib/python3.11/site-packages/scipy_openblas64/include\n",
            "    lib directory: /opt/_internal/cpython-3.11.8/lib/python3.11/site-packages/scipy_openblas64/lib\n",
            "    name: scipy-openblas\n",
            "    openblas configuration: OpenBLAS 0.3.27  USE64BITINT DYNAMIC_ARCH NO_AFFINITY\n",
            "      Zen MAX_THREADS=64\n",
            "    pc file directory: /project/.openblas\n",
            "    version: 0.3.27\n",
            "  lapack:\n",
            "    detection method: pkgconfig\n",
            "    found: true\n",
            "    include directory: /opt/_internal/cpython-3.11.8/lib/python3.11/site-packages/scipy_openblas64/include\n",
            "    lib directory: /opt/_internal/cpython-3.11.8/lib/python3.11/site-packages/scipy_openblas64/lib\n",
            "    name: scipy-openblas\n",
            "    openblas configuration: OpenBLAS 0.3.27  USE64BITINT DYNAMIC_ARCH NO_AFFINITY\n",
            "      Zen MAX_THREADS=64\n",
            "    pc file directory: /project/.openblas\n",
            "    version: 0.3.27\n",
            "Compilers:\n",
            "  c:\n",
            "    commands: cc\n",
            "    linker: ld.bfd\n",
            "    name: gcc\n",
            "    version: 10.2.1\n",
            "  c++:\n",
            "    commands: c++\n",
            "    linker: ld.bfd\n",
            "    name: gcc\n",
            "    version: 10.2.1\n",
            "  cython:\n",
            "    commands: cython\n",
            "    linker: cython\n",
            "    name: cython\n",
            "    version: 3.0.11\n",
            "Machine Information:\n",
            "  build:\n",
            "    cpu: x86_64\n",
            "    endian: little\n",
            "    family: x86_64\n",
            "    system: linux\n",
            "  host:\n",
            "    cpu: x86_64\n",
            "    endian: little\n",
            "    family: x86_64\n",
            "    system: linux\n",
            "Python Information:\n",
            "  path: /tmp/build-env-zm_4loqi/bin/python\n",
            "  version: '3.11'\n",
            "SIMD Extensions:\n",
            "  baseline:\n",
            "  - SSE\n",
            "  - SSE2\n",
            "  - SSE3\n",
            "  found:\n",
            "  - SSSE3\n",
            "  - SSE41\n",
            "  - POPCNT\n",
            "  - SSE42\n",
            "  - AVX\n",
            "  - F16C\n",
            "  - FMA3\n",
            "  - AVX2\n",
            "  not found:\n",
            "  - AVX512F\n",
            "  - AVX512CD\n",
            "  - AVX512_KNL\n",
            "  - AVX512_KNM\n",
            "  - AVX512_SKX\n",
            "  - AVX512_CLX\n",
            "  - AVX512_CNL\n",
            "  - AVX512_ICL\n",
            "\n"
          ]
        }
      ],
      "source": [
        "np.__version__\n",
        "np.show_config()"
      ]
    },
    {
      "cell_type": "markdown",
      "id": "172b913a",
      "metadata": {
        "id": "172b913a"
      },
      "source": [
        "#### 3. Create a null vector of size 10 (★☆☆)"
      ]
    },
    {
      "cell_type": "code",
      "execution_count": null,
      "id": "df54025a",
      "metadata": {
        "colab": {
          "base_uri": "https://localhost:8080/"
        },
        "id": "df54025a",
        "outputId": "85a16bc2-13c3-4ac6-e384-55ee5eb937c0"
      },
      "outputs": [
        {
          "output_type": "stream",
          "name": "stdout",
          "text": [
            "[0. 0. 0. 0. 0. 0. 0. 0. 0. 0.]\n"
          ]
        }
      ],
      "source": [
        "a = np.zeros(10)\n",
        "print(a)"
      ]
    },
    {
      "cell_type": "markdown",
      "id": "95ee9e07",
      "metadata": {
        "id": "95ee9e07"
      },
      "source": [
        "#### 4. How to find the memory size of any array (★☆☆)"
      ]
    },
    {
      "cell_type": "code",
      "execution_count": null,
      "id": "5c5b0950",
      "metadata": {
        "colab": {
          "base_uri": "https://localhost:8080/"
        },
        "id": "5c5b0950",
        "outputId": "c2c85586-5a32-4528-8fe7-7a6f3ff6afc6"
      },
      "outputs": [
        {
          "output_type": "execute_result",
          "data": {
            "text/plain": [
              "80"
            ]
          },
          "metadata": {},
          "execution_count": 5
        }
      ],
      "source": [
        "a.nbytes\n",
        "# print(\"%d\" % (a.size * a.itemsize))"
      ]
    },
    {
      "cell_type": "markdown",
      "id": "45fca154",
      "metadata": {
        "id": "45fca154"
      },
      "source": [
        "#### 5. How to get the documentation of the numpy add function from the command line? (★☆☆)"
      ]
    },
    {
      "cell_type": "code",
      "execution_count": null,
      "id": "fcb1248a",
      "metadata": {
        "colab": {
          "base_uri": "https://localhost:8080/"
        },
        "id": "fcb1248a",
        "outputId": "529afe65-d42b-489f-de7d-ac4170cf35ea"
      },
      "outputs": [
        {
          "output_type": "execute_result",
          "data": {
            "text/plain": [
              "['__call__',\n",
              " '__class__',\n",
              " '__delattr__',\n",
              " '__dir__',\n",
              " '__doc__',\n",
              " '__eq__',\n",
              " '__format__',\n",
              " '__ge__',\n",
              " '__getattribute__',\n",
              " '__getstate__',\n",
              " '__gt__',\n",
              " '__hash__',\n",
              " '__init__',\n",
              " '__init_subclass__',\n",
              " '__le__',\n",
              " '__lt__',\n",
              " '__name__',\n",
              " '__ne__',\n",
              " '__new__',\n",
              " '__reduce__',\n",
              " '__reduce_ex__',\n",
              " '__repr__',\n",
              " '__setattr__',\n",
              " '__sizeof__',\n",
              " '__str__',\n",
              " '__subclasshook__',\n",
              " '_get_strided_loop',\n",
              " '_resolve_dtypes_and_context',\n",
              " 'accumulate',\n",
              " 'at',\n",
              " 'identity',\n",
              " 'nargs',\n",
              " 'nin',\n",
              " 'nout',\n",
              " 'ntypes',\n",
              " 'outer',\n",
              " 'reduce',\n",
              " 'reduceat',\n",
              " 'resolve_dtypes',\n",
              " 'signature',\n",
              " 'types']"
            ]
          },
          "metadata": {},
          "execution_count": 6
        }
      ],
      "source": [
        "dir(np.add)"
      ]
    },
    {
      "cell_type": "markdown",
      "id": "674e8019",
      "metadata": {
        "id": "674e8019"
      },
      "source": [
        "#### 6. Create a null vector of size 10 but the fifth value which is 1 (★☆☆)"
      ]
    },
    {
      "cell_type": "code",
      "execution_count": null,
      "id": "452df2a7",
      "metadata": {
        "colab": {
          "base_uri": "https://localhost:8080/"
        },
        "id": "452df2a7",
        "outputId": "dd63c403-e642-47e2-b67f-59705c2f2576"
      },
      "outputs": [
        {
          "output_type": "stream",
          "name": "stdout",
          "text": [
            "[0. 0. 0. 0. 1. 0. 0. 0. 0. 0.]\n"
          ]
        }
      ],
      "source": [
        "a = np.zeros(10)\n",
        "a[4] = 1\n",
        "print(a)"
      ]
    },
    {
      "cell_type": "markdown",
      "id": "7685e337",
      "metadata": {
        "id": "7685e337"
      },
      "source": [
        "#### 7. Create a vector with values ranging from 10 to 49 (★☆☆)"
      ]
    },
    {
      "cell_type": "code",
      "execution_count": null,
      "id": "10847d11",
      "metadata": {
        "colab": {
          "base_uri": "https://localhost:8080/"
        },
        "id": "10847d11",
        "outputId": "4f95c28e-8844-40d1-d0ca-234985af46e6"
      },
      "outputs": [
        {
          "output_type": "stream",
          "name": "stdout",
          "text": [
            "[10 11 12 13 14 15 16 17 18 19 20 21 22 23 24 25 26 27 28 29 30 31 32 33\n",
            " 34 35 36 37 38 39 40 41 42 43 44 45 46 47 48 49]\n"
          ]
        }
      ],
      "source": [
        "a = np.array(range(10,50))\n",
        "print(a)"
      ]
    },
    {
      "cell_type": "markdown",
      "id": "54c913ba",
      "metadata": {
        "id": "54c913ba"
      },
      "source": [
        "#### 8. Reverse a vector (first element becomes last) (★☆☆)"
      ]
    },
    {
      "cell_type": "code",
      "execution_count": null,
      "id": "34722e83",
      "metadata": {
        "colab": {
          "base_uri": "https://localhost:8080/"
        },
        "id": "34722e83",
        "outputId": "43fd4e49-5076-4777-f00a-47574bf2e76d"
      },
      "outputs": [
        {
          "output_type": "stream",
          "name": "stdout",
          "text": [
            "[49 48 47 46 45 44 43 42 41 40 39 38 37 36 35 34 33 32 31 30 29 28 27 26\n",
            " 25 24 23 22 21 20 19 18 17 16 15 14 13 12 11 10]\n"
          ]
        }
      ],
      "source": [
        "r = a[::-1]\n",
        "print(r)"
      ]
    },
    {
      "cell_type": "markdown",
      "id": "8e72fd08",
      "metadata": {
        "id": "8e72fd08"
      },
      "source": [
        "#### 9. Create a 3x3 matrix with values ranging from 0 to 8 (★☆☆)"
      ]
    },
    {
      "cell_type": "code",
      "execution_count": null,
      "id": "e18eef56",
      "metadata": {
        "colab": {
          "base_uri": "https://localhost:8080/"
        },
        "id": "e18eef56",
        "outputId": "3fc7560f-634b-4ee1-f554-c065dceaf739"
      },
      "outputs": [
        {
          "output_type": "execute_result",
          "data": {
            "text/plain": [
              "array([[0, 1, 2],\n",
              "       [3, 4, 5],\n",
              "       [6, 7, 8]])"
            ]
          },
          "metadata": {},
          "execution_count": 10
        }
      ],
      "source": [
        "np.arange(9).reshape(3,3)"
      ]
    },
    {
      "cell_type": "markdown",
      "id": "088424fc",
      "metadata": {
        "id": "088424fc"
      },
      "source": [
        "#### 10. Find indices of non-zero elements from [1,2,0,0,4,0] (★☆☆)"
      ]
    },
    {
      "cell_type": "code",
      "execution_count": null,
      "id": "9a402d06",
      "metadata": {
        "colab": {
          "base_uri": "https://localhost:8080/"
        },
        "id": "9a402d06",
        "outputId": "84785bd3-1730-47e4-d275-58a8167cdfb5"
      },
      "outputs": [
        {
          "output_type": "stream",
          "name": "stdout",
          "text": [
            "(array([0, 1, 4]),)\n"
          ]
        }
      ],
      "source": [
        "a = np.nonzero([1,2,0,0,4,0]) # 0,1,4\n",
        "print(a)"
      ]
    },
    {
      "cell_type": "markdown",
      "id": "3f347de9",
      "metadata": {
        "id": "3f347de9"
      },
      "source": [
        "#### 11. Create a 3x3 identity matrix (★☆☆)"
      ]
    },
    {
      "cell_type": "code",
      "execution_count": null,
      "id": "e38459c2",
      "metadata": {
        "colab": {
          "base_uri": "https://localhost:8080/"
        },
        "id": "e38459c2",
        "outputId": "176c632e-61b3-49a1-89c8-edf433958fb6"
      },
      "outputs": [
        {
          "output_type": "stream",
          "name": "stdout",
          "text": [
            "[[1. 0. 0.]\n",
            " [0. 1. 0.]\n",
            " [0. 0. 1.]]\n"
          ]
        }
      ],
      "source": [
        "a = np.eye(3)\n",
        "print(a)"
      ]
    },
    {
      "cell_type": "markdown",
      "id": "24e98f25",
      "metadata": {
        "id": "24e98f25"
      },
      "source": [
        "#### 12. Create a 3x3x3 array with random values (★☆☆)"
      ]
    },
    {
      "cell_type": "code",
      "execution_count": null,
      "id": "94752bb3",
      "metadata": {
        "colab": {
          "base_uri": "https://localhost:8080/"
        },
        "id": "94752bb3",
        "outputId": "51c26973-449d-459e-aecc-28b0e78e58a4"
      },
      "outputs": [
        {
          "output_type": "stream",
          "name": "stdout",
          "text": [
            "[[[0.88797996 0.88141798 0.55519521]\n",
            "  [0.75746539 0.23783453 0.82449056]\n",
            "  [0.92811039 0.42308708 0.43495815]]\n",
            "\n",
            " [[0.55675035 0.84295007 0.17988362]\n",
            "  [0.62252341 0.33137871 0.27665184]\n",
            "  [0.63975239 0.61398922 0.25465509]]\n",
            "\n",
            " [[0.07445491 0.89015332 0.58434529]\n",
            "  [0.0698942  0.79425725 0.09872517]\n",
            "  [0.49148112 0.37376723 0.07160865]]]\n"
          ]
        }
      ],
      "source": [
        "a = np.random.random((3,3,3))\n",
        "print(a)"
      ]
    },
    {
      "cell_type": "markdown",
      "id": "7cbca2cc",
      "metadata": {
        "id": "7cbca2cc"
      },
      "source": [
        "#### 13. Create a 10x10 array with random values and find the minimum and maximum values (★☆☆)"
      ]
    },
    {
      "cell_type": "code",
      "execution_count": null,
      "id": "c0643b1f",
      "metadata": {
        "colab": {
          "base_uri": "https://localhost:8080/"
        },
        "id": "c0643b1f",
        "outputId": "9b6ad6f2-d4da-4929-c8e2-d2935c533515"
      },
      "outputs": [
        {
          "output_type": "stream",
          "name": "stdout",
          "text": [
            "0.010674276489833767 0.978878521152143\n"
          ]
        }
      ],
      "source": [
        "a = np.random.random((10,10))\n",
        "print(a.min(),a.max())"
      ]
    },
    {
      "cell_type": "markdown",
      "id": "6cab4cbb",
      "metadata": {
        "id": "6cab4cbb"
      },
      "source": [
        "#### 14. Create a random vector of size 30 and find the mean value (★☆☆)"
      ]
    },
    {
      "cell_type": "code",
      "execution_count": null,
      "id": "e922a524",
      "metadata": {
        "colab": {
          "base_uri": "https://localhost:8080/"
        },
        "id": "e922a524",
        "outputId": "486b25a1-df6f-4d5a-bb45-bd82cbf34dd0"
      },
      "outputs": [
        {
          "output_type": "stream",
          "name": "stdout",
          "text": [
            "0.4699346578372204\n"
          ]
        }
      ],
      "source": [
        "a = np.random.random(30)\n",
        "print(a.mean())"
      ]
    },
    {
      "cell_type": "markdown",
      "id": "72053be8",
      "metadata": {
        "id": "72053be8"
      },
      "source": [
        "#### 15. Create a 2d array with 1 on the border and 0 inside (★☆☆)"
      ]
    },
    {
      "cell_type": "code",
      "execution_count": null,
      "id": "6bc84dfe",
      "metadata": {
        "colab": {
          "base_uri": "https://localhost:8080/"
        },
        "id": "6bc84dfe",
        "outputId": "7aaed4da-ac28-4bfa-db9a-b6e7cb454a32"
      },
      "outputs": [
        {
          "output_type": "stream",
          "name": "stdout",
          "text": [
            "[[1. 1. 1. 1. 1.]\n",
            " [1. 0. 0. 0. 1.]\n",
            " [1. 0. 0. 0. 1.]\n",
            " [1. 0. 0. 0. 1.]\n",
            " [1. 1. 1. 1. 1.]]\n"
          ]
        }
      ],
      "source": [
        "a = np.ones((5,5))\n",
        "a[1:-1,1:-1] = 0\n",
        "print(a)"
      ]
    },
    {
      "cell_type": "markdown",
      "id": "86b0206b",
      "metadata": {
        "id": "86b0206b"
      },
      "source": [
        "#### 16. How to add a border (filled with 0's) around an existing array? (★☆☆)"
      ]
    },
    {
      "cell_type": "code",
      "execution_count": null,
      "id": "41e66e3e",
      "metadata": {
        "colab": {
          "base_uri": "https://localhost:8080/"
        },
        "id": "41e66e3e",
        "outputId": "12e78af4-778d-479b-9c36-a63e33ce7fbe"
      },
      "outputs": [
        {
          "output_type": "stream",
          "name": "stdout",
          "text": [
            "[[0. 0. 0. 0. 0. 0. 0.]\n",
            " [0. 1. 1. 1. 1. 1. 0.]\n",
            " [0. 1. 1. 1. 1. 1. 0.]\n",
            " [0. 1. 1. 1. 1. 1. 0.]\n",
            " [0. 1. 1. 1. 1. 1. 0.]\n",
            " [0. 1. 1. 1. 1. 1. 0.]\n",
            " [0. 0. 0. 0. 0. 0. 0.]]\n"
          ]
        }
      ],
      "source": [
        "a = np.ones((5,5))\n",
        "a = np.pad(a,pad_width=1,mode='constant',constant_values=0)\n",
        "print(a)"
      ]
    },
    {
      "cell_type": "markdown",
      "id": "98a45574",
      "metadata": {
        "id": "98a45574"
      },
      "source": [
        "#### 17. What is the result of the following expression? (★☆☆)\n",
        "```python\n",
        "0 * np.nan\n",
        "np.nan == np.nan\n",
        "np.inf > np.nan\n",
        "np.nan - np.nan\n",
        "np.nan in set([np.nan])\n",
        "0.3 == 3 * 0.1\n",
        "```"
      ]
    },
    {
      "cell_type": "code",
      "execution_count": null,
      "id": "7eb533d5",
      "metadata": {
        "colab": {
          "base_uri": "https://localhost:8080/"
        },
        "id": "7eb533d5",
        "outputId": "6bd7ec0a-7a36-4946-bfec-e95196097176"
      },
      "outputs": [
        {
          "output_type": "execute_result",
          "data": {
            "text/plain": [
              "False"
            ]
          },
          "metadata": {},
          "execution_count": 18
        }
      ],
      "source": [
        "0 * np.nan # nan\n",
        "np.nan == np.nan # False\n",
        "np.inf > np.nan # False\n",
        "np.nan - np.nan # nan\n",
        "np.nan in set([np.nan]) # True\n",
        "0.3 == 3 * 0.1 # False"
      ]
    },
    {
      "cell_type": "markdown",
      "id": "1486619a",
      "metadata": {
        "id": "1486619a"
      },
      "source": [
        "#### 18. Create a 5x5 matrix with values 1,2,3,4 just below the diagonal (★☆☆)"
      ]
    },
    {
      "cell_type": "code",
      "execution_count": null,
      "id": "2b9fb59c",
      "metadata": {
        "colab": {
          "base_uri": "https://localhost:8080/"
        },
        "id": "2b9fb59c",
        "outputId": "3a7a3b48-5887-470f-860d-2d4eaa56aded"
      },
      "outputs": [
        {
          "output_type": "stream",
          "name": "stdout",
          "text": [
            "[[0 0 0 0 0]\n",
            " [1 0 0 0 0]\n",
            " [0 2 0 0 0]\n",
            " [0 0 3 0 0]\n",
            " [0 0 0 4 0]]\n"
          ]
        }
      ],
      "source": [
        "a = np.diag(1+np.arange(4),k=-1)\n",
        "print(a)"
      ]
    },
    {
      "cell_type": "markdown",
      "id": "319287fd",
      "metadata": {
        "id": "319287fd"
      },
      "source": [
        "#### 19. Create a 8x8 matrix and fill it with a checkerboard pattern (★☆☆)"
      ]
    },
    {
      "cell_type": "code",
      "execution_count": null,
      "id": "299f5e60",
      "metadata": {
        "colab": {
          "base_uri": "https://localhost:8080/"
        },
        "id": "299f5e60",
        "outputId": "bc37a88a-9b98-428e-b43b-b18ae6015273"
      },
      "outputs": [
        {
          "output_type": "stream",
          "name": "stdout",
          "text": [
            "[[0 1 0 1 0 1 0 1]\n",
            " [1 0 1 0 1 0 1 0]\n",
            " [0 1 0 1 0 1 0 1]\n",
            " [1 0 1 0 1 0 1 0]\n",
            " [0 1 0 1 0 1 0 1]\n",
            " [1 0 1 0 1 0 1 0]\n",
            " [0 1 0 1 0 1 0 1]\n",
            " [1 0 1 0 1 0 1 0]]\n"
          ]
        }
      ],
      "source": [
        "a = np.zeros((8,8),dtype=int)\n",
        "a[1::2,::2] = 1\n",
        "a[::2,1::2] = 1\n",
        "print(a)"
      ]
    },
    {
      "cell_type": "markdown",
      "id": "fb1686ed",
      "metadata": {
        "id": "fb1686ed"
      },
      "source": [
        "#### 20. Consider a (6,7,8) shape array, what is the index (x,y,z) of the 100th element? (★☆☆)"
      ]
    },
    {
      "cell_type": "code",
      "execution_count": null,
      "id": "22888cc4",
      "metadata": {
        "colab": {
          "base_uri": "https://localhost:8080/"
        },
        "id": "22888cc4",
        "outputId": "3b549e3a-11ff-40f0-db37-674e0f02d169"
      },
      "outputs": [
        {
          "output_type": "stream",
          "name": "stdout",
          "text": [
            "(np.int64(1), np.int64(5), np.int64(3))\n"
          ]
        }
      ],
      "source": [
        "a = np.unravel_index(99,(6,7,8))\n",
        "print(a)"
      ]
    },
    {
      "cell_type": "markdown",
      "id": "137ea278",
      "metadata": {
        "id": "137ea278"
      },
      "source": [
        "#### 21. Create a checkerboard 8x8 matrix using the tile function (★☆☆)"
      ]
    },
    {
      "cell_type": "code",
      "execution_count": null,
      "id": "9cb81fe1",
      "metadata": {
        "colab": {
          "base_uri": "https://localhost:8080/"
        },
        "id": "9cb81fe1",
        "outputId": "606a3e9c-1263-4369-ba17-9d316b6d025c"
      },
      "outputs": [
        {
          "output_type": "stream",
          "name": "stdout",
          "text": [
            "[[0 1 0 1 0 1 0 1]\n",
            " [1 0 1 0 1 0 1 0]\n",
            " [0 1 0 1 0 1 0 1]\n",
            " [1 0 1 0 1 0 1 0]\n",
            " [0 1 0 1 0 1 0 1]\n",
            " [1 0 1 0 1 0 1 0]\n",
            " [0 1 0 1 0 1 0 1]\n",
            " [1 0 1 0 1 0 1 0]]\n"
          ]
        }
      ],
      "source": [
        "a = np.tile(np.array([[0,1],[1,0]]),(4,4))\n",
        "print(a)"
      ]
    },
    {
      "cell_type": "markdown",
      "id": "9319f5a1",
      "metadata": {
        "id": "9319f5a1"
      },
      "source": [
        "#### 22. Normalize a 5x5 random matrix (★☆☆)"
      ]
    },
    {
      "cell_type": "code",
      "execution_count": null,
      "id": "fcdc0459",
      "metadata": {
        "colab": {
          "base_uri": "https://localhost:8080/"
        },
        "id": "fcdc0459",
        "outputId": "f76780e0-a83b-4799-9f15-d9943761f9f5"
      },
      "outputs": [
        {
          "output_type": "stream",
          "name": "stdout",
          "text": [
            "[[-1.15758005e+00  7.49197371e-01  6.29979808e-01 -9.63341435e-01\n",
            "   8.49895317e-01]\n",
            " [-8.28649738e-01  1.01912451e+00 -1.12792287e+00  1.71482956e+00\n",
            "  -1.09098027e-03]\n",
            " [-4.17065878e-01  2.54146431e-01  6.84094875e-01 -4.34911684e-01\n",
            "  -1.84655495e+00]\n",
            " [ 1.32637854e+00  6.10096000e-01  7.21474939e-01  1.06022203e+00\n",
            "   1.31049259e+00]\n",
            " [-1.37422841e+00  2.59663019e-01 -8.59379395e-01 -7.38546366e-01\n",
            "  -1.44032323e+00]]\n"
          ]
        }
      ],
      "source": [
        "a = np.random.random((5,5))\n",
        "a = (a - np.mean(a)) / (np.std(a))\n",
        "print(a)"
      ]
    },
    {
      "cell_type": "markdown",
      "id": "f1902fef",
      "metadata": {
        "id": "f1902fef"
      },
      "source": [
        "#### 23. Create a custom dtype that describes a color as four unsigned bytes (RGBA) (★☆☆)"
      ]
    },
    {
      "cell_type": "code",
      "execution_count": null,
      "id": "7445cb2d",
      "metadata": {
        "colab": {
          "base_uri": "https://localhost:8080/"
        },
        "id": "7445cb2d",
        "outputId": "4e5801ee-83d6-4241-fcdd-40726e55b4a2"
      },
      "outputs": [
        {
          "output_type": "stream",
          "name": "stdout",
          "text": [
            "[('r', 'u1', (1,)), ('g', 'u1', (1,)), ('b', 'u1', (1,)), ('a', 'u1', (1,))]\n"
          ]
        }
      ],
      "source": [
        "a = np.dtype([(\"r\",np.ubyte,1),(\"g\",np.ubyte,1),(\"b\",np.ubyte,1),(\"a\",np.ubyte,1)])\n",
        "print(a)"
      ]
    },
    {
      "cell_type": "markdown",
      "id": "3f34bd2a",
      "metadata": {
        "id": "3f34bd2a"
      },
      "source": [
        "#### 24. Multiply a 5x3 matrix by a 3x2 matrix (real matrix product) (★☆☆)"
      ]
    },
    {
      "cell_type": "code",
      "execution_count": null,
      "id": "ec8bd6da",
      "metadata": {
        "colab": {
          "base_uri": "https://localhost:8080/"
        },
        "id": "ec8bd6da",
        "outputId": "88732ecf-d938-4bf0-ba8b-728017829ebe"
      },
      "outputs": [
        {
          "output_type": "stream",
          "name": "stdout",
          "text": [
            "[[3. 3.]\n",
            " [3. 3.]\n",
            " [3. 3.]\n",
            " [3. 3.]\n",
            " [3. 3.]]\n"
          ]
        }
      ],
      "source": [
        "# a = np.dot(np.ones((5,3)),np.ones((3,2)))\n",
        "a = np.matmul(np.ones((5,3)),np.ones((3,2)))\n",
        "print(a)"
      ]
    },
    {
      "cell_type": "markdown",
      "id": "b1919ba3",
      "metadata": {
        "id": "b1919ba3"
      },
      "source": [
        "#### 25. Given a 1D array, negate all elements which are between 3 and 8, in place. (★☆☆)"
      ]
    },
    {
      "cell_type": "code",
      "execution_count": null,
      "id": "5b63b63b",
      "metadata": {
        "colab": {
          "base_uri": "https://localhost:8080/"
        },
        "id": "5b63b63b",
        "outputId": "0f61905e-09ca-4a61-d886-6efabdef3f7f"
      },
      "outputs": [
        {
          "output_type": "stream",
          "name": "stdout",
          "text": [
            "[ 0  1  2  3 -4 -5 -6 -7  8  9 10]\n"
          ]
        }
      ],
      "source": [
        "a = np.arange(11)\n",
        "a[(3 < a) & (a < 8)] *= -1\n",
        "print(a)"
      ]
    },
    {
      "cell_type": "markdown",
      "id": "fb1daa27",
      "metadata": {
        "id": "fb1daa27"
      },
      "source": [
        "#### 26. What is the output of the following script? (★☆☆)\n",
        "```python\n",
        "# Author: Jake VanderPlas\n",
        "\n",
        "print(sum(range(5),-1))\n",
        "from numpy import *\n",
        "print(sum(range(5),-1))\n",
        "```"
      ]
    },
    {
      "cell_type": "code",
      "execution_count": null,
      "id": "52a34d3d",
      "metadata": {
        "id": "52a34d3d",
        "colab": {
          "base_uri": "https://localhost:8080/"
        },
        "outputId": "0e45a8e5-b320-43cc-a03a-7770223ac745"
      },
      "outputs": [
        {
          "output_type": "stream",
          "name": "stdout",
          "text": [
            "9\n",
            "10\n"
          ]
        }
      ],
      "source": [
        "print(sum(range(5),-1)) # 9\n",
        "\n",
        "from numpy import *\n",
        "print(sum(range(5),-1)) # 10"
      ]
    },
    {
      "cell_type": "markdown",
      "id": "89b7e7a7",
      "metadata": {
        "id": "89b7e7a7"
      },
      "source": [
        "#### 27. Consider an integer vector Z, which of these expressions are legal? (★☆☆)\n",
        "```python\n",
        "Z**Z\n",
        "2 << Z >> 2\n",
        "Z <- Z\n",
        "1j*Z\n",
        "Z/1/1\n",
        "Z<Z>Z\n",
        "```"
      ]
    },
    {
      "cell_type": "code",
      "execution_count": null,
      "id": "451181cf",
      "metadata": {
        "id": "451181cf",
        "colab": {
          "base_uri": "https://localhost:8080/",
          "height": 176
        },
        "outputId": "7b5c3fe7-d942-4d64-f60a-8fd12e7e8a22"
      },
      "outputs": [
        {
          "output_type": "error",
          "ename": "ValueError",
          "evalue": "The truth value of an array with more than one element is ambiguous. Use a.any() or a.all()",
          "traceback": [
            "\u001b[0;31m---------------------------------------------------------------------------\u001b[0m",
            "\u001b[0;31mValueError\u001b[0m                                Traceback (most recent call last)",
            "\u001b[0;32m<ipython-input-28-f4e8848ae6fe>\u001b[0m in \u001b[0;36m<cell line: 0>\u001b[0;34m()\u001b[0m\n\u001b[1;32m      6\u001b[0m \u001b[0;36m1j\u001b[0m\u001b[0;34m*\u001b[0m\u001b[0mZ\u001b[0m        \u001b[0;31m# [0.+0.j, 0.+1.j, 0.+2.j, 0.+3.j, 0.+4.j]\u001b[0m\u001b[0;34m\u001b[0m\u001b[0;34m\u001b[0m\u001b[0m\n\u001b[1;32m      7\u001b[0m \u001b[0mZ\u001b[0m\u001b[0;34m/\u001b[0m\u001b[0;36m1\u001b[0m\u001b[0;34m/\u001b[0m\u001b[0;36m1\u001b[0m       \u001b[0;31m# [0., 1., 2., 3., 4.]\u001b[0m\u001b[0;34m\u001b[0m\u001b[0;34m\u001b[0m\u001b[0m\n\u001b[0;32m----> 8\u001b[0;31m \u001b[0mZ\u001b[0m\u001b[0;34m<\u001b[0m\u001b[0mZ\u001b[0m\u001b[0;34m>\u001b[0m\u001b[0mZ\u001b[0m       \u001b[0;31m# illegal, ValueError\u001b[0m\u001b[0;34m\u001b[0m\u001b[0;34m\u001b[0m\u001b[0m\n\u001b[0m",
            "\u001b[0;31mValueError\u001b[0m: The truth value of an array with more than one element is ambiguous. Use a.any() or a.all()"
          ]
        }
      ],
      "source": [
        "Z = np.arange(5)\n",
        "\n",
        "Z**Z        # [1,   1,   4,  27, 256]\n",
        "2 << Z >> 2 # [0, 1, 2, 4, 8]\n",
        "Z <- Z      # [False, False, False, False, False]\n",
        "1j*Z        # [0.+0.j, 0.+1.j, 0.+2.j, 0.+3.j, 0.+4.j]\n",
        "Z/1/1       # [0., 1., 2., 3., 4.]\n",
        "Z<Z>Z       # illegal, ValueError"
      ]
    },
    {
      "cell_type": "markdown",
      "id": "8c7601c6",
      "metadata": {
        "id": "8c7601c6"
      },
      "source": [
        "#### 28. What are the result of the following expressions? (★☆☆)\n",
        "```python\n",
        "np.array(0) / np.array(0)\n",
        "np.array(0) // np.array(0)\n",
        "np.array([np.nan]).astype(int).astype(float)\n",
        "```"
      ]
    },
    {
      "cell_type": "code",
      "execution_count": null,
      "id": "52983a0b",
      "metadata": {
        "colab": {
          "base_uri": "https://localhost:8080/"
        },
        "id": "52983a0b",
        "outputId": "71f20144-fb24-48f9-d4cc-d6b5897190a3"
      },
      "outputs": [
        {
          "output_type": "stream",
          "name": "stderr",
          "text": [
            "<ipython-input-29-845f6b89594e>:1: RuntimeWarning: invalid value encountered in divide\n",
            "  np.array(0) / np.array(0) # invalid value encountered in divide\n",
            "<ipython-input-29-845f6b89594e>:2: RuntimeWarning: divide by zero encountered in floor_divide\n",
            "  np.array(0) // np.array(0) # divide by zero encountered in floor_divide\n",
            "<ipython-input-29-845f6b89594e>:3: RuntimeWarning: invalid value encountered in cast\n",
            "  np.array([np.nan]).astype(int).astype(float) # invalid value encountered in cast\n"
          ]
        },
        {
          "output_type": "execute_result",
          "data": {
            "text/plain": [
              "array([-9.22337204e+18])"
            ]
          },
          "metadata": {},
          "execution_count": 29
        }
      ],
      "source": [
        "np.array(0) / np.array(0) # invalid value encountered in divide\n",
        "np.array(0) // np.array(0) # divide by zero encountered in floor_divide\n",
        "np.array([np.nan]).astype(int).astype(float) # invalid value encountered in cast"
      ]
    },
    {
      "cell_type": "markdown",
      "id": "06c9164d",
      "metadata": {
        "id": "06c9164d"
      },
      "source": [
        "#### 29. How to round away from zero a float array ? (★☆☆)"
      ]
    },
    {
      "cell_type": "code",
      "execution_count": null,
      "id": "4cce0af8",
      "metadata": {
        "id": "4cce0af8",
        "colab": {
          "base_uri": "https://localhost:8080/"
        },
        "outputId": "baaf9693-0527-4fca-a2be-8e405f541240"
      },
      "outputs": [
        {
          "output_type": "stream",
          "name": "stdout",
          "text": [
            "[0. 1. 2. 3. 4.]\n"
          ]
        }
      ],
      "source": [
        "Z = np.arange(5)\n",
        "print(np.where(Z>0, np.ceil(Z), np.floor(Z)))"
      ]
    },
    {
      "cell_type": "markdown",
      "id": "52235994",
      "metadata": {
        "id": "52235994"
      },
      "source": [
        "#### 30. How to find common values between two arrays? (★☆☆)"
      ]
    },
    {
      "cell_type": "code",
      "execution_count": null,
      "id": "27eff6b1",
      "metadata": {
        "id": "27eff6b1",
        "colab": {
          "base_uri": "https://localhost:8080/"
        },
        "outputId": "2bf347ea-e0e2-4e06-a161-a0fbb90e1563"
      },
      "outputs": [
        {
          "output_type": "stream",
          "name": "stdout",
          "text": [
            "[1 2 5 6 8 9]\n"
          ]
        }
      ],
      "source": [
        "Z1 = np.random.randint(0,10,10)\n",
        "Z2 = np.random.randint(0,10,10)\n",
        "print(np.intersect1d(Z1,Z2))"
      ]
    },
    {
      "cell_type": "markdown",
      "id": "7e6f7d78",
      "metadata": {
        "id": "7e6f7d78"
      },
      "source": [
        "#### 31. How to ignore all numpy warnings (not recommended)? (★☆☆)"
      ]
    },
    {
      "cell_type": "code",
      "execution_count": null,
      "id": "1bdde6e1",
      "metadata": {
        "id": "1bdde6e1"
      },
      "outputs": [],
      "source": []
    },
    {
      "cell_type": "markdown",
      "id": "b001277e",
      "metadata": {
        "id": "b001277e"
      },
      "source": [
        "#### 32. Is the following expressions true? (★☆☆)\n",
        "```python\n",
        "np.sqrt(-1) == np.emath.sqrt(-1)\n",
        "```"
      ]
    },
    {
      "cell_type": "code",
      "execution_count": null,
      "id": "d8673bdf",
      "metadata": {
        "id": "d8673bdf",
        "outputId": "4bfd296c-a470-48ea-94c4-aede994f2a5c",
        "colab": {
          "base_uri": "https://localhost:8080/"
        }
      },
      "outputs": [
        {
          "output_type": "stream",
          "name": "stderr",
          "text": [
            "<ipython-input-30-16339fbc685e>:1: RuntimeWarning: invalid value encountered in sqrt\n",
            "  np.sqrt(-1) == np.emath.sqrt(-1)\n"
          ]
        },
        {
          "output_type": "execute_result",
          "data": {
            "text/plain": [
              "np.False_"
            ]
          },
          "metadata": {},
          "execution_count": 30
        }
      ],
      "source": [
        "np.sqrt(-1) == np.emath.sqrt(-1) # False, left is invalid, right is imaginary number."
      ]
    },
    {
      "cell_type": "markdown",
      "id": "b9a5ff84",
      "metadata": {
        "id": "b9a5ff84"
      },
      "source": [
        "#### 33. How to get the dates of yesterday, today and tomorrow? (★☆☆)"
      ]
    },
    {
      "cell_type": "code",
      "execution_count": null,
      "id": "f33f9cc2",
      "metadata": {
        "id": "f33f9cc2",
        "colab": {
          "base_uri": "https://localhost:8080/"
        },
        "outputId": "f5ca9998-a7a9-4a13-9ac1-9a87ac34190c"
      },
      "outputs": [
        {
          "output_type": "execute_result",
          "data": {
            "text/plain": [
              "(np.datetime64('2025-03-27'),\n",
              " np.datetime64('2025-03-28'),\n",
              " np.datetime64('2025-03-29'))"
            ]
          },
          "metadata": {},
          "execution_count": 39
        }
      ],
      "source": [
        "yesterday = np.datetime64('today') - np.timedelta64(1)\n",
        "today     = np.datetime64('today')\n",
        "tomorrow  = np.datetime64('today') + np.timedelta64(1)\n",
        "\n",
        "yesterday, today, tomorrow"
      ]
    },
    {
      "cell_type": "markdown",
      "id": "f8e96e58",
      "metadata": {
        "id": "f8e96e58"
      },
      "source": [
        "#### 34. How to get all the dates corresponding to the month of July 2016? (★★☆)"
      ]
    },
    {
      "cell_type": "code",
      "execution_count": null,
      "id": "3927a8e8",
      "metadata": {
        "id": "3927a8e8",
        "colab": {
          "base_uri": "https://localhost:8080/"
        },
        "outputId": "e62f75e7-84d5-47e5-972e-0723ebf2c465"
      },
      "outputs": [
        {
          "output_type": "execute_result",
          "data": {
            "text/plain": [
              "array(['2016-07-01', '2016-07-02', '2016-07-03', '2016-07-04',\n",
              "       '2016-07-05', '2016-07-06', '2016-07-07', '2016-07-08',\n",
              "       '2016-07-09', '2016-07-10', '2016-07-11', '2016-07-12',\n",
              "       '2016-07-13', '2016-07-14', '2016-07-15', '2016-07-16',\n",
              "       '2016-07-17', '2016-07-18', '2016-07-19', '2016-07-20',\n",
              "       '2016-07-21', '2016-07-22', '2016-07-23', '2016-07-24',\n",
              "       '2016-07-25', '2016-07-26', '2016-07-27', '2016-07-28',\n",
              "       '2016-07-29', '2016-07-30', '2016-07-31'], dtype='datetime64[D]')"
            ]
          },
          "metadata": {},
          "execution_count": 63
        }
      ],
      "source": [
        "Z = np.arange('2016-07', '2016-08', dtype='datetime64[D]')\n",
        "Z"
      ]
    },
    {
      "cell_type": "markdown",
      "id": "557c163e",
      "metadata": {
        "id": "557c163e"
      },
      "source": [
        "#### 35. How to compute ((A+B)*(-A/2)) in place (without copy)? (★★☆)"
      ]
    },
    {
      "cell_type": "code",
      "execution_count": null,
      "id": "3c2f59ac",
      "metadata": {
        "id": "3c2f59ac",
        "colab": {
          "base_uri": "https://localhost:8080/"
        },
        "outputId": "c2f4acb3-1037-4409-afb7-d61176993126"
      },
      "outputs": [
        {
          "output_type": "execute_result",
          "data": {
            "text/plain": [
              "array([-6., -6., -6., -6.])"
            ]
          },
          "metadata": {},
          "execution_count": 62
        }
      ],
      "source": [
        "# Matrix Calculation\n",
        "A = np.ones(4)*2\n",
        "B = np.ones(4)*4\n",
        "np.add(A,B,out=B)\n",
        "np.divide(A,2,out=A)\n",
        "np.negative(A,out=A)\n",
        "np.multiply(A,B,out=A)\n",
        "\n",
        "A"
      ]
    },
    {
      "cell_type": "markdown",
      "id": "14c05852",
      "metadata": {
        "id": "14c05852"
      },
      "source": [
        "#### 36. Extract the integer part of a random array of positive numbers using 4 different methods (★★☆)"
      ]
    },
    {
      "cell_type": "code",
      "execution_count": null,
      "id": "8b7d2937",
      "metadata": {
        "id": "8b7d2937",
        "colab": {
          "base_uri": "https://localhost:8080/"
        },
        "outputId": "8a5acfd9-f770-4d36-9447-32d8b4f21d3e"
      },
      "outputs": [
        {
          "output_type": "stream",
          "name": "stdout",
          "text": [
            "[5. 2. 3. 6. 9. 5. 9. 9. 9. 7.]\n",
            "[5. 2. 3. 6. 9. 5. 9. 9. 9. 7.]\n",
            "[5. 2. 3. 6. 9. 5. 9. 9. 9. 7.]\n",
            "[5 2 3 6 9 5 9 9 9 7]\n"
          ]
        }
      ],
      "source": [
        "Z = np.random.uniform(0,10,10)\n",
        "\n",
        "print(Z - Z%1)\n",
        "print(Z // 1)\n",
        "print(np.floor(Z))\n",
        "print(Z.astype(int))"
      ]
    },
    {
      "cell_type": "markdown",
      "id": "003b8721",
      "metadata": {
        "id": "003b8721"
      },
      "source": [
        "#### 37. Create a 5x5 matrix with row values ranging from 0 to 4 (★★☆)"
      ]
    },
    {
      "cell_type": "code",
      "execution_count": null,
      "id": "63c75db0",
      "metadata": {
        "id": "63c75db0",
        "colab": {
          "base_uri": "https://localhost:8080/"
        },
        "outputId": "936ce666-4572-4a26-9c7f-b9c02026d177"
      },
      "outputs": [
        {
          "output_type": "execute_result",
          "data": {
            "text/plain": [
              "array([[0., 1., 2., 3., 4.],\n",
              "       [0., 1., 2., 3., 4.],\n",
              "       [0., 1., 2., 3., 4.],\n",
              "       [0., 1., 2., 3., 4.],\n",
              "       [0., 1., 2., 3., 4.]])"
            ]
          },
          "metadata": {},
          "execution_count": 61
        }
      ],
      "source": [
        "Z = np.zeros((5,5))\n",
        "Z += np.arange(5)\n",
        "Z"
      ]
    },
    {
      "cell_type": "markdown",
      "id": "8e71dc21",
      "metadata": {
        "id": "8e71dc21"
      },
      "source": [
        "#### 38. Consider a generator function that generates 10 integers and use it to build an array (★☆☆)"
      ]
    },
    {
      "cell_type": "code",
      "execution_count": null,
      "id": "f6aefd94",
      "metadata": {
        "id": "f6aefd94",
        "colab": {
          "base_uri": "https://localhost:8080/"
        },
        "outputId": "a7b29de1-b2df-48da-bffa-b8fdf6a21f00"
      },
      "outputs": [
        {
          "output_type": "execute_result",
          "data": {
            "text/plain": [
              "array([0., 1., 2., 3., 4., 5., 6., 7., 8., 9.])"
            ]
          },
          "metadata": {},
          "execution_count": 60
        }
      ],
      "source": [
        "def generate():\n",
        "    for x in range(10):\n",
        "        yield x\n",
        "\n",
        "Z = np.fromiter(generate(),dtype=float,count=-1)\n",
        "Z"
      ]
    },
    {
      "cell_type": "markdown",
      "id": "b7f03449",
      "metadata": {
        "id": "b7f03449"
      },
      "source": [
        "#### 39. Create a vector of size 10 with values ranging from 0 to 1, both excluded (★★☆)"
      ]
    },
    {
      "cell_type": "code",
      "execution_count": null,
      "id": "a27cd904",
      "metadata": {
        "id": "a27cd904",
        "colab": {
          "base_uri": "https://localhost:8080/"
        },
        "outputId": "02a567fb-6318-4592-dec2-53deaecc8fd0"
      },
      "outputs": [
        {
          "output_type": "execute_result",
          "data": {
            "text/plain": [
              "array([0.09090909, 0.18181818, 0.27272727, 0.36363636, 0.45454545,\n",
              "       0.54545455, 0.63636364, 0.72727273, 0.81818182, 0.90909091])"
            ]
          },
          "metadata": {},
          "execution_count": 56
        }
      ],
      "source": [
        "Z = np.linspace(0,1,11,endpoint=False)[1:]\n",
        "Z"
      ]
    },
    {
      "cell_type": "markdown",
      "id": "043156c5",
      "metadata": {
        "id": "043156c5"
      },
      "source": [
        "#### 40. Create a random vector of size 10 and sort it (★★☆)"
      ]
    },
    {
      "cell_type": "code",
      "execution_count": null,
      "id": "6ae5eb58",
      "metadata": {
        "id": "6ae5eb58",
        "colab": {
          "base_uri": "https://localhost:8080/"
        },
        "outputId": "9627fae3-08b7-433e-d262-711153359056"
      },
      "outputs": [
        {
          "output_type": "execute_result",
          "data": {
            "text/plain": [
              "array([0.20245917, 0.26960956, 0.29025453, 0.35787944, 0.39589335,\n",
              "       0.49980227, 0.51647747, 0.64665798, 0.74426338, 0.96487621])"
            ]
          },
          "metadata": {},
          "execution_count": 59
        }
      ],
      "source": [
        "Z = np.random.random(10)\n",
        "Z.sort()\n",
        "Z"
      ]
    },
    {
      "cell_type": "markdown",
      "id": "4f7e8f3f",
      "metadata": {
        "id": "4f7e8f3f"
      },
      "source": [
        "#### 41. How to sum a small array faster than np.sum? (★★☆)"
      ]
    },
    {
      "cell_type": "code",
      "execution_count": null,
      "id": "88790af3",
      "metadata": {
        "id": "88790af3",
        "colab": {
          "base_uri": "https://localhost:8080/"
        },
        "outputId": "20d0bf3d-dfb8-45c7-ff2f-5ae8df6cdd30"
      },
      "outputs": [
        {
          "output_type": "execute_result",
          "data": {
            "text/plain": [
              "array([0, 1, 2, 3, 4, 5, 6, 7, 8, 9])"
            ]
          },
          "metadata": {},
          "execution_count": 68
        }
      ],
      "source": [
        "Z = np.arange(10)\n",
        "np.add.reduce(Z)\n",
        "Z"
      ]
    },
    {
      "cell_type": "markdown",
      "id": "13d1ca52",
      "metadata": {
        "id": "13d1ca52"
      },
      "source": [
        "#### 42. Consider two random array A and B, check if they are equal (★★☆)"
      ]
    },
    {
      "cell_type": "code",
      "execution_count": null,
      "id": "ca6dd579",
      "metadata": {
        "colab": {
          "base_uri": "https://localhost:8080/"
        },
        "id": "ca6dd579",
        "outputId": "e08bb756-2c07-4445-8410-a3e74f90a125"
      },
      "outputs": [
        {
          "output_type": "execute_result",
          "data": {
            "text/plain": [
              "True"
            ]
          },
          "metadata": {},
          "execution_count": 31
        }
      ],
      "source": [
        "np.array_equal(np.array([1,2,3]),np.array([1,2,3]))"
      ]
    },
    {
      "cell_type": "markdown",
      "id": "cf7cca6d",
      "metadata": {
        "id": "cf7cca6d"
      },
      "source": [
        "#### 43. Make an array immutable (read-only) (★★☆)"
      ]
    },
    {
      "cell_type": "code",
      "execution_count": null,
      "id": "cbbb8917",
      "metadata": {
        "id": "cbbb8917"
      },
      "outputs": [],
      "source": [
        "np.array([1,2,3]).flags.writeable = False"
      ]
    },
    {
      "cell_type": "markdown",
      "id": "37b0828f",
      "metadata": {
        "id": "37b0828f"
      },
      "source": [
        "#### 44. Consider a random 10x2 matrix representing cartesian coordinates, convert them to polar coordinates (★★☆)\n",
        "\n",
        "- cartesian coordinates: 데카르트 좌표계\n",
        "- polar coordinates: 극좌표; 평면 위의 위치를 각도와 거리로 나타내는 2차원 좌표계"
      ]
    },
    {
      "cell_type": "code",
      "execution_count": null,
      "id": "a89969af",
      "metadata": {
        "id": "a89969af",
        "colab": {
          "base_uri": "https://localhost:8080/"
        },
        "outputId": "b4d48c0e-b96d-44f0-9677-2d5fb939d9ff"
      },
      "outputs": [
        {
          "output_type": "stream",
          "name": "stdout",
          "text": [
            "[0.84493888 0.72618239 0.98813122 0.91580835 0.56933322 0.35097524\n",
            " 0.63303291 0.58690468 0.52632578 0.97999753]\n",
            "[1.1305214  1.16149869 0.46421429 1.35356585 0.92872598 1.14631402\n",
            " 0.22846886 0.59303594 0.78009799 0.90278108]\n"
          ]
        }
      ],
      "source": [
        "Z = np.random.random((10,2))\n",
        "X,Y = Z[:,0], Z[:,1]\n",
        "R = np.sqrt(X**2+Y**2)\n",
        "T = np.arctan2(Y,X)\n",
        "print(R)\n",
        "print(T)"
      ]
    },
    {
      "cell_type": "markdown",
      "id": "b7d7dd80",
      "metadata": {
        "id": "b7d7dd80"
      },
      "source": [
        "#### 45. Create random vector of size 10 and replace the maximum value by 0 (★★☆)"
      ]
    },
    {
      "cell_type": "code",
      "execution_count": null,
      "id": "8403a440",
      "metadata": {
        "id": "8403a440",
        "colab": {
          "base_uri": "https://localhost:8080/"
        },
        "outputId": "d698782c-ff4d-4c97-ba4f-dce91c7d70ef"
      },
      "outputs": [
        {
          "output_type": "stream",
          "name": "stdout",
          "text": [
            "[0.16881983 0.         0.38643286 0.63126877 0.33919635 0.34465906\n",
            " 0.62099804 0.12499663 0.08032189 0.17973038]\n"
          ]
        }
      ],
      "source": [
        "Z = np.random.random(10)\n",
        "Z[Z.argmax()] = 0\n",
        "print(Z)"
      ]
    },
    {
      "cell_type": "markdown",
      "id": "b47e5837",
      "metadata": {
        "id": "b47e5837"
      },
      "source": [
        "#### 46. Create a structured array with `x` and `y` coordinates covering the [0,1]x[0,1] area (★★☆)"
      ]
    },
    {
      "cell_type": "code",
      "execution_count": null,
      "id": "42c72e94",
      "metadata": {
        "id": "42c72e94",
        "colab": {
          "base_uri": "https://localhost:8080/"
        },
        "outputId": "4a53bdce-3807-4afa-abd8-04a75098bb95"
      },
      "outputs": [
        {
          "output_type": "stream",
          "name": "stdout",
          "text": [
            "[[(0.  , 0.  ) (0.25, 0.  ) (0.5 , 0.  ) (0.75, 0.  ) (1.  , 0.  )]\n",
            " [(0.  , 0.25) (0.25, 0.25) (0.5 , 0.25) (0.75, 0.25) (1.  , 0.25)]\n",
            " [(0.  , 0.5 ) (0.25, 0.5 ) (0.5 , 0.5 ) (0.75, 0.5 ) (1.  , 0.5 )]\n",
            " [(0.  , 0.75) (0.25, 0.75) (0.5 , 0.75) (0.75, 0.75) (1.  , 0.75)]\n",
            " [(0.  , 1.  ) (0.25, 1.  ) (0.5 , 1.  ) (0.75, 1.  ) (1.  , 1.  )]]\n"
          ]
        }
      ],
      "source": [
        "Z = np.zeros((5,5), [('x',float),('y',float)])\n",
        "Z['x'], Z['y'] = np.meshgrid(np.linspace(0,1,5),\n",
        "                             np.linspace(0,1,5))\n",
        "print(Z)"
      ]
    },
    {
      "cell_type": "markdown",
      "id": "8c7946ee",
      "metadata": {
        "id": "8c7946ee"
      },
      "source": [
        "#### 47. Given two arrays, X and Y, construct the Cauchy matrix C (Cij =1/(xi - yj)) (★★☆)\n",
        "\n",
        "![image.png](data:image/png;base64,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)"
      ]
    },
    {
      "cell_type": "code",
      "execution_count": null,
      "id": "26b93f06",
      "metadata": {
        "id": "26b93f06",
        "colab": {
          "base_uri": "https://localhost:8080/"
        },
        "outputId": "a4136177-8c57-4be4-b866-5dbc0cc8d8fe"
      },
      "outputs": [
        {
          "output_type": "stream",
          "name": "stdout",
          "text": [
            "3638.163637117973\n"
          ]
        }
      ],
      "source": [
        "X = np.arange(8)\n",
        "Y = X + 0.5\n",
        "C = 1.0 / np.subtract.outer(X, Y)\n",
        "print(np.linalg.det(C))"
      ]
    },
    {
      "cell_type": "markdown",
      "id": "3e898e5f",
      "metadata": {
        "id": "3e898e5f"
      },
      "source": [
        "#### 48. Print the minimum and maximum representable value for each numpy scalar type (★★☆)"
      ]
    },
    {
      "cell_type": "code",
      "execution_count": null,
      "id": "afd1ae18",
      "metadata": {
        "id": "afd1ae18",
        "colab": {
          "base_uri": "https://localhost:8080/"
        },
        "outputId": "d0e02dcb-480a-4a26-c6b6-154860fff9a7"
      },
      "outputs": [
        {
          "output_type": "stream",
          "name": "stdout",
          "text": [
            "<class 'numpy.int8'>\n",
            "-128\n",
            "127\n",
            "<class 'numpy.int32'>\n",
            "-2147483648\n",
            "2147483647\n",
            "<class 'numpy.int64'>\n",
            "-9223372036854775808\n",
            "9223372036854775807\n",
            "<class 'numpy.float32'>\n",
            "-3.4028235e+38\n",
            "3.4028235e+38\n",
            "1.1920929e-07\n",
            "<class 'numpy.float64'>\n",
            "-1.7976931348623157e+308\n",
            "1.7976931348623157e+308\n",
            "2.220446049250313e-16\n"
          ]
        }
      ],
      "source": [
        "for dtype in [np.int8, np.int32, np.int64]:\n",
        "   print(dtype)\n",
        "   print(np.iinfo(dtype).min)\n",
        "   print(np.iinfo(dtype).max)\n",
        "\n",
        "for dtype in [np.float32, np.float64]:\n",
        "   print(dtype)\n",
        "   print(np.finfo(dtype).min)\n",
        "   print(np.finfo(dtype).max)\n",
        "   print(np.finfo(dtype).eps)"
      ]
    },
    {
      "cell_type": "markdown",
      "id": "6fe6133b",
      "metadata": {
        "id": "6fe6133b"
      },
      "source": [
        "#### 49. How to print all the values of an array? (★★☆)"
      ]
    },
    {
      "cell_type": "code",
      "execution_count": null,
      "id": "5764ec92",
      "metadata": {
        "id": "5764ec92",
        "colab": {
          "base_uri": "https://localhost:8080/"
        },
        "outputId": "f130d31d-3c2a-4259-94b5-7eefa846ad58"
      },
      "outputs": [
        {
          "output_type": "stream",
          "name": "stdout",
          "text": [
            "[[0. 0. 0. 0. 0. 0. 0. 0. 0. 0.]\n",
            " [0. 0. 0. 0. 0. 0. 0. 0. 0. 0.]\n",
            " [0. 0. 0. 0. 0. 0. 0. 0. 0. 0.]\n",
            " [0. 0. 0. 0. 0. 0. 0. 0. 0. 0.]\n",
            " [0. 0. 0. 0. 0. 0. 0. 0. 0. 0.]\n",
            " [0. 0. 0. 0. 0. 0. 0. 0. 0. 0.]\n",
            " [0. 0. 0. 0. 0. 0. 0. 0. 0. 0.]\n",
            " [0. 0. 0. 0. 0. 0. 0. 0. 0. 0.]\n",
            " [0. 0. 0. 0. 0. 0. 0. 0. 0. 0.]\n",
            " [0. 0. 0. 0. 0. 0. 0. 0. 0. 0.]]\n"
          ]
        }
      ],
      "source": [
        "np.set_printoptions(threshold=float(\"inf\"))\n",
        "Z = np.zeros((10,10))\n",
        "print(Z)"
      ]
    },
    {
      "cell_type": "markdown",
      "id": "7ee2dacc",
      "metadata": {
        "id": "7ee2dacc"
      },
      "source": [
        "#### 50. How to find the closest value (to a given scalar) in a vector? (★★☆)"
      ]
    },
    {
      "cell_type": "code",
      "execution_count": null,
      "id": "742518ef",
      "metadata": {
        "id": "742518ef",
        "colab": {
          "base_uri": "https://localhost:8080/"
        },
        "outputId": "c3cc2acc-1c07-4cc2-9804-388de0f3c800"
      },
      "outputs": [
        {
          "output_type": "stream",
          "name": "stdout",
          "text": [
            "21\n"
          ]
        }
      ],
      "source": [
        "Z = np.arange(100)\n",
        "v = np.random.uniform(0,100)\n",
        "index = (np.abs(Z-v)).argmin()\n",
        "print(Z[index])"
      ]
    }
  ],
  "metadata": {
    "colab": {
      "provenance": []
    },
    "language_info": {
      "name": "python"
    },
    "kernelspec": {
      "name": "python3",
      "display_name": "Python 3"
    }
  },
  "nbformat": 4,
  "nbformat_minor": 5
}