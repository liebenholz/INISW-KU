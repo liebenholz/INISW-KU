{
 "cells": [
  {
   "cell_type": "code",
   "execution_count": 27,
   "metadata": {},
   "outputs": [],
   "source": [
    "import requests\n",
    "from requests import request\n",
    "from requests.compat import urljoin, urlencode\n",
    "from requests.sessions import Session\n",
    "from bs4 import BeautifulSoup\n",
    "import re"
   ]
  },
  {
   "cell_type": "code",
   "execution_count": 28,
   "metadata": {},
   "outputs": [],
   "source": [
    "s = Session()\n",
    "\n",
    "url = 'https://nid.naver.com/nidlogin.login?mode=form&url=https://www.naver.com/'\n",
    "resp = s.request('get', url)\n",
    "dom = BeautifulSoup(resp.text, 'html.parser')"
   ]
  },
  {
   "cell_type": "code",
   "execution_count": 29,
   "metadata": {},
   "outputs": [
    {
     "data": {
      "text/plain": [
       "('https://nid.naver.com/nidlogin.login', 'POST')"
      ]
     },
     "execution_count": 29,
     "metadata": {},
     "output_type": "execute_result"
    }
   ],
   "source": [
    "form = dom.select_one('form')\n",
    "form.attrs['action'], form.attrs['method']"
   ]
  },
  {
   "cell_type": "code",
   "execution_count": 30,
   "metadata": {},
   "outputs": [
    {
     "name": "stdout",
     "output_type": "stream",
     "text": [
      "input localechange \n",
      "input dynamicKey mR4ZGHoBN8a6RX7QYgdoKepN85y6As6X0rnpY5itqyb4AbgPupmdeYZe4xrZBdP3u8gFkAvmIcj0UV1qDWMxZcmqWPkKJLjsKcx9D033cEs\n",
      "input encpw \n",
      "input sessionKey \n",
      "input show_pk true\n",
      "input wtoken \n",
      "input svctype 1\n",
      "input bvsd \n",
      "input locale ko_KR\n",
      "input url https://www.naver.com/\n",
      "input enctp 1\n",
      "input next_step false\n",
      "input fbOff true\n",
      "input smart_LEVEL 1\n",
      "input encnm \n",
      "input id \n",
      "input pw None\n",
      "input nvlong off\n"
     ]
    }
   ],
   "source": [
    "for el in form.select('[name]'):\n",
    "    print(el.name, el.attrs['name'], el.attrs['value'] if el.has_attr('value') else None)"
   ]
  },
  {
   "cell_type": "code",
   "execution_count": null,
   "metadata": {},
   "outputs": [],
   "source": [
    "# 브라우저 개발자 도구 > Application > Cookies > https://www.naver.com\n",
    "c = '''\n",
    "ASID\tdc467f3200000185737531380000005a\t.naver.com\t/\t2025-08-07T23:16:34.810Z\t36\t\t✓\tNone\t\t\tMedium\t\n",
    "BNB_FINANCE_HOME_TOOLTIP_ESTATE\ttrue\t.naver.com\t/\t2026-02-27T06:08:58.405Z\t35\t\t\t\t\t\tMedium\t\n",
    "BNB_FINANCE_HOME_TOOLTIP_STOCK\ttrue\t.naver.com\t/\t2026-02-27T06:08:58.405Z\t34\t\t\t\t\t\tMedium\t\n",
    "BUC\tZgtIEOXaWcgCkbI-ISNQtXFIam39eU2JSxEATa3SwB0=\t.naver.com\t/\t2026-04-24T01:48:59.530Z\t47\t✓\t✓\tNone\t\t\tMedium\t\n",
    "NAC\tofeTGwA4CZvbA\t.naver.com\t/\t2026-04-23T06:12:10.415Z\t16\t\t✓\tNone\t\t\tMedium\t\n",
    "NACT\t1\t.naver.com\t/\t2025-03-20T06:12:10.416Z\t5\t\t\t\t\t\tMedium\t\n",
    "NFS\t2\t.naver.com\t/\t2026-03-09T08:53:39.651Z\t4\t\t\t\t\t\tMedium\t\n",
    "NID_AUT\t/sUkTQnI6wjetBMRR7ZAx5ctvooRk5G0EST2Yp3d8sb1v7WhKCJQrQovC6woUQbS\t.naver.com\t/\t2025-06-01T01:05:38.661Z\t71\t✓\t✓\tLax\t\t\tMedium\t\n",
    "NID_JKL\tXryiF6Uhti70U02057MWJnhH+Kg0t+eTP3zlo5ikWXs=\t.naver.com\t/\t2025-06-01T01:05:38.661Z\t51\t\t✓\t\t\t\tMedium\t\n",
    "NID_SES\tAAAB11dbszVcyBIG/yp3ko7ZSZ8XyDMiGUkWbBVsbopxq1y5teUlai1HhSEeFN/wh7UAVME7ByOWe6jy3j0Ydmv1VyZLueWbb9kg6/M7L/O1G/Vg5kOvffgcVPr5BKbp4EqsiseJ3rEnVDHgd6lZQYEysaCh3XqpMkAF6AKftxP+22FY3jNVlnmOJcU9np7b8/YWYoz6XnofFkrQViflqz2zAZy0mJgM4fCXPp6yoATeX3dTaaAw6hQUSPTMdVVD+JssGOHDwbyu7uE+NyJw2EfsawFS13Y290+1Mm3bLktYi85tuk4NP43kLuncW2/Ei4oNBmUdYytj1C/232zfdF2043SWshV2Z+SUG6ZUqdKacC+15GzMFpMjJ04oJyhZaEAkzPH3hEdhcBDp5UkmWUftCFCKyM8klPteuxgAdzUO6dHYYfuXU9mNHh41uaNdljC0eplzziEAcCuxiKbrb+4FyXhc5cv/8T4Mt0Xb9QHNo2ezoSfeRNvpK7wX7A9zutzlH5BDnRrwOAULYWhQGmyev2VssuC7YRKCGWcshCNDCfp1smgvHmzuEHpTL+O+nzifwKdkNYZFrldcXDNfeUQxDT2MPSGM+92sHsicMsOqkG/r9LvO1Mko1uLaWZbxBu/Nlw==\t.naver.com\t/\t2025-04-19T01:48:59.285Z\t655\t\t✓\tLax\t\t\tMedium\t\n",
    "NM_srt_chzzk\t1\twww.naver.com\t/\t2025-03-20T06:12:10.000Z\t13\t\t\t\t\t\tMedium\t\n",
    "NNB\tEH3BIH65Q77WE\t.naver.com\t/\t2026-04-24T01:48:59.530Z\t16\t\t✓\tNone\t\t\tMedium\t\n",
    "NV_WETR_LAST_ACCESS_RGN_M\t\"MTUxMzMxMDY=\"\t.naver.com\t/\t2025-09-15T04:28:29.045Z\t39\t\t\t\t\t\tMedium\t\n",
    "NV_WETR_LOCATION_RGN_M\t\"MTUxMzMxMDY=\"\t.naver.com\t/\t2025-09-15T04:28:29.045Z\t36\t\t\t\t\t\tMedium\t\n",
    "PM_CK_loc\t5b3cfba8eee6debe05f5d6bd00f0cae50836c375ced0cf1fcfeabd82356db212\twww.naver.com\t/\t2025-03-21T01:48:58.034Z\t73\t✓\t\t\t\t\tMedium\t\n",
    "SRT30\t1742435339\t.naver.com\t/\t2025-03-20T02:18:59.530Z\t15\t\t✓\tNone\t\t\tMedium\t\n",
    "SRT5\t1742435339\t.naver.com\t/\t2025-03-20T01:53:59.530Z\t14\t\t✓\tNone\t\t\tMedium\t\n",
    "_ga\tGA1.1.259199023.1661321730\t.naver.com\t/\t2025-12-11T10:22:36.348Z\t29\t\t\t\t\t\tMedium\t\n",
    "_ga_8P4PY65YZ2\tGS1.1.1730888556.1.1.1730888559.57.0.0\t.naver.com\t/\t2025-12-11T10:22:39.462Z\t52\t\t\t\t\t\tMedium\t\n",
    "_ga_Q7G1QTKPGB\tGS1.1.1719036622.1.1.1719036846.0.0.0\t.naver.com\t/\t2025-07-27T06:14:06.515Z\t51\t\t\t\t\t\tMedium\t\n",
    "ba.uuid\t85d9905a-e3f1-4adb-972e-c3c3ffabb567\t.naver.com\t/\t2026-04-06T11:51:39.114Z\t43\t\t\t\t\t\tMedium\t\n",
    "gnbFav\t%7B%22gnbFav%22%3A%5Bfalse%5D%7D\t.static.nid.naver.com\t/\t2026-02-02T13:20:43.527Z\t38\t\t\t\t\t\tMedium\t\n",
    "lastSeenQuestPopupTime\t1741934683268\t.naver.com\t/\t2025-03-21T06:44:40.000Z\t35\t\t\t\t\t\tMedium\t\n",
    "loungesRecentlyVisited\tWutheringWaves\t.naver.com\t/\t2025-03-21T06:44:40.000Z\t36\t\t\t\t\t\tMedium\t\n",
    "naverfinancial_CID\t1d48f388d6d0415fc26a28f33977200d\t.naver.com\t/\t2025-07-27T06:10:23.102Z\t50\t\t\t\t\t\tMedium\t\n",
    "nid_slevel\t-1\t.nid.naver.com\t/\t2025-04-27T01:05:14.000Z\t12\t\t\t\t\t\tMedium\t\n",
    "tooltipDisplayed\ttrue\t.naver.com\t/\t2025-07-27T19:06:22.000Z\t20\t\t\t\t\t\tMedium\t\n",
    "tooltip_paging_close\t1\twww.naver.com\t/\t2026-04-10T05:34:58.791Z\t21\t\t\t\t\t\tMedium\t\n",
    "'''"
   ]
  },
  {
   "cell_type": "code",
   "execution_count": 32,
   "metadata": {},
   "outputs": [],
   "source": [
    "cookies = dict()\n",
    "\n",
    "for line in c.splitlines():\n",
    "    if len(line) > 0:\n",
    "        cookies[line.split()[0]]=line.split()[1]"
   ]
  },
  {
   "cell_type": "code",
   "execution_count": 33,
   "metadata": {},
   "outputs": [],
   "source": [
    "url = 'https://mail.naver.com'"
   ]
  },
  {
   "cell_type": "code",
   "execution_count": 34,
   "metadata": {},
   "outputs": [
    {
     "data": {
      "text/plain": [
       "'메일'"
      ]
     },
     "execution_count": 34,
     "metadata": {},
     "output_type": "execute_result"
    }
   ],
   "source": [
    "# 쿠키를 이용해 로그인 한 후\n",
    "re.search(r'<title>(.+)</title>', request('get', url, cookies=cookies).text).group(1)"
   ]
  },
  {
   "cell_type": "code",
   "execution_count": null,
   "metadata": {},
   "outputs": [
    {
     "data": {
      "text/plain": [
       "'메일'"
      ]
     },
     "execution_count": 36,
     "metadata": {},
     "output_type": "execute_result"
    }
   ],
   "source": [
    "# 받은메일함\n",
    "url = 'https://mail.naver.com/v2/folders/0'\n",
    "resp = s.request('get', url, cookies=cookies)\n",
    "re.search(r'<title>(.+)</title>', resp.text).group(1)"
   ]
  },
  {
   "cell_type": "code",
   "execution_count": null,
   "metadata": {},
   "outputs": [
    {
     "data": {
      "text/plain": [
       "'text/plain;charset=UTF-8'"
      ]
     },
     "execution_count": 39,
     "metadata": {},
     "output_type": "execute_result"
    }
   ],
   "source": [
    "url = 'https://mail.naver.com/json/list'\n",
    "\n",
    "# 받은메일함\n",
    "# 개발자 도구 > Network > Fetch/XHR 또는 JS로 오는 req/resp 확인\n",
    "params = {\n",
    "    'folderSN':'0',\n",
    "    'page':'1',\n",
    "    'viewMode':'time',\n",
    "    'previewMode':'1',\n",
    "    'sortField':'1',\n",
    "    'sortType':'0',\n",
    "    'u':'your-naver-id'\n",
    "}\n",
    "\n",
    "resp = request('POST', url, params=params, cookies=cookies)\n",
    "resp.headers['content-type']"
   ]
  },
  {
   "cell_type": "code",
   "execution_count": null,
   "metadata": {},
   "outputs": [],
   "source": [
    "for mail in resp.json()['mailData']:\n",
    "    print(mail['subject'])"
   ]
  },
  {
   "cell_type": "code",
   "execution_count": null,
   "metadata": {},
   "outputs": [
    {
     "data": {
      "text/plain": [
       "'text/plain;charset=UTF-8'"
      ]
     },
     "execution_count": 41,
     "metadata": {},
     "output_type": "execute_result"
    }
   ],
   "source": [
    "# 스팸메일함: 'folderSN':'5'\n",
    "params = {\n",
    "    'folderSN':'5',\n",
    "    'page':'1',\n",
    "    'viewMode':'time',\n",
    "    'previewMode':'1',\n",
    "    'sortField':'1',\n",
    "    'sortType':'0',\n",
    "    'u':'your-naver-id'\n",
    "}\n",
    "\n",
    "resp = request('POST', url, params=params, cookies=cookies)\n",
    "resp.headers['content-type']"
   ]
  },
  {
   "cell_type": "code",
   "execution_count": null,
   "metadata": {},
   "outputs": [],
   "source": [
    "for mail in resp.json()['mailData']:\n",
    "    print(mail['subject'])"
   ]
  },
  {
   "cell_type": "code",
   "execution_count": 43,
   "metadata": {},
   "outputs": [],
   "source": [
    "s.cookies.clear()"
   ]
  },
  {
   "cell_type": "code",
   "execution_count": null,
   "metadata": {},
   "outputs": [],
   "source": []
  }
 ],
 "metadata": {
  "kernelspec": {
   "display_name": "Python 3",
   "language": "python",
   "name": "python3"
  },
  "language_info": {
   "codemirror_mode": {
    "name": "ipython",
    "version": 3
   },
   "file_extension": ".py",
   "mimetype": "text/x-python",
   "name": "python",
   "nbconvert_exporter": "python",
   "pygments_lexer": "ipython3",
   "version": "3.11.2"
  }
 },
 "nbformat": 4,
 "nbformat_minor": 2
}
