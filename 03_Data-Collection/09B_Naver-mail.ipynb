{
 "cells": [
  {
   "cell_type": "code",
   "execution_count": 27,
   "metadata": {},
   "outputs": [],
   "source": [
    "import requests\n",
    "from requests import request\n",
    "from requests.compat import urljoin, urlencode\n",
    "from requests.sessions import Session\n",
    "from bs4 import BeautifulSoup\n",
    "import re"
   ]
  },
  {
   "cell_type": "code",
   "execution_count": 28,
   "metadata": {},
   "outputs": [],
   "source": [
    "s = Session()\n",
    "\n",
    "url = 'https://nid.naver.com/nidlogin.login?mode=form&url=https://www.naver.com/'\n",
    "resp = s.request('get', url)\n",
    "dom = BeautifulSoup(resp.text, 'html.parser')"
   ]
  },
  {
   "cell_type": "code",
   "execution_count": 29,
   "metadata": {},
   "outputs": [
    {
     "data": {
      "text/plain": [
       "('https://nid.naver.com/nidlogin.login', 'POST')"
      ]
     },
     "execution_count": 29,
     "metadata": {},
     "output_type": "execute_result"
    }
   ],
   "source": [
    "form = dom.select_one('form')\n",
    "form.attrs['action'], form.attrs['method']"
   ]
  },
  {
   "cell_type": "code",
   "execution_count": 30,
   "metadata": {},
   "outputs": [
    {
     "name": "stdout",
     "output_type": "stream",
     "text": [
      "input localechange \n",
      "input dynamicKey mR4ZGHoBN8a6RX7QYgdoKepN85y6As6X0rnpY5itqyb4AbgPupmdeYZe4xrZBdP3u8gFkAvmIcj0UV1qDWMxZcmqWPkKJLjsKcx9D033cEs\n",
      "input encpw \n",
      "input sessionKey \n",
      "input show_pk true\n",
      "input wtoken \n",
      "input svctype 1\n",
      "input bvsd \n",
      "input locale ko_KR\n",
      "input url https://www.naver.com/\n",
      "input enctp 1\n",
      "input next_step false\n",
      "input fbOff true\n",
      "input smart_LEVEL 1\n",
      "input encnm \n",
      "input id \n",
      "input pw None\n",
      "input nvlong off\n"
     ]
    }
   ],
   "source": [
    "for el in form.select('[name]'):\n",
    "    print(el.name, el.attrs['name'], el.attrs['value'] if el.has_attr('value') else None)"
   ]
  },
  {
   "cell_type": "code",
   "execution_count": null,
   "metadata": {},
   "outputs": [],
   "source": [
    "# 브라우저 개발자 도구 > Application > Cookies > https://www.naver.com\n",
    "c = '''\n",
    "\n",
    "'''"
   ]
  },
  {
   "cell_type": "code",
   "execution_count": 32,
   "metadata": {},
   "outputs": [],
   "source": [
    "cookies = dict()\n",
    "\n",
    "for line in c.splitlines():\n",
    "    if len(line) > 0:\n",
    "        cookies[line.split()[0]]=line.split()[1]"
   ]
  },
  {
   "cell_type": "code",
   "execution_count": 33,
   "metadata": {},
   "outputs": [],
   "source": [
    "url = 'https://mail.naver.com'"
   ]
  },
  {
   "cell_type": "code",
   "execution_count": 34,
   "metadata": {},
   "outputs": [
    {
     "data": {
      "text/plain": [
       "'메일'"
      ]
     },
     "execution_count": 34,
     "metadata": {},
     "output_type": "execute_result"
    }
   ],
   "source": [
    "# 쿠키를 이용해 로그인 한 후\n",
    "re.search(r'<title>(.+)</title>', request('get', url, cookies=cookies).text).group(1)"
   ]
  },
  {
   "cell_type": "code",
   "execution_count": null,
   "metadata": {},
   "outputs": [
    {
     "data": {
      "text/plain": [
       "'메일'"
      ]
     },
     "execution_count": 36,
     "metadata": {},
     "output_type": "execute_result"
    }
   ],
   "source": [
    "# 받은메일함\n",
    "url = 'https://mail.naver.com/v2/folders/0'\n",
    "resp = s.request('get', url, cookies=cookies)\n",
    "re.search(r'<title>(.+)</title>', resp.text).group(1)"
   ]
  },
  {
   "cell_type": "code",
   "execution_count": null,
   "metadata": {},
   "outputs": [
    {
     "data": {
      "text/plain": [
       "'text/plain;charset=UTF-8'"
      ]
     },
     "execution_count": 39,
     "metadata": {},
     "output_type": "execute_result"
    }
   ],
   "source": [
    "url = 'https://mail.naver.com/json/list'\n",
    "\n",
    "# 받은메일함\n",
    "# 개발자 도구 > Network > Fetch/XHR 또는 JS로 오는 req/resp 확인\n",
    "params = {\n",
    "    'folderSN':'0',\n",
    "    'page':'1',\n",
    "    'viewMode':'time',\n",
    "    'previewMode':'1',\n",
    "    'sortField':'1',\n",
    "    'sortType':'0',\n",
    "    'u':'your-naver-id'\n",
    "}\n",
    "\n",
    "resp = request('POST', url, params=params, cookies=cookies)\n",
    "resp.headers['content-type']"
   ]
  },
  {
   "cell_type": "code",
   "execution_count": null,
   "metadata": {},
   "outputs": [],
   "source": [
    "for mail in resp.json()['mailData']:\n",
    "    print(mail['subject'])"
   ]
  },
  {
   "cell_type": "code",
   "execution_count": null,
   "metadata": {},
   "outputs": [
    {
     "data": {
      "text/plain": [
       "'text/plain;charset=UTF-8'"
      ]
     },
     "execution_count": 41,
     "metadata": {},
     "output_type": "execute_result"
    }
   ],
   "source": [
    "# 스팸메일함: 'folderSN':'5'\n",
    "params = {\n",
    "    'folderSN':'5',\n",
    "    'page':'1',\n",
    "    'viewMode':'time',\n",
    "    'previewMode':'1',\n",
    "    'sortField':'1',\n",
    "    'sortType':'0',\n",
    "    'u':'your-naver-id'\n",
    "}\n",
    "\n",
    "resp = request('POST', url, params=params, cookies=cookies)\n",
    "resp.headers['content-type']"
   ]
  },
  {
   "cell_type": "code",
   "execution_count": null,
   "metadata": {},
   "outputs": [],
   "source": [
    "for mail in resp.json()['mailData']:\n",
    "    print(mail['subject'])"
   ]
  },
  {
   "cell_type": "code",
   "execution_count": 43,
   "metadata": {},
   "outputs": [],
   "source": [
    "s.cookies.clear()"
   ]
  },
  {
   "cell_type": "code",
   "execution_count": null,
   "metadata": {},
   "outputs": [],
   "source": []
  }
 ],
 "metadata": {
  "kernelspec": {
   "display_name": "Python 3",
   "language": "python",
   "name": "python3"
  },
  "language_info": {
   "codemirror_mode": {
    "name": "ipython",
    "version": 3
   },
   "file_extension": ".py",
   "mimetype": "text/x-python",
   "name": "python",
   "nbconvert_exporter": "python",
   "pygments_lexer": "ipython3",
   "version": "3.11.2"
  }
 },
 "nbformat": 4,
 "nbformat_minor": 2
}
