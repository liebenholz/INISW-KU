{
 "cells": [
  {
   "cell_type": "code",
   "execution_count": 88,
   "metadata": {},
   "outputs": [],
   "source": [
    "import requests\n",
    "from requests import request\n",
    "from requests.compat import urljoin, urlencode\n",
    "from bs4 import BeautifulSoup\n",
    "import re"
   ]
  },
  {
   "cell_type": "code",
   "execution_count": 89,
   "metadata": {},
   "outputs": [
    {
     "data": {
      "text/plain": [
       "{'Date': 'Thu, 20 Mar 2025 02:25:17 GMT', 'Content-Type': 'text/html; charset=UTF-8', 'Transfer-Encoding': 'chunked', 'Connection': 'keep-alive', 'Server': 'cloudflare', 'X-Powered-By': 'PHP/8.3.11', 'Cache-Control': 'no-cache, private', 'Cf-Cache-Status': 'DYNAMIC', 'Content-Encoding': 'gzip', 'Set-Cookie': 'AWSALB=XHQy8hAEepJ1l51tmDfVBD5atZC7+vsbSYdd2gGzR2J4a3fA5hMpfx5QwBtFNPTkO0HSzkxXA4rwVHkT9HRc11R1QCAX9LGozQkgTytFeOeI9Fh+ryfUKT+JrzrA; Path=/; Expires=Thu, 27 Mar 2025 02:25:17 GMT, AWSALBCORS=XHQy8hAEepJ1l51tmDfVBD5atZC7+vsbSYdd2gGzR2J4a3fA5hMpfx5QwBtFNPTkO0HSzkxXA4rwVHkT9HRc11R1QCAX9LGozQkgTytFeOeI9Fh+ryfUKT+JrzrA; SameSite=None; Secure; Path=/; Expires=Thu, 27 Mar 2025 02:25:17 GMT, XSRF-TOKEN=eyJpdiI6ImRHV3liL1BTclFBMmQ0N09abHFsbVE9PSIsInZhbHVlIjoiY1pORlZubjU0YUZ1SitlelN1MTZPR2JmTndhS3V1SGQycVZKUlAydWlpZ1F3N05ZaW9SWmNnYU9QUFgySDV3S3dROWM0WVQrOWpEUlRLRnJGM0lvbnJEOHdKVEg0cFBJQm5IQStESG4wR1RxMEtldnVmamtOdGtpdlU2dFFWbUQiLCJtYWMiOiJmZDJhOTAyOTU5MzBhNzAxNmQ5OTI1M2RmYjk0OTY2M2MwZWY0NDFhYWU1YmQ5YzNjNzRjZDhiYzFkODY1N2VhIiwidGFnIjoiIn0%3D; SameSite=Lax; Path=/; Max-Age=7200; Expires=Thu, 20 Mar 2025 04:25:17 GMT, scrapingcoursecom_session=eyJpdiI6IlV1d0ZrV2Z6UWtBL2c4MXJNU0tGZXc9PSIsInZhbHVlIjoieWtRQzVFcy9YVE5QeFIwWjJrTWtER3BmL0Ewd2RwTXFGNjk2SFJ3aHBibkVvYWhoVlpGd1h6RTZUTjJLQjFLU01ZTHhWV0N4cjZPeUwwdytSUzZ0KzBhc3dmVW9MeVBWOXlBYU5aclVBUTAxb3JKcnM4YzlUdXlqUmc1K3d0emMiLCJtYWMiOiIxNWMzM2RkN2Y1M2ZmNjdmYTFkNGZjMGVhNGJiYTJhZmYyM2ZhNjFhY2E0NDFhMmQyZTQxNTJkYzEzNDExYzgxIiwidGFnIjoiIn0%3D; HttpOnly; SameSite=Lax; Path=/; Max-Age=7200; Expires=Thu, 20 Mar 2025 04:25:17 GMT', 'CF-RAY': '9231c2102aefaf31-NRT', 'alt-svc': 'h3=\":443\"; ma=86400'}"
      ]
     },
     "execution_count": 89,
     "metadata": {},
     "output_type": "execute_result"
    }
   ],
   "source": [
    "url = 'https://www.scrapingcourse.com/login'\n",
    "resp = request('GET', url)\n",
    "resp.headers"
   ]
  },
  {
   "cell_type": "code",
   "execution_count": 90,
   "metadata": {},
   "outputs": [],
   "source": [
    "url = 'https://lms.sunde41.net'\n",
    "resp = request('GET', url)\n",
    "dom = BeautifulSoup(resp.text, 'html.parser')"
   ]
  },
  {
   "cell_type": "code",
   "execution_count": 91,
   "metadata": {},
   "outputs": [
    {
     "data": {
      "text/plain": [
       "{'action': '/auth/login', 'method': 'POST', 'name': 'login_user_form'}"
      ]
     },
     "execution_count": 91,
     "metadata": {},
     "output_type": "execute_result"
    }
   ],
   "source": [
    "form = dom.select_one('form')\n",
    "form.attrs"
   ]
  },
  {
   "cell_type": "code",
   "execution_count": 92,
   "metadata": {},
   "outputs": [
    {
     "name": "stdout",
     "output_type": "stream",
     "text": [
      "next\n",
      "email\n",
      "password\n",
      "remember\n"
     ]
    }
   ],
   "source": [
    "for el in form.select('input[name]'):\n",
    "    print(el.attrs['name'])"
   ]
  },
  {
   "cell_type": "code",
   "execution_count": null,
   "metadata": {},
   "outputs": [
    {
     "name": "stdout",
     "output_type": "stream",
     "text": [
      "Overwriting lms.json\n"
     ]
    }
   ],
   "source": [
    "%%writefile lms.json\n",
    "{\n",
    "  'id': 'example@domain.com',\n",
    "  'pw': 'password'\n",
    "}"
   ]
  },
  {
   "cell_type": "markdown",
   "metadata": {},
   "source": [
    "여기서부터 코드 보고 작성하기"
   ]
  },
  {
   "cell_type": "code",
   "execution_count": 95,
   "metadata": {},
   "outputs": [],
   "source": [
    "from json import load\n",
    "\n",
    "# with open('lms.json', 'r', encoding='utf8') as fp:\n",
    "#     lms = load(fp)"
   ]
  },
  {
   "cell_type": "code",
   "execution_count": null,
   "metadata": {},
   "outputs": [],
   "source": [
    "resp = request(form.attrs['method'], urljoin(url, form.attrs['action']),\n",
    "               data={'email':lms['id'], 'password':lms['pw']})"
   ]
  },
  {
   "cell_type": "code",
   "execution_count": 97,
   "metadata": {},
   "outputs": [
    {
     "data": {
      "text/plain": [
       "'session=VoCRGCyKbOJgrnsXaGRCw3TA_5nHb1mNFvJxeBtrLKE; Expires=Sun, 20 Apr 2025 02:26:02 GMT; HttpOnly; Path=/'"
      ]
     },
     "execution_count": 97,
     "metadata": {},
     "output_type": "execute_result"
    }
   ],
   "source": [
    "resp.headers['set-cookie']"
   ]
  },
  {
   "cell_type": "code",
   "execution_count": 98,
   "metadata": {},
   "outputs": [
    {
     "data": {
      "text/plain": [
       "<re.Match object; span=(305, 343), match='<title>대시보드 : 고려대학교 지능정보SW아카데미</title>'>"
      ]
     },
     "execution_count": 98,
     "metadata": {},
     "output_type": "execute_result"
    }
   ],
   "source": [
    "re.search(r'<title>.+?</title>', resp.text)"
   ]
  },
  {
   "cell_type": "code",
   "execution_count": 99,
   "metadata": {},
   "outputs": [
    {
     "data": {
      "text/plain": [
       "['session', 'VoCRGCyKbOJgrnsXaGRCw3TA_5nHb1mNFvJxeBtrLKE']"
      ]
     },
     "execution_count": 99,
     "metadata": {},
     "output_type": "execute_result"
    }
   ],
   "source": [
    "resp.headers['set-cookie'].split(';')[0].split('=')"
   ]
  },
  {
   "cell_type": "code",
   "execution_count": 100,
   "metadata": {},
   "outputs": [],
   "source": [
    "c = {resp.headers['set-cookie'].split(';')[0].split('=')[0]:\n",
    "     resp.headers['set-cookie'].split(';')[0].split('=')[1]}"
   ]
  },
  {
   "cell_type": "code",
   "execution_count": 101,
   "metadata": {},
   "outputs": [
    {
     "data": {
      "text/plain": [
       "<re.Match object; span=(305, 345), match='<title>수업 게시판 : 고려대학교 지능정보SW아카데미</title>'>"
      ]
     },
     "execution_count": 101,
     "metadata": {},
     "output_type": "execute_result"
    }
   ],
   "source": [
    "resp1 = request('get', 'https://lms.sunde41.net/course/8', cookies=c)\n",
    "re.search(r'<title>.+?</title>', resp1.text)"
   ]
  },
  {
   "cell_type": "code",
   "execution_count": 102,
   "metadata": {},
   "outputs": [],
   "source": [
    "from requests.sessions import Session"
   ]
  },
  {
   "cell_type": "code",
   "execution_count": 103,
   "metadata": {},
   "outputs": [],
   "source": [
    "s = Session()"
   ]
  },
  {
   "cell_type": "code",
   "execution_count": 104,
   "metadata": {},
   "outputs": [],
   "source": [
    "for k,v in c.items():\n",
    "    s.cookies.set(k,v)"
   ]
  },
  {
   "cell_type": "code",
   "execution_count": 105,
   "metadata": {},
   "outputs": [
    {
     "data": {
      "text/plain": [
       "{'session': 'VoCRGCyKbOJgrnsXaGRCw3TA_5nHb1mNFvJxeBtrLKE'}"
      ]
     },
     "execution_count": 105,
     "metadata": {},
     "output_type": "execute_result"
    }
   ],
   "source": [
    "s.cookies.get_dict()"
   ]
  },
  {
   "cell_type": "code",
   "execution_count": 106,
   "metadata": {},
   "outputs": [
    {
     "data": {
      "text/plain": [
       "<re.Match object; span=(305, 345), match='<title>수업 게시판 : 고려대학교 지능정보SW아카데미</title>'>"
      ]
     },
     "execution_count": 106,
     "metadata": {},
     "output_type": "execute_result"
    }
   ],
   "source": [
    "resp2 = s.request('get', 'https://lms.sunde41.net/course/8')\n",
    "re.search(r'<title>.+?</title>', resp2.text)"
   ]
  },
  {
   "cell_type": "code",
   "execution_count": 107,
   "metadata": {},
   "outputs": [],
   "source": [
    "c = {resp.headers['set-cookie'].split(';')[0].split('=')[0]:\n",
    "     resp.headers['set-cookie'].split(';')[0].split('=')[1]}"
   ]
  },
  {
   "cell_type": "code",
   "execution_count": 108,
   "metadata": {},
   "outputs": [],
   "source": [
    "URLs = ['https://lms.sunde41.net/course/8']\n",
    "Seens = []\n",
    "\n",
    "domain = re.compile(r'lms.sunde41.net')\n",
    "\n",
    "while URLs:\n",
    "  seed = URLs.pop(0)\n",
    "  Seens.append(seed)\n",
    "\n",
    "  #resp = request('get', seed, cookies=c)\n",
    "  resp = s.request('get', seed)\n",
    "\n",
    "  if resp.status_code != 200:\n",
    "    continue\n",
    "\n",
    "  dom = BeautifulSoup(resp.text, 'html.parser')\n",
    "\n",
    "  for a in dom.select('a[href]'):\n",
    "    nurl = urljoin(seed, a['href'])\n",
    "    if nurl not in URLs and nurl not in Seens and domain.search(nurl):\n",
    "      URLs.append(nurl)"
   ]
  },
  {
   "cell_type": "code",
   "execution_count": 109,
   "metadata": {},
   "outputs": [
    {
     "data": {
      "text/plain": [
       "[]"
      ]
     },
     "execution_count": 109,
     "metadata": {},
     "output_type": "execute_result"
    }
   ],
   "source": [
    "URLs"
   ]
  },
  {
   "cell_type": "code",
   "execution_count": null,
   "metadata": {},
   "outputs": [],
   "source": [
    "Seens # 게시판의 모든 자료 접근 가능"
   ]
  },
  {
   "cell_type": "code",
   "execution_count": 111,
   "metadata": {},
   "outputs": [],
   "source": [
    "#Crawler\n",
    "URLs = ['https://lms.sunde41.net/course/8']\n",
    "Seens = []\n",
    "\n",
    "domain = re.compile(r'lms.sunde41.net')\n",
    "\n",
    "while URLs:\n",
    "  seed = URLs.pop(0)\n",
    "  Seens.append(seed)\n",
    "\n",
    "  #resp = request('get', seed, cookies=c)\n",
    "  resp = s.request('get', seed)\n",
    "\n",
    "  if resp.status_code != 200:\n",
    "    continue\n",
    "\n",
    "  dom = BeautifulSoup(resp.text, 'html.parser')\n",
    "\n",
    "#Scraping (수업자료 -> 앞부분 path가 동일)\n",
    "  for a in dom.select('a[href]'):\n",
    "    nurl = urljoin(seed, a['href'])\n",
    "    if nurl not in URLs and nurl not in Seens and domain.search(nurl):\n",
    "      URLs.append(nurl)"
   ]
  },
  {
   "cell_type": "code",
   "execution_count": 120,
   "metadata": {},
   "outputs": [],
   "source": [
    "url = 'https://lms.sunde41.net/static/uploads/lectures/8/Database.pdf'\n",
    "# '/static/uploads/lectures/8/Database.pdf'\n",
    "\n",
    "# domain = 'test.com'\n",
    "# root_path = '/home/user/www'\n",
    "#                    URL       ServerLocal\n",
    "# http://test.com/ => / = /home/user/www\n",
    "# :www-data\n",
    "#                    /database.pdf\n",
    "#                              /home/user/www/database.pdf\n",
    "\n",
    "#서버에서 보이는 URL : domain = 'test.com'\n",
    "#ServerLocal에서 보이는 path : root_path = '/home/user/www'"
   ]
  },
  {
   "cell_type": "code",
   "execution_count": 121,
   "metadata": {},
   "outputs": [
    {
     "data": {
      "text/plain": [
       "'application/pdf'"
      ]
     },
     "execution_count": 121,
     "metadata": {},
     "output_type": "execute_result"
    }
   ],
   "source": [
    "resp = request('get', url) # Cookie X\n",
    "resp.headers['content-type']"
   ]
  },
  {
   "cell_type": "code",
   "execution_count": 122,
   "metadata": {},
   "outputs": [
    {
     "data": {
      "text/plain": [
       "'pdf'"
      ]
     },
     "execution_count": 122,
     "metadata": {},
     "output_type": "execute_result"
    }
   ],
   "source": [
    "re.search(r'application/(pdf)', resp.headers['content-type']).group(1)"
   ]
  },
  {
   "cell_type": "code",
   "execution_count": 123,
   "metadata": {},
   "outputs": [],
   "source": [
    "with open(re.search(r'.+/(.+)$', url).group(1), 'wb') as fp:\n",
    "    fp.write(resp.content)"
   ]
  },
  {
   "cell_type": "code",
   "execution_count": 124,
   "metadata": {},
   "outputs": [
    {
     "name": "stdout",
     "output_type": "stream",
     "text": [
      "-rw-r--r--  1 gokyulueau  staff  4660853 Mar 20 11:37 Database.pdf\n"
     ]
    }
   ],
   "source": [
    "!ls -al *.pdf"
   ]
  },
  {
   "cell_type": "code",
   "execution_count": 74,
   "metadata": {},
   "outputs": [
    {
     "data": {
      "text/plain": [
       "<re.Match object; span=(305, 341), match='<title>질문 : 고려대학교 지능정보SW아카데미</title>'>"
      ]
     },
     "execution_count": 74,
     "metadata": {},
     "output_type": "execute_result"
    }
   ],
   "source": [
    "resp2 = s.request('get', 'https://lms.sunde41.net/qna/new/8')\n",
    "re.search(r'<title>.+?</title>', resp2.text)"
   ]
  },
  {
   "cell_type": "code",
   "execution_count": 75,
   "metadata": {},
   "outputs": [],
   "source": [
    "dom = BeautifulSoup(resp2.text, 'html.parser')"
   ]
  },
  {
   "cell_type": "code",
   "execution_count": 76,
   "metadata": {},
   "outputs": [
    {
     "data": {
      "text/plain": [
       "('/qna/new/8', 'post')"
      ]
     },
     "execution_count": 76,
     "metadata": {},
     "output_type": "execute_result"
    }
   ],
   "source": [
    "form = dom.select_one('form')\n",
    "form.attrs['action'], form.attrs['method']\n",
    "# RESTful API"
   ]
  },
  {
   "cell_type": "code",
   "execution_count": 77,
   "metadata": {},
   "outputs": [
    {
     "name": "stdout",
     "output_type": "stream",
     "text": [
      "input title\n",
      "textarea description\n"
     ]
    }
   ],
   "source": [
    "for el in form.select('[name]'):\n",
    "    print(el.name, el.attrs['name'])"
   ]
  },
  {
   "cell_type": "code",
   "execution_count": 78,
   "metadata": {},
   "outputs": [],
   "source": [
    "nurl = urljoin(resp2.url, form.attrs['action'])\n",
    "# LMS 도움게시판에 글 쓰는 요청이니 쓰지 말 것\n",
    "# s.request(form.attrs['method'], nurl, data={'title':'수업 테스트 중', 'description':'신경쓰지 마세요'})"
   ]
  },
  {
   "cell_type": "code",
   "execution_count": 79,
   "metadata": {},
   "outputs": [
    {
     "data": {
      "text/plain": [
       "('/qna/detail/80/comments/edit/83', 'post')"
      ]
     },
     "execution_count": 79,
     "metadata": {},
     "output_type": "execute_result"
    }
   ],
   "source": [
    "url = 'https://lms.sunde41.net/qna/detail/80' # db에 들어가는 글 번호\n",
    "resp = s.request('get', url)\n",
    "dom = BeautifulSoup(resp.text, 'html.parser')\n",
    "form = dom.select_one('form')\n",
    "form.attrs['action'], form.attrs['method']"
   ]
  },
  {
   "cell_type": "code",
   "execution_count": 80,
   "metadata": {},
   "outputs": [
    {
     "data": {
      "text/plain": [
       "'description'"
      ]
     },
     "execution_count": 80,
     "metadata": {},
     "output_type": "execute_result"
    }
   ],
   "source": [
    "form.select_one('[name]').attrs['name']"
   ]
  },
  {
   "cell_type": "code",
   "execution_count": null,
   "metadata": {},
   "outputs": [],
   "source": [
    "# 해당 글에 댓글 달도록 요청\n",
    "# s.request(form.attrs['method'], url, data={'description':'3월 20일 테스트'})"
   ]
  },
  {
   "cell_type": "code",
   "execution_count": 82,
   "metadata": {},
   "outputs": [],
   "source": [
    "url = 'https://lms.sunde41.net/qna/detail/80' # db에 들어가는 글 번호\n",
    "resp = s.request('get', url)\n",
    "dom = BeautifulSoup(resp.text, 'html.parser')"
   ]
  },
  {
   "cell_type": "code",
   "execution_count": 83,
   "metadata": {},
   "outputs": [
    {
     "data": {
      "text/plain": [
       "[<div class=\"mt-2 zoom\" data-description=\"83\"> 키키 </div>,\n",
       " <div class=\"mt-2 zoom\" data-description=\"85\"> 테스트 </div>,\n",
       " <div class=\"mt-2 zoom\" data-description=\"86\"> 테스트 </div>,\n",
       " <div class=\"mt-2 zoom\" data-description=\"88\"> 3월 20일 테스트 </div>,\n",
       " <div class=\"mt-2 zoom\" data-description=\"89\"> test </div>,\n",
       " <div class=\"mt-2 zoom\" data-description=\"90\"> 테스트 </div>,\n",
       " <div class=\"mt-2 zoom\" data-description=\"92\"> 테스트 </div>,\n",
       " <div class=\"mt-2 zoom\" data-description=\"93\"><p>ㅁㄴㅇㄹ</p></div>]"
      ]
     },
     "execution_count": 83,
     "metadata": {},
     "output_type": "execute_result"
    }
   ],
   "source": [
    "dom.select('.page-body .card:nth-child(1) [data-description]')"
   ]
  },
  {
   "cell_type": "code",
   "execution_count": 84,
   "metadata": {},
   "outputs": [
    {
     "data": {
      "text/plain": [
       "[<a class=\"btn-action\" data-bs-html=\"true\" data-bs-placement=\"left\" data-bs-toggle=\"tooltip\" href=\"#\" id=\"maximize1\" title=\"최대/최소화\"><svg class=\"icon icon-tabler icon-tabler-arrows-maximize\" fill=\"none\" height=\"16\" stroke=\"currentColor\" stroke-linecap=\"round\" stroke-linejoin=\"round\" stroke-width=\"2\" viewbox=\"0 0 24 24\" width=\"16\" xmlns=\"http://www.w3.org/2000/svg\"><path d=\"M0 0h24v24H0z\" fill=\"none\" stroke=\"none\"></path><path d=\"M16 4l4 0l0 4\"></path><path d=\"M14 10l6 -6\"></path><path d=\"M8 20l-4 0l0 -4\"></path><path d=\"M4 20l6 -6\"></path><path d=\"M16 20l4 0l0 -4\"></path><path d=\"M14 14l6 6\"></path><path d=\"M8 4l-4 0l0 4\"></path><path d=\"M4 4l6 6\"></path></svg></a>,\n",
       " <a class=\"btn btn-warning btn-sm btn-icon\" href=\"#\" onclick=\"callEdit(88)\"><svg class=\"icon icon-tabler icon-tabler-edit\" fill=\"none\" height=\"16\" stroke=\"currentColor\" stroke-linecap=\"round\" stroke-linejoin=\"round\" stroke-width=\"2\" viewbox=\"0 0 24 24\" width=\"16\" xmlns=\"http://www.w3.org/2000/svg\"><path d=\"M0 0h24v24H0z\" fill=\"none\" stroke=\"none\"></path><path d=\"M7 7h-1a2 2 0 0 0 -2 2v9a2 2 0 0 0 2 2h9a2 2 0 0 0 2 -2v-1\"></path><path d=\"M20.385 6.585a2.1 2.1 0 0 0 -2.97 -2.97l-8.415 8.385v3h3l8.385 -8.415z\"></path><path d=\"M16 5l3 3\"></path></svg></a>,\n",
       " <a class=\"btn btn-danger btn-sm btn-icon confirmation\" href=\"/qna/detail/80/comments/delete/88\"><svg class=\"icon icon-tabler icon-tabler-trash\" fill=\"none\" height=\"16\" stroke=\"currentColor\" stroke-linecap=\"round\" stroke-linejoin=\"round\" stroke-width=\"2\" viewbox=\"0 0 24 24\" width=\"16\" xmlns=\"http://www.w3.org/2000/svg\"><path d=\"M0 0h24v24H0z\" fill=\"none\" stroke=\"none\"></path><path d=\"M4 7l16 0\"></path><path d=\"M10 11l0 6\"></path><path d=\"M14 11l0 6\"></path><path d=\"M5 7l1 12a2 2 0 0 0 2 2h8a2 2 0 0 0 2 -2l1 -12\"></path><path d=\"M9 7v-3a1 1 0 0 1 1 -1h4a1 1 0 0 1 1 1v3\"></path></svg></a>]"
      ]
     },
     "execution_count": 84,
     "metadata": {},
     "output_type": "execute_result"
    }
   ],
   "source": [
    "dom.select('.page-body .card:nth-child(1) a[href]')\n",
    "\n",
    "# 확대/축소\n",
    "# callEdit\n",
    "# /qna/detail/80/comments/delete/88\n",
    "#             --(질문id)          --(답변id)"
   ]
  },
  {
   "cell_type": "code",
   "execution_count": 85,
   "metadata": {},
   "outputs": [
    {
     "data": {
      "text/plain": [
       "<div class=\"card-actions btn-actions\"><a class=\"btn-action\" data-bs-html=\"true\" data-bs-placement=\"left\" data-bs-toggle=\"tooltip\" href=\"#\" id=\"maximize1\" title=\"최대/최소화\"><svg class=\"icon icon-tabler icon-tabler-arrows-maximize\" fill=\"none\" height=\"16\" stroke=\"currentColor\" stroke-linecap=\"round\" stroke-linejoin=\"round\" stroke-width=\"2\" viewbox=\"0 0 24 24\" width=\"16\" xmlns=\"http://www.w3.org/2000/svg\"><path d=\"M0 0h24v24H0z\" fill=\"none\" stroke=\"none\"></path><path d=\"M16 4l4 0l0 4\"></path><path d=\"M14 10l6 -6\"></path><path d=\"M8 20l-4 0l0 -4\"></path><path d=\"M4 20l6 -6\"></path><path d=\"M16 20l4 0l0 -4\"></path><path d=\"M14 14l6 6\"></path><path d=\"M8 4l-4 0l0 4\"></path><path d=\"M4 4l6 6\"></path></svg></a></div>"
      ]
     },
     "execution_count": 85,
     "metadata": {},
     "output_type": "execute_result"
    }
   ],
   "source": [
    "dom.select_one('.page-body .card:nth-child(1) .card-actions')"
   ]
  },
  {
   "cell_type": "code",
   "execution_count": null,
   "metadata": {},
   "outputs": [
    {
     "data": {
      "text/plain": [
       "<Response [200]>"
      ]
     },
     "execution_count": 86,
     "metadata": {},
     "output_type": "execute_result"
    }
   ],
   "source": [
    "# 해당 댓글 지우기\n",
    "# s.request('get', urljoin(resp.url, '/qna/detail/80/comments/delete/88'))"
   ]
  },
  {
   "cell_type": "code",
   "execution_count": 87,
   "metadata": {},
   "outputs": [],
   "source": [
    "s.cookies.clear()"
   ]
  }
 ],
 "metadata": {
  "kernelspec": {
   "display_name": "Python 3",
   "language": "python",
   "name": "python3"
  },
  "language_info": {
   "codemirror_mode": {
    "name": "ipython",
    "version": 3
   },
   "file_extension": ".py",
   "mimetype": "text/x-python",
   "name": "python",
   "nbconvert_exporter": "python",
   "pygments_lexer": "ipython3",
   "version": "3.11.2"
  }
 },
 "nbformat": 4,
 "nbformat_minor": 2
}
