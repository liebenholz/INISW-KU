{
  "cells": [
    {
      "cell_type": "code",
      "execution_count": null,
      "metadata": {
        "id": "QoF3V3AQMyDB"
      },
      "outputs": [],
      "source": [
        "import requests\n",
        "from requests import request\n",
        "from requests.compat import urljoin, urlencode\n",
        "from requests.sessions import Session\n",
        "from bs4 import BeautifulSoup\n",
        "import re"
      ]
    },
    {
      "cell_type": "markdown",
      "metadata": {
        "id": "DZbw-ksyPL5A"
      },
      "source": [
        "# Scrapping Mails"
      ]
    },
    {
      "cell_type": "code",
      "execution_count": null,
      "metadata": {
        "id": "U9tggm17MyDD"
      },
      "outputs": [],
      "source": [
        "s = Session()\n",
        "\n",
        "url = 'https://nid.naver.com/nidlogin.login?mode=form&url=https://www.naver.com/'\n",
        "resp = s.request('get', url)\n",
        "dom = BeautifulSoup(resp.text, 'html.parser')"
      ]
    },
    {
      "cell_type": "code",
      "execution_count": null,
      "metadata": {
        "colab": {
          "base_uri": "https://localhost:8080/"
        },
        "id": "-SuQX4lhMyDD",
        "outputId": "616ce896-2b49-4916-8377-8e5b7617d3c2"
      },
      "outputs": [
        {
          "data": {
            "text/plain": [
              "('https://nid.naver.com/nidlogin.login', 'POST')"
            ]
          },
          "execution_count": 3,
          "metadata": {},
          "output_type": "execute_result"
        }
      ],
      "source": [
        "form = dom.select_one('form')\n",
        "form.attrs['action'], form.attrs['method']"
      ]
    },
    {
      "cell_type": "code",
      "execution_count": null,
      "metadata": {
        "colab": {
          "base_uri": "https://localhost:8080/"
        },
        "id": "QXICeQ3xMyDE",
        "outputId": "cb69cc79-f72e-4d29-ec3c-e17fbcad46eb"
      },
      "outputs": [
        {
          "name": "stdout",
          "output_type": "stream",
          "text": [
            "input localechange \n",
            "input dynamicKey 8g425Hjc3VSZOJVRnlC7aYOYcOn1JUP1nR5Noff3HEdhe0gnL0g2DX6SMooFDzMoegWq6HM-T0D9DqWFx47lMgXwNn25w-uihpjOcx9f8OM\n",
            "input encpw \n",
            "input sessionKey \n",
            "input show_pk true\n",
            "input wtoken \n",
            "input svctype 1\n",
            "input bvsd \n",
            "input locale ko_KR\n",
            "input url https://www.naver.com/\n",
            "input enctp 1\n",
            "input next_step false\n",
            "input fbOff true\n",
            "input smart_LEVEL 1\n",
            "input encnm \n",
            "input id \n",
            "input pw None\n",
            "input nvlong off\n"
          ]
        }
      ],
      "source": [
        "for el in form.select('[name]'):\n",
        "    print(el.name, el.attrs['name'], el.attrs['value'] if el.has_attr('value') else None)"
      ]
    },
    {
      "cell_type": "code",
      "execution_count": null,
      "metadata": {
        "id": "i8dUVFodMyDE"
      },
      "outputs": [],
      "source": [
        "# 브라우저 개발자 도구 > Application > Cookies > https://www.naver.com\n",
        "c = '''\n",
        "\n",
        "'''"
      ]
    },
    {
      "cell_type": "code",
      "execution_count": null,
      "metadata": {
        "id": "I0UVsnPLMyDF"
      },
      "outputs": [],
      "source": [
        "cookies = dict()\n",
        "\n",
        "for line in c.splitlines():\n",
        "    if len(line) > 0:\n",
        "        cookies[line.split()[0]]=line.split()[1]"
      ]
    },
    {
      "cell_type": "code",
      "execution_count": null,
      "metadata": {
        "id": "ZvYhfc7KMyDF"
      },
      "outputs": [],
      "source": [
        "url = 'https://mail.naver.com'"
      ]
    },
    {
      "cell_type": "code",
      "execution_count": null,
      "metadata": {
        "colab": {
          "base_uri": "https://localhost:8080/",
          "height": 36
        },
        "id": "E8CAl_kvMyDF",
        "outputId": "d06ede5d-d251-4bac-b120-1950de3070af"
      },
      "outputs": [
        {
          "data": {
            "application/vnd.google.colaboratory.intrinsic+json": {
              "type": "string"
            },
            "text/plain": [
              "'메일'"
            ]
          },
          "execution_count": 8,
          "metadata": {},
          "output_type": "execute_result"
        }
      ],
      "source": [
        "# 쿠키를 이용해 로그인 한 후\n",
        "re.search(r'<title>(.+)</title>', request('get', url, cookies=cookies).text).group(1)"
      ]
    },
    {
      "cell_type": "code",
      "execution_count": null,
      "metadata": {
        "colab": {
          "base_uri": "https://localhost:8080/",
          "height": 36
        },
        "id": "xnVZ0EF7MyDG",
        "outputId": "83119971-be33-4e0d-9026-e85ddf9f0e64"
      },
      "outputs": [
        {
          "data": {
            "application/vnd.google.colaboratory.intrinsic+json": {
              "type": "string"
            },
            "text/plain": [
              "'메일'"
            ]
          },
          "execution_count": 9,
          "metadata": {},
          "output_type": "execute_result"
        }
      ],
      "source": [
        "# 받은메일함\n",
        "url = 'https://mail.naver.com/v2/folders/0'\n",
        "resp = s.request('get', url, cookies=cookies)\n",
        "re.search(r'<title>(.+)</title>', resp.text).group(1)"
      ]
    },
    {
      "cell_type": "code",
      "execution_count": null,
      "metadata": {
        "id": "ViCalXIeMyDG"
      },
      "outputs": [],
      "source": [
        "# 메일 제목을 담을 list\n",
        "mails = []"
      ]
    },
    {
      "cell_type": "code",
      "execution_count": null,
      "metadata": {
        "colab": {
          "base_uri": "https://localhost:8080/",
          "height": 36
        },
        "id": "hY8J_LC1MyDG",
        "outputId": "a0a56054-5958-45e0-8198-6b747e8a883c"
      },
      "outputs": [
        {
          "data": {
            "application/vnd.google.colaboratory.intrinsic+json": {
              "type": "string"
            },
            "text/plain": [
              "'text/plain;charset=UTF-8'"
            ]
          },
          "execution_count": 11,
          "metadata": {},
          "output_type": "execute_result"
        }
      ],
      "source": [
        "url = 'https://mail.naver.com/json/list'\n",
        "\n",
        "# 받은메일함\n",
        "# 개발자 도구 > Network > Fetch/XHR 또는 JS로 오는 req/resp 확인\n",
        "params = {\n",
        "    'folderSN':'0',\n",
        "    'page':'1',\n",
        "    'viewMode':'time',\n",
        "    'previewMode':'1',\n",
        "    'sortField':'1',\n",
        "    'sortType':'0',\n",
        "    'u':'liebenholz98'\n",
        "}\n",
        "\n",
        "resp = request('POST', url, params=params, cookies=cookies)\n",
        "resp.headers['content-type']"
      ]
    },
    {
      "cell_type": "code",
      "execution_count": null,
      "metadata": {
        "id": "OcsEchRwMyDG"
      },
      "outputs": [],
      "source": [
        "for mail in resp.json()['mailData']:\n",
        "    mails.append((mail['subject'], 'no'))\n",
        "    print(mail['subject'])"
      ]
    },
    {
      "cell_type": "code",
      "execution_count": null,
      "metadata": {
        "colab": {
          "base_uri": "https://localhost:8080/",
          "height": 36
        },
        "id": "RGwH-Zu8MyDG",
        "outputId": "8969ffd3-50d1-440b-8e01-ad042aad5a19"
      },
      "outputs": [
        {
          "data": {
            "application/vnd.google.colaboratory.intrinsic+json": {
              "type": "string"
            },
            "text/plain": [
              "'text/plain;charset=UTF-8'"
            ]
          },
          "execution_count": 13,
          "metadata": {},
          "output_type": "execute_result"
        }
      ],
      "source": [
        "# 스팸메일함: 'folderSN':'5'\n",
        "params = {\n",
        "    'folderSN':'5',\n",
        "    'page':'1',\n",
        "    'viewMode':'time',\n",
        "    'previewMode':'1',\n",
        "    'sortField':'1',\n",
        "    'sortType':'0',\n",
        "    'u':'liebenholz98'\n",
        "}\n",
        "\n",
        "resp = request('POST', url, params=params, cookies=cookies)\n",
        "resp.headers['content-type']"
      ]
    },
    {
      "cell_type": "code",
      "execution_count": null,
      "metadata": {
        "collapsed": true,
        "id": "Stk9wAKtMyDH"
      },
      "outputs": [],
      "source": [
        "for mail in resp.json()['mailData']:\n",
        "    mails.append((mail['subject'], 'yes'))\n",
        "    print(mail['subject'])"
      ]
    },
    {
      "cell_type": "code",
      "execution_count": null,
      "metadata": {
        "collapsed": true,
        "id": "2tlgqCaFMyDH"
      },
      "outputs": [],
      "source": [
        "mails # 받은메일함 + 스팸메일함"
      ]
    },
    {
      "cell_type": "code",
      "execution_count": null,
      "metadata": {
        "collapsed": true,
        "id": "jqo-WgcVMyDH"
      },
      "outputs": [],
      "source": [
        "from random import shuffle\n",
        "\n",
        "shuffle(mails) # 메일함 shuffle\n",
        "mails"
      ]
    },
    {
      "cell_type": "code",
      "execution_count": null,
      "metadata": {
        "collapsed": true,
        "id": "e3BUjfLiMyDH"
      },
      "outputs": [],
      "source": [
        "mailList = [] # 처리할 메일 리스트\n",
        "\n",
        "# 마지막 4개의 메일 제목을 제외하고 삽입\n",
        "for i in range(len(mails)-4):\n",
        "    mailList.append((i+1, mails[i][0], mails[i][1]))\n",
        "\n",
        "# 마지막 4개의 메일은 Tag 삭제 후 삽입\n",
        "for i in range(4):\n",
        "    mailList.append((len(mailList)+1, mails[i][0], None))\n",
        "\n",
        "mailList"
      ]
    },
    {
      "cell_type": "markdown",
      "metadata": {
        "id": "kPb_wY-QPDL2"
      },
      "source": [
        "# Naive Bayse based Spam Filter"
      ]
    },
    {
      "cell_type": "code",
      "execution_count": null,
      "metadata": {
        "id": "G_xl64iYMyDH"
      },
      "outputs": [],
      "source": [
        "C = list(set(x[-1] for x in mailList[:-1]))"
      ]
    },
    {
      "cell_type": "code",
      "execution_count": null,
      "metadata": {
        "colab": {
          "base_uri": "https://localhost:8080/"
        },
        "id": "ksCTvn-uM7ah",
        "outputId": "1ba9a4bf-b7a2-4d08-f1cb-aaf95440dcf4"
      },
      "outputs": [
        {
          "name": "stderr",
          "output_type": "stream",
          "text": [
            "[nltk_data] Downloading package punkt_tab to /root/nltk_data...\n",
            "[nltk_data]   Package punkt_tab is already up-to-date!\n"
          ]
        },
        {
          "data": {
            "text/plain": [
              "True"
            ]
          },
          "execution_count": 30,
          "metadata": {},
          "output_type": "execute_result"
        }
      ],
      "source": [
        "from nltk import download\n",
        "download('punkt_tab')"
      ]
    },
    {
      "cell_type": "code",
      "execution_count": null,
      "metadata": {
        "id": "3pe-X3pFMyDH"
      },
      "outputs": [],
      "source": [
        "from nltk.tokenize import word_tokenize\n",
        "from nltk.text import Text\n",
        "\n",
        "def train(c, d):\n",
        "    V = list()\n",
        "    for x in d:\n",
        "        for t in word_tokenize(x[1]):\n",
        "            if t not in V:\n",
        "                V.append(t)\n",
        "\n",
        "    N = len(d)\n",
        "\n",
        "    prior = {}\n",
        "    condprob = {}\n",
        "    for category in c:\n",
        "        Nc = len(list(filter(lambda x:x[-1] == category, d)))\n",
        "        prior[category] = Nc/N\n",
        "        textc = '\\n'.join([x[1] for x in d if x[-1] == category])\n",
        "        textc = Text(word_tokenize(textc.lower()))\n",
        "        for t in V:\n",
        "            Tct = textc.count(t)\n",
        "            if t not in condprob:\n",
        "                condprob[t] = {}\n",
        "            condprob[t][category] = (Tct+1)/(textc.vocab().N()+len(V))\n",
        "\n",
        "    return V, prior, condprob"
      ]
    },
    {
      "cell_type": "code",
      "execution_count": null,
      "metadata": {
        "collapsed": true,
        "id": "Dyl9i5eBR70P"
      },
      "outputs": [],
      "source": [
        "Vocabulary, Prior, CondProb = train(C, mailList[:-4])\n",
        "CondProb"
      ]
    },
    {
      "cell_type": "code",
      "execution_count": null,
      "metadata": {
        "id": "wV4gk7AcQy7f"
      },
      "outputs": [],
      "source": [
        "# '광고': {None: 0.003246753246753247,\n",
        "#    'no': 0.0016313213703099511,\n",
        "#    'yes': 0.03784570596797671} <- Yes의 비중이 압도적으로 높음"
      ]
    },
    {
      "cell_type": "code",
      "execution_count": null,
      "metadata": {
        "id": "cFTV--iFNLcf"
      },
      "outputs": [],
      "source": [
        "from numpy import log\n",
        "\n",
        "def test(c, V, prior, condprob, d):\n",
        "    W = list()\n",
        "    for t in word_tokenize(d.lower()):\n",
        "        if t in V:\n",
        "            W.append(t)\n",
        "\n",
        "    score = dict()\n",
        "    for category in C:\n",
        "        score[category] = log(prior[category])\n",
        "        for t in W:\n",
        "            score[category] += log(condprob[t][category])\n",
        "\n",
        "    return max(score, key=score.get), score"
      ]
    },
    {
      "cell_type": "code",
      "execution_count": null,
      "metadata": {
        "colab": {
          "base_uri": "https://localhost:8080/"
        },
        "id": "mdDipPrnOPI3",
        "outputId": "2c784856-6829-417a-f897-4f4e85125d6e"
      },
      "outputs": [
        {
          "name": "stderr",
          "output_type": "stream",
          "text": [
            "<ipython-input-27-1f587da94c1f>:10: RuntimeWarning: divide by zero encountered in log\n",
            "  score[category] = log(prior[category])\n"
          ]
        },
        {
          "data": {
            "text/plain": [
              "('yes',\n",
              " {None: np.float64(-inf),\n",
              "  'no': np.float64(-79.90174524434953),\n",
              "  'yes': np.float64(-66.50345053811999)})"
            ]
          },
          "execution_count": 32,
          "metadata": {},
          "output_type": "execute_result"
        }
      ],
      "source": [
        "# (광고) 성혼 정보회사 등급 테스트, 나의 등급은 몇 점일까?\n",
        "test(C, Vocabulary, Prior, CondProb, mailList[-4][1])"
      ]
    },
    {
      "cell_type": "code",
      "execution_count": null,
      "metadata": {
        "colab": {
          "base_uri": "https://localhost:8080/"
        },
        "id": "7_y9lVACOQOH",
        "outputId": "666ccfcd-94ad-4cd8-f1f6-e6a941bc18cf"
      },
      "outputs": [
        {
          "name": "stderr",
          "output_type": "stream",
          "text": [
            "<ipython-input-27-1f587da94c1f>:10: RuntimeWarning: divide by zero encountered in log\n",
            "  score[category] = log(prior[category])\n"
          ]
        },
        {
          "data": {
            "text/plain": [
              "('no',\n",
              " {None: np.float64(-inf),\n",
              "  'no': np.float64(-115.01257586816887),\n",
              "  'yes': np.float64(-127.87608959588287)})"
            ]
          },
          "execution_count": 33,
          "metadata": {},
          "output_type": "execute_result"
        }
      ],
      "source": [
        "# [와디즈 노션대학교] &#39;1% 노션 템플릿&#39; 리뷰 이벤트 PPT 템플릿 보내드립니다!🎉\n",
        "test(C, Vocabulary, Prior, CondProb, mailList[-3][1])"
      ]
    },
    {
      "cell_type": "code",
      "execution_count": null,
      "metadata": {
        "colab": {
          "base_uri": "https://localhost:8080/"
        },
        "id": "A4oiYs9yORU7",
        "outputId": "fb04747c-b786-4273-88f4-5f446efb54d6"
      },
      "outputs": [
        {
          "name": "stderr",
          "output_type": "stream",
          "text": [
            "<ipython-input-27-1f587da94c1f>:10: RuntimeWarning: divide by zero encountered in log\n",
            "  score[category] = log(prior[category])\n"
          ]
        },
        {
          "data": {
            "text/plain": [
              "('no',\n",
              " {None: np.float64(-inf),\n",
              "  'no': np.float64(-33.34800442339382),\n",
              "  'yes': np.float64(-37.785238536362144)})"
            ]
          },
          "execution_count": 34,
          "metadata": {},
          "output_type": "execute_result"
        }
      ],
      "source": [
        "# 피카플레이 회원이 되신 것을 환영합니다!\n",
        "test(C, Vocabulary, Prior, CondProb, mailList[-2][1])"
      ]
    },
    {
      "cell_type": "code",
      "execution_count": null,
      "metadata": {
        "colab": {
          "base_uri": "https://localhost:8080/"
        },
        "id": "pEcVSaSwOSef",
        "outputId": "f96d066d-c22e-4926-be2b-67b76e144b68"
      },
      "outputs": [
        {
          "name": "stderr",
          "output_type": "stream",
          "text": [
            "<ipython-input-27-1f587da94c1f>:10: RuntimeWarning: divide by zero encountered in log\n",
            "  score[category] = log(prior[category])\n"
          ]
        },
        {
          "data": {
            "text/plain": [
              "('yes',\n",
              " {None: np.float64(-inf),\n",
              "  'no': np.float64(-131.19052709236036),\n",
              "  'yes': np.float64(-116.19913274350338)})"
            ]
          },
          "execution_count": 35,
          "metadata": {},
          "output_type": "execute_result"
        }
      ],
      "source": [
        "# (광고) [클룩 단독] 에어서울 항공권 최대 98% 할인 중! 클룩 투어/렌터카 10% 할인까지 (~11/10)\n",
        "test(C, Vocabulary, Prior, CondProb, mailList[-1][1])"
      ]
    },
    {
      "cell_type": "code",
      "execution_count": null,
      "metadata": {
        "id": "7gzytDA7MyDH"
      },
      "outputs": [],
      "source": [
        "s.cookies.clear()"
      ]
    }
  ],
  "metadata": {
    "colab": {
      "provenance": []
    },
    "kernelspec": {
      "display_name": "Python 3",
      "language": "python",
      "name": "python3"
    },
    "language_info": {
      "codemirror_mode": {
        "name": "ipython",
        "version": 3
      },
      "file_extension": ".py",
      "mimetype": "text/x-python",
      "name": "python",
      "nbconvert_exporter": "python",
      "pygments_lexer": "ipython3",
      "version": "3.11.2"
    }
  },
  "nbformat": 4,
  "nbformat_minor": 0
}
